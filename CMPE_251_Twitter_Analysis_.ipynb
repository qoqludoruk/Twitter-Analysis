{
  "nbformat": 4,
  "nbformat_minor": 0,
  "metadata": {
    "kernelspec": {
      "display_name": "Python 3",
      "language": "python",
      "name": "python3"
    },
    "language_info": {
      "codemirror_mode": {
        "name": "ipython",
        "version": 3
      },
      "file_extension": ".py",
      "mimetype": "text/x-python",
      "name": "python",
      "nbconvert_exporter": "python",
      "pygments_lexer": "ipython3",
      "version": "3.8.10"
    },
    "colab": {
      "name": "CMPE 251 Twitter Analysis.ipynb",
      "provenance": []
    },
    "widgets": {
      "application/vnd.jupyter.widget-state+json": {
        "2955ae5526a443baa30a3b1c72f5b864": {
          "model_module": "@jupyter-widgets/controls",
          "model_name": "HBoxModel",
          "model_module_version": "1.5.0",
          "state": {
            "_view_name": "HBoxView",
            "_dom_classes": [],
            "_model_name": "HBoxModel",
            "_view_module": "@jupyter-widgets/controls",
            "_model_module_version": "1.5.0",
            "_view_count": null,
            "_view_module_version": "1.5.0",
            "box_style": "",
            "layout": "IPY_MODEL_a8ab87ee6b174644bd71e2f254f0dc48",
            "_model_module": "@jupyter-widgets/controls",
            "children": [
              "IPY_MODEL_00b9b9825c4945d4976c35e99914edc1",
              "IPY_MODEL_6986c103f1c14f1aa985a10c200c0a8d",
              "IPY_MODEL_0d1d710512644f9883e1d9322bbdcc82"
            ]
          }
        },
        "a8ab87ee6b174644bd71e2f254f0dc48": {
          "model_module": "@jupyter-widgets/base",
          "model_name": "LayoutModel",
          "model_module_version": "1.2.0",
          "state": {
            "_view_name": "LayoutView",
            "grid_template_rows": null,
            "right": null,
            "justify_content": null,
            "_view_module": "@jupyter-widgets/base",
            "overflow": null,
            "_model_module_version": "1.2.0",
            "_view_count": null,
            "flex_flow": null,
            "width": null,
            "min_width": null,
            "border": null,
            "align_items": null,
            "bottom": null,
            "_model_module": "@jupyter-widgets/base",
            "top": null,
            "grid_column": null,
            "overflow_y": null,
            "overflow_x": null,
            "grid_auto_flow": null,
            "grid_area": null,
            "grid_template_columns": null,
            "flex": null,
            "_model_name": "LayoutModel",
            "justify_items": null,
            "grid_row": null,
            "max_height": null,
            "align_content": null,
            "visibility": null,
            "align_self": null,
            "height": null,
            "min_height": null,
            "padding": null,
            "grid_auto_rows": null,
            "grid_gap": null,
            "max_width": null,
            "order": null,
            "_view_module_version": "1.2.0",
            "grid_template_areas": null,
            "object_position": null,
            "object_fit": null,
            "grid_auto_columns": null,
            "margin": null,
            "display": null,
            "left": null
          }
        },
        "00b9b9825c4945d4976c35e99914edc1": {
          "model_module": "@jupyter-widgets/controls",
          "model_name": "HTMLModel",
          "model_module_version": "1.5.0",
          "state": {
            "_view_name": "HTMLView",
            "style": "IPY_MODEL_313f9be44a8b40d79f87cb3c1e4a958c",
            "_dom_classes": [],
            "description": "",
            "_model_name": "HTMLModel",
            "placeholder": "​",
            "_view_module": "@jupyter-widgets/controls",
            "_model_module_version": "1.5.0",
            "value": "Downloading: 100%",
            "_view_count": null,
            "_view_module_version": "1.5.0",
            "description_tooltip": null,
            "_model_module": "@jupyter-widgets/controls",
            "layout": "IPY_MODEL_99951afd37cd4a48a7b902a38e0fa56a"
          }
        },
        "6986c103f1c14f1aa985a10c200c0a8d": {
          "model_module": "@jupyter-widgets/controls",
          "model_name": "FloatProgressModel",
          "model_module_version": "1.5.0",
          "state": {
            "_view_name": "ProgressView",
            "style": "IPY_MODEL_976f5e03891948b28d9d7cb83656ab63",
            "_dom_classes": [],
            "description": "",
            "_model_name": "FloatProgressModel",
            "bar_style": "success",
            "max": 69607,
            "_view_module": "@jupyter-widgets/controls",
            "_model_module_version": "1.5.0",
            "value": 69607,
            "_view_count": null,
            "_view_module_version": "1.5.0",
            "orientation": "horizontal",
            "min": 0,
            "description_tooltip": null,
            "_model_module": "@jupyter-widgets/controls",
            "layout": "IPY_MODEL_9a93d3489a37417286a6ce6a9fb0761f"
          }
        },
        "0d1d710512644f9883e1d9322bbdcc82": {
          "model_module": "@jupyter-widgets/controls",
          "model_name": "HTMLModel",
          "model_module_version": "1.5.0",
          "state": {
            "_view_name": "HTMLView",
            "style": "IPY_MODEL_961490dfab9e4ee48abd11f9fdc66234",
            "_dom_classes": [],
            "description": "",
            "_model_name": "HTMLModel",
            "placeholder": "​",
            "_view_module": "@jupyter-widgets/controls",
            "_model_module_version": "1.5.0",
            "value": " 68.0k/68.0k [00:00&lt;00:00, 1.01MB/s]",
            "_view_count": null,
            "_view_module_version": "1.5.0",
            "description_tooltip": null,
            "_model_module": "@jupyter-widgets/controls",
            "layout": "IPY_MODEL_2284dd075c124174b38ae025787adc72"
          }
        },
        "313f9be44a8b40d79f87cb3c1e4a958c": {
          "model_module": "@jupyter-widgets/controls",
          "model_name": "DescriptionStyleModel",
          "model_module_version": "1.5.0",
          "state": {
            "_view_name": "StyleView",
            "_model_name": "DescriptionStyleModel",
            "description_width": "",
            "_view_module": "@jupyter-widgets/base",
            "_model_module_version": "1.5.0",
            "_view_count": null,
            "_view_module_version": "1.2.0",
            "_model_module": "@jupyter-widgets/controls"
          }
        },
        "99951afd37cd4a48a7b902a38e0fa56a": {
          "model_module": "@jupyter-widgets/base",
          "model_name": "LayoutModel",
          "model_module_version": "1.2.0",
          "state": {
            "_view_name": "LayoutView",
            "grid_template_rows": null,
            "right": null,
            "justify_content": null,
            "_view_module": "@jupyter-widgets/base",
            "overflow": null,
            "_model_module_version": "1.2.0",
            "_view_count": null,
            "flex_flow": null,
            "width": null,
            "min_width": null,
            "border": null,
            "align_items": null,
            "bottom": null,
            "_model_module": "@jupyter-widgets/base",
            "top": null,
            "grid_column": null,
            "overflow_y": null,
            "overflow_x": null,
            "grid_auto_flow": null,
            "grid_area": null,
            "grid_template_columns": null,
            "flex": null,
            "_model_name": "LayoutModel",
            "justify_items": null,
            "grid_row": null,
            "max_height": null,
            "align_content": null,
            "visibility": null,
            "align_self": null,
            "height": null,
            "min_height": null,
            "padding": null,
            "grid_auto_rows": null,
            "grid_gap": null,
            "max_width": null,
            "order": null,
            "_view_module_version": "1.2.0",
            "grid_template_areas": null,
            "object_position": null,
            "object_fit": null,
            "grid_auto_columns": null,
            "margin": null,
            "display": null,
            "left": null
          }
        },
        "976f5e03891948b28d9d7cb83656ab63": {
          "model_module": "@jupyter-widgets/controls",
          "model_name": "ProgressStyleModel",
          "model_module_version": "1.5.0",
          "state": {
            "_view_name": "StyleView",
            "_model_name": "ProgressStyleModel",
            "description_width": "",
            "_view_module": "@jupyter-widgets/base",
            "_model_module_version": "1.5.0",
            "_view_count": null,
            "_view_module_version": "1.2.0",
            "bar_color": null,
            "_model_module": "@jupyter-widgets/controls"
          }
        },
        "9a93d3489a37417286a6ce6a9fb0761f": {
          "model_module": "@jupyter-widgets/base",
          "model_name": "LayoutModel",
          "model_module_version": "1.2.0",
          "state": {
            "_view_name": "LayoutView",
            "grid_template_rows": null,
            "right": null,
            "justify_content": null,
            "_view_module": "@jupyter-widgets/base",
            "overflow": null,
            "_model_module_version": "1.2.0",
            "_view_count": null,
            "flex_flow": null,
            "width": null,
            "min_width": null,
            "border": null,
            "align_items": null,
            "bottom": null,
            "_model_module": "@jupyter-widgets/base",
            "top": null,
            "grid_column": null,
            "overflow_y": null,
            "overflow_x": null,
            "grid_auto_flow": null,
            "grid_area": null,
            "grid_template_columns": null,
            "flex": null,
            "_model_name": "LayoutModel",
            "justify_items": null,
            "grid_row": null,
            "max_height": null,
            "align_content": null,
            "visibility": null,
            "align_self": null,
            "height": null,
            "min_height": null,
            "padding": null,
            "grid_auto_rows": null,
            "grid_gap": null,
            "max_width": null,
            "order": null,
            "_view_module_version": "1.2.0",
            "grid_template_areas": null,
            "object_position": null,
            "object_fit": null,
            "grid_auto_columns": null,
            "margin": null,
            "display": null,
            "left": null
          }
        },
        "961490dfab9e4ee48abd11f9fdc66234": {
          "model_module": "@jupyter-widgets/controls",
          "model_name": "DescriptionStyleModel",
          "model_module_version": "1.5.0",
          "state": {
            "_view_name": "StyleView",
            "_model_name": "DescriptionStyleModel",
            "description_width": "",
            "_view_module": "@jupyter-widgets/base",
            "_model_module_version": "1.5.0",
            "_view_count": null,
            "_view_module_version": "1.2.0",
            "_model_module": "@jupyter-widgets/controls"
          }
        },
        "2284dd075c124174b38ae025787adc72": {
          "model_module": "@jupyter-widgets/base",
          "model_name": "LayoutModel",
          "model_module_version": "1.2.0",
          "state": {
            "_view_name": "LayoutView",
            "grid_template_rows": null,
            "right": null,
            "justify_content": null,
            "_view_module": "@jupyter-widgets/base",
            "overflow": null,
            "_model_module_version": "1.2.0",
            "_view_count": null,
            "flex_flow": null,
            "width": null,
            "min_width": null,
            "border": null,
            "align_items": null,
            "bottom": null,
            "_model_module": "@jupyter-widgets/base",
            "top": null,
            "grid_column": null,
            "overflow_y": null,
            "overflow_x": null,
            "grid_auto_flow": null,
            "grid_area": null,
            "grid_template_columns": null,
            "flex": null,
            "_model_name": "LayoutModel",
            "justify_items": null,
            "grid_row": null,
            "max_height": null,
            "align_content": null,
            "visibility": null,
            "align_self": null,
            "height": null,
            "min_height": null,
            "padding": null,
            "grid_auto_rows": null,
            "grid_gap": null,
            "max_width": null,
            "order": null,
            "_view_module_version": "1.2.0",
            "grid_template_areas": null,
            "object_position": null,
            "object_fit": null,
            "grid_auto_columns": null,
            "margin": null,
            "display": null,
            "left": null
          }
        },
        "cd773de3c64d4ea893d7759bba231391": {
          "model_module": "@jupyter-widgets/controls",
          "model_name": "HBoxModel",
          "model_module_version": "1.5.0",
          "state": {
            "_view_name": "HBoxView",
            "_dom_classes": [],
            "_model_name": "HBoxModel",
            "_view_module": "@jupyter-widgets/controls",
            "_model_module_version": "1.5.0",
            "_view_count": null,
            "_view_module_version": "1.5.0",
            "box_style": "",
            "layout": "IPY_MODEL_e2d0a1e1854a42af8e1b1036d66aa204",
            "_model_module": "@jupyter-widgets/controls",
            "children": [
              "IPY_MODEL_fcc02247cee74d5aad740502274a2726",
              "IPY_MODEL_8ee3a3efae3b4e03bf060913827a2aa1",
              "IPY_MODEL_fc2f6a935105462c855797ad537a5bb5"
            ]
          }
        },
        "e2d0a1e1854a42af8e1b1036d66aa204": {
          "model_module": "@jupyter-widgets/base",
          "model_name": "LayoutModel",
          "model_module_version": "1.2.0",
          "state": {
            "_view_name": "LayoutView",
            "grid_template_rows": null,
            "right": null,
            "justify_content": null,
            "_view_module": "@jupyter-widgets/base",
            "overflow": null,
            "_model_module_version": "1.2.0",
            "_view_count": null,
            "flex_flow": null,
            "width": null,
            "min_width": null,
            "border": null,
            "align_items": null,
            "bottom": null,
            "_model_module": "@jupyter-widgets/base",
            "top": null,
            "grid_column": null,
            "overflow_y": null,
            "overflow_x": null,
            "grid_auto_flow": null,
            "grid_area": null,
            "grid_template_columns": null,
            "flex": null,
            "_model_name": "LayoutModel",
            "justify_items": null,
            "grid_row": null,
            "max_height": null,
            "align_content": null,
            "visibility": null,
            "align_self": null,
            "height": null,
            "min_height": null,
            "padding": null,
            "grid_auto_rows": null,
            "grid_gap": null,
            "max_width": null,
            "order": null,
            "_view_module_version": "1.2.0",
            "grid_template_areas": null,
            "object_position": null,
            "object_fit": null,
            "grid_auto_columns": null,
            "margin": null,
            "display": null,
            "left": null
          }
        },
        "fcc02247cee74d5aad740502274a2726": {
          "model_module": "@jupyter-widgets/controls",
          "model_name": "HTMLModel",
          "model_module_version": "1.5.0",
          "state": {
            "_view_name": "HTMLView",
            "style": "IPY_MODEL_9ec569c4764c4406a140dbf1576607de",
            "_dom_classes": [],
            "description": "",
            "_model_name": "HTMLModel",
            "placeholder": "​",
            "_view_module": "@jupyter-widgets/controls",
            "_model_module_version": "1.5.0",
            "value": "Downloading: 100%",
            "_view_count": null,
            "_view_module_version": "1.5.0",
            "description_tooltip": null,
            "_model_module": "@jupyter-widgets/controls",
            "layout": "IPY_MODEL_b5a58230736045dba4be17eb15a7cacb"
          }
        },
        "8ee3a3efae3b4e03bf060913827a2aa1": {
          "model_module": "@jupyter-widgets/controls",
          "model_name": "FloatProgressModel",
          "model_module_version": "1.5.0",
          "state": {
            "_view_name": "ProgressView",
            "style": "IPY_MODEL_455fc15167874f11b75072418d40de85",
            "_dom_classes": [],
            "description": "",
            "_model_name": "FloatProgressModel",
            "bar_style": "success",
            "max": 287,
            "_view_module": "@jupyter-widgets/controls",
            "_model_module_version": "1.5.0",
            "value": 287,
            "_view_count": null,
            "_view_module_version": "1.5.0",
            "orientation": "horizontal",
            "min": 0,
            "description_tooltip": null,
            "_model_module": "@jupyter-widgets/controls",
            "layout": "IPY_MODEL_db568114f0d24a4e86b31e4ecc11dec6"
          }
        },
        "fc2f6a935105462c855797ad537a5bb5": {
          "model_module": "@jupyter-widgets/controls",
          "model_name": "HTMLModel",
          "model_module_version": "1.5.0",
          "state": {
            "_view_name": "HTMLView",
            "style": "IPY_MODEL_b8c1885a4a264022be2382a29d9f8726",
            "_dom_classes": [],
            "description": "",
            "_model_name": "HTMLModel",
            "placeholder": "​",
            "_view_module": "@jupyter-widgets/controls",
            "_model_module_version": "1.5.0",
            "value": " 287/287 [00:00&lt;00:00, 5.30kB/s]",
            "_view_count": null,
            "_view_module_version": "1.5.0",
            "description_tooltip": null,
            "_model_module": "@jupyter-widgets/controls",
            "layout": "IPY_MODEL_d84674e20f6042df89afe4f49456106c"
          }
        },
        "9ec569c4764c4406a140dbf1576607de": {
          "model_module": "@jupyter-widgets/controls",
          "model_name": "DescriptionStyleModel",
          "model_module_version": "1.5.0",
          "state": {
            "_view_name": "StyleView",
            "_model_name": "DescriptionStyleModel",
            "description_width": "",
            "_view_module": "@jupyter-widgets/base",
            "_model_module_version": "1.5.0",
            "_view_count": null,
            "_view_module_version": "1.2.0",
            "_model_module": "@jupyter-widgets/controls"
          }
        },
        "b5a58230736045dba4be17eb15a7cacb": {
          "model_module": "@jupyter-widgets/base",
          "model_name": "LayoutModel",
          "model_module_version": "1.2.0",
          "state": {
            "_view_name": "LayoutView",
            "grid_template_rows": null,
            "right": null,
            "justify_content": null,
            "_view_module": "@jupyter-widgets/base",
            "overflow": null,
            "_model_module_version": "1.2.0",
            "_view_count": null,
            "flex_flow": null,
            "width": null,
            "min_width": null,
            "border": null,
            "align_items": null,
            "bottom": null,
            "_model_module": "@jupyter-widgets/base",
            "top": null,
            "grid_column": null,
            "overflow_y": null,
            "overflow_x": null,
            "grid_auto_flow": null,
            "grid_area": null,
            "grid_template_columns": null,
            "flex": null,
            "_model_name": "LayoutModel",
            "justify_items": null,
            "grid_row": null,
            "max_height": null,
            "align_content": null,
            "visibility": null,
            "align_self": null,
            "height": null,
            "min_height": null,
            "padding": null,
            "grid_auto_rows": null,
            "grid_gap": null,
            "max_width": null,
            "order": null,
            "_view_module_version": "1.2.0",
            "grid_template_areas": null,
            "object_position": null,
            "object_fit": null,
            "grid_auto_columns": null,
            "margin": null,
            "display": null,
            "left": null
          }
        },
        "455fc15167874f11b75072418d40de85": {
          "model_module": "@jupyter-widgets/controls",
          "model_name": "ProgressStyleModel",
          "model_module_version": "1.5.0",
          "state": {
            "_view_name": "StyleView",
            "_model_name": "ProgressStyleModel",
            "description_width": "",
            "_view_module": "@jupyter-widgets/base",
            "_model_module_version": "1.5.0",
            "_view_count": null,
            "_view_module_version": "1.2.0",
            "bar_color": null,
            "_model_module": "@jupyter-widgets/controls"
          }
        },
        "db568114f0d24a4e86b31e4ecc11dec6": {
          "model_module": "@jupyter-widgets/base",
          "model_name": "LayoutModel",
          "model_module_version": "1.2.0",
          "state": {
            "_view_name": "LayoutView",
            "grid_template_rows": null,
            "right": null,
            "justify_content": null,
            "_view_module": "@jupyter-widgets/base",
            "overflow": null,
            "_model_module_version": "1.2.0",
            "_view_count": null,
            "flex_flow": null,
            "width": null,
            "min_width": null,
            "border": null,
            "align_items": null,
            "bottom": null,
            "_model_module": "@jupyter-widgets/base",
            "top": null,
            "grid_column": null,
            "overflow_y": null,
            "overflow_x": null,
            "grid_auto_flow": null,
            "grid_area": null,
            "grid_template_columns": null,
            "flex": null,
            "_model_name": "LayoutModel",
            "justify_items": null,
            "grid_row": null,
            "max_height": null,
            "align_content": null,
            "visibility": null,
            "align_self": null,
            "height": null,
            "min_height": null,
            "padding": null,
            "grid_auto_rows": null,
            "grid_gap": null,
            "max_width": null,
            "order": null,
            "_view_module_version": "1.2.0",
            "grid_template_areas": null,
            "object_position": null,
            "object_fit": null,
            "grid_auto_columns": null,
            "margin": null,
            "display": null,
            "left": null
          }
        },
        "b8c1885a4a264022be2382a29d9f8726": {
          "model_module": "@jupyter-widgets/controls",
          "model_name": "DescriptionStyleModel",
          "model_module_version": "1.5.0",
          "state": {
            "_view_name": "StyleView",
            "_model_name": "DescriptionStyleModel",
            "description_width": "",
            "_view_module": "@jupyter-widgets/base",
            "_model_module_version": "1.5.0",
            "_view_count": null,
            "_view_module_version": "1.2.0",
            "_model_module": "@jupyter-widgets/controls"
          }
        },
        "d84674e20f6042df89afe4f49456106c": {
          "model_module": "@jupyter-widgets/base",
          "model_name": "LayoutModel",
          "model_module_version": "1.2.0",
          "state": {
            "_view_name": "LayoutView",
            "grid_template_rows": null,
            "right": null,
            "justify_content": null,
            "_view_module": "@jupyter-widgets/base",
            "overflow": null,
            "_model_module_version": "1.2.0",
            "_view_count": null,
            "flex_flow": null,
            "width": null,
            "min_width": null,
            "border": null,
            "align_items": null,
            "bottom": null,
            "_model_module": "@jupyter-widgets/base",
            "top": null,
            "grid_column": null,
            "overflow_y": null,
            "overflow_x": null,
            "grid_auto_flow": null,
            "grid_area": null,
            "grid_template_columns": null,
            "flex": null,
            "_model_name": "LayoutModel",
            "justify_items": null,
            "grid_row": null,
            "max_height": null,
            "align_content": null,
            "visibility": null,
            "align_self": null,
            "height": null,
            "min_height": null,
            "padding": null,
            "grid_auto_rows": null,
            "grid_gap": null,
            "max_width": null,
            "order": null,
            "_view_module_version": "1.2.0",
            "grid_template_areas": null,
            "object_position": null,
            "object_fit": null,
            "grid_auto_columns": null,
            "margin": null,
            "display": null,
            "left": null
          }
        },
        "a2acf7b6abd440a3bc92a5146b29a54c": {
          "model_module": "@jupyter-widgets/controls",
          "model_name": "HBoxModel",
          "model_module_version": "1.5.0",
          "state": {
            "_view_name": "HBoxView",
            "_dom_classes": [],
            "_model_name": "HBoxModel",
            "_view_module": "@jupyter-widgets/controls",
            "_model_module_version": "1.5.0",
            "_view_count": null,
            "_view_module_version": "1.5.0",
            "box_style": "",
            "layout": "IPY_MODEL_706f6494f44e40d3842add983ae6e253",
            "_model_module": "@jupyter-widgets/controls",
            "children": [
              "IPY_MODEL_4456310156ce453099ac666784814da7",
              "IPY_MODEL_758a6bdf3e314b39ac9cd9eec2717492",
              "IPY_MODEL_28351a4058b54f7098c2d457f70fb953"
            ]
          }
        },
        "706f6494f44e40d3842add983ae6e253": {
          "model_module": "@jupyter-widgets/base",
          "model_name": "LayoutModel",
          "model_module_version": "1.2.0",
          "state": {
            "_view_name": "LayoutView",
            "grid_template_rows": null,
            "right": null,
            "justify_content": null,
            "_view_module": "@jupyter-widgets/base",
            "overflow": null,
            "_model_module_version": "1.2.0",
            "_view_count": null,
            "flex_flow": null,
            "width": null,
            "min_width": null,
            "border": null,
            "align_items": null,
            "bottom": null,
            "_model_module": "@jupyter-widgets/base",
            "top": null,
            "grid_column": null,
            "overflow_y": null,
            "overflow_x": null,
            "grid_auto_flow": null,
            "grid_area": null,
            "grid_template_columns": null,
            "flex": null,
            "_model_name": "LayoutModel",
            "justify_items": null,
            "grid_row": null,
            "max_height": null,
            "align_content": null,
            "visibility": null,
            "align_self": null,
            "height": null,
            "min_height": null,
            "padding": null,
            "grid_auto_rows": null,
            "grid_gap": null,
            "max_width": null,
            "order": null,
            "_view_module_version": "1.2.0",
            "grid_template_areas": null,
            "object_position": null,
            "object_fit": null,
            "grid_auto_columns": null,
            "margin": null,
            "display": null,
            "left": null
          }
        },
        "4456310156ce453099ac666784814da7": {
          "model_module": "@jupyter-widgets/controls",
          "model_name": "HTMLModel",
          "model_module_version": "1.5.0",
          "state": {
            "_view_name": "HTMLView",
            "style": "IPY_MODEL_e7b7fafc41dd4f169fdd69ee7f8068be",
            "_dom_classes": [],
            "description": "",
            "_model_name": "HTMLModel",
            "placeholder": "​",
            "_view_module": "@jupyter-widgets/controls",
            "_model_module_version": "1.5.0",
            "value": "Downloading: 100%",
            "_view_count": null,
            "_view_module_version": "1.5.0",
            "description_tooltip": null,
            "_model_module": "@jupyter-widgets/controls",
            "layout": "IPY_MODEL_9394a5d8facd4759ba03665bc229b7e0"
          }
        },
        "758a6bdf3e314b39ac9cd9eec2717492": {
          "model_module": "@jupyter-widgets/controls",
          "model_name": "FloatProgressModel",
          "model_module_version": "1.5.0",
          "state": {
            "_view_name": "ProgressView",
            "style": "IPY_MODEL_65c6c05aaa074482808e772718b69252",
            "_dom_classes": [],
            "description": "",
            "_model_name": "FloatProgressModel",
            "bar_style": "success",
            "max": 349435207,
            "_view_module": "@jupyter-widgets/controls",
            "_model_module_version": "1.5.0",
            "value": 349435207,
            "_view_count": null,
            "_view_module_version": "1.5.0",
            "orientation": "horizontal",
            "min": 0,
            "description_tooltip": null,
            "_model_module": "@jupyter-widgets/controls",
            "layout": "IPY_MODEL_efa213dbfd094d8fb83096dc8f786107"
          }
        },
        "28351a4058b54f7098c2d457f70fb953": {
          "model_module": "@jupyter-widgets/controls",
          "model_name": "HTMLModel",
          "model_module_version": "1.5.0",
          "state": {
            "_view_name": "HTMLView",
            "style": "IPY_MODEL_72257633ccfa4630adbecc6fde7c604d",
            "_dom_classes": [],
            "description": "",
            "_model_name": "HTMLModel",
            "placeholder": "​",
            "_view_module": "@jupyter-widgets/controls",
            "_model_module_version": "1.5.0",
            "value": " 333M/333M [00:10&lt;00:00, 33.9MB/s]",
            "_view_count": null,
            "_view_module_version": "1.5.0",
            "description_tooltip": null,
            "_model_module": "@jupyter-widgets/controls",
            "layout": "IPY_MODEL_861cb368691f4986a5c44d68adbe37b4"
          }
        },
        "e7b7fafc41dd4f169fdd69ee7f8068be": {
          "model_module": "@jupyter-widgets/controls",
          "model_name": "DescriptionStyleModel",
          "model_module_version": "1.5.0",
          "state": {
            "_view_name": "StyleView",
            "_model_name": "DescriptionStyleModel",
            "description_width": "",
            "_view_module": "@jupyter-widgets/base",
            "_model_module_version": "1.5.0",
            "_view_count": null,
            "_view_module_version": "1.2.0",
            "_model_module": "@jupyter-widgets/controls"
          }
        },
        "9394a5d8facd4759ba03665bc229b7e0": {
          "model_module": "@jupyter-widgets/base",
          "model_name": "LayoutModel",
          "model_module_version": "1.2.0",
          "state": {
            "_view_name": "LayoutView",
            "grid_template_rows": null,
            "right": null,
            "justify_content": null,
            "_view_module": "@jupyter-widgets/base",
            "overflow": null,
            "_model_module_version": "1.2.0",
            "_view_count": null,
            "flex_flow": null,
            "width": null,
            "min_width": null,
            "border": null,
            "align_items": null,
            "bottom": null,
            "_model_module": "@jupyter-widgets/base",
            "top": null,
            "grid_column": null,
            "overflow_y": null,
            "overflow_x": null,
            "grid_auto_flow": null,
            "grid_area": null,
            "grid_template_columns": null,
            "flex": null,
            "_model_name": "LayoutModel",
            "justify_items": null,
            "grid_row": null,
            "max_height": null,
            "align_content": null,
            "visibility": null,
            "align_self": null,
            "height": null,
            "min_height": null,
            "padding": null,
            "grid_auto_rows": null,
            "grid_gap": null,
            "max_width": null,
            "order": null,
            "_view_module_version": "1.2.0",
            "grid_template_areas": null,
            "object_position": null,
            "object_fit": null,
            "grid_auto_columns": null,
            "margin": null,
            "display": null,
            "left": null
          }
        },
        "65c6c05aaa074482808e772718b69252": {
          "model_module": "@jupyter-widgets/controls",
          "model_name": "ProgressStyleModel",
          "model_module_version": "1.5.0",
          "state": {
            "_view_name": "StyleView",
            "_model_name": "ProgressStyleModel",
            "description_width": "",
            "_view_module": "@jupyter-widgets/base",
            "_model_module_version": "1.5.0",
            "_view_count": null,
            "_view_module_version": "1.2.0",
            "bar_color": null,
            "_model_module": "@jupyter-widgets/controls"
          }
        },
        "efa213dbfd094d8fb83096dc8f786107": {
          "model_module": "@jupyter-widgets/base",
          "model_name": "LayoutModel",
          "model_module_version": "1.2.0",
          "state": {
            "_view_name": "LayoutView",
            "grid_template_rows": null,
            "right": null,
            "justify_content": null,
            "_view_module": "@jupyter-widgets/base",
            "overflow": null,
            "_model_module_version": "1.2.0",
            "_view_count": null,
            "flex_flow": null,
            "width": null,
            "min_width": null,
            "border": null,
            "align_items": null,
            "bottom": null,
            "_model_module": "@jupyter-widgets/base",
            "top": null,
            "grid_column": null,
            "overflow_y": null,
            "overflow_x": null,
            "grid_auto_flow": null,
            "grid_area": null,
            "grid_template_columns": null,
            "flex": null,
            "_model_name": "LayoutModel",
            "justify_items": null,
            "grid_row": null,
            "max_height": null,
            "align_content": null,
            "visibility": null,
            "align_self": null,
            "height": null,
            "min_height": null,
            "padding": null,
            "grid_auto_rows": null,
            "grid_gap": null,
            "max_width": null,
            "order": null,
            "_view_module_version": "1.2.0",
            "grid_template_areas": null,
            "object_position": null,
            "object_fit": null,
            "grid_auto_columns": null,
            "margin": null,
            "display": null,
            "left": null
          }
        },
        "72257633ccfa4630adbecc6fde7c604d": {
          "model_module": "@jupyter-widgets/controls",
          "model_name": "DescriptionStyleModel",
          "model_module_version": "1.5.0",
          "state": {
            "_view_name": "StyleView",
            "_model_name": "DescriptionStyleModel",
            "description_width": "",
            "_view_module": "@jupyter-widgets/base",
            "_model_module_version": "1.5.0",
            "_view_count": null,
            "_view_module_version": "1.2.0",
            "_model_module": "@jupyter-widgets/controls"
          }
        },
        "861cb368691f4986a5c44d68adbe37b4": {
          "model_module": "@jupyter-widgets/base",
          "model_name": "LayoutModel",
          "model_module_version": "1.2.0",
          "state": {
            "_view_name": "LayoutView",
            "grid_template_rows": null,
            "right": null,
            "justify_content": null,
            "_view_module": "@jupyter-widgets/base",
            "overflow": null,
            "_model_module_version": "1.2.0",
            "_view_count": null,
            "flex_flow": null,
            "width": null,
            "min_width": null,
            "border": null,
            "align_items": null,
            "bottom": null,
            "_model_module": "@jupyter-widgets/base",
            "top": null,
            "grid_column": null,
            "overflow_y": null,
            "overflow_x": null,
            "grid_auto_flow": null,
            "grid_area": null,
            "grid_template_columns": null,
            "flex": null,
            "_model_name": "LayoutModel",
            "justify_items": null,
            "grid_row": null,
            "max_height": null,
            "align_content": null,
            "visibility": null,
            "align_self": null,
            "height": null,
            "min_height": null,
            "padding": null,
            "grid_auto_rows": null,
            "grid_gap": null,
            "max_width": null,
            "order": null,
            "_view_module_version": "1.2.0",
            "grid_template_areas": null,
            "object_position": null,
            "object_fit": null,
            "grid_auto_columns": null,
            "margin": null,
            "display": null,
            "left": null
          }
        }
      }
    }
  },
  "cells": [
    {
      "cell_type": "markdown",
      "metadata": {
        "id": "c__bQUOE9ky_"
      },
      "source": [
        "# STEP-1"
      ]
    },
    {
      "cell_type": "code",
      "metadata": {
        "id": "N-eqKubF-PWo",
        "colab": {
          "base_uri": "https://localhost:8080/"
        },
        "outputId": "0eabce23-d264-481c-c92e-0e5863f00b67"
      },
      "source": [
        "!pip3 install tweepy"
      ],
      "execution_count": 1,
      "outputs": [
        {
          "output_type": "stream",
          "name": "stdout",
          "text": [
            "Requirement already satisfied: tweepy in /usr/local/lib/python3.7/dist-packages (3.10.0)\n",
            "Requirement already satisfied: requests[socks]>=2.11.1 in /usr/local/lib/python3.7/dist-packages (from tweepy) (2.23.0)\n",
            "Requirement already satisfied: requests-oauthlib>=0.7.0 in /usr/local/lib/python3.7/dist-packages (from tweepy) (1.3.0)\n",
            "Requirement already satisfied: six>=1.10.0 in /usr/local/lib/python3.7/dist-packages (from tweepy) (1.15.0)\n",
            "Requirement already satisfied: oauthlib>=3.0.0 in /usr/local/lib/python3.7/dist-packages (from requests-oauthlib>=0.7.0->tweepy) (3.1.1)\n",
            "Requirement already satisfied: idna<3,>=2.5 in /usr/local/lib/python3.7/dist-packages (from requests[socks]>=2.11.1->tweepy) (2.10)\n",
            "Requirement already satisfied: chardet<4,>=3.0.2 in /usr/local/lib/python3.7/dist-packages (from requests[socks]>=2.11.1->tweepy) (3.0.4)\n",
            "Requirement already satisfied: certifi>=2017.4.17 in /usr/local/lib/python3.7/dist-packages (from requests[socks]>=2.11.1->tweepy) (2021.10.8)\n",
            "Requirement already satisfied: urllib3!=1.25.0,!=1.25.1,<1.26,>=1.21.1 in /usr/local/lib/python3.7/dist-packages (from requests[socks]>=2.11.1->tweepy) (1.24.3)\n",
            "Requirement already satisfied: PySocks!=1.5.7,>=1.5.6 in /usr/local/lib/python3.7/dist-packages (from requests[socks]>=2.11.1->tweepy) (1.7.1)\n"
          ]
        }
      ]
    },
    {
      "cell_type": "markdown",
      "metadata": {
        "id": "yg17pCX8-P6w"
      },
      "source": [
        "# STEP-2"
      ]
    },
    {
      "cell_type": "code",
      "metadata": {
        "id": "oLtxtR86X0r8"
      },
      "source": [
        "import tweepy"
      ],
      "execution_count": 2,
      "outputs": []
    },
    {
      "cell_type": "code",
      "metadata": {
        "id": "hr-8_UubX3ec"
      },
      "source": [
        ""
      ],
      "execution_count": 2,
      "outputs": []
    },
    {
      "cell_type": "code",
      "metadata": {
        "id": "fX5HqJ8S9lXY"
      },
      "source": [
        "import tweepy\n",
        "# put your own keys by getting Twitter\n",
        "# visit https://developer.twitter.com/en/apps\n",
        "\n",
        "consumer_key=\"ihhS43WTohGDxLLBsR2Dka75y\"\n",
        "consumer_secret=\"OEYSYVwjT5Mai53rAYLhNn5S5cauN1kC9SuYsjJ0oPJiecuCtx\"\n",
        "acc_token=\"36640628-CSlfNZDgjEUFCA1oE00piVDwh11OYUctNSArSc7Kr\"\n",
        "acc_secret=\"OwJdKIcMcqVQ4J1Ylnh9B1c9rsYUNjz514wdRCEarda2Q\"\n",
        "\n",
        "\n",
        "auth = tweepy.OAuthHandler(consumer_key, consumer_secret)\n",
        "auth.set_access_token(acc_token, acc_secret)\n",
        "api = tweepy.API(auth)"
      ],
      "execution_count": 4,
      "outputs": []
    },
    {
      "cell_type": "code",
      "metadata": {
        "id": "-KVu1ya3-SRx"
      },
      "source": [
        ""
      ],
      "execution_count": null,
      "outputs": []
    },
    {
      "cell_type": "markdown",
      "metadata": {
        "id": "izR-H2WA-UQI"
      },
      "source": [
        "# STEP (optional)"
      ]
    },
    {
      "cell_type": "code",
      "metadata": {
        "colab": {
          "base_uri": "https://localhost:8080/"
        },
        "id": "XGGUE6xhTH5d",
        "outputId": "468a8ec7-49cd-4f84-8795-16e627c3e99b"
      },
      "source": [
        "from google.colab import drive\n",
        "drive.mount('/content/drive')\n",
        "import os \n",
        "os.chdir(\"/content/drive/MyDrive/Courses/cmpe 251\")\n",
        "# hint /content/drive/MyDrive/ + your path\n",
        "os.listdir()"
      ],
      "execution_count": 5,
      "outputs": [
        {
          "output_type": "stream",
          "name": "stdout",
          "text": [
            "Mounted at /content/drive\n"
          ]
        },
        {
          "output_type": "execute_result",
          "data": {
            "text/plain": [
              "['Course251Students.xlsx',\n",
              " 'Project Groups.gsheet',\n",
              " 'Chapter 03: Preprocessing.ipynb',\n",
              " 'archive',\n",
              " ' Ch 02 (SOLVED): Explore data with pandas.ipynb',\n",
              " 'HelloWorld.ipynb',\n",
              " 'Chapter 02: Explore data with pandas.ipynb',\n",
              " 'Working With Reddit.ipynb',\n",
              " 'text.csv',\n",
              " 'sq.pkl',\n",
              " 'sq251.pkl',\n",
              " 'bitcoin251.pkl',\n",
              " 'Ataturk.pkl',\n",
              " 'CMPE 251 Twitter Analysis.ipynb']"
            ]
          },
          "metadata": {},
          "execution_count": 5
        }
      ]
    },
    {
      "cell_type": "code",
      "metadata": {
        "id": "UcG8YWZxaBK1",
        "colab": {
          "base_uri": "https://localhost:8080/"
        },
        "outputId": "3b86672c-94e2-4229-949d-e07676d0ec65"
      },
      "source": [
        "os.listdir()"
      ],
      "execution_count": 6,
      "outputs": [
        {
          "output_type": "execute_result",
          "data": {
            "text/plain": [
              "['Course251Students.xlsx',\n",
              " 'Project Groups.gsheet',\n",
              " 'Chapter 03: Preprocessing.ipynb',\n",
              " 'archive',\n",
              " ' Ch 02 (SOLVED): Explore data with pandas.ipynb',\n",
              " 'HelloWorld.ipynb',\n",
              " 'Chapter 02: Explore data with pandas.ipynb',\n",
              " 'Working With Reddit.ipynb',\n",
              " 'text.csv',\n",
              " 'sq.pkl',\n",
              " 'sq251.pkl',\n",
              " 'bitcoin251.pkl',\n",
              " 'Ataturk.pkl',\n",
              " 'CMPE 251 Twitter Analysis.ipynb']"
            ]
          },
          "metadata": {},
          "execution_count": 6
        }
      ]
    },
    {
      "cell_type": "markdown",
      "metadata": {
        "id": "E9rXDIGG9kOD"
      },
      "source": [
        ""
      ]
    },
    {
      "cell_type": "code",
      "metadata": {
        "id": "ELLx4q0rTAWa"
      },
      "source": [
        "import pandas as pd"
      ],
      "execution_count": 7,
      "outputs": []
    },
    {
      "cell_type": "code",
      "metadata": {
        "id": "5S4gndjETAWa"
      },
      "source": [
        "key=\"#ataturk\"\n",
        "df = pd.DataFrame()\n",
        "msgs = []\n",
        "msg =[]\n",
        "for tweet in tweepy.Cursor(api.search, q=key, lang='tr', rpp=100).items(1000):\n",
        "    msg = [tweet.text, tweet.source, tweet.source_url, tweet.retweet_count, tweet.favorite_count, tweet.geo,tweet.user.name,tweet.created_at,tweet.user.profile_image_url] \n",
        "    msg = tuple(msg)                    \n",
        "    msgs.append(msg)\n",
        "\n",
        "df = pd.DataFrame(msgs)"
      ],
      "execution_count": 37,
      "outputs": []
    },
    {
      "cell_type": "code",
      "metadata": {
        "id": "HkujZ1UVTAWb"
      },
      "source": [
        ""
      ],
      "execution_count": 33,
      "outputs": []
    },
    {
      "cell_type": "code",
      "metadata": {
        "colab": {
          "base_uri": "https://localhost:8080/",
          "height": 525
        },
        "id": "iV-o-y_jTAWb",
        "outputId": "6273b073-868d-467d-9c67-a83be2da6d84"
      },
      "source": [
        "df.head(10)"
      ],
      "execution_count": 36,
      "outputs": [
        {
          "output_type": "execute_result",
          "data": {
            "text/html": [
              "<div>\n",
              "<style scoped>\n",
              "    .dataframe tbody tr th:only-of-type {\n",
              "        vertical-align: middle;\n",
              "    }\n",
              "\n",
              "    .dataframe tbody tr th {\n",
              "        vertical-align: top;\n",
              "    }\n",
              "\n",
              "    .dataframe thead th {\n",
              "        text-align: right;\n",
              "    }\n",
              "</style>\n",
              "<table border=\"1\" class=\"dataframe\">\n",
              "  <thead>\n",
              "    <tr style=\"text-align: right;\">\n",
              "      <th></th>\n",
              "      <th>0</th>\n",
              "      <th>1</th>\n",
              "      <th>2</th>\n",
              "      <th>3</th>\n",
              "      <th>4</th>\n",
              "      <th>5</th>\n",
              "      <th>6</th>\n",
              "      <th>7</th>\n",
              "      <th>8</th>\n",
              "    </tr>\n",
              "  </thead>\n",
              "  <tbody>\n",
              "    <tr>\n",
              "      <th>0</th>\n",
              "      <td>RT @UmmahWolf2: @5Pillarsuk @RTErdogan / @rter...</td>\n",
              "      <td>Twitter for iPhone</td>\n",
              "      <td>http://twitter.com/download/iphone</td>\n",
              "      <td>11</td>\n",
              "      <td>0</td>\n",
              "      <td>None</td>\n",
              "      <td>مُناضِل</td>\n",
              "      <td>2021-11-12 05:02:36</td>\n",
              "      <td>http://pbs.twimg.com/profile_images/1459022572...</td>\n",
              "    </tr>\n",
              "    <tr>\n",
              "      <th>1</th>\n",
              "      <td>Superstition must go.  #ataturk #democracy #tr...</td>\n",
              "      <td>Buffer</td>\n",
              "      <td>https://buffer.com</td>\n",
              "      <td>0</td>\n",
              "      <td>0</td>\n",
              "      <td>None</td>\n",
              "      <td>OneWorld Consulting</td>\n",
              "      <td>2021-11-12 04:23:03</td>\n",
              "      <td>http://pbs.twimg.com/profile_images/8757429000...</td>\n",
              "    </tr>\n",
              "    <tr>\n",
              "      <th>2</th>\n",
              "      <td>RT @dreylulgun: Hello #PathTwitter! \\nYou are ...</td>\n",
              "      <td>Twitter for Android</td>\n",
              "      <td>http://twitter.com/download/android</td>\n",
              "      <td>28</td>\n",
              "      <td>0</td>\n",
              "      <td>None</td>\n",
              "      <td>IG : idrop_az ..</td>\n",
              "      <td>2021-11-11 22:26:13</td>\n",
              "      <td>http://pbs.twimg.com/profile_images/7367265404...</td>\n",
              "    </tr>\n",
              "    <tr>\n",
              "      <th>3</th>\n",
              "      <td>RT @UmmahWolf2: @5Pillarsuk @RTErdogan / @rter...</td>\n",
              "      <td>Twitter for Android</td>\n",
              "      <td>http://twitter.com/download/android</td>\n",
              "      <td>11</td>\n",
              "      <td>0</td>\n",
              "      <td>None</td>\n",
              "      <td>Abū Thorfinn 'Tōruzu' ibn Sunōrre</td>\n",
              "      <td>2021-11-11 20:03:42</td>\n",
              "      <td>http://pbs.twimg.com/profile_images/1206661228...</td>\n",
              "    </tr>\n",
              "    <tr>\n",
              "      <th>4</th>\n",
              "      <td>RT @AllamaMuseum: Available at Walmart\\nAllama...</td>\n",
              "      <td>Twitter for Android</td>\n",
              "      <td>http://twitter.com/download/android</td>\n",
              "      <td>1</td>\n",
              "      <td>0</td>\n",
              "      <td>None</td>\n",
              "      <td>Engr Tanveer Akhtar</td>\n",
              "      <td>2021-11-11 18:01:03</td>\n",
              "      <td>http://pbs.twimg.com/profile_images/1108322958...</td>\n",
              "    </tr>\n",
              "    <tr>\n",
              "      <th>5</th>\n",
              "      <td>RT @UmmahWolf2: @5Pillarsuk @RTErdogan / @rter...</td>\n",
              "      <td>Twitter for Android</td>\n",
              "      <td>http://twitter.com/download/android</td>\n",
              "      <td>11</td>\n",
              "      <td>0</td>\n",
              "      <td>None</td>\n",
              "      <td>RK</td>\n",
              "      <td>2021-11-11 17:55:43</td>\n",
              "      <td>http://pbs.twimg.com/profile_images/9418953728...</td>\n",
              "    </tr>\n",
              "    <tr>\n",
              "      <th>6</th>\n",
              "      <td>Available at Walmart\\nAllama Mashriqi's Monume...</td>\n",
              "      <td>Twitter Web App</td>\n",
              "      <td>https://mobile.twitter.com</td>\n",
              "      <td>1</td>\n",
              "      <td>1</td>\n",
              "      <td>None</td>\n",
              "      <td>Allama Mashriqi Virtual Museum</td>\n",
              "      <td>2021-11-11 16:24:33</td>\n",
              "      <td>http://pbs.twimg.com/profile_images/1278027523...</td>\n",
              "    </tr>\n",
              "    <tr>\n",
              "      <th>7</th>\n",
              "      <td>RT @UmmahWolf2: @5Pillarsuk @RTErdogan / @rter...</td>\n",
              "      <td>Twitter for iPhone</td>\n",
              "      <td>http://twitter.com/download/iphone</td>\n",
              "      <td>11</td>\n",
              "      <td>0</td>\n",
              "      <td>None</td>\n",
              "      <td>لا غالب الا الله</td>\n",
              "      <td>2021-11-11 15:27:29</td>\n",
              "      <td>http://pbs.twimg.com/profile_images/1403465634...</td>\n",
              "    </tr>\n",
              "    <tr>\n",
              "      <th>8</th>\n",
              "      <td>RT @glinglerimek: #Ataturk The full name of th...</td>\n",
              "      <td>Twitter for iPhone</td>\n",
              "      <td>http://twitter.com/download/iphone</td>\n",
              "      <td>1</td>\n",
              "      <td>0</td>\n",
              "      <td>None</td>\n",
              "      <td>Eylül Gün, MD DipRCPath</td>\n",
              "      <td>2021-11-11 15:10:30</td>\n",
              "      <td>http://pbs.twimg.com/profile_images/7090874122...</td>\n",
              "    </tr>\n",
              "    <tr>\n",
              "      <th>9</th>\n",
              "      <td>Yesterday, more than 30 Turkish Americans incl...</td>\n",
              "      <td>Twitter for iPhone</td>\n",
              "      <td>http://twitter.com/download/iphone</td>\n",
              "      <td>0</td>\n",
              "      <td>1</td>\n",
              "      <td>None</td>\n",
              "      <td>TACAM</td>\n",
              "      <td>2021-11-11 15:01:04</td>\n",
              "      <td>http://pbs.twimg.com/profile_images/1269381316...</td>\n",
              "    </tr>\n",
              "  </tbody>\n",
              "</table>\n",
              "</div>"
            ],
            "text/plain": [
              "                                                   0  ...                                                  8\n",
              "0  RT @UmmahWolf2: @5Pillarsuk @RTErdogan / @rter...  ...  http://pbs.twimg.com/profile_images/1459022572...\n",
              "1  Superstition must go.  #ataturk #democracy #tr...  ...  http://pbs.twimg.com/profile_images/8757429000...\n",
              "2  RT @dreylulgun: Hello #PathTwitter! \\nYou are ...  ...  http://pbs.twimg.com/profile_images/7367265404...\n",
              "3  RT @UmmahWolf2: @5Pillarsuk @RTErdogan / @rter...  ...  http://pbs.twimg.com/profile_images/1206661228...\n",
              "4  RT @AllamaMuseum: Available at Walmart\\nAllama...  ...  http://pbs.twimg.com/profile_images/1108322958...\n",
              "5  RT @UmmahWolf2: @5Pillarsuk @RTErdogan / @rter...  ...  http://pbs.twimg.com/profile_images/9418953728...\n",
              "6  Available at Walmart\\nAllama Mashriqi's Monume...  ...  http://pbs.twimg.com/profile_images/1278027523...\n",
              "7  RT @UmmahWolf2: @5Pillarsuk @RTErdogan / @rter...  ...  http://pbs.twimg.com/profile_images/1403465634...\n",
              "8  RT @glinglerimek: #Ataturk The full name of th...  ...  http://pbs.twimg.com/profile_images/7090874122...\n",
              "9  Yesterday, more than 30 Turkish Americans incl...  ...  http://pbs.twimg.com/profile_images/1269381316...\n",
              "\n",
              "[10 rows x 9 columns]"
            ]
          },
          "metadata": {},
          "execution_count": 36
        }
      ]
    },
    {
      "cell_type": "code",
      "metadata": {
        "colab": {
          "base_uri": "https://localhost:8080/"
        },
        "id": "kMgU08BG-xNC",
        "outputId": "44feebb2-11c1-485a-e619-030ae590c2f4"
      },
      "source": [
        "df.shape"
      ],
      "execution_count": 10,
      "outputs": [
        {
          "output_type": "execute_result",
          "data": {
            "text/plain": [
              "(1000, 9)"
            ]
          },
          "metadata": {},
          "execution_count": 10
        }
      ]
    },
    {
      "cell_type": "code",
      "metadata": {
        "colab": {
          "base_uri": "https://localhost:8080/"
        },
        "id": "igNaratCTAWc",
        "outputId": "69e712de-9975-4655-8b8b-105b9aeeb0d2"
      },
      "source": [
        "print([e for e in dir(tweet) if not e.startswith(\"_\") ])"
      ],
      "execution_count": 11,
      "outputs": [
        {
          "output_type": "stream",
          "name": "stdout",
          "text": [
            "['author', 'contributors', 'coordinates', 'created_at', 'destroy', 'entities', 'favorite', 'favorite_count', 'favorited', 'geo', 'id', 'id_str', 'in_reply_to_screen_name', 'in_reply_to_status_id', 'in_reply_to_status_id_str', 'in_reply_to_user_id', 'in_reply_to_user_id_str', 'is_quote_status', 'lang', 'metadata', 'parse', 'parse_list', 'place', 'possibly_sensitive', 'retweet', 'retweet_count', 'retweeted', 'retweets', 'source', 'source_url', 'text', 'truncated', 'user']\n"
          ]
        }
      ]
    },
    {
      "cell_type": "code",
      "metadata": {
        "id": "GnjdgBDkauYW"
      },
      "source": [
        "df.to_pickle(\"Ataturk.pkl\")"
      ],
      "execution_count": 13,
      "outputs": []
    },
    {
      "cell_type": "code",
      "metadata": {
        "colab": {
          "base_uri": "https://localhost:8080/"
        },
        "id": "tyi4z4BBa6I8",
        "outputId": "6fa060f3-7efe-442a-cd6e-5a6009c40d09"
      },
      "source": [
        "os.listdir()"
      ],
      "execution_count": 14,
      "outputs": [
        {
          "output_type": "execute_result",
          "data": {
            "text/plain": [
              "['Course251Students.xlsx',\n",
              " 'Project Groups.gsheet',\n",
              " 'Chapter 03: Preprocessing.ipynb',\n",
              " 'archive',\n",
              " ' Ch 02 (SOLVED): Explore data with pandas.ipynb',\n",
              " 'HelloWorld.ipynb',\n",
              " 'Chapter 02: Explore data with pandas.ipynb',\n",
              " 'Working With Reddit.ipynb',\n",
              " 'text.csv',\n",
              " 'sq.pkl',\n",
              " 'sq251.pkl',\n",
              " 'bitcoin251.pkl',\n",
              " 'Ataturk.pkl',\n",
              " 'CMPE 251 Twitter Analysis.ipynb']"
            ]
          },
          "metadata": {},
          "execution_count": 14
        }
      ]
    },
    {
      "cell_type": "markdown",
      "metadata": {
        "id": "M3ZEpgwRiSn8"
      },
      "source": [
        "If you face difficulties in authorizing yourself, please start here"
      ]
    },
    {
      "cell_type": "code",
      "metadata": {
        "colab": {
          "base_uri": "https://localhost:8080/"
        },
        "id": "mIy24Sn7TAWc",
        "outputId": "a7e7f889-f4ce-4578-bc43-e766e2bb821f"
      },
      "source": [
        "df2=pd.read_pickle(\"Ataturk.pkl\")\n",
        "df2.shape"
      ],
      "execution_count": 38,
      "outputs": [
        {
          "output_type": "execute_result",
          "data": {
            "text/plain": [
              "(1000, 9)"
            ]
          },
          "metadata": {},
          "execution_count": 38
        }
      ]
    },
    {
      "cell_type": "code",
      "metadata": {
        "id": "cfcunVIjTAWd"
      },
      "source": [
        "df=df2"
      ],
      "execution_count": 39,
      "outputs": []
    },
    {
      "cell_type": "code",
      "metadata": {
        "id": "1A_I6p1-TAWd"
      },
      "source": [
        "df.columns=[\"text\", \"source\", \"source_url\", \"retweet_count\", \"favorite\", \"geo\",\"user\",\"created_at\",\"profile_image\"]"
      ],
      "execution_count": 40,
      "outputs": []
    },
    {
      "cell_type": "code",
      "metadata": {
        "colab": {
          "base_uri": "https://localhost:8080/",
          "height": 686
        },
        "id": "3T87VxvUTAWe",
        "outputId": "4ed0fe8d-0f94-4579-ee52-dc01ab63177d"
      },
      "source": [
        "df"
      ],
      "execution_count": 41,
      "outputs": [
        {
          "output_type": "execute_result",
          "data": {
            "text/html": [
              "<div>\n",
              "<style scoped>\n",
              "    .dataframe tbody tr th:only-of-type {\n",
              "        vertical-align: middle;\n",
              "    }\n",
              "\n",
              "    .dataframe tbody tr th {\n",
              "        vertical-align: top;\n",
              "    }\n",
              "\n",
              "    .dataframe thead th {\n",
              "        text-align: right;\n",
              "    }\n",
              "</style>\n",
              "<table border=\"1\" class=\"dataframe\">\n",
              "  <thead>\n",
              "    <tr style=\"text-align: right;\">\n",
              "      <th></th>\n",
              "      <th>text</th>\n",
              "      <th>source</th>\n",
              "      <th>source_url</th>\n",
              "      <th>retweet_count</th>\n",
              "      <th>favorite</th>\n",
              "      <th>geo</th>\n",
              "      <th>user</th>\n",
              "      <th>created_at</th>\n",
              "      <th>profile_image</th>\n",
              "    </tr>\n",
              "  </thead>\n",
              "  <tbody>\n",
              "    <tr>\n",
              "      <th>0</th>\n",
              "      <td>RT @AtakanBozyayla: #CHP'ye #Ataturk  @ekrem_i...</td>\n",
              "      <td>Twitter for iPhone</td>\n",
              "      <td>http://twitter.com/download/iphone</td>\n",
              "      <td>3</td>\n",
              "      <td>0</td>\n",
              "      <td>None</td>\n",
              "      <td>Cumhuriyet ve İstiklal Partisi</td>\n",
              "      <td>2021-11-12 09:11:37</td>\n",
              "      <td>http://pbs.twimg.com/profile_images/1334840476...</td>\n",
              "    </tr>\n",
              "    <tr>\n",
              "      <th>1</th>\n",
              "      <td>RT @AtakanBozyayla: #CHP'ye #Ataturk  @ekrem_i...</td>\n",
              "      <td>Twitter for Android</td>\n",
              "      <td>http://twitter.com/download/android</td>\n",
              "      <td>3</td>\n",
              "      <td>0</td>\n",
              "      <td>None</td>\n",
              "      <td>Ömer Gündüz</td>\n",
              "      <td>2021-11-12 08:19:50</td>\n",
              "      <td>http://pbs.twimg.com/profile_images/1043460832...</td>\n",
              "    </tr>\n",
              "    <tr>\n",
              "      <th>2</th>\n",
              "      <td>RT @55OnderHg: \"Hürriyet olmayan bir memlekett...</td>\n",
              "      <td>Twitter for iPhone</td>\n",
              "      <td>http://twitter.com/download/iphone</td>\n",
              "      <td>53</td>\n",
              "      <td>0</td>\n",
              "      <td>None</td>\n",
              "      <td>Işık Özkefeli</td>\n",
              "      <td>2021-11-12 08:16:32</td>\n",
              "      <td>http://pbs.twimg.com/profile_images/1444400534...</td>\n",
              "    </tr>\n",
              "    <tr>\n",
              "      <th>3</th>\n",
              "      <td>RT @DpGultekinUysal: İşte, Mustafa Kemal Atatü...</td>\n",
              "      <td>Twitter Web App</td>\n",
              "      <td>https://mobile.twitter.com</td>\n",
              "      <td>34</td>\n",
              "      <td>0</td>\n",
              "      <td>None</td>\n",
              "      <td>Uğur Nurcan</td>\n",
              "      <td>2021-11-12 08:14:37</td>\n",
              "      <td>http://pbs.twimg.com/profile_images/1446962286...</td>\n",
              "    </tr>\n",
              "    <tr>\n",
              "      <th>4</th>\n",
              "      <td>RT @AtakanBozyayla: #CHP'ye #Ataturk  @ekrem_i...</td>\n",
              "      <td>Twitter for Android</td>\n",
              "      <td>http://twitter.com/download/android</td>\n",
              "      <td>3</td>\n",
              "      <td>0</td>\n",
              "      <td>None</td>\n",
              "      <td>Ömer</td>\n",
              "      <td>2021-11-12 08:13:33</td>\n",
              "      <td>http://pbs.twimg.com/profile_images/1453596207...</td>\n",
              "    </tr>\n",
              "    <tr>\n",
              "      <th>...</th>\n",
              "      <td>...</td>\n",
              "      <td>...</td>\n",
              "      <td>...</td>\n",
              "      <td>...</td>\n",
              "      <td>...</td>\n",
              "      <td>...</td>\n",
              "      <td>...</td>\n",
              "      <td>...</td>\n",
              "      <td>...</td>\n",
              "    </tr>\n",
              "    <tr>\n",
              "      <th>995</th>\n",
              "      <td>RT @MehmetAli_Kutlu: Gazete Çivit 10.11.21\\nSa...</td>\n",
              "      <td>Twitter Web App</td>\n",
              "      <td>https://mobile.twitter.com</td>\n",
              "      <td>2</td>\n",
              "      <td>0</td>\n",
              "      <td>None</td>\n",
              "      <td>Biraz Daha Işık</td>\n",
              "      <td>2021-11-10 17:37:20</td>\n",
              "      <td>http://pbs.twimg.com/profile_images/1428639237...</td>\n",
              "    </tr>\n",
              "    <tr>\n",
              "      <th>996</th>\n",
              "      <td>RT @42eftelya: Anıtkabir'de agaca çaput baglan...</td>\n",
              "      <td>Twitter for iPhone</td>\n",
              "      <td>http://twitter.com/download/iphone</td>\n",
              "      <td>4</td>\n",
              "      <td>0</td>\n",
              "      <td>None</td>\n",
              "      <td>AYDIN KULAKSIZ</td>\n",
              "      <td>2021-11-10 17:37:09</td>\n",
              "      <td>http://pbs.twimg.com/profile_images/1436387377...</td>\n",
              "    </tr>\n",
              "    <tr>\n",
              "      <th>997</th>\n",
              "      <td>RT @HasanAliavu1: Atatürk olmasaydı… https://t...</td>\n",
              "      <td>Twitter for iPhone</td>\n",
              "      <td>http://twitter.com/download/iphone</td>\n",
              "      <td>1</td>\n",
              "      <td>0</td>\n",
              "      <td>None</td>\n",
              "      <td>Tahsin Ardıç</td>\n",
              "      <td>2021-11-10 17:35:47</td>\n",
              "      <td>http://pbs.twimg.com/profile_images/1100720871...</td>\n",
              "    </tr>\n",
              "    <tr>\n",
              "      <th>998</th>\n",
              "      <td>RT @fatihdogan_38: Dolmabahçe \\n10 Kasım\\n09.0...</td>\n",
              "      <td>Twitter Web App</td>\n",
              "      <td>https://mobile.twitter.com</td>\n",
              "      <td>135</td>\n",
              "      <td>0</td>\n",
              "      <td>None</td>\n",
              "      <td>Sabahattin ÜNAL</td>\n",
              "      <td>2021-11-10 17:35:22</td>\n",
              "      <td>http://pbs.twimg.com/profile_images/1458701889...</td>\n",
              "    </tr>\n",
              "    <tr>\n",
              "      <th>999</th>\n",
              "      <td>Ülkemizin kurucusu,Mustafa Kemal Atatürk'ü vef...</td>\n",
              "      <td>Twitter for Android</td>\n",
              "      <td>http://twitter.com/download/android</td>\n",
              "      <td>1</td>\n",
              "      <td>9</td>\n",
              "      <td>None</td>\n",
              "      <td>Erdal Özel</td>\n",
              "      <td>2021-11-10 17:35:19</td>\n",
              "      <td>http://pbs.twimg.com/profile_images/1423910332...</td>\n",
              "    </tr>\n",
              "  </tbody>\n",
              "</table>\n",
              "<p>1000 rows × 9 columns</p>\n",
              "</div>"
            ],
            "text/plain": [
              "                                                  text  ...                                      profile_image\n",
              "0    RT @AtakanBozyayla: #CHP'ye #Ataturk  @ekrem_i...  ...  http://pbs.twimg.com/profile_images/1334840476...\n",
              "1    RT @AtakanBozyayla: #CHP'ye #Ataturk  @ekrem_i...  ...  http://pbs.twimg.com/profile_images/1043460832...\n",
              "2    RT @55OnderHg: \"Hürriyet olmayan bir memlekett...  ...  http://pbs.twimg.com/profile_images/1444400534...\n",
              "3    RT @DpGultekinUysal: İşte, Mustafa Kemal Atatü...  ...  http://pbs.twimg.com/profile_images/1446962286...\n",
              "4    RT @AtakanBozyayla: #CHP'ye #Ataturk  @ekrem_i...  ...  http://pbs.twimg.com/profile_images/1453596207...\n",
              "..                                                 ...  ...                                                ...\n",
              "995  RT @MehmetAli_Kutlu: Gazete Çivit 10.11.21\\nSa...  ...  http://pbs.twimg.com/profile_images/1428639237...\n",
              "996  RT @42eftelya: Anıtkabir'de agaca çaput baglan...  ...  http://pbs.twimg.com/profile_images/1436387377...\n",
              "997  RT @HasanAliavu1: Atatürk olmasaydı… https://t...  ...  http://pbs.twimg.com/profile_images/1100720871...\n",
              "998  RT @fatihdogan_38: Dolmabahçe \\n10 Kasım\\n09.0...  ...  http://pbs.twimg.com/profile_images/1458701889...\n",
              "999  Ülkemizin kurucusu,Mustafa Kemal Atatürk'ü vef...  ...  http://pbs.twimg.com/profile_images/1423910332...\n",
              "\n",
              "[1000 rows x 9 columns]"
            ]
          },
          "metadata": {},
          "execution_count": 41
        }
      ]
    },
    {
      "cell_type": "code",
      "metadata": {
        "colab": {
          "base_uri": "https://localhost:8080/",
          "height": 35
        },
        "id": "_5VDu1Kl_Y24",
        "outputId": "d4f50964-2a35-45a9-9478-b2549c0c041c"
      },
      "source": [
        "df.profile_image[100]"
      ],
      "execution_count": 42,
      "outputs": [
        {
          "output_type": "execute_result",
          "data": {
            "application/vnd.google.colaboratory.intrinsic+json": {
              "type": "string"
            },
            "text/plain": [
              "'http://pbs.twimg.com/profile_images/1452927016743882755/oi-XqkiW_normal.jpg'"
            ]
          },
          "metadata": {},
          "execution_count": 42
        }
      ]
    },
    {
      "cell_type": "code",
      "metadata": {
        "colab": {
          "base_uri": "https://localhost:8080/",
          "height": 35
        },
        "id": "XtmsdbeQTAWe",
        "outputId": "678bf09f-4d95-46a9-8142-3639f9936d61"
      },
      "source": [
        "df[df.retweet_count== max(df.retweet_count)].iloc[0,].text"
      ],
      "execution_count": 43,
      "outputs": [
        {
          "output_type": "execute_result",
          "data": {
            "application/vnd.google.colaboratory.intrinsic+json": {
              "type": "string"
            },
            "text/plain": [
              "\"RT @TansuYegen: Atatürk'ün anısına dünya ülkelerinde bulunan anıtlar, heykeller, parklar, caddeler... #dünyaizinde #10Kasim1938 #ATATURK…\""
            ]
          },
          "metadata": {},
          "execution_count": 43
        }
      ]
    },
    {
      "cell_type": "code",
      "metadata": {
        "colab": {
          "base_uri": "https://localhost:8080/",
          "height": 282
        },
        "id": "RzUw3bD2TAWe",
        "outputId": "b90bcd91-6fa9-4352-d06f-f706df2d6f2b"
      },
      "source": [
        "df.retweet_count.value_counts().hist(bins=20)"
      ],
      "execution_count": 44,
      "outputs": [
        {
          "output_type": "execute_result",
          "data": {
            "text/plain": [
              "<matplotlib.axes._subplots.AxesSubplot at 0x7f912dda3390>"
            ]
          },
          "metadata": {},
          "execution_count": 44
        },
        {
          "output_type": "display_data",
          "data": {
            "image/png": "[encoded data removed]",
            "text/plain": [
              "<Figure size 432x288 with 1 Axes>"
            ]
          },
          "metadata": {
            "needs_background": "light"
          }
        }
      ]
    },
    {
      "cell_type": "code",
      "metadata": {
        "colab": {
          "base_uri": "https://localhost:8080/",
          "height": 282
        },
        "id": "yAaF3a3ATAWf",
        "outputId": "fc62a083-66bb-4fb8-d2f7-e4c7d8902bdc"
      },
      "source": [
        "import numpy as np\n",
        "df.retweet_count.value_counts().map(lambda x: np.log(1+x)).hist(bins=20 )"
      ],
      "execution_count": 29,
      "outputs": [
        {
          "output_type": "execute_result",
          "data": {
            "text/plain": [
              "<matplotlib.axes._subplots.AxesSubplot at 0x7f9132de0d50>"
            ]
          },
          "metadata": {},
          "execution_count": 29
        },
        {
          "output_type": "display_data",
          "data": {
            "image/png": "[encoded data removed]",
            "text/plain": [
              "<Figure size 432x288 with 1 Axes>"
            ]
          },
          "metadata": {
            "needs_background": "light"
          }
        }
      ]
    },
    {
      "cell_type": "code",
      "metadata": {
        "id": "LpZbQj0rTAWf",
        "colab": {
          "base_uri": "https://localhost:8080/",
          "height": 283
        },
        "outputId": "92f559e9-c83e-455f-a602-8c4dbc6517e9"
      },
      "source": [
        "df.retweet_count.value_counts().plot(kind='box')"
      ],
      "execution_count": 30,
      "outputs": [
        {
          "output_type": "execute_result",
          "data": {
            "text/plain": [
              "<matplotlib.axes._subplots.AxesSubplot at 0x7f912dfb9450>"
            ]
          },
          "metadata": {},
          "execution_count": 30
        },
        {
          "output_type": "display_data",
          "data": {
            "image/png": "[encoded data removed]",
            "text/plain": [
              "<Figure size 432x288 with 1 Axes>"
            ]
          },
          "metadata": {
            "needs_background": "light"
          }
        }
      ]
    },
    {
      "cell_type": "code",
      "metadata": {
        "colab": {
          "base_uri": "https://localhost:8080/"
        },
        "id": "NSFhUQDBdPSv",
        "outputId": "6f9f910b-4a3c-407b-ec32-05ae18558e20"
      },
      "source": [
        "df.source"
      ],
      "execution_count": 31,
      "outputs": [
        {
          "output_type": "execute_result",
          "data": {
            "text/plain": [
              "0       Twitter for iPhone\n",
              "1      Twitter for Android\n",
              "2       Twitter for iPhone\n",
              "3          Twitter Web App\n",
              "4      Twitter for Android\n",
              "              ...         \n",
              "995        Twitter Web App\n",
              "996     Twitter for iPhone\n",
              "997     Twitter for iPhone\n",
              "998        Twitter Web App\n",
              "999    Twitter for Android\n",
              "Name: source, Length: 1000, dtype: object"
            ]
          },
          "metadata": {},
          "execution_count": 31
        }
      ]
    },
    {
      "cell_type": "code",
      "metadata": {
        "colab": {
          "base_uri": "https://localhost:8080/",
          "height": 429
        },
        "id": "FIP_tlC6TAWf",
        "outputId": "b68704f6-a7c0-4f19-99a5-18528c50d69c"
      },
      "source": [
        "df.source.value_counts().plot(kind='bar')"
      ],
      "execution_count": 32,
      "outputs": [
        {
          "output_type": "execute_result",
          "data": {
            "text/plain": [
              "<matplotlib.axes._subplots.AxesSubplot at 0x7f912df94550>"
            ]
          },
          "metadata": {},
          "execution_count": 32
        },
        {
          "output_type": "display_data",
          "data": {
            "image/png": "[encoded data removed]",
            "text/plain": [
              "<Figure size 432x288 with 1 Axes>"
            ]
          },
          "metadata": {
            "needs_background": "light"
          }
        }
      ]
    },
    {
      "cell_type": "code",
      "metadata": {
        "colab": {
          "base_uri": "https://localhost:8080/",
          "height": 364
        },
        "id": "LupJMzl8TAWf",
        "outputId": "8b2c4b68-a8f8-415e-bbc8-36d4785b4a37"
      },
      "source": [
        "src=df.source.value_counts()\n",
        "src[src>2].plot(kind='bar')"
      ],
      "execution_count": 45,
      "outputs": [
        {
          "output_type": "execute_result",
          "data": {
            "text/plain": [
              "<matplotlib.axes._subplots.AxesSubplot at 0x7f912dd0e910>"
            ]
          },
          "metadata": {},
          "execution_count": 45
        },
        {
          "output_type": "display_data",
          "data": {
            "image/png": "[encoded data removed]",
            "text/plain": [
              "<Figure size 432x288 with 1 Axes>"
            ]
          },
          "metadata": {
            "needs_background": "light"
          }
        }
      ]
    },
    {
      "cell_type": "code",
      "metadata": {
        "colab": {
          "base_uri": "https://localhost:8080/"
        },
        "id": "4BpYlfLTTAWg",
        "outputId": "e102632f-1bf8-4d6a-e124-40332e527720"
      },
      "source": [
        "df.favorite.mean(), df.favorite.median(), df.favorite.max(), df.favorite.min() "
      ],
      "execution_count": null,
      "outputs": [
        {
          "output_type": "execute_result",
          "data": {
            "text/plain": [
              "(0.173, 0.0, 11, 0)"
            ]
          },
          "metadata": {},
          "execution_count": 73
        }
      ]
    },
    {
      "cell_type": "code",
      "metadata": {
        "colab": {
          "base_uri": "https://localhost:8080/"
        },
        "id": "8hgfO78xTAWg",
        "outputId": "591ad2b0-9597-4182-d4d8-cbbb2602d661"
      },
      "source": [
        "df.favorite.value_counts()"
      ],
      "execution_count": null,
      "outputs": [
        {
          "output_type": "execute_result",
          "data": {
            "text/plain": [
              "0     913\n",
              "1      58\n",
              "2      13\n",
              "3       6\n",
              "10      2\n",
              "5       2\n",
              "4       2\n",
              "11      1\n",
              "9       1\n",
              "7       1\n",
              "6       1\n",
              "Name: favorite, dtype: int64"
            ]
          },
          "metadata": {},
          "execution_count": 74
        }
      ]
    },
    {
      "cell_type": "code",
      "metadata": {
        "colab": {
          "base_uri": "https://localhost:8080/",
          "height": 114
        },
        "id": "KnEQiw4WTAWg",
        "outputId": "a3251ac3-22f7-47ae-eb68-005ba6a5d06d"
      },
      "source": [
        "df[df.favorite==max(df.favorite)]"
      ],
      "execution_count": 50,
      "outputs": [
        {
          "output_type": "execute_result",
          "data": {
            "text/html": [
              "<div>\n",
              "<style scoped>\n",
              "    .dataframe tbody tr th:only-of-type {\n",
              "        vertical-align: middle;\n",
              "    }\n",
              "\n",
              "    .dataframe tbody tr th {\n",
              "        vertical-align: top;\n",
              "    }\n",
              "\n",
              "    .dataframe thead th {\n",
              "        text-align: right;\n",
              "    }\n",
              "</style>\n",
              "<table border=\"1\" class=\"dataframe\">\n",
              "  <thead>\n",
              "    <tr style=\"text-align: right;\">\n",
              "      <th></th>\n",
              "      <th>text</th>\n",
              "      <th>source</th>\n",
              "      <th>source_url</th>\n",
              "      <th>retweet_count</th>\n",
              "      <th>favorite</th>\n",
              "      <th>geo</th>\n",
              "      <th>user</th>\n",
              "      <th>created_at</th>\n",
              "      <th>profile_image</th>\n",
              "    </tr>\n",
              "  </thead>\n",
              "  <tbody>\n",
              "    <tr>\n",
              "      <th>537</th>\n",
              "      <td>100. TL hatta https://t.co/L44eioTMJQ bağış ya...</td>\n",
              "      <td>Twitter for iPhone</td>\n",
              "      <td>http://twitter.com/download/iphone</td>\n",
              "      <td>79</td>\n",
              "      <td>185</td>\n",
              "      <td>None</td>\n",
              "      <td>FURKAN SMA TIP 1</td>\n",
              "      <td>2021-11-10 22:13:48</td>\n",
              "      <td>http://pbs.twimg.com/profile_images/1377161150...</td>\n",
              "    </tr>\n",
              "  </tbody>\n",
              "</table>\n",
              "</div>"
            ],
            "text/plain": [
              "                                                  text  ...                                      profile_image\n",
              "537  100. TL hatta https://t.co/L44eioTMJQ bağış ya...  ...  http://pbs.twimg.com/profile_images/1377161150...\n",
              "\n",
              "[1 rows x 9 columns]"
            ]
          },
          "metadata": {},
          "execution_count": 50
        }
      ]
    },
    {
      "cell_type": "code",
      "metadata": {
        "colab": {
          "base_uri": "https://localhost:8080/"
        },
        "id": "Afup6Rl0fIEA",
        "outputId": "5badafa2-6f09-40e7-b6ed-f5a1ba87a0ed"
      },
      "source": [
        "df.retweet_count.value_counts()"
      ],
      "execution_count": 51,
      "outputs": [
        {
          "output_type": "execute_result",
          "data": {
            "text/plain": [
              "0      175\n",
              "1      100\n",
              "79      68\n",
              "3       54\n",
              "53      53\n",
              "2       48\n",
              "4       37\n",
              "5       30\n",
              "62      28\n",
              "101     26\n",
              "530     25\n",
              "152     25\n",
              "88      24\n",
              "23      23\n",
              "19      23\n",
              "14      23\n",
              "8       22\n",
              "135     20\n",
              "11      20\n",
              "9       20\n",
              "82      15\n",
              "13      12\n",
              "479     12\n",
              "6       11\n",
              "34      11\n",
              "87      10\n",
              "7        9\n",
              "10       9\n",
              "60       7\n",
              "45       7\n",
              "16       7\n",
              "36       6\n",
              "77       5\n",
              "24       5\n",
              "52       4\n",
              "15       3\n",
              "42       3\n",
              "51       3\n",
              "12       2\n",
              "20       2\n",
              "21       2\n",
              "28       2\n",
              "29       2\n",
              "59       2\n",
              "18       2\n",
              "17       1\n",
              "22       1\n",
              "198      1\n",
              "Name: retweet_count, dtype: int64"
            ]
          },
          "metadata": {},
          "execution_count": 51
        }
      ]
    },
    {
      "cell_type": "code",
      "metadata": {
        "colab": {
          "base_uri": "https://localhost:8080/",
          "height": 1000
        },
        "id": "Xid7n2g6fOBx",
        "outputId": "aa791c4e-b3e0-4ee5-ae35-f3778a83d1b9"
      },
      "source": [
        "df[df.retweet_count== max(df.retweet_count)] "
      ],
      "execution_count": 52,
      "outputs": [
        {
          "output_type": "execute_result",
          "data": {
            "text/html": [
              "<div>\n",
              "<style scoped>\n",
              "    .dataframe tbody tr th:only-of-type {\n",
              "        vertical-align: middle;\n",
              "    }\n",
              "\n",
              "    .dataframe tbody tr th {\n",
              "        vertical-align: top;\n",
              "    }\n",
              "\n",
              "    .dataframe thead th {\n",
              "        text-align: right;\n",
              "    }\n",
              "</style>\n",
              "<table border=\"1\" class=\"dataframe\">\n",
              "  <thead>\n",
              "    <tr style=\"text-align: right;\">\n",
              "      <th></th>\n",
              "      <th>text</th>\n",
              "      <th>source</th>\n",
              "      <th>source_url</th>\n",
              "      <th>retweet_count</th>\n",
              "      <th>favorite</th>\n",
              "      <th>geo</th>\n",
              "      <th>user</th>\n",
              "      <th>created_at</th>\n",
              "      <th>profile_image</th>\n",
              "    </tr>\n",
              "  </thead>\n",
              "  <tbody>\n",
              "    <tr>\n",
              "      <th>5</th>\n",
              "      <td>RT @TansuYegen: Atatürk'ün anısına dünya ülkel...</td>\n",
              "      <td>Twitter for Android</td>\n",
              "      <td>http://twitter.com/download/android</td>\n",
              "      <td>530</td>\n",
              "      <td>0</td>\n",
              "      <td>None</td>\n",
              "      <td>Cihat Kahraman</td>\n",
              "      <td>2021-11-12 08:06:20</td>\n",
              "      <td>http://pbs.twimg.com/profile_images/1404397898...</td>\n",
              "    </tr>\n",
              "    <tr>\n",
              "      <th>62</th>\n",
              "      <td>RT @TansuYegen: Atatürk'ün anısına dünya ülkel...</td>\n",
              "      <td>Twitter for iPhone</td>\n",
              "      <td>http://twitter.com/download/iphone</td>\n",
              "      <td>530</td>\n",
              "      <td>0</td>\n",
              "      <td>None</td>\n",
              "      <td>MADMEN</td>\n",
              "      <td>2021-11-11 20:23:37</td>\n",
              "      <td>http://pbs.twimg.com/profile_images/1316067956...</td>\n",
              "    </tr>\n",
              "    <tr>\n",
              "      <th>151</th>\n",
              "      <td>RT @TansuYegen: Atatürk'ün anısına dünya ülkel...</td>\n",
              "      <td>Twitter for Android</td>\n",
              "      <td>http://twitter.com/download/android</td>\n",
              "      <td>530</td>\n",
              "      <td>0</td>\n",
              "      <td>None</td>\n",
              "      <td>Fehim BALADIZ</td>\n",
              "      <td>2021-11-11 14:37:49</td>\n",
              "      <td>http://pbs.twimg.com/profile_images/6557892779...</td>\n",
              "    </tr>\n",
              "    <tr>\n",
              "      <th>238</th>\n",
              "      <td>RT @TansuYegen: Atatürk'ün anısına dünya ülkel...</td>\n",
              "      <td>Twitter Web App</td>\n",
              "      <td>https://mobile.twitter.com</td>\n",
              "      <td>530</td>\n",
              "      <td>0</td>\n",
              "      <td>None</td>\n",
              "      <td>Türkiye Cumhuriyeti</td>\n",
              "      <td>2021-11-11 09:36:03</td>\n",
              "      <td>http://pbs.twimg.com/profile_images/1009374496...</td>\n",
              "    </tr>\n",
              "    <tr>\n",
              "      <th>294</th>\n",
              "      <td>RT @TansuYegen: Atatürk'ün anısına dünya ülkel...</td>\n",
              "      <td>Twitter for Android</td>\n",
              "      <td>http://twitter.com/download/android</td>\n",
              "      <td>530</td>\n",
              "      <td>0</td>\n",
              "      <td>None</td>\n",
              "      <td>KEMAL ÇİL</td>\n",
              "      <td>2021-11-11 07:25:08</td>\n",
              "      <td>http://pbs.twimg.com/profile_images/1116371299...</td>\n",
              "    </tr>\n",
              "    <tr>\n",
              "      <th>338</th>\n",
              "      <td>RT @TansuYegen: Atatürk'ün anısına dünya ülkel...</td>\n",
              "      <td>Twitter for iPhone</td>\n",
              "      <td>http://twitter.com/download/iphone</td>\n",
              "      <td>530</td>\n",
              "      <td>0</td>\n",
              "      <td>None</td>\n",
              "      <td>çelebiİpar</td>\n",
              "      <td>2021-11-11 06:38:09</td>\n",
              "      <td>http://pbs.twimg.com/profile_images/1436433503...</td>\n",
              "    </tr>\n",
              "    <tr>\n",
              "      <th>470</th>\n",
              "      <td>RT @TansuYegen: Atatürk'ün anısına dünya ülkel...</td>\n",
              "      <td>Twitter for iPhone</td>\n",
              "      <td>http://twitter.com/download/iphone</td>\n",
              "      <td>530</td>\n",
              "      <td>0</td>\n",
              "      <td>None</td>\n",
              "      <td>Nuray BORA</td>\n",
              "      <td>2021-11-11 03:07:36</td>\n",
              "      <td>http://pbs.twimg.com/profile_images/4948119544...</td>\n",
              "    </tr>\n",
              "    <tr>\n",
              "      <th>487</th>\n",
              "      <td>RT @TansuYegen: Atatürk'ün anısına dünya ülkel...</td>\n",
              "      <td>Twitter for Android</td>\n",
              "      <td>http://twitter.com/download/android</td>\n",
              "      <td>530</td>\n",
              "      <td>0</td>\n",
              "      <td>None</td>\n",
              "      <td>+90 532 471 9577</td>\n",
              "      <td>2021-11-11 01:01:12</td>\n",
              "      <td>http://abs.twimg.com/sticky/default_profile_im...</td>\n",
              "    </tr>\n",
              "    <tr>\n",
              "      <th>501</th>\n",
              "      <td>RT @TansuYegen: Atatürk'ün anısına dünya ülkel...</td>\n",
              "      <td>Twitter for Android</td>\n",
              "      <td>http://twitter.com/download/android</td>\n",
              "      <td>530</td>\n",
              "      <td>0</td>\n",
              "      <td>None</td>\n",
              "      <td>Murat</td>\n",
              "      <td>2021-11-10 23:30:04</td>\n",
              "      <td>http://pbs.twimg.com/profile_images/1393253014...</td>\n",
              "    </tr>\n",
              "    <tr>\n",
              "      <th>515</th>\n",
              "      <td>RT @TansuYegen: Atatürk'ün anısına dünya ülkel...</td>\n",
              "      <td>Twitter for Android</td>\n",
              "      <td>http://twitter.com/download/android</td>\n",
              "      <td>530</td>\n",
              "      <td>0</td>\n",
              "      <td>None</td>\n",
              "      <td>Berat KESKİNTAŞ</td>\n",
              "      <td>2021-11-10 23:01:48</td>\n",
              "      <td>http://pbs.twimg.com/profile_images/1318096861...</td>\n",
              "    </tr>\n",
              "    <tr>\n",
              "      <th>532</th>\n",
              "      <td>RT @TansuYegen: Atatürk'ün anısına dünya ülkel...</td>\n",
              "      <td>Twitter for Android</td>\n",
              "      <td>http://twitter.com/download/android</td>\n",
              "      <td>530</td>\n",
              "      <td>0</td>\n",
              "      <td>None</td>\n",
              "      <td>Hülya Ünsal</td>\n",
              "      <td>2021-11-10 22:17:01</td>\n",
              "      <td>http://pbs.twimg.com/profile_images/1458332605...</td>\n",
              "    </tr>\n",
              "    <tr>\n",
              "      <th>632</th>\n",
              "      <td>RT @TansuYegen: Atatürk'ün anısına dünya ülkel...</td>\n",
              "      <td>Twitter for Android</td>\n",
              "      <td>http://twitter.com/download/android</td>\n",
              "      <td>530</td>\n",
              "      <td>0</td>\n",
              "      <td>None</td>\n",
              "      <td>cengiz uzun</td>\n",
              "      <td>2021-11-10 20:58:31</td>\n",
              "      <td>http://pbs.twimg.com/profile_images/1356962177...</td>\n",
              "    </tr>\n",
              "    <tr>\n",
              "      <th>660</th>\n",
              "      <td>RT @TansuYegen: Atatürk'ün anısına dünya ülkel...</td>\n",
              "      <td>Twitter for iPad</td>\n",
              "      <td>http://twitter.com/#!/download/ipad</td>\n",
              "      <td>530</td>\n",
              "      <td>0</td>\n",
              "      <td>None</td>\n",
              "      <td>GÜNER TOPRAK</td>\n",
              "      <td>2021-11-10 20:37:52</td>\n",
              "      <td>http://pbs.twimg.com/profile_images/1150869528...</td>\n",
              "    </tr>\n",
              "    <tr>\n",
              "      <th>715</th>\n",
              "      <td>RT @TansuYegen: Atatürk'ün anısına dünya ülkel...</td>\n",
              "      <td>Twitter for iPhone</td>\n",
              "      <td>http://twitter.com/download/iphone</td>\n",
              "      <td>530</td>\n",
              "      <td>0</td>\n",
              "      <td>None</td>\n",
              "      <td>Meltem</td>\n",
              "      <td>2021-11-10 19:59:42</td>\n",
              "      <td>http://pbs.twimg.com/profile_images/1271380074...</td>\n",
              "    </tr>\n",
              "    <tr>\n",
              "      <th>806</th>\n",
              "      <td>RT @TansuYegen: Atatürk'ün anısına dünya ülkel...</td>\n",
              "      <td>Twitter for iPhone</td>\n",
              "      <td>http://twitter.com/download/iphone</td>\n",
              "      <td>530</td>\n",
              "      <td>0</td>\n",
              "      <td>None</td>\n",
              "      <td>4LP3R</td>\n",
              "      <td>2021-11-10 19:13:20</td>\n",
              "      <td>http://pbs.twimg.com/profile_images/9632068147...</td>\n",
              "    </tr>\n",
              "    <tr>\n",
              "      <th>830</th>\n",
              "      <td>RT @TansuYegen: Atatürk'ün anısına dünya ülkel...</td>\n",
              "      <td>Twitter for iPhone</td>\n",
              "      <td>http://twitter.com/download/iphone</td>\n",
              "      <td>530</td>\n",
              "      <td>0</td>\n",
              "      <td>None</td>\n",
              "      <td>SERPİL YILDIRIM</td>\n",
              "      <td>2021-11-10 18:58:41</td>\n",
              "      <td>http://pbs.twimg.com/profile_images/1189901695...</td>\n",
              "    </tr>\n",
              "    <tr>\n",
              "      <th>832</th>\n",
              "      <td>RT @TansuYegen: Atatürk'ün anısına dünya ülkel...</td>\n",
              "      <td>Twitter for iPhone</td>\n",
              "      <td>http://twitter.com/download/iphone</td>\n",
              "      <td>530</td>\n",
              "      <td>0</td>\n",
              "      <td>None</td>\n",
              "      <td>Levent💧</td>\n",
              "      <td>2021-11-10 18:57:12</td>\n",
              "      <td>http://pbs.twimg.com/profile_images/1456316026...</td>\n",
              "    </tr>\n",
              "    <tr>\n",
              "      <th>839</th>\n",
              "      <td>RT @TansuYegen: Atatürk'ün anısına dünya ülkel...</td>\n",
              "      <td>Twitter for Android</td>\n",
              "      <td>http://twitter.com/download/android</td>\n",
              "      <td>530</td>\n",
              "      <td>0</td>\n",
              "      <td>None</td>\n",
              "      <td>Deniz</td>\n",
              "      <td>2021-11-10 18:54:19</td>\n",
              "      <td>http://abs.twimg.com/sticky/default_profile_im...</td>\n",
              "    </tr>\n",
              "    <tr>\n",
              "      <th>893</th>\n",
              "      <td>RT @TansuYegen: Atatürk'ün anısına dünya ülkel...</td>\n",
              "      <td>turkey1acc</td>\n",
              "      <td>https://tweetoftheday.herokuapp.com</td>\n",
              "      <td>530</td>\n",
              "      <td>0</td>\n",
              "      <td>None</td>\n",
              "      <td>Tweet of the day Turkey</td>\n",
              "      <td>2021-11-10 18:30:41</td>\n",
              "      <td>http://pbs.twimg.com/profile_images/1091069666...</td>\n",
              "    </tr>\n",
              "    <tr>\n",
              "      <th>945</th>\n",
              "      <td>RT @TansuYegen: Atatürk'ün anısına dünya ülkel...</td>\n",
              "      <td>Twitter for iPhone</td>\n",
              "      <td>http://twitter.com/download/iphone</td>\n",
              "      <td>530</td>\n",
              "      <td>0</td>\n",
              "      <td>None</td>\n",
              "      <td>Çağrı Bulut 🏆 ¹⁹⁰⁷ ⭐️⭐️⭐️⭐️⭐️</td>\n",
              "      <td>2021-11-10 18:03:02</td>\n",
              "      <td>http://pbs.twimg.com/profile_images/1330848506...</td>\n",
              "    </tr>\n",
              "    <tr>\n",
              "      <th>946</th>\n",
              "      <td>RT @TansuYegen: Atatürk'ün anısına dünya ülkel...</td>\n",
              "      <td>Twitter for iPhone</td>\n",
              "      <td>http://twitter.com/download/iphone</td>\n",
              "      <td>530</td>\n",
              "      <td>0</td>\n",
              "      <td>None</td>\n",
              "      <td>Bener Ersoy</td>\n",
              "      <td>2021-11-10 18:02:25</td>\n",
              "      <td>http://pbs.twimg.com/profile_images/8892112764...</td>\n",
              "    </tr>\n",
              "    <tr>\n",
              "      <th>957</th>\n",
              "      <td>RT @TansuYegen: Atatürk'ün anısına dünya ülkel...</td>\n",
              "      <td>Twitter for iPhone</td>\n",
              "      <td>http://twitter.com/download/iphone</td>\n",
              "      <td>530</td>\n",
              "      <td>0</td>\n",
              "      <td>None</td>\n",
              "      <td>Dilek Kaba</td>\n",
              "      <td>2021-11-10 17:51:56</td>\n",
              "      <td>http://pbs.twimg.com/profile_images/1453182648...</td>\n",
              "    </tr>\n",
              "    <tr>\n",
              "      <th>958</th>\n",
              "      <td>RT @TansuYegen: Atatürk'ün anısına dünya ülkel...</td>\n",
              "      <td>Twitter for Android</td>\n",
              "      <td>http://twitter.com/download/android</td>\n",
              "      <td>530</td>\n",
              "      <td>0</td>\n",
              "      <td>None</td>\n",
              "      <td>He's a genius</td>\n",
              "      <td>2021-11-10 17:51:30</td>\n",
              "      <td>http://pbs.twimg.com/profile_images/1453361200...</td>\n",
              "    </tr>\n",
              "    <tr>\n",
              "      <th>966</th>\n",
              "      <td>RT @TansuYegen: Atatürk'ün anısına dünya ülkel...</td>\n",
              "      <td>Twitter for iPhone</td>\n",
              "      <td>http://twitter.com/download/iphone</td>\n",
              "      <td>530</td>\n",
              "      <td>0</td>\n",
              "      <td>None</td>\n",
              "      <td>FB TORUN CUMHURİYETİ</td>\n",
              "      <td>2021-11-10 17:47:25</td>\n",
              "      <td>http://pbs.twimg.com/profile_images/1326196429...</td>\n",
              "    </tr>\n",
              "    <tr>\n",
              "      <th>984</th>\n",
              "      <td>RT @TansuYegen: Atatürk'ün anısına dünya ülkel...</td>\n",
              "      <td>Twitter for iPhone</td>\n",
              "      <td>http://twitter.com/download/iphone</td>\n",
              "      <td>530</td>\n",
              "      <td>0</td>\n",
              "      <td>None</td>\n",
              "      <td>MURAT ALPAY</td>\n",
              "      <td>2021-11-10 17:42:57</td>\n",
              "      <td>http://pbs.twimg.com/profile_images/1300165276...</td>\n",
              "    </tr>\n",
              "  </tbody>\n",
              "</table>\n",
              "</div>"
            ],
            "text/plain": [
              "                                                  text  ...                                      profile_image\n",
              "5    RT @TansuYegen: Atatürk'ün anısına dünya ülkel...  ...  http://pbs.twimg.com/profile_images/1404397898...\n",
              "62   RT @TansuYegen: Atatürk'ün anısına dünya ülkel...  ...  http://pbs.twimg.com/profile_images/1316067956...\n",
              "151  RT @TansuYegen: Atatürk'ün anısına dünya ülkel...  ...  http://pbs.twimg.com/profile_images/6557892779...\n",
              "238  RT @TansuYegen: Atatürk'ün anısına dünya ülkel...  ...  http://pbs.twimg.com/profile_images/1009374496...\n",
              "294  RT @TansuYegen: Atatürk'ün anısına dünya ülkel...  ...  http://pbs.twimg.com/profile_images/1116371299...\n",
              "338  RT @TansuYegen: Atatürk'ün anısına dünya ülkel...  ...  http://pbs.twimg.com/profile_images/1436433503...\n",
              "470  RT @TansuYegen: Atatürk'ün anısına dünya ülkel...  ...  http://pbs.twimg.com/profile_images/4948119544...\n",
              "487  RT @TansuYegen: Atatürk'ün anısına dünya ülkel...  ...  http://abs.twimg.com/sticky/default_profile_im...\n",
              "501  RT @TansuYegen: Atatürk'ün anısına dünya ülkel...  ...  http://pbs.twimg.com/profile_images/1393253014...\n",
              "515  RT @TansuYegen: Atatürk'ün anısına dünya ülkel...  ...  http://pbs.twimg.com/profile_images/1318096861...\n",
              "532  RT @TansuYegen: Atatürk'ün anısına dünya ülkel...  ...  http://pbs.twimg.com/profile_images/1458332605...\n",
              "632  RT @TansuYegen: Atatürk'ün anısına dünya ülkel...  ...  http://pbs.twimg.com/profile_images/1356962177...\n",
              "660  RT @TansuYegen: Atatürk'ün anısına dünya ülkel...  ...  http://pbs.twimg.com/profile_images/1150869528...\n",
              "715  RT @TansuYegen: Atatürk'ün anısına dünya ülkel...  ...  http://pbs.twimg.com/profile_images/1271380074...\n",
              "806  RT @TansuYegen: Atatürk'ün anısına dünya ülkel...  ...  http://pbs.twimg.com/profile_images/9632068147...\n",
              "830  RT @TansuYegen: Atatürk'ün anısına dünya ülkel...  ...  http://pbs.twimg.com/profile_images/1189901695...\n",
              "832  RT @TansuYegen: Atatürk'ün anısına dünya ülkel...  ...  http://pbs.twimg.com/profile_images/1456316026...\n",
              "839  RT @TansuYegen: Atatürk'ün anısına dünya ülkel...  ...  http://abs.twimg.com/sticky/default_profile_im...\n",
              "893  RT @TansuYegen: Atatürk'ün anısına dünya ülkel...  ...  http://pbs.twimg.com/profile_images/1091069666...\n",
              "945  RT @TansuYegen: Atatürk'ün anısına dünya ülkel...  ...  http://pbs.twimg.com/profile_images/1330848506...\n",
              "946  RT @TansuYegen: Atatürk'ün anısına dünya ülkel...  ...  http://pbs.twimg.com/profile_images/8892112764...\n",
              "957  RT @TansuYegen: Atatürk'ün anısına dünya ülkel...  ...  http://pbs.twimg.com/profile_images/1453182648...\n",
              "958  RT @TansuYegen: Atatürk'ün anısına dünya ülkel...  ...  http://pbs.twimg.com/profile_images/1453361200...\n",
              "966  RT @TansuYegen: Atatürk'ün anısına dünya ülkel...  ...  http://pbs.twimg.com/profile_images/1326196429...\n",
              "984  RT @TansuYegen: Atatürk'ün anısına dünya ülkel...  ...  http://pbs.twimg.com/profile_images/1300165276...\n",
              "\n",
              "[25 rows x 9 columns]"
            ]
          },
          "metadata": {},
          "execution_count": 52
        }
      ]
    },
    {
      "cell_type": "code",
      "metadata": {
        "colab": {
          "base_uri": "https://localhost:8080/"
        },
        "id": "CKh385RhhOoW",
        "outputId": "44b5fc37-5c9e-4e7e-f2c9-5c9c5ea32436"
      },
      "source": [
        "list(df[df.retweet_count== max(df.retweet_count)].text)"
      ],
      "execution_count": 53,
      "outputs": [
        {
          "output_type": "execute_result",
          "data": {
            "text/plain": [
              "[\"RT @TansuYegen: Atatürk'ün anısına dünya ülkelerinde bulunan anıtlar, heykeller, parklar, caddeler... #dünyaizinde #10Kasim1938 #ATATURK…\",\n",
              " \"RT @TansuYegen: Atatürk'ün anısına dünya ülkelerinde bulunan anıtlar, heykeller, parklar, caddeler... #dünyaizinde #10Kasim1938 #ATATURK…\",\n",
              " \"RT @TansuYegen: Atatürk'ün anısına dünya ülkelerinde bulunan anıtlar, heykeller, parklar, caddeler... #dünyaizinde #10Kasim1938 #ATATURK…\",\n",
              " \"RT @TansuYegen: Atatürk'ün anısına dünya ülkelerinde bulunan anıtlar, heykeller, parklar, caddeler... #dünyaizinde #10Kasim1938 #ATATURK…\",\n",
              " \"RT @TansuYegen: Atatürk'ün anısına dünya ülkelerinde bulunan anıtlar, heykeller, parklar, caddeler... #dünyaizinde #10Kasim1938 #ATATURK…\",\n",
              " \"RT @TansuYegen: Atatürk'ün anısına dünya ülkelerinde bulunan anıtlar, heykeller, parklar, caddeler... #dünyaizinde #10Kasim1938 #ATATURK…\",\n",
              " \"RT @TansuYegen: Atatürk'ün anısına dünya ülkelerinde bulunan anıtlar, heykeller, parklar, caddeler... #dünyaizinde #10Kasim1938 #ATATURK…\",\n",
              " \"RT @TansuYegen: Atatürk'ün anısına dünya ülkelerinde bulunan anıtlar, heykeller, parklar, caddeler... #dünyaizinde #10Kasim1938 #ATATURK…\",\n",
              " \"RT @TansuYegen: Atatürk'ün anısına dünya ülkelerinde bulunan anıtlar, heykeller, parklar, caddeler... #dünyaizinde #10Kasim1938 #ATATURK…\",\n",
              " \"RT @TansuYegen: Atatürk'ün anısına dünya ülkelerinde bulunan anıtlar, heykeller, parklar, caddeler... #dünyaizinde #10Kasim1938 #ATATURK…\",\n",
              " \"RT @TansuYegen: Atatürk'ün anısına dünya ülkelerinde bulunan anıtlar, heykeller, parklar, caddeler... #dünyaizinde #10Kasim1938 #ATATURK…\",\n",
              " \"RT @TansuYegen: Atatürk'ün anısına dünya ülkelerinde bulunan anıtlar, heykeller, parklar, caddeler... #dünyaizinde #10Kasim1938 #ATATURK…\",\n",
              " \"RT @TansuYegen: Atatürk'ün anısına dünya ülkelerinde bulunan anıtlar, heykeller, parklar, caddeler... #dünyaizinde #10Kasim1938 #ATATURK…\",\n",
              " \"RT @TansuYegen: Atatürk'ün anısına dünya ülkelerinde bulunan anıtlar, heykeller, parklar, caddeler... #dünyaizinde #10Kasim1938 #ATATURK…\",\n",
              " \"RT @TansuYegen: Atatürk'ün anısına dünya ülkelerinde bulunan anıtlar, heykeller, parklar, caddeler... #dünyaizinde #10Kasim1938 #ATATURK…\",\n",
              " \"RT @TansuYegen: Atatürk'ün anısına dünya ülkelerinde bulunan anıtlar, heykeller, parklar, caddeler... #dünyaizinde #10Kasim1938 #ATATURK…\",\n",
              " \"RT @TansuYegen: Atatürk'ün anısına dünya ülkelerinde bulunan anıtlar, heykeller, parklar, caddeler... #dünyaizinde #10Kasim1938 #ATATURK…\",\n",
              " \"RT @TansuYegen: Atatürk'ün anısına dünya ülkelerinde bulunan anıtlar, heykeller, parklar, caddeler... #dünyaizinde #10Kasim1938 #ATATURK…\",\n",
              " \"RT @TansuYegen: Atatürk'ün anısına dünya ülkelerinde bulunan anıtlar, heykeller, parklar, caddeler... #dünyaizinde #10Kasim1938 #ATATURK…\",\n",
              " \"RT @TansuYegen: Atatürk'ün anısına dünya ülkelerinde bulunan anıtlar, heykeller, parklar, caddeler... #dünyaizinde #10Kasim1938 #ATATURK…\",\n",
              " \"RT @TansuYegen: Atatürk'ün anısına dünya ülkelerinde bulunan anıtlar, heykeller, parklar, caddeler... #dünyaizinde #10Kasim1938 #ATATURK…\",\n",
              " \"RT @TansuYegen: Atatürk'ün anısına dünya ülkelerinde bulunan anıtlar, heykeller, parklar, caddeler... #dünyaizinde #10Kasim1938 #ATATURK…\",\n",
              " \"RT @TansuYegen: Atatürk'ün anısına dünya ülkelerinde bulunan anıtlar, heykeller, parklar, caddeler... #dünyaizinde #10Kasim1938 #ATATURK…\",\n",
              " \"RT @TansuYegen: Atatürk'ün anısına dünya ülkelerinde bulunan anıtlar, heykeller, parklar, caddeler... #dünyaizinde #10Kasim1938 #ATATURK…\",\n",
              " \"RT @TansuYegen: Atatürk'ün anısına dünya ülkelerinde bulunan anıtlar, heykeller, parklar, caddeler... #dünyaizinde #10Kasim1938 #ATATURK…\"]"
            ]
          },
          "metadata": {},
          "execution_count": 53
        }
      ]
    },
    {
      "cell_type": "code",
      "metadata": {
        "colab": {
          "base_uri": "https://localhost:8080/",
          "height": 686
        },
        "id": "0OfgiT1LTAWh",
        "outputId": "3ff8ba9e-a4cd-492d-a24a-c7e97a7f2de1"
      },
      "source": [
        "df.sort_values(by=['created_at'], ascending=False)"
      ],
      "execution_count": 54,
      "outputs": [
        {
          "output_type": "execute_result",
          "data": {
            "text/html": [
              "<div>\n",
              "<style scoped>\n",
              "    .dataframe tbody tr th:only-of-type {\n",
              "        vertical-align: middle;\n",
              "    }\n",
              "\n",
              "    .dataframe tbody tr th {\n",
              "        vertical-align: top;\n",
              "    }\n",
              "\n",
              "    .dataframe thead th {\n",
              "        text-align: right;\n",
              "    }\n",
              "</style>\n",
              "<table border=\"1\" class=\"dataframe\">\n",
              "  <thead>\n",
              "    <tr style=\"text-align: right;\">\n",
              "      <th></th>\n",
              "      <th>text</th>\n",
              "      <th>source</th>\n",
              "      <th>source_url</th>\n",
              "      <th>retweet_count</th>\n",
              "      <th>favorite</th>\n",
              "      <th>geo</th>\n",
              "      <th>user</th>\n",
              "      <th>created_at</th>\n",
              "      <th>profile_image</th>\n",
              "    </tr>\n",
              "  </thead>\n",
              "  <tbody>\n",
              "    <tr>\n",
              "      <th>0</th>\n",
              "      <td>RT @AtakanBozyayla: #CHP'ye #Ataturk  @ekrem_i...</td>\n",
              "      <td>Twitter for iPhone</td>\n",
              "      <td>http://twitter.com/download/iphone</td>\n",
              "      <td>3</td>\n",
              "      <td>0</td>\n",
              "      <td>None</td>\n",
              "      <td>Cumhuriyet ve İstiklal Partisi</td>\n",
              "      <td>2021-11-12 09:11:37</td>\n",
              "      <td>http://pbs.twimg.com/profile_images/1334840476...</td>\n",
              "    </tr>\n",
              "    <tr>\n",
              "      <th>1</th>\n",
              "      <td>RT @AtakanBozyayla: #CHP'ye #Ataturk  @ekrem_i...</td>\n",
              "      <td>Twitter for Android</td>\n",
              "      <td>http://twitter.com/download/android</td>\n",
              "      <td>3</td>\n",
              "      <td>0</td>\n",
              "      <td>None</td>\n",
              "      <td>Ömer Gündüz</td>\n",
              "      <td>2021-11-12 08:19:50</td>\n",
              "      <td>http://pbs.twimg.com/profile_images/1043460832...</td>\n",
              "    </tr>\n",
              "    <tr>\n",
              "      <th>2</th>\n",
              "      <td>RT @55OnderHg: \"Hürriyet olmayan bir memlekett...</td>\n",
              "      <td>Twitter for iPhone</td>\n",
              "      <td>http://twitter.com/download/iphone</td>\n",
              "      <td>53</td>\n",
              "      <td>0</td>\n",
              "      <td>None</td>\n",
              "      <td>Işık Özkefeli</td>\n",
              "      <td>2021-11-12 08:16:32</td>\n",
              "      <td>http://pbs.twimg.com/profile_images/1444400534...</td>\n",
              "    </tr>\n",
              "    <tr>\n",
              "      <th>3</th>\n",
              "      <td>RT @DpGultekinUysal: İşte, Mustafa Kemal Atatü...</td>\n",
              "      <td>Twitter Web App</td>\n",
              "      <td>https://mobile.twitter.com</td>\n",
              "      <td>34</td>\n",
              "      <td>0</td>\n",
              "      <td>None</td>\n",
              "      <td>Uğur Nurcan</td>\n",
              "      <td>2021-11-12 08:14:37</td>\n",
              "      <td>http://pbs.twimg.com/profile_images/1446962286...</td>\n",
              "    </tr>\n",
              "    <tr>\n",
              "      <th>4</th>\n",
              "      <td>RT @AtakanBozyayla: #CHP'ye #Ataturk  @ekrem_i...</td>\n",
              "      <td>Twitter for Android</td>\n",
              "      <td>http://twitter.com/download/android</td>\n",
              "      <td>3</td>\n",
              "      <td>0</td>\n",
              "      <td>None</td>\n",
              "      <td>Ömer</td>\n",
              "      <td>2021-11-12 08:13:33</td>\n",
              "      <td>http://pbs.twimg.com/profile_images/1453596207...</td>\n",
              "    </tr>\n",
              "    <tr>\n",
              "      <th>...</th>\n",
              "      <td>...</td>\n",
              "      <td>...</td>\n",
              "      <td>...</td>\n",
              "      <td>...</td>\n",
              "      <td>...</td>\n",
              "      <td>...</td>\n",
              "      <td>...</td>\n",
              "      <td>...</td>\n",
              "      <td>...</td>\n",
              "    </tr>\n",
              "    <tr>\n",
              "      <th>995</th>\n",
              "      <td>RT @MehmetAli_Kutlu: Gazete Çivit 10.11.21\\nSa...</td>\n",
              "      <td>Twitter Web App</td>\n",
              "      <td>https://mobile.twitter.com</td>\n",
              "      <td>2</td>\n",
              "      <td>0</td>\n",
              "      <td>None</td>\n",
              "      <td>Biraz Daha Işık</td>\n",
              "      <td>2021-11-10 17:37:20</td>\n",
              "      <td>http://pbs.twimg.com/profile_images/1428639237...</td>\n",
              "    </tr>\n",
              "    <tr>\n",
              "      <th>996</th>\n",
              "      <td>RT @42eftelya: Anıtkabir'de agaca çaput baglan...</td>\n",
              "      <td>Twitter for iPhone</td>\n",
              "      <td>http://twitter.com/download/iphone</td>\n",
              "      <td>4</td>\n",
              "      <td>0</td>\n",
              "      <td>None</td>\n",
              "      <td>AYDIN KULAKSIZ</td>\n",
              "      <td>2021-11-10 17:37:09</td>\n",
              "      <td>http://pbs.twimg.com/profile_images/1436387377...</td>\n",
              "    </tr>\n",
              "    <tr>\n",
              "      <th>997</th>\n",
              "      <td>RT @HasanAliavu1: Atatürk olmasaydı… https://t...</td>\n",
              "      <td>Twitter for iPhone</td>\n",
              "      <td>http://twitter.com/download/iphone</td>\n",
              "      <td>1</td>\n",
              "      <td>0</td>\n",
              "      <td>None</td>\n",
              "      <td>Tahsin Ardıç</td>\n",
              "      <td>2021-11-10 17:35:47</td>\n",
              "      <td>http://pbs.twimg.com/profile_images/1100720871...</td>\n",
              "    </tr>\n",
              "    <tr>\n",
              "      <th>998</th>\n",
              "      <td>RT @fatihdogan_38: Dolmabahçe \\n10 Kasım\\n09.0...</td>\n",
              "      <td>Twitter Web App</td>\n",
              "      <td>https://mobile.twitter.com</td>\n",
              "      <td>135</td>\n",
              "      <td>0</td>\n",
              "      <td>None</td>\n",
              "      <td>Sabahattin ÜNAL</td>\n",
              "      <td>2021-11-10 17:35:22</td>\n",
              "      <td>http://pbs.twimg.com/profile_images/1458701889...</td>\n",
              "    </tr>\n",
              "    <tr>\n",
              "      <th>999</th>\n",
              "      <td>Ülkemizin kurucusu,Mustafa Kemal Atatürk'ü vef...</td>\n",
              "      <td>Twitter for Android</td>\n",
              "      <td>http://twitter.com/download/android</td>\n",
              "      <td>1</td>\n",
              "      <td>9</td>\n",
              "      <td>None</td>\n",
              "      <td>Erdal Özel</td>\n",
              "      <td>2021-11-10 17:35:19</td>\n",
              "      <td>http://pbs.twimg.com/profile_images/1423910332...</td>\n",
              "    </tr>\n",
              "  </tbody>\n",
              "</table>\n",
              "<p>1000 rows × 9 columns</p>\n",
              "</div>"
            ],
            "text/plain": [
              "                                                  text  ...                                      profile_image\n",
              "0    RT @AtakanBozyayla: #CHP'ye #Ataturk  @ekrem_i...  ...  http://pbs.twimg.com/profile_images/1334840476...\n",
              "1    RT @AtakanBozyayla: #CHP'ye #Ataturk  @ekrem_i...  ...  http://pbs.twimg.com/profile_images/1043460832...\n",
              "2    RT @55OnderHg: \"Hürriyet olmayan bir memlekett...  ...  http://pbs.twimg.com/profile_images/1444400534...\n",
              "3    RT @DpGultekinUysal: İşte, Mustafa Kemal Atatü...  ...  http://pbs.twimg.com/profile_images/1446962286...\n",
              "4    RT @AtakanBozyayla: #CHP'ye #Ataturk  @ekrem_i...  ...  http://pbs.twimg.com/profile_images/1453596207...\n",
              "..                                                 ...  ...                                                ...\n",
              "995  RT @MehmetAli_Kutlu: Gazete Çivit 10.11.21\\nSa...  ...  http://pbs.twimg.com/profile_images/1428639237...\n",
              "996  RT @42eftelya: Anıtkabir'de agaca çaput baglan...  ...  http://pbs.twimg.com/profile_images/1436387377...\n",
              "997  RT @HasanAliavu1: Atatürk olmasaydı… https://t...  ...  http://pbs.twimg.com/profile_images/1100720871...\n",
              "998  RT @fatihdogan_38: Dolmabahçe \\n10 Kasım\\n09.0...  ...  http://pbs.twimg.com/profile_images/1458701889...\n",
              "999  Ülkemizin kurucusu,Mustafa Kemal Atatürk'ü vef...  ...  http://pbs.twimg.com/profile_images/1423910332...\n",
              "\n",
              "[1000 rows x 9 columns]"
            ]
          },
          "metadata": {},
          "execution_count": 54
        }
      ]
    },
    {
      "cell_type": "code",
      "metadata": {
        "colab": {
          "base_uri": "https://localhost:8080/",
          "height": 719
        },
        "id": "YXT-WJ5tTAWh",
        "outputId": "6a9db1dc-39f4-4950-fd57-d47190934c8a"
      },
      "source": [
        "df.sort_values(by=['retweet_count'], ascending=False)"
      ],
      "execution_count": 55,
      "outputs": [
        {
          "output_type": "execute_result",
          "data": {
            "text/html": [
              "<div>\n",
              "<style scoped>\n",
              "    .dataframe tbody tr th:only-of-type {\n",
              "        vertical-align: middle;\n",
              "    }\n",
              "\n",
              "    .dataframe tbody tr th {\n",
              "        vertical-align: top;\n",
              "    }\n",
              "\n",
              "    .dataframe thead th {\n",
              "        text-align: right;\n",
              "    }\n",
              "</style>\n",
              "<table border=\"1\" class=\"dataframe\">\n",
              "  <thead>\n",
              "    <tr style=\"text-align: right;\">\n",
              "      <th></th>\n",
              "      <th>text</th>\n",
              "      <th>source</th>\n",
              "      <th>source_url</th>\n",
              "      <th>retweet_count</th>\n",
              "      <th>favorite</th>\n",
              "      <th>geo</th>\n",
              "      <th>user</th>\n",
              "      <th>created_at</th>\n",
              "      <th>profile_image</th>\n",
              "    </tr>\n",
              "  </thead>\n",
              "  <tbody>\n",
              "    <tr>\n",
              "      <th>957</th>\n",
              "      <td>RT @TansuYegen: Atatürk'ün anısına dünya ülkel...</td>\n",
              "      <td>Twitter for iPhone</td>\n",
              "      <td>http://twitter.com/download/iphone</td>\n",
              "      <td>530</td>\n",
              "      <td>0</td>\n",
              "      <td>None</td>\n",
              "      <td>Dilek Kaba</td>\n",
              "      <td>2021-11-10 17:51:56</td>\n",
              "      <td>http://pbs.twimg.com/profile_images/1453182648...</td>\n",
              "    </tr>\n",
              "    <tr>\n",
              "      <th>966</th>\n",
              "      <td>RT @TansuYegen: Atatürk'ün anısına dünya ülkel...</td>\n",
              "      <td>Twitter for iPhone</td>\n",
              "      <td>http://twitter.com/download/iphone</td>\n",
              "      <td>530</td>\n",
              "      <td>0</td>\n",
              "      <td>None</td>\n",
              "      <td>FB TORUN CUMHURİYETİ</td>\n",
              "      <td>2021-11-10 17:47:25</td>\n",
              "      <td>http://pbs.twimg.com/profile_images/1326196429...</td>\n",
              "    </tr>\n",
              "    <tr>\n",
              "      <th>830</th>\n",
              "      <td>RT @TansuYegen: Atatürk'ün anısına dünya ülkel...</td>\n",
              "      <td>Twitter for iPhone</td>\n",
              "      <td>http://twitter.com/download/iphone</td>\n",
              "      <td>530</td>\n",
              "      <td>0</td>\n",
              "      <td>None</td>\n",
              "      <td>SERPİL YILDIRIM</td>\n",
              "      <td>2021-11-10 18:58:41</td>\n",
              "      <td>http://pbs.twimg.com/profile_images/1189901695...</td>\n",
              "    </tr>\n",
              "    <tr>\n",
              "      <th>958</th>\n",
              "      <td>RT @TansuYegen: Atatürk'ün anısına dünya ülkel...</td>\n",
              "      <td>Twitter for Android</td>\n",
              "      <td>http://twitter.com/download/android</td>\n",
              "      <td>530</td>\n",
              "      <td>0</td>\n",
              "      <td>None</td>\n",
              "      <td>He's a genius</td>\n",
              "      <td>2021-11-10 17:51:30</td>\n",
              "      <td>http://pbs.twimg.com/profile_images/1453361200...</td>\n",
              "    </tr>\n",
              "    <tr>\n",
              "      <th>945</th>\n",
              "      <td>RT @TansuYegen: Atatürk'ün anısına dünya ülkel...</td>\n",
              "      <td>Twitter for iPhone</td>\n",
              "      <td>http://twitter.com/download/iphone</td>\n",
              "      <td>530</td>\n",
              "      <td>0</td>\n",
              "      <td>None</td>\n",
              "      <td>Çağrı Bulut 🏆 ¹⁹⁰⁷ ⭐️⭐️⭐️⭐️⭐️</td>\n",
              "      <td>2021-11-10 18:03:02</td>\n",
              "      <td>http://pbs.twimg.com/profile_images/1330848506...</td>\n",
              "    </tr>\n",
              "    <tr>\n",
              "      <th>...</th>\n",
              "      <td>...</td>\n",
              "      <td>...</td>\n",
              "      <td>...</td>\n",
              "      <td>...</td>\n",
              "      <td>...</td>\n",
              "      <td>...</td>\n",
              "      <td>...</td>\n",
              "      <td>...</td>\n",
              "      <td>...</td>\n",
              "    </tr>\n",
              "    <tr>\n",
              "      <th>310</th>\n",
              "      <td>Sadece #ataturk sevenlere\\n#günaydın #goodmorn...</td>\n",
              "      <td>Instagram</td>\n",
              "      <td>http://instagram.com</td>\n",
              "      <td>0</td>\n",
              "      <td>1</td>\n",
              "      <td>None</td>\n",
              "      <td>🔸 TC @Bigbaba 🇹🇷</td>\n",
              "      <td>2021-11-11 07:06:12</td>\n",
              "      <td>http://pbs.twimg.com/profile_images/1410919471...</td>\n",
              "    </tr>\n",
              "    <tr>\n",
              "      <th>307</th>\n",
              "      <td>Atatürk’ü Kayısı Bahçesinde Andılar https://t....</td>\n",
              "      <td>Twitter Web App</td>\n",
              "      <td>https://mobile.twitter.com</td>\n",
              "      <td>0</td>\n",
              "      <td>1</td>\n",
              "      <td>None</td>\n",
              "      <td>Iğdır Güven Gazetesi #AşıOlalım</td>\n",
              "      <td>2021-11-11 07:08:53</td>\n",
              "      <td>http://pbs.twimg.com/profile_images/1085902194...</td>\n",
              "    </tr>\n",
              "    <tr>\n",
              "      <th>306</th>\n",
              "      <td>Merhaba yeni gelen güne...\\nMerhaba yaşama güc...</td>\n",
              "      <td>Twitter for Android</td>\n",
              "      <td>http://twitter.com/download/android</td>\n",
              "      <td>0</td>\n",
              "      <td>13</td>\n",
              "      <td>None</td>\n",
              "      <td>Fatma Buldanlı Akpınar</td>\n",
              "      <td>2021-11-11 07:09:21</td>\n",
              "      <td>http://pbs.twimg.com/profile_images/1318911691...</td>\n",
              "    </tr>\n",
              "    <tr>\n",
              "      <th>299</th>\n",
              "      <td>En özel Öğretmenler Günü Hediyesi❤ İki özel ki...</td>\n",
              "      <td>Twitter for Android</td>\n",
              "      <td>http://twitter.com/download/android</td>\n",
              "      <td>0</td>\n",
              "      <td>0</td>\n",
              "      <td>None</td>\n",
              "      <td>Ali Murat Karabağ</td>\n",
              "      <td>2021-11-11 07:17:44</td>\n",
              "      <td>http://pbs.twimg.com/profile_images/1368190167...</td>\n",
              "    </tr>\n",
              "    <tr>\n",
              "      <th>821</th>\n",
              "      <td>bugün 10 kasım ile alâkalı bir sürü video benz...</td>\n",
              "      <td>Twitter for Android</td>\n",
              "      <td>http://twitter.com/download/android</td>\n",
              "      <td>0</td>\n",
              "      <td>8</td>\n",
              "      <td>None</td>\n",
              "      <td>eah 🍋</td>\n",
              "      <td>2021-11-10 19:05:29</td>\n",
              "      <td>http://pbs.twimg.com/profile_images/1457243451...</td>\n",
              "    </tr>\n",
              "  </tbody>\n",
              "</table>\n",
              "<p>1000 rows × 9 columns</p>\n",
              "</div>"
            ],
            "text/plain": [
              "                                                  text  ...                                      profile_image\n",
              "957  RT @TansuYegen: Atatürk'ün anısına dünya ülkel...  ...  http://pbs.twimg.com/profile_images/1453182648...\n",
              "966  RT @TansuYegen: Atatürk'ün anısına dünya ülkel...  ...  http://pbs.twimg.com/profile_images/1326196429...\n",
              "830  RT @TansuYegen: Atatürk'ün anısına dünya ülkel...  ...  http://pbs.twimg.com/profile_images/1189901695...\n",
              "958  RT @TansuYegen: Atatürk'ün anısına dünya ülkel...  ...  http://pbs.twimg.com/profile_images/1453361200...\n",
              "945  RT @TansuYegen: Atatürk'ün anısına dünya ülkel...  ...  http://pbs.twimg.com/profile_images/1330848506...\n",
              "..                                                 ...  ...                                                ...\n",
              "310  Sadece #ataturk sevenlere\\n#günaydın #goodmorn...  ...  http://pbs.twimg.com/profile_images/1410919471...\n",
              "307  Atatürk’ü Kayısı Bahçesinde Andılar https://t....  ...  http://pbs.twimg.com/profile_images/1085902194...\n",
              "306  Merhaba yeni gelen güne...\\nMerhaba yaşama güc...  ...  http://pbs.twimg.com/profile_images/1318911691...\n",
              "299  En özel Öğretmenler Günü Hediyesi❤ İki özel ki...  ...  http://pbs.twimg.com/profile_images/1368190167...\n",
              "821  bugün 10 kasım ile alâkalı bir sürü video benz...  ...  http://pbs.twimg.com/profile_images/1457243451...\n",
              "\n",
              "[1000 rows x 9 columns]"
            ]
          },
          "metadata": {},
          "execution_count": 55
        }
      ]
    },
    {
      "cell_type": "code",
      "metadata": {
        "colab": {
          "base_uri": "https://localhost:8080/",
          "height": 736
        },
        "id": "eGfUrZ6fTAWh",
        "outputId": "0fadd2df-709c-41ea-9ccc-5e9f57f7febe"
      },
      "source": [
        "df.sort_values(by=['favorite'], ascending=False)"
      ],
      "execution_count": 56,
      "outputs": [
        {
          "output_type": "execute_result",
          "data": {
            "text/html": [
              "<div>\n",
              "<style scoped>\n",
              "    .dataframe tbody tr th:only-of-type {\n",
              "        vertical-align: middle;\n",
              "    }\n",
              "\n",
              "    .dataframe tbody tr th {\n",
              "        vertical-align: top;\n",
              "    }\n",
              "\n",
              "    .dataframe thead th {\n",
              "        text-align: right;\n",
              "    }\n",
              "</style>\n",
              "<table border=\"1\" class=\"dataframe\">\n",
              "  <thead>\n",
              "    <tr style=\"text-align: right;\">\n",
              "      <th></th>\n",
              "      <th>text</th>\n",
              "      <th>source</th>\n",
              "      <th>source_url</th>\n",
              "      <th>retweet_count</th>\n",
              "      <th>favorite</th>\n",
              "      <th>geo</th>\n",
              "      <th>user</th>\n",
              "      <th>created_at</th>\n",
              "      <th>profile_image</th>\n",
              "    </tr>\n",
              "  </thead>\n",
              "  <tbody>\n",
              "    <tr>\n",
              "      <th>537</th>\n",
              "      <td>100. TL hatta https://t.co/L44eioTMJQ bağış ya...</td>\n",
              "      <td>Twitter for iPhone</td>\n",
              "      <td>http://twitter.com/download/iphone</td>\n",
              "      <td>79</td>\n",
              "      <td>185</td>\n",
              "      <td>None</td>\n",
              "      <td>FURKAN SMA TIP 1</td>\n",
              "      <td>2021-11-10 22:13:48</td>\n",
              "      <td>http://pbs.twimg.com/profile_images/1377161150...</td>\n",
              "    </tr>\n",
              "    <tr>\n",
              "      <th>391</th>\n",
              "      <td>\"Hürriyet olmayan bir memlekette ölüm ve çöküş...</td>\n",
              "      <td>Twitter for Android</td>\n",
              "      <td>http://twitter.com/download/android</td>\n",
              "      <td>53</td>\n",
              "      <td>148</td>\n",
              "      <td>None</td>\n",
              "      <td>HicR@n</td>\n",
              "      <td>2021-11-11 05:49:02</td>\n",
              "      <td>http://pbs.twimg.com/profile_images/1458336544...</td>\n",
              "    </tr>\n",
              "    <tr>\n",
              "      <th>864</th>\n",
              "      <td>İyi akşamlar dostlarım, günün özelliği itibari...</td>\n",
              "      <td>Twitter for Android</td>\n",
              "      <td>http://twitter.com/download/android</td>\n",
              "      <td>23</td>\n",
              "      <td>141</td>\n",
              "      <td>None</td>\n",
              "      <td>İçses</td>\n",
              "      <td>2021-11-10 18:43:56</td>\n",
              "      <td>http://pbs.twimg.com/profile_images/1440155812...</td>\n",
              "    </tr>\n",
              "    <tr>\n",
              "      <th>326</th>\n",
              "      <td>Ulu Önder Mustafa Kemal Atatürk ruhun şad meka...</td>\n",
              "      <td>Twitter for Android</td>\n",
              "      <td>http://twitter.com/download/android</td>\n",
              "      <td>11</td>\n",
              "      <td>68</td>\n",
              "      <td>None</td>\n",
              "      <td>Kevser ofluoğlu</td>\n",
              "      <td>2021-11-11 06:47:07</td>\n",
              "      <td>http://pbs.twimg.com/profile_images/1248995752...</td>\n",
              "    </tr>\n",
              "    <tr>\n",
              "      <th>612</th>\n",
              "      <td>Ekrem İmamoğlu, Dolmabahçe'de: Türkiye'nin baş...</td>\n",
              "      <td>Twitter for Android</td>\n",
              "      <td>http://twitter.com/download/android</td>\n",
              "      <td>4</td>\n",
              "      <td>45</td>\n",
              "      <td>None</td>\n",
              "      <td>Noktatv</td>\n",
              "      <td>2021-11-10 21:12:48</td>\n",
              "      <td>http://pbs.twimg.com/profile_images/1375750212...</td>\n",
              "    </tr>\n",
              "    <tr>\n",
              "      <th>...</th>\n",
              "      <td>...</td>\n",
              "      <td>...</td>\n",
              "      <td>...</td>\n",
              "      <td>...</td>\n",
              "      <td>...</td>\n",
              "      <td>...</td>\n",
              "      <td>...</td>\n",
              "      <td>...</td>\n",
              "      <td>...</td>\n",
              "    </tr>\n",
              "    <tr>\n",
              "      <th>356</th>\n",
              "      <td>@omerrcelik Ulan madem herkes #Ataturk ü seviy...</td>\n",
              "      <td>Twitter for Android</td>\n",
              "      <td>http://twitter.com/download/android</td>\n",
              "      <td>0</td>\n",
              "      <td>0</td>\n",
              "      <td>None</td>\n",
              "      <td>captaincaveman</td>\n",
              "      <td>2021-11-11 06:24:12</td>\n",
              "      <td>http://pbs.twimg.com/profile_images/1205252109...</td>\n",
              "    </tr>\n",
              "    <tr>\n",
              "      <th>357</th>\n",
              "      <td>RT @55OnderHg: \"Hürriyet olmayan bir memlekett...</td>\n",
              "      <td>Twitter Web App</td>\n",
              "      <td>https://mobile.twitter.com</td>\n",
              "      <td>53</td>\n",
              "      <td>0</td>\n",
              "      <td>None</td>\n",
              "      <td>🌟 C_iğdoşcaa</td>\n",
              "      <td>2021-11-11 06:23:49</td>\n",
              "      <td>http://pbs.twimg.com/profile_images/1449365229...</td>\n",
              "    </tr>\n",
              "    <tr>\n",
              "      <th>358</th>\n",
              "      <td>@KigiliGiyimAS Ulan madem herkes #Ataturk ü se...</td>\n",
              "      <td>Twitter for Android</td>\n",
              "      <td>http://twitter.com/download/android</td>\n",
              "      <td>0</td>\n",
              "      <td>0</td>\n",
              "      <td>None</td>\n",
              "      <td>captaincaveman</td>\n",
              "      <td>2021-11-11 06:23:28</td>\n",
              "      <td>http://pbs.twimg.com/profile_images/1205252109...</td>\n",
              "    </tr>\n",
              "    <tr>\n",
              "      <th>359</th>\n",
              "      <td>@koroplast Ulan madem herkes #Ataturk ü seviyo...</td>\n",
              "      <td>Twitter for Android</td>\n",
              "      <td>http://twitter.com/download/android</td>\n",
              "      <td>0</td>\n",
              "      <td>0</td>\n",
              "      <td>None</td>\n",
              "      <td>captaincaveman</td>\n",
              "      <td>2021-11-11 06:22:59</td>\n",
              "      <td>http://pbs.twimg.com/profile_images/1205252109...</td>\n",
              "    </tr>\n",
              "    <tr>\n",
              "      <th>500</th>\n",
              "      <td>RT @furkansmatip: 100. TL hatta https://t.co/L...</td>\n",
              "      <td>Twitter for Android</td>\n",
              "      <td>http://twitter.com/download/android</td>\n",
              "      <td>79</td>\n",
              "      <td>0</td>\n",
              "      <td>None</td>\n",
              "      <td>Vahap Bey</td>\n",
              "      <td>2021-11-10 23:34:27</td>\n",
              "      <td>http://abs.twimg.com/sticky/default_profile_im...</td>\n",
              "    </tr>\n",
              "  </tbody>\n",
              "</table>\n",
              "<p>1000 rows × 9 columns</p>\n",
              "</div>"
            ],
            "text/plain": [
              "                                                  text  ...                                      profile_image\n",
              "537  100. TL hatta https://t.co/L44eioTMJQ bağış ya...  ...  http://pbs.twimg.com/profile_images/1377161150...\n",
              "391  \"Hürriyet olmayan bir memlekette ölüm ve çöküş...  ...  http://pbs.twimg.com/profile_images/1458336544...\n",
              "864  İyi akşamlar dostlarım, günün özelliği itibari...  ...  http://pbs.twimg.com/profile_images/1440155812...\n",
              "326  Ulu Önder Mustafa Kemal Atatürk ruhun şad meka...  ...  http://pbs.twimg.com/profile_images/1248995752...\n",
              "612  Ekrem İmamoğlu, Dolmabahçe'de: Türkiye'nin baş...  ...  http://pbs.twimg.com/profile_images/1375750212...\n",
              "..                                                 ...  ...                                                ...\n",
              "356  @omerrcelik Ulan madem herkes #Ataturk ü seviy...  ...  http://pbs.twimg.com/profile_images/1205252109...\n",
              "357  RT @55OnderHg: \"Hürriyet olmayan bir memlekett...  ...  http://pbs.twimg.com/profile_images/1449365229...\n",
              "358  @KigiliGiyimAS Ulan madem herkes #Ataturk ü se...  ...  http://pbs.twimg.com/profile_images/1205252109...\n",
              "359  @koroplast Ulan madem herkes #Ataturk ü seviyo...  ...  http://pbs.twimg.com/profile_images/1205252109...\n",
              "500  RT @furkansmatip: 100. TL hatta https://t.co/L...  ...  http://abs.twimg.com/sticky/default_profile_im...\n",
              "\n",
              "[1000 rows x 9 columns]"
            ]
          },
          "metadata": {},
          "execution_count": 56
        }
      ]
    },
    {
      "cell_type": "code",
      "metadata": {
        "id": "_wJjWXV4TAWi",
        "colab": {
          "base_uri": "https://localhost:8080/",
          "height": 417
        },
        "outputId": "3e50d8f6-d358-4d26-9b47-dde1858da010"
      },
      "source": [
        "df[[\"retweet_count\",\"favorite\"]]"
      ],
      "execution_count": 62,
      "outputs": [
        {
          "output_type": "execute_result",
          "data": {
            "text/html": [
              "<div>\n",
              "<style scoped>\n",
              "    .dataframe tbody tr th:only-of-type {\n",
              "        vertical-align: middle;\n",
              "    }\n",
              "\n",
              "    .dataframe tbody tr th {\n",
              "        vertical-align: top;\n",
              "    }\n",
              "\n",
              "    .dataframe thead th {\n",
              "        text-align: right;\n",
              "    }\n",
              "</style>\n",
              "<table border=\"1\" class=\"dataframe\">\n",
              "  <thead>\n",
              "    <tr style=\"text-align: right;\">\n",
              "      <th></th>\n",
              "      <th>retweet_count</th>\n",
              "      <th>favorite</th>\n",
              "    </tr>\n",
              "  </thead>\n",
              "  <tbody>\n",
              "    <tr>\n",
              "      <th>0</th>\n",
              "      <td>3</td>\n",
              "      <td>0</td>\n",
              "    </tr>\n",
              "    <tr>\n",
              "      <th>1</th>\n",
              "      <td>3</td>\n",
              "      <td>0</td>\n",
              "    </tr>\n",
              "    <tr>\n",
              "      <th>2</th>\n",
              "      <td>53</td>\n",
              "      <td>0</td>\n",
              "    </tr>\n",
              "    <tr>\n",
              "      <th>3</th>\n",
              "      <td>34</td>\n",
              "      <td>0</td>\n",
              "    </tr>\n",
              "    <tr>\n",
              "      <th>4</th>\n",
              "      <td>3</td>\n",
              "      <td>0</td>\n",
              "    </tr>\n",
              "    <tr>\n",
              "      <th>...</th>\n",
              "      <td>...</td>\n",
              "      <td>...</td>\n",
              "    </tr>\n",
              "    <tr>\n",
              "      <th>995</th>\n",
              "      <td>2</td>\n",
              "      <td>0</td>\n",
              "    </tr>\n",
              "    <tr>\n",
              "      <th>996</th>\n",
              "      <td>4</td>\n",
              "      <td>0</td>\n",
              "    </tr>\n",
              "    <tr>\n",
              "      <th>997</th>\n",
              "      <td>1</td>\n",
              "      <td>0</td>\n",
              "    </tr>\n",
              "    <tr>\n",
              "      <th>998</th>\n",
              "      <td>135</td>\n",
              "      <td>0</td>\n",
              "    </tr>\n",
              "    <tr>\n",
              "      <th>999</th>\n",
              "      <td>1</td>\n",
              "      <td>9</td>\n",
              "    </tr>\n",
              "  </tbody>\n",
              "</table>\n",
              "<p>1000 rows × 2 columns</p>\n",
              "</div>"
            ],
            "text/plain": [
              "     retweet_count  favorite\n",
              "0                3         0\n",
              "1                3         0\n",
              "2               53         0\n",
              "3               34         0\n",
              "4                3         0\n",
              "..             ...       ...\n",
              "995              2         0\n",
              "996              4         0\n",
              "997              1         0\n",
              "998            135         0\n",
              "999              1         9\n",
              "\n",
              "[1000 rows x 2 columns]"
            ]
          },
          "metadata": {},
          "execution_count": 62
        }
      ]
    },
    {
      "cell_type": "markdown",
      "metadata": {
        "id": "oOyUPY0QTAWi"
      },
      "source": [
        "# text mining\n",
        "https://www.nltk.org/book/ch02.html"
      ]
    },
    {
      "cell_type": "code",
      "metadata": {
        "colab": {
          "base_uri": "https://localhost:8080/"
        },
        "id": "uAyGc3cVTAWi",
        "outputId": "9dc354c0-14db-4827-8fc3-2a1de117f038"
      },
      "source": [
        "df.text"
      ],
      "execution_count": 63,
      "outputs": [
        {
          "output_type": "execute_result",
          "data": {
            "text/plain": [
              "0      RT @AtakanBozyayla: #CHP'ye #Ataturk  @ekrem_i...\n",
              "1      RT @AtakanBozyayla: #CHP'ye #Ataturk  @ekrem_i...\n",
              "2      RT @55OnderHg: \"Hürriyet olmayan bir memlekett...\n",
              "3      RT @DpGultekinUysal: İşte, Mustafa Kemal Atatü...\n",
              "4      RT @AtakanBozyayla: #CHP'ye #Ataturk  @ekrem_i...\n",
              "                             ...                        \n",
              "995    RT @MehmetAli_Kutlu: Gazete Çivit 10.11.21\\nSa...\n",
              "996    RT @42eftelya: Anıtkabir'de agaca çaput baglan...\n",
              "997    RT @HasanAliavu1: Atatürk olmasaydı… https://t...\n",
              "998    RT @fatihdogan_38: Dolmabahçe \\n10 Kasım\\n09.0...\n",
              "999    Ülkemizin kurucusu,Mustafa Kemal Atatürk'ü vef...\n",
              "Name: text, Length: 1000, dtype: object"
            ]
          },
          "metadata": {},
          "execution_count": 63
        }
      ]
    },
    {
      "cell_type": "code",
      "metadata": {
        "colab": {
          "base_uri": "https://localhost:8080/"
        },
        "id": "Fa18OEi6TAWi",
        "outputId": "0984f327-d1cf-4aeb-9389-c86ff3768f2e"
      },
      "source": [
        "!pip3 install nltk"
      ],
      "execution_count": 64,
      "outputs": [
        {
          "output_type": "stream",
          "name": "stdout",
          "text": [
            "Requirement already satisfied: nltk in /usr/local/lib/python3.7/dist-packages (3.2.5)\n",
            "Requirement already satisfied: six in /usr/local/lib/python3.7/dist-packages (from nltk) (1.15.0)\n"
          ]
        }
      ]
    },
    {
      "cell_type": "code",
      "metadata": {
        "colab": {
          "base_uri": "https://localhost:8080/"
        },
        "id": "ORDjJgTfTAWi",
        "outputId": "3da2e386-1795-468c-8cf0-f9f72c673a9f"
      },
      "source": [
        "import nltk\n",
        "nltk.download(\"stopwords\")\n",
        "from nltk.corpus import stopwords"
      ],
      "execution_count": 65,
      "outputs": [
        {
          "output_type": "stream",
          "name": "stdout",
          "text": [
            "[nltk_data] Downloading package stopwords to /root/nltk_data...\n",
            "[nltk_data]   Unzipping corpora/stopwords.zip.\n"
          ]
        }
      ]
    },
    {
      "cell_type": "code",
      "metadata": {
        "colab": {
          "base_uri": "https://localhost:8080/"
        },
        "id": "PsDxm3DGTAWj",
        "outputId": "cae34b17-3d7b-4098-eb6f-d5ffb922151e"
      },
      "source": [
        "stp=stopwords.words('turkish')\n",
        "print(stopwords.words('turkish'))"
      ],
      "execution_count": 67,
      "outputs": [
        {
          "output_type": "stream",
          "name": "stdout",
          "text": [
            "['acaba', 'ama', 'aslında', 'az', 'bazı', 'belki', 'biri', 'birkaç', 'birşey', 'biz', 'bu', 'çok', 'çünkü', 'da', 'daha', 'de', 'defa', 'diye', 'eğer', 'en', 'gibi', 'hem', 'hep', 'hepsi', 'her', 'hiç', 'için', 'ile', 'ise', 'kez', 'ki', 'kim', 'mı', 'mu', 'mü', 'nasıl', 'ne', 'neden', 'nerde', 'nerede', 'nereye', 'niçin', 'niye', 'o', 'sanki', 'şey', 'siz', 'şu', 'tüm', 've', 'veya', 'ya', 'yani']\n"
          ]
        }
      ]
    },
    {
      "cell_type": "code",
      "metadata": {
        "colab": {
          "base_uri": "https://localhost:8080/"
        },
        "id": "S6DoWR03TAWj",
        "outputId": "7a9f7397-f89a-4567-adca-feedfbf78817"
      },
      "source": [
        "list(df.text)[:10]"
      ],
      "execution_count": 68,
      "outputs": [
        {
          "output_type": "execute_result",
          "data": {
            "text/plain": [
              "[\"RT @AtakanBozyayla: #CHP'ye #Ataturk  @ekrem_imamoglu abi senden rica ediyorum. Bi daha ingilizce konuşmaya çalışma.. 10 saniye dinledim ez…\",\n",
              " \"RT @AtakanBozyayla: #CHP'ye #Ataturk  @ekrem_imamoglu abi senden rica ediyorum. Bi daha ingilizce konuşmaya çalışma.. 10 saniye dinledim ez…\",\n",
              " 'RT @55OnderHg: \"Hürriyet olmayan bir memlekette ölüm ve çöküş vardır. Her ilerleyişin ve kurtuluşun anası hürriyettir.\"\\n      *Mustafa Kema…',\n",
              " 'RT @DpGultekinUysal: İşte, Mustafa Kemal Atatürk de Türk Milleti\\'ne \"Hızır\" olmuştur.\\n\\nUmudunun tükendiği, gayretinin kifayet etmediği, ne…',\n",
              " \"RT @AtakanBozyayla: #CHP'ye #Ataturk  @ekrem_imamoglu abi senden rica ediyorum. Bi daha ingilizce konuşmaya çalışma.. 10 saniye dinledim ez…\",\n",
              " \"RT @TansuYegen: Atatürk'ün anısına dünya ülkelerinde bulunan anıtlar, heykeller, parklar, caddeler... #dünyaizinde #10Kasim1938 #ATATURK…\",\n",
              " 'İlber Ortaylı Röportajımın linki: https://t.co/WDyHJqNCQj \\n\\n#ilberortayli #Ataturk #cuma',\n",
              " 'Yazar Mehmet Uluğtürkan\\'dan dikkat çeken iddia;  \"Atatürk Adana\\'ya aşıktı. Tüm planlarını Adana\\'da yaptı.\"… https://t.co/kWBUFCiL05',\n",
              " 'RT @Kahvem_Sigaram: Sırf biz dik duralım diye \\nkimseye boyun eğmeyişini \\ns’on Kasım’a kadar ne unutacağız, \\nne unutturacağız..…',\n",
              " 'RT @msbosca: @haticebosca ile evimizin salonunda en sevdiğimiz söz ve ilkeleriyle Atatürk’ü andık. Sizin en sevdiğiniz söz veya ilkesi nedi…']"
            ]
          },
          "metadata": {},
          "execution_count": 68
        }
      ]
    },
    {
      "cell_type": "code",
      "metadata": {
        "id": "FPHcDJGKTAWj"
      },
      "source": [
        "all_text=\"\"\n",
        "for t in df.text:\n",
        "    all_text=all_text+\" \"+ t.lower()"
      ],
      "execution_count": 70,
      "outputs": []
    },
    {
      "cell_type": "code",
      "metadata": {
        "id": "yjCkzuvLTAWj",
        "colab": {
          "base_uri": "https://localhost:8080/",
          "height": 137
        },
        "outputId": "931022d2-105a-41d0-fec5-744533d3fc88"
      },
      "source": [
        "all_text[:1000]"
      ],
      "execution_count": 72,
      "outputs": [
        {
          "output_type": "execute_result",
          "data": {
            "application/vnd.google.colaboratory.intrinsic+json": {
              "type": "string"
            },
            "text/plain": [
              "' rt @atakanbozyayla: #chp\\'ye #ataturk  @ekrem_imamoglu abi senden rica ediyorum. bi daha ingilizce konuşmaya çalışma.. 10 saniye dinledim ez… rt @atakanbozyayla: #chp\\'ye #ataturk  @ekrem_imamoglu abi senden rica ediyorum. bi daha ingilizce konuşmaya çalışma.. 10 saniye dinledim ez… rt @55onderhg: \"hürriyet olmayan bir memlekette ölüm ve çöküş vardır. her ilerleyişin ve kurtuluşun anası hürriyettir.\"\\n      *mustafa kema… rt @dpgultekinuysal: i̇şte, mustafa kemal atatürk de türk milleti\\'ne \"hızır\" olmuştur.\\n\\numudunun tükendiği, gayretinin kifayet etmediği, ne… rt @atakanbozyayla: #chp\\'ye #ataturk  @ekrem_imamoglu abi senden rica ediyorum. bi daha ingilizce konuşmaya çalışma.. 10 saniye dinledim ez… rt @tansuyegen: atatürk\\'ün anısına dünya ülkelerinde bulunan anıtlar, heykeller, parklar, caddeler... #dünyaizinde #10kasim1938 #ataturk… i̇lber ortaylı röportajımın linki: https://t.co/wdyhjqncqj \\n\\n#ilberortayli #ataturk #cuma yazar mehmet uluğtürkan\\'dan dikkat çeken iddia;  \"atatürk adana\\'ya'"
            ]
          },
          "metadata": {},
          "execution_count": 72
        }
      ]
    },
    {
      "cell_type": "code",
      "metadata": {
        "id": "HSu3MA3WTAWj"
      },
      "source": [
        "all_text2=all_text.split()"
      ],
      "execution_count": 73,
      "outputs": []
    },
    {
      "cell_type": "code",
      "metadata": {
        "id": "Z_7KYH9Wf0oY"
      },
      "source": [
        "all_text2[:30]"
      ],
      "execution_count": null,
      "outputs": []
    },
    {
      "cell_type": "code",
      "metadata": {
        "colab": {
          "base_uri": "https://localhost:8080/"
        },
        "id": "AqkaJdrnTAWj",
        "outputId": "ffecb5bb-ea6e-44b1-a6dc-1793a5c24006"
      },
      "source": [
        "len(all_text2)"
      ],
      "execution_count": 75,
      "outputs": [
        {
          "output_type": "execute_result",
          "data": {
            "text/plain": [
              "15430"
            ]
          },
          "metadata": {},
          "execution_count": 75
        }
      ]
    },
    {
      "cell_type": "code",
      "metadata": {
        "colab": {
          "base_uri": "https://localhost:8080/"
        },
        "id": "-7eE2TI2TAWk",
        "outputId": "3c9a787c-34b6-46d2-8576-3fa38ce4d971"
      },
      "source": [
        "print(all_text2[:1000])"
      ],
      "execution_count": 76,
      "outputs": [
        {
          "output_type": "stream",
          "name": "stdout",
          "text": [
            "['rt', '@atakanbozyayla:', \"#chp'ye\", '#ataturk', '@ekrem_imamoglu', 'abi', 'senden', 'rica', 'ediyorum.', 'bi', 'daha', 'ingilizce', 'konuşmaya', 'çalışma..', '10', 'saniye', 'dinledim', 'ez…', 'rt', '@atakanbozyayla:', \"#chp'ye\", '#ataturk', '@ekrem_imamoglu', 'abi', 'senden', 'rica', 'ediyorum.', 'bi', 'daha', 'ingilizce', 'konuşmaya', 'çalışma..', '10', 'saniye', 'dinledim', 'ez…', 'rt', '@55onderhg:', '\"hürriyet', 'olmayan', 'bir', 'memlekette', 'ölüm', 've', 'çöküş', 'vardır.', 'her', 'ilerleyişin', 've', 'kurtuluşun', 'anası', 'hürriyettir.\"', '*mustafa', 'kema…', 'rt', '@dpgultekinuysal:', 'i̇şte,', 'mustafa', 'kemal', 'atatürk', 'de', 'türk', \"milleti'ne\", '\"hızır\"', 'olmuştur.', 'umudunun', 'tükendiği,', 'gayretinin', 'kifayet', 'etmediği,', 'ne…', 'rt', '@atakanbozyayla:', \"#chp'ye\", '#ataturk', '@ekrem_imamoglu', 'abi', 'senden', 'rica', 'ediyorum.', 'bi', 'daha', 'ingilizce', 'konuşmaya', 'çalışma..', '10', 'saniye', 'dinledim', 'ez…', 'rt', '@tansuyegen:', \"atatürk'ün\", 'anısına', 'dünya', 'ülkelerinde', 'bulunan', 'anıtlar,', 'heykeller,', 'parklar,', 'caddeler...', '#dünyaizinde', '#10kasim1938', '#ataturk…', 'i̇lber', 'ortaylı', 'röportajımın', 'linki:', 'https://t.co/wdyhjqncqj', '#ilberortayli', '#ataturk', '#cuma', 'yazar', 'mehmet', \"uluğtürkan'dan\", 'dikkat', 'çeken', 'iddia;', '\"atatürk', \"adana'ya\", 'aşıktı.', 'tüm', 'planlarını', \"adana'da\", 'yaptı.\"…', 'https://t.co/kwbufcil05', 'rt', '@kahvem_sigaram:', 'sırf', 'biz', 'dik', 'duralım', 'diye', 'kimseye', 'boyun', 'eğmeyişini', 's’on', 'kasım’a', 'kadar', 'ne', 'unutacağız,', 'ne', 'unutturacağız..…', 'rt', '@msbosca:', '@haticebosca', 'ile', 'evimizin', 'salonunda', 'en', 'sevdiğimiz', 'söz', 've', 'ilkeleriyle', 'atatürk’ü', 'andık.', 'sizin', 'en', 'sevdiğiniz', 'söz', 'veya', 'ilkesi', 'nedi…', 'rt', '@furkansmatip:', '100.', 'tl', 'hatta', 'https://t.co/l44eiotmjq', 'bağış', 'yaparak', 'furkan’ın', 'kahramanı', 'olabilirsiniz', '🙏🏻', '5,679', 'kahramandan', 'biri', 'siz', 'olmak…', '@haticebosca', 'ile', 'evimizin', 'salonunda', 'en', 'sevdiğimiz', 'söz', 've', 'ilkeleriyle', 'atatürk’ü', 'andık.', 'sizin', 'en', 'sevdiğiniz', 'söz', 'veya…', 'https://t.co/xggp830fay', 'çocuklarımız', 'ülkemizin', 'kurtarıcısı,', 'kurucusu', 've', 'aydınlanma', 'devrimlerinin', 'önderi', 'büyük', \"#ataturk'ün\", 'izinde…', 'https://t.co/ookvtilqf8', 'uzay', 'çağında', 'yaşamak', 'yerine,', '1919-1938', 'yılları', 'arasında', 'yaşamayı', 'tercih', 'ederdim!', '#ataturk', '#sensiz83yil', 'https://t.co/eowztq0phx', \"#chp'ye\", '#ataturk', '@ekrem_imamoglu', 'abi', 'senden', 'rica', 'ediyorum.', 'bi', 'daha', 'ingilizce', 'konuşmaya', 'çalışma..', '10', 'saniye', 'dinledi…', 'https://t.co/skzhvnzbrn', 'rt', '@anjelique_s:', 'bugün', \"müslüman'ların\", '#cuma', 'sı...', 'herkesin', \"cuma'sı...\", '#ataturk', 'anlayana', 'https://t.co/tpoxq6pqgx', 'rt', '@sevimyogun:', 'seni', 'çalışarak', 'anıyorum.', '#10kasim1938', '#10kasim', '#atam', '#sensiz83yil', '#ataturk', '#mustafakamalataturk', '#atamizindeyiz', '#saygıveoez…', 'bugün', \"müslüman'ların\", '#cuma', 'sı...', 'herkesin', \"cuma'sı...\", '#ataturk', 'anlayana', 'https://t.co/tpoxq6pqgx', 'rt', '@dpgultekinuysal:', 'i̇şte,', 'mustafa', 'kemal', 'atatürk', 'de', 'türk', \"milleti'ne\", '\"hızır\"', 'olmuştur.', 'umudunun', 'tükendiği,', 'gayretinin', 'kifayet', 'etmediği,', 'ne…', 'rt', '@kevserofluoglu:', 'ulu', 'önder', 'mustafa', 'kemal', 'atatürk', 'ruhun', 'şad', 'mekanın', 'cennet', 'olsun.', '#10kasim', '#ataturk', 'https://t.co/9v4o0yib6n', 'rt', '@dunyadanbhaber:', 'adnan', 'oktar’ın', 'program', 'sunucusudan', '‘dekolte’', 've', '‘silahlı', 'örgüt’', 'açıklaması', '#adnanoktar', '#çarşamba', '#bjkvfks', '#ataturk', '#ke…', 'rt', '@aylinseckin2:', '#forever', '#onyourway', '#izindeyiz', '@cromagnonart', '#ataturk', 'için', 'besteledi', 'https://t.co/a9t1g76cxv', '#neyimizeksik', \"atamız'ın\", 'vizyonu', 'eksik.', 'eksikliği', 'bu', 'kadar', 'güzel', 'anlatılabilir.', 'liseli', 'öğrencilerden', 'kısmi', 'sosyal', 'de…', 'https://t.co/xf8r8adors', 'rt', '@songlbaskaya:', 'gerçek’ten', 'özlüyoruz…', '#ataturk', '#atamızrahatuyusun', 'https://t.co/oujryaef2y', 'aşağidaki', 'yazi', 'dillerinden', 'hangisi', 'turklere', 'aittir?', '#ataturk', '#samuray', '#dolar10tl', 'hoca', \"m.kemal'in\", 'fikrini', 'desteklemiş...', '\"öğretmenler,', 'cumhuriyet', 'sizden', 'fikri', 'hür,', 'vicdanı', 'hür,', 'irfanı', 'hür', 'nesiller…', 'https://t.co/mov0pktwuv', 'rt', '@drbeyzataskin:', 'özlem', 've', 'sevgiyle', 'ama', 'bir', 'kadın', 'olarak,', 'en', 'çok', 'da', 'minnetle', '🙏', '#ataturk', '#10kasım', 'https://t.co/kh7o2sneeg', 'rt', '@arikan79meltem:', 'seni', 'her', 'gün', 'daha', 'çok', 'seviyor', 'kıymetini', 'daha', 'iyi', 'anlıyoruz', 've', 'bu', 'sevgiyi', 'fazlasıyla', 'hak', 'ediyorsun', '#ataturk', '#10kasım', 'htt…', 'rt', '@herdaim_haber:', 'sedat', 'peker:', \"ata'sını\", 'bilmeyen', 'it', 'peşinde', 'gezer!', 'https://t.co/81tjt5jevu', '@sedat_peker', '#10kasim', '#ataturk', '#sedatpeker', 'ht…', 'rt', '@kahvem_sigaram:', 'sırf', 'biz', 'dik', 'duralım', 'diye', 'kimseye', 'boyun', 'eğmeyişini', 's’on', 'kasım’a', 'kadar', 'ne', 'unutacağız,', 'ne', 'unutturacağız..…', '@sadeceseha', 'çünkü', 'artık', 't.c', 'bir', 'devlet', 'gibi', 'algılanmiyor...', 'korkarım', 'ki', '...', '🙄❗🥺', '#ataturk', 'milli', 'irade', 'ile', 'cumhuriye…', 'https://t.co/u6fyi5eo53', 'sen', 'sonsuza', 'dek', 'benim', 'kalbimdesin', '#ataturk', 'https://t.co/nnyogcg93a', 'rt', '@kevserofluoglu:', 'ulu', 'önder', 'mustafa', 'kemal', 'atatürk', 'ruhun', 'şad', 'mekanın', 'cennet', 'olsun.', '#10kasim', '#ataturk', 'https://t.co/9v4o0yib6n', 'rt', '@zmr1907:', 'twitter', ',', 'instagram', ',', 'facebook', ',', 'whatsaap', 'bugün', 'olması', 'gerektiği', 'gibi', 'her', 'yer', 'atam', '🖤🖤🖤🖤🖤', '#twitter', '#instagram', '#facebook', '#whatsa…', 'rt', '@dunyadanbhaber:', 'adnan', 'oktar’ın', 'program', 'sunucusudan', '‘dekolte’', 've', '‘silahlı', 'örgüt’', 'açıklaması', '#adnanoktar', '#çarşamba', '#bjkvfks', '#ataturk', '#ke…', 'rt', '@kahvem_sigaram:', 'sırf', 'biz', 'dik', 'duralım', 'diye', 'kimseye', 'boyun', 'eğmeyişini', 's’on', 'kasım’a', 'kadar', 'ne', 'unutacağız,', 'ne', 'unutturacağız..…', 'rt', '@kahvem_sigaram:', 'sırf', 'biz', 'dik', 'duralım', 'diye', 'kimseye', 'boyun', 'eğmeyişini', 's’on', 'kasım’a', 'kadar', 'ne', 'unutacağız,', 'ne', 'unutturacağız..…', 'rt', '@bestmyworld:', 'biz', 'maviyi', 'sevmeye', 'ilk', \"selanik'te\", 'açılan', 'bir', 'çift', 'gözle', 'başladık…', '#ruhunsadolsun', '#ataturk', '#onkasım', 'https://t.co/napy1cdu…', 'gazete', 'çivit', '12.11.21', 'sayı.315', 'sayfa.4/8', 'cumhurbaşkanı', \"erdoğan:atatürk'ün\", \"serencamı,türkiye'nin\", 'yol', 'haritasıdı…', 'https://t.co/3pmhigjpwq', 'rt', '@kahvem_sigaram:', 'sırf', 'biz', 'dik', 'duralım', 'diye', 'kimseye', 'boyun', 'eğmeyişini', 's’on', 'kasım’a', 'kadar', 'ne', 'unutacağız,', 'ne', 'unutturacağız..…', 'rt', '@sosyopt:', 'sevgi,', 'saygı,', 'özlem,', 'minnet', 've', 'rahmet', 'ileanıyoruz..', '#ataturk', '¹⁸81', '#10kasım', '¹⁹38', 'https://t.co/kqtnhvdqnn', 'rt', '@durumeric_sma:', \"atatürk'ü\", 'ölümünün', '83.yılında', 'hüzünle,', 'saygıyla', 've', 'özlemle', 'anıyoruz.', 'bütün', 'ümidi', 'gençlikte', 'olan', 'atamızın', 'bir', 'evladı', 'da', 'd…', 'rt', '@kahvem_sigaram:', 'sırf', 'biz', 'dik', 'duralım', 'diye', 'kimseye', 'boyun', 'eğmeyişini', 's’on', 'kasım’a', 'kadar', 'ne', 'unutacağız,', 'ne', 'unutturacağız..…', 'rt', '@kripto_genius:', 'sonsuza', 'dek', 'saygı', 've', 'minnetle', 'seni', 'anıcaz...', '#ataturk', '#10kasım', '#atamyasıyorsun', '193♾️', 'https://t.co/3t02xfmhfy', 'rt', '@reks_imaa1938:', 'sen', 'toprağa', 'düştüğünde', 'rakamlar', 'da', 'mateme', 'başladı', '#ataturk', 'üm..', '193♾', 'sonsuzluğu', 'işaret', 'için', 'düştü', 'yere..', '#10kasım', 'lar…', 'rt', '@fundacandan13:', 'bi̇z', 'ne', 'zaman', 'başimizi', 'önümüze', 'eğeceği̇mi̇zi̇', 'i̇yi̇', 'bi̇li̇ri̇z', '🇹🇷🇹🇷🇹🇷🇹🇷🇹🇷', 'saygiyla', 'özlemle', 've', 'mi̇nnetle', 'ani̇yoruz', 'seni̇', 'atam', '❤️❤️❤️…', 'rt', '@sosgumder:', 'cumhuriyetimizin', 'kurucusu', 'büyük', 'önder', 'gazi', 'mustafa', 'kemal', \"atatürk'ü\", 'ölüm', 'yıl', 'dönümünde;', 'saygı,', 'sevgi,', 'özlem', 've', 'rahmetle', 'anıyo…', 'rt', '@mghan_:', 'tanrı', 'ölümü', 'yarattı,', 'o', 'sebepledir', 'ki', 'i̇nsanın', 'doğumunda', 'ölüm', 'gizlidir,', 'yani', 'kökünde', 'ölüm', 'vardır,', 'kökünde', 'ölüm', 'olanın', 'dalındada', 'ö…', 'rt', '@kanal3haber:', '#haber', 'afyonkarahisarlı', 'yamaç', 'paraşütü', 'pilotu', 'ozan', 'ceylan,', \"muğla'nın\", 'fethiye', 'ilçesindeki', 'ölüdeniz', 'üstünde', 'ulu', 'önder', 'mustaf…', 'rt', '@kevserofluoglu:', 'bir', 'destan', 'yazdın', 'ömrünü', 'adayarak,', 'ölümsüz', 'oldun', 'yüreklerde.', 'ey', 'türkün', 'atası!', 'türk', 'ulusu', 'ilelebet', 'sana', 'minnettardır.…', 'rt', '@kevserofluoglu:', 'ulu', 'önder', 'mustafa', 'kemal', 'atatürk', 'ruhun', 'şad', 'mekanın', 'cennet', 'olsun.', '#10kasim', '#ataturk', 'https://t.co/9v4o0yib6n', 'rt', '@yldz_esmabanurr:', 'soruyu', 'bulabilen', '❓❓❓', '#10kasim', '#anitkabir', '#evlenmeyin', '#meralakseneristifa', '#sensiz83yil', '#ataturk', 'https://t.co/rst5564ris', 'son', 'hamleyle', '#ataturk', 'e', 'sarılarak', 'oy', 'devsirmeye', 'çalışıyor', 'olmanız', 'da', 'zaten', 'ne', 'kadar', 'çaresiz', 'olduğunuz', 'ortada', '#hande', 'rt', '@kahvem_sigaram:', 'sırf', 'biz', 'dik', 'duralım', 'diye', 'kimseye', 'boyun', 'eğmeyişini', 's’on', 'kasım’a', 'kadar', 'ne', 'unutacağız,', 'ne', 'unutturacağız..…', 'rt', '@kahvem_sigaram:', 'sırf', 'biz', 'dik', 'duralım', 'diye', 'kimseye', 'boyun', 'eğmeyişini', 's’on', 'kasım’a', 'kadar', 'ne', 'unutacağız,', 'ne', 'unutturacağız..…', 'atatürk', 'kupasi', 'geleneksel', 'rahvan', 'at', 'yarişlari', 'i̇çi̇n', 'geri̇', 'sayim', 'başladi', 'ödemiş', 'belediyesi,', 'büyük', 'önder', 'atatürk’ü', 'anm…', 'https://t.co/7cutbhxsxu', 'atatürk’e', 've', 'türklere', 'hakaret', 'eden', 'bu', 'kişiyi', 'lütfen', 'hepiniz', 'şikayet', 'edin', '!', '#k', 'a', 'l', 'b', 'i̇', 'm', 'i̇', 'z', 'd', 'e', 's', 'i̇', 'n…', 'https://t.co/g0hqabduxx', 'rt', '@furkansmatip:', '100.', 'tl', 'hatta', 'https://t.co/l44eiotmjq', 'bağış', 'yaparak', 'furkan’ın', 'kahramanı', 'olabilirsiniz', '🙏🏻', '5,679', 'kahramandan', 'biri', 'siz', 'olmak…', 'rt', '@dunyadanbhaber:', 'adnan', 'oktar’ın', 'program', 'sunucusudan', '‘dekolte’', 've', '‘silahlı', 'örgüt’', 'açıklaması', '#adnanoktar', '#çarşamba', '#bjkvfks', '#ataturk', '#ke…', 'rt', '@dunyadanbhaber:', 'adnan', 'oktar’ın', 'program', 'sunucusudan', '‘dekolte’', 've', '‘silahlı', 'örgüt’', 'açıklaması', '#adnanoktar', '#çarşamba', '#bjkvfks', '#ataturk', '#ke…', 'rt', '@kevserofluoglu:', 'ulu', 'önder', 'mustafa', 'kemal', 'atatürk', 'ruhun', 'şad', 'mekanın', 'cennet', 'olsun.', '#10kasim', '#ataturk', 'https://t.co/9v4o0yib6n', 'rt', '@furkansmatip:', '100.', 'tl', 'hatta', 'https://t.co/l44eiotmjq', 'bağış', 'yaparak', 'furkan’ın', 'kahramanı', 'olabilirsiniz', '🙏🏻', '5,679', 'kahramandan', 'biri', 'siz', 'olmak…', 'rt', '@tansuyegen:', \"atatürk'ün\", 'anısına', 'dünya', 'ülkelerinde', 'bulunan', 'anıtlar,', 'heykeller,', 'parklar,', 'caddeler...', '#dünyaizinde', '#10kasim1938', '#ataturk…', 'rt', '@hakkiusluart:', '10', 'kasım', 'klibimizi', 'izlemek', '/', 'paylaşmak']\n"
          ]
        }
      ]
    },
    {
      "cell_type": "code",
      "metadata": {
        "id": "P1AURxP2TAWk"
      },
      "source": [
        "fd=nltk.FreqDist(all_text2)"
      ],
      "execution_count": 78,
      "outputs": []
    },
    {
      "cell_type": "code",
      "metadata": {
        "colab": {
          "base_uri": "https://localhost:8080/"
        },
        "id": "lW9zEYrAgdBH",
        "outputId": "1bdd42be-d718-4833-8a1f-1a059d120317"
      },
      "source": [
        "fd.most_common(20)"
      ],
      "execution_count": 79,
      "outputs": [
        {
          "output_type": "execute_result",
          "data": {
            "text/plain": [
              "[('rt', 798),\n",
              " ('#ataturk', 450),\n",
              " ('ve', 320),\n",
              " ('bir', 252),\n",
              " ('#10kasim', 202),\n",
              " ('#10kasim1938', 145),\n",
              " ('kemal', 101),\n",
              " ('ne', 97),\n",
              " ('mustafa', 96),\n",
              " ('tl', 95),\n",
              " ('bağış', 93),\n",
              " ('her', 83),\n",
              " ('10', 77),\n",
              " ('atatürk', 74),\n",
              " ('kahramanı', 74),\n",
              " ('siz', 71),\n",
              " ('ile', 70),\n",
              " ('biri', 70),\n",
              " ('100.', 68),\n",
              " ('hatta', 68)]"
            ]
          },
          "metadata": {},
          "execution_count": 79
        }
      ]
    },
    {
      "cell_type": "markdown",
      "metadata": {
        "id": "lKgKblkdTAWk"
      },
      "source": [
        "## text cleaning"
      ]
    },
    {
      "cell_type": "code",
      "metadata": {
        "id": "bkzl2vbjTAWk"
      },
      "source": [
        "all_text3= [w for w in all_text2 if w not in stp]"
      ],
      "execution_count": 81,
      "outputs": []
    },
    {
      "cell_type": "code",
      "metadata": {
        "id": "ktGOodPbgpUg"
      },
      "source": [
        ""
      ],
      "execution_count": 81,
      "outputs": []
    },
    {
      "cell_type": "code",
      "metadata": {
        "colab": {
          "base_uri": "https://localhost:8080/"
        },
        "id": "wgmtaOvATAWk",
        "outputId": "3a658bd3-dc27-4b4c-b817-265caf237d3a"
      },
      "source": [
        "print(all_text3[:100])"
      ],
      "execution_count": 82,
      "outputs": [
        {
          "output_type": "stream",
          "name": "stdout",
          "text": [
            "['rt', '@atakanbozyayla:', \"#chp'ye\", '#ataturk', '@ekrem_imamoglu', 'abi', 'senden', 'rica', 'ediyorum.', 'bi', 'ingilizce', 'konuşmaya', 'çalışma..', '10', 'saniye', 'dinledim', 'ez…', 'rt', '@atakanbozyayla:', \"#chp'ye\", '#ataturk', '@ekrem_imamoglu', 'abi', 'senden', 'rica', 'ediyorum.', 'bi', 'ingilizce', 'konuşmaya', 'çalışma..', '10', 'saniye', 'dinledim', 'ez…', 'rt', '@55onderhg:', '\"hürriyet', 'olmayan', 'bir', 'memlekette', 'ölüm', 'çöküş', 'vardır.', 'ilerleyişin', 'kurtuluşun', 'anası', 'hürriyettir.\"', '*mustafa', 'kema…', 'rt', '@dpgultekinuysal:', 'i̇şte,', 'mustafa', 'kemal', 'atatürk', 'türk', \"milleti'ne\", '\"hızır\"', 'olmuştur.', 'umudunun', 'tükendiği,', 'gayretinin', 'kifayet', 'etmediği,', 'ne…', 'rt', '@atakanbozyayla:', \"#chp'ye\", '#ataturk', '@ekrem_imamoglu', 'abi', 'senden', 'rica', 'ediyorum.', 'bi', 'ingilizce', 'konuşmaya', 'çalışma..', '10', 'saniye', 'dinledim', 'ez…', 'rt', '@tansuyegen:', \"atatürk'ün\", 'anısına', 'dünya', 'ülkelerinde', 'bulunan', 'anıtlar,', 'heykeller,', 'parklar,', 'caddeler...', '#dünyaizinde', '#10kasim1938', '#ataturk…', 'i̇lber', 'ortaylı', 'röportajımın', 'linki:']\n"
          ]
        }
      ]
    },
    {
      "cell_type": "code",
      "metadata": {
        "id": "nmXU6bcgTAWk"
      },
      "source": [
        "all_text4= [w for w in all_text3 if len(w)>3 and not(\"://\" in w )]"
      ],
      "execution_count": 83,
      "outputs": []
    },
    {
      "cell_type": "code",
      "metadata": {
        "colab": {
          "base_uri": "https://localhost:8080/"
        },
        "id": "GGwGY4FITAWl",
        "outputId": "c27243c8-7ab2-4507-d8bd-60314dc23c8b"
      },
      "source": [
        "print(all_text4[:100])"
      ],
      "execution_count": 85,
      "outputs": [
        {
          "output_type": "stream",
          "name": "stdout",
          "text": [
            "['@atakanbozyayla:', \"#chp'ye\", '#ataturk', '@ekrem_imamoglu', 'senden', 'rica', 'ediyorum.', 'ingilizce', 'konuşmaya', 'çalışma..', 'saniye', 'dinledim', '@atakanbozyayla:', \"#chp'ye\", '#ataturk', '@ekrem_imamoglu', 'senden', 'rica', 'ediyorum.', 'ingilizce', 'konuşmaya', 'çalışma..', 'saniye', 'dinledim', '@55onderhg:', '\"hürriyet', 'olmayan', 'memlekette', 'ölüm', 'çöküş', 'vardır.', 'ilerleyişin', 'kurtuluşun', 'anası', 'hürriyettir.\"', '*mustafa', 'kema…', '@dpgultekinuysal:', 'i̇şte,', 'mustafa', 'kemal', 'atatürk', 'türk', \"milleti'ne\", '\"hızır\"', 'olmuştur.', 'umudunun', 'tükendiği,', 'gayretinin', 'kifayet', 'etmediği,', '@atakanbozyayla:', \"#chp'ye\", '#ataturk', '@ekrem_imamoglu', 'senden', 'rica', 'ediyorum.', 'ingilizce', 'konuşmaya', 'çalışma..', 'saniye', 'dinledim', '@tansuyegen:', \"atatürk'ün\", 'anısına', 'dünya', 'ülkelerinde', 'bulunan', 'anıtlar,', 'heykeller,', 'parklar,', 'caddeler...', '#dünyaizinde', '#10kasim1938', '#ataturk…', 'i̇lber', 'ortaylı', 'röportajımın', 'linki:', '#ilberortayli', '#ataturk', '#cuma', 'yazar', 'mehmet', \"uluğtürkan'dan\", 'dikkat', 'çeken', 'iddia;', '\"atatürk', \"adana'ya\", 'aşıktı.', 'planlarını', \"adana'da\", 'yaptı.\"…', '@kahvem_sigaram:', 'sırf', 'duralım', 'kimseye', 'boyun']\n"
          ]
        }
      ]
    },
    {
      "cell_type": "code",
      "metadata": {
        "id": "-61dSEQNTAWl"
      },
      "source": [
        "fd2=nltk.FreqDist(all_text4)"
      ],
      "execution_count": 87,
      "outputs": []
    },
    {
      "cell_type": "code",
      "metadata": {
        "id": "kG-XM6mITAWl",
        "colab": {
          "base_uri": "https://localhost:8080/"
        },
        "outputId": "f53e0024-ed92-406a-b61a-612102fe0496"
      },
      "source": [
        "fd2.most_common(20)"
      ],
      "execution_count": 88,
      "outputs": [
        {
          "output_type": "execute_result",
          "data": {
            "text/plain": [
              "[('#ataturk', 450),\n",
              " ('#10kasim', 202),\n",
              " ('#10kasim1938', 145),\n",
              " ('kemal', 101),\n",
              " ('mustafa', 96),\n",
              " ('bağış', 93),\n",
              " ('atatürk', 74),\n",
              " ('kahramanı', 74),\n",
              " ('100.', 68),\n",
              " ('hatta', 68),\n",
              " ('yaparak', 68),\n",
              " ('furkan’ın', 68),\n",
              " ('olabilirsiniz', 68),\n",
              " ('5,679', 68),\n",
              " ('kahramandan', 68),\n",
              " ('@furkansmatip:', 67),\n",
              " ('olmak…', 67),\n",
              " ('#10kasım', 66),\n",
              " (\"atatürk'ü\", 64),\n",
              " ('ölüm', 62)]"
            ]
          },
          "metadata": {},
          "execution_count": 88
        }
      ]
    },
    {
      "cell_type": "code",
      "metadata": {
        "id": "Pruj9oYGTAWl"
      },
      "source": [
        ""
      ],
      "execution_count": null,
      "outputs": []
    },
    {
      "cell_type": "markdown",
      "metadata": {
        "id": "F4KgwGGfTAWl"
      },
      "source": [
        "# Work with hashtags"
      ]
    },
    {
      "cell_type": "code",
      "metadata": {
        "id": "6DX9ZGJpTAWl"
      },
      "source": [
        "ht= [w for w in all_text4 if w.startswith(\"#\")]"
      ],
      "execution_count": 89,
      "outputs": []
    },
    {
      "cell_type": "code",
      "metadata": {
        "colab": {
          "base_uri": "https://localhost:8080/"
        },
        "id": "PwoY5CbeTAWm",
        "outputId": "d3a58761-a8e0-44c0-b757-03407c089004"
      },
      "source": [
        "print(ht[:30])"
      ],
      "execution_count": 90,
      "outputs": [
        {
          "output_type": "stream",
          "name": "stdout",
          "text": [
            "[\"#chp'ye\", '#ataturk', \"#chp'ye\", '#ataturk', \"#chp'ye\", '#ataturk', '#dünyaizinde', '#10kasim1938', '#ataturk…', '#ilberortayli', '#ataturk', '#cuma', \"#ataturk'ün\", '#ataturk', '#sensiz83yil', \"#chp'ye\", '#ataturk', '#cuma', '#ataturk', '#10kasim1938', '#10kasim', '#atam', '#sensiz83yil', '#ataturk', '#mustafakamalataturk', '#atamizindeyiz', '#saygıveoez…', '#cuma', '#ataturk', '#10kasim']\n"
          ]
        }
      ]
    },
    {
      "cell_type": "code",
      "metadata": {
        "id": "k3Th2iETTAWm",
        "colab": {
          "base_uri": "https://localhost:8080/"
        },
        "outputId": "ee7d70bb-f00f-4b68-c569-3a23dc42b190"
      },
      "source": [
        "fd3=nltk.FreqDist(ht)\n",
        "fd3.most_common(20)"
      ],
      "execution_count": 93,
      "outputs": [
        {
          "output_type": "execute_result",
          "data": {
            "text/plain": [
              "[('#ataturk', 450),\n",
              " ('#10kasim', 202),\n",
              " ('#10kasim1938', 145),\n",
              " ('#10kasım', 66),\n",
              " ('#atamizindeyiz', 47),\n",
              " ('#atam', 38),\n",
              " ('#mustafakamalataturk', 38),\n",
              " ('#ataturk…', 36),\n",
              " ('#sensiz83yil', 34),\n",
              " ('#saygıveoez…', 26),\n",
              " ('#dünyaizinde', 25),\n",
              " ('#sedatpeker', 24),\n",
              " ('#besiktas', 21),\n",
              " ('#atam…', 18),\n",
              " ('#adnanoktar', 16),\n",
              " ('#çarşamba', 16),\n",
              " ('#bjkvfks', 16),\n",
              " ('#ke…', 15),\n",
              " ('#atatürk', 15),\n",
              " ('#10kasim193oo', 15)]"
            ]
          },
          "metadata": {},
          "execution_count": 93
        }
      ]
    },
    {
      "cell_type": "code",
      "metadata": {
        "id": "75Q3FW9-TAWm"
      },
      "source": [
        "fd=nltk.FreqDist(ht)"
      ],
      "execution_count": 94,
      "outputs": []
    },
    {
      "cell_type": "code",
      "metadata": {
        "colab": {
          "base_uri": "https://localhost:8080/"
        },
        "id": "fS8TWr1hTAWm",
        "outputId": "53ae558f-0a6b-46cd-9a83-2dc42882062c"
      },
      "source": [
        "for e in fd:\n",
        "    if fd[e]>7:\n",
        "        print(e, fd[e])"
      ],
      "execution_count": 95,
      "outputs": [
        {
          "output_type": "stream",
          "name": "stdout",
          "text": [
            "#ataturk 450\n",
            "#dünyaizinde 25\n",
            "#10kasim1938 145\n",
            "#ataturk… 36\n",
            "#sensiz83yil 34\n",
            "#10kasim 202\n",
            "#atam 38\n",
            "#mustafakamalataturk 38\n",
            "#atamizindeyiz 47\n",
            "#saygıveoez… 26\n",
            "#adnanoktar 16\n",
            "#çarşamba 16\n",
            "#bjkvfks 16\n",
            "#ke… 15\n",
            "#atamızrahatuyusun 9\n",
            "#dolar10tl 8\n",
            "#10kasım 66\n",
            "#sedatpeker 24\n",
            "#anitkabir 14\n",
            "#mustafakemalatatürk 9\n",
            "#atatürk 15\n",
            "#10kasim193oo 15\n",
            "#sueresiznafakamağduru 8\n",
            "#siren 10\n",
            "#kalbimizdesin 9\n",
            "#kadinasiddetehayir 8\n",
            "#kal… 8\n",
            "#sensiz83yi… 10\n",
            "#atam… 18\n",
            "#persembe 8\n",
            "#atatu… 9\n",
            "#anitka… 9\n",
            "#besiktas 21\n",
            "#beşiktaşkabullenmez 12\n",
            "#teketek 13\n",
            "#tesla 12\n"
          ]
        }
      ]
    },
    {
      "cell_type": "code",
      "metadata": {
        "id": "1OzwAXmoXTzP"
      },
      "source": [
        "'''\n",
        "for e in fd:\n",
        "    if fd[e]>7:\n",
        "        print(e, fd[e])\n",
        "'''\n",
        "hashtags= pd.DataFrame()\n",
        "hashtags[\"key\"]= fd.keys()\n",
        "hashtags[\"count\"]=fd.values()"
      ],
      "execution_count": 96,
      "outputs": []
    },
    {
      "cell_type": "code",
      "metadata": {
        "colab": {
          "base_uri": "https://localhost:8080/",
          "height": 417
        },
        "id": "IuUNwvRTXvvp",
        "outputId": "08448d50-e602-423e-d36a-6a2b368343ef"
      },
      "source": [
        "hashtags.sort_values(\"count\",ascending=False)"
      ],
      "execution_count": 97,
      "outputs": [
        {
          "output_type": "execute_result",
          "data": {
            "text/html": [
              "<div>\n",
              "<style scoped>\n",
              "    .dataframe tbody tr th:only-of-type {\n",
              "        vertical-align: middle;\n",
              "    }\n",
              "\n",
              "    .dataframe tbody tr th {\n",
              "        vertical-align: top;\n",
              "    }\n",
              "\n",
              "    .dataframe thead th {\n",
              "        text-align: right;\n",
              "    }\n",
              "</style>\n",
              "<table border=\"1\" class=\"dataframe\">\n",
              "  <thead>\n",
              "    <tr style=\"text-align: right;\">\n",
              "      <th></th>\n",
              "      <th>key</th>\n",
              "      <th>count</th>\n",
              "    </tr>\n",
              "  </thead>\n",
              "  <tbody>\n",
              "    <tr>\n",
              "      <th>1</th>\n",
              "      <td>#ataturk</td>\n",
              "      <td>450</td>\n",
              "    </tr>\n",
              "    <tr>\n",
              "      <th>9</th>\n",
              "      <td>#10kasim</td>\n",
              "      <td>202</td>\n",
              "    </tr>\n",
              "    <tr>\n",
              "      <th>3</th>\n",
              "      <td>#10kasim1938</td>\n",
              "      <td>145</td>\n",
              "    </tr>\n",
              "    <tr>\n",
              "      <th>25</th>\n",
              "      <td>#10kasım</td>\n",
              "      <td>66</td>\n",
              "    </tr>\n",
              "    <tr>\n",
              "      <th>12</th>\n",
              "      <td>#atamizindeyiz</td>\n",
              "      <td>47</td>\n",
              "    </tr>\n",
              "    <tr>\n",
              "      <th>...</th>\n",
              "      <td>...</td>\n",
              "      <td>...</td>\n",
              "    </tr>\n",
              "    <tr>\n",
              "      <th>101</th>\n",
              "      <td>#atamizindeyiz…</td>\n",
              "      <td>1</td>\n",
              "    </tr>\n",
              "    <tr>\n",
              "      <th>100</th>\n",
              "      <td>#avniakyolgüzelsanatlarlisesi…</td>\n",
              "      <td>1</td>\n",
              "    </tr>\n",
              "    <tr>\n",
              "      <th>99</th>\n",
              "      <td>#atatuerktuerkiyedir…</td>\n",
              "      <td>1</td>\n",
              "    </tr>\n",
              "    <tr>\n",
              "      <th>90</th>\n",
              "      <td>#seninleyiztalha</td>\n",
              "      <td>1</td>\n",
              "    </tr>\n",
              "    <tr>\n",
              "      <th>224</th>\n",
              "      <td>#batitrakya</td>\n",
              "      <td>1</td>\n",
              "    </tr>\n",
              "  </tbody>\n",
              "</table>\n",
              "<p>225 rows × 2 columns</p>\n",
              "</div>"
            ],
            "text/plain": [
              "                                key  count\n",
              "1                          #ataturk    450\n",
              "9                          #10kasim    202\n",
              "3                      #10kasim1938    145\n",
              "25                         #10kasım     66\n",
              "12                   #atamizindeyiz     47\n",
              "..                              ...    ...\n",
              "101                 #atamizindeyiz…      1\n",
              "100  #avniakyolgüzelsanatlarlisesi…      1\n",
              "99            #atatuerktuerkiyedir…      1\n",
              "90                 #seninleyiztalha      1\n",
              "224                     #batitrakya      1\n",
              "\n",
              "[225 rows x 2 columns]"
            ]
          },
          "metadata": {},
          "execution_count": 97
        }
      ]
    },
    {
      "cell_type": "markdown",
      "metadata": {
        "id": "0hc7bKunTAWn"
      },
      "source": [
        "# the longest word"
      ]
    },
    {
      "cell_type": "code",
      "metadata": {
        "id": "VODoOMICFIiS",
        "colab": {
          "base_uri": "https://localhost:8080/"
        },
        "outputId": "9a15542c-191b-4bea-eb54-ff1ebb2c02f9"
      },
      "source": [
        "q=[1,1,1,1,12,2,2,2,3,3,3,3,3,3,4,4,4,4,4,4]\n",
        "set(q)"
      ],
      "execution_count": 105,
      "outputs": [
        {
          "output_type": "execute_result",
          "data": {
            "text/plain": [
              "{1, 2, 3, 4, 12}"
            ]
          },
          "metadata": {},
          "execution_count": 105
        }
      ]
    },
    {
      "cell_type": "code",
      "metadata": {
        "id": "tAw-s4N_TAWn"
      },
      "source": [
        "wlen=[(len(w), w) for w in set(all_text4)]"
      ],
      "execution_count": 106,
      "outputs": []
    },
    {
      "cell_type": "code",
      "metadata": {
        "colab": {
          "base_uri": "https://localhost:8080/"
        },
        "id": "xeRuM5XGTAWn",
        "outputId": "755d765c-a225-499f-b804-dae092964dd7"
      },
      "source": [
        "wlen[:20]"
      ],
      "execution_count": 107,
      "outputs": [
        {
          "output_type": "execute_result",
          "data": {
            "text/plain": [
              "[(11, 'tükenmez...'),\n",
              " (8, '#trabzon'),\n",
              " (17, '@serkanpilavoglu:'),\n",
              " (9, 'bulabilen'),\n",
              " (8, 'düşünsün'),\n",
              " (9, '@bayido1:'),\n",
              " (8, 'değilmiş'),\n",
              " (7, 'yılları'),\n",
              " (8, 'başkadır'),\n",
              " (17, '@zehraanadernegi:'),\n",
              " (11, '#orhankılıç'),\n",
              " (17, '#10kasımsonsuzluk'),\n",
              " (7, 'şimdiki'),\n",
              " (16, '@dpgultekinuysal'),\n",
              " (15, '@ayekk40750204:'),\n",
              " (7, 'twitter'),\n",
              " (5, 'ümidi'),\n",
              " (7, 'dokundu'),\n",
              " (5, 'etmek'),\n",
              " (13, '@_muminsahin:')]"
            ]
          },
          "metadata": {},
          "execution_count": 107
        }
      ]
    },
    {
      "cell_type": "code",
      "metadata": {
        "colab": {
          "base_uri": "https://localhost:8080/"
        },
        "id": "iHQr1RETTAWn",
        "outputId": "bd933741-5e9a-41f3-8938-4cf036c7c182"
      },
      "source": [
        "sorted(wlen)[:10]"
      ],
      "execution_count": 109,
      "outputs": [
        {
          "output_type": "execute_result",
          "data": {
            "text/plain": [
              "[(4, '!!!!'),\n",
              " (4, '\"ben'),\n",
              " (4, '\"biz'),\n",
              " (4, '#10…'),\n",
              " (4, '#ata'),\n",
              " (4, '#at…'),\n",
              " (4, '#aşk'),\n",
              " (4, '#ke…'),\n",
              " (4, '#mka'),\n",
              " (4, '#myo')]"
            ]
          },
          "metadata": {},
          "execution_count": 109
        }
      ]
    },
    {
      "cell_type": "code",
      "metadata": {
        "colab": {
          "base_uri": "https://localhost:8080/"
        },
        "id": "_b39Lf2qTAWn",
        "outputId": "9b845d90-dacf-42e2-87c6-6cebafd3e5ce"
      },
      "source": [
        "[e for e in sorted(wlen)[:10] if \"#\" in e[1]]"
      ],
      "execution_count": 114,
      "outputs": [
        {
          "output_type": "execute_result",
          "data": {
            "text/plain": [
              "[(4, '#10…'),\n",
              " (4, '#ata'),\n",
              " (4, '#at…'),\n",
              " (4, '#aşk'),\n",
              " (4, '#ke…'),\n",
              " (4, '#mka'),\n",
              " (4, '#myo')]"
            ]
          },
          "metadata": {},
          "execution_count": 114
        }
      ]
    },
    {
      "cell_type": "code",
      "metadata": {
        "id": "nBRbIoXlTAWn"
      },
      "source": [
        ""
      ],
      "execution_count": null,
      "outputs": []
    },
    {
      "cell_type": "code",
      "metadata": {
        "id": "HD7WlBNxTAWn"
      },
      "source": [
        "# "
      ],
      "execution_count": null,
      "outputs": []
    },
    {
      "cell_type": "code",
      "metadata": {
        "id": "0Uk1aTH_X_te"
      },
      "source": [
        "df.text.to_csv(\"text.csv\")"
      ],
      "execution_count": 119,
      "outputs": []
    },
    {
      "cell_type": "code",
      "metadata": {
        "id": "yOdIznNAkXzj"
      },
      "source": [
        "df[df.text.map(lambda x: len(x.split()))>3].text.to_csv(\"text_with_3_tokens.csv\")"
      ],
      "execution_count": 122,
      "outputs": []
    },
    {
      "cell_type": "code",
      "metadata": {
        "colab": {
          "base_uri": "https://localhost:8080/"
        },
        "id": "Av5s2YEUi_Pm",
        "outputId": "d060eac3-8eb7-44da-a029-c29642cb3ab3"
      },
      "source": [
        "list(df.text)"
      ],
      "execution_count": 118,
      "outputs": [
        {
          "output_type": "execute_result",
          "data": {
            "text/plain": [
              "[\"RT @AtakanBozyayla: #CHP'ye #Ataturk  @ekrem_imamoglu abi senden rica ediyorum. Bi daha ingilizce konuşmaya çalışma.. 10 saniye dinledim ez…\",\n",
              " \"RT @AtakanBozyayla: #CHP'ye #Ataturk  @ekrem_imamoglu abi senden rica ediyorum. Bi daha ingilizce konuşmaya çalışma.. 10 saniye dinledim ez…\",\n",
              " 'RT @55OnderHg: \"Hürriyet olmayan bir memlekette ölüm ve çöküş vardır. Her ilerleyişin ve kurtuluşun anası hürriyettir.\"\\n      *Mustafa Kema…',\n",
              " 'RT @DpGultekinUysal: İşte, Mustafa Kemal Atatürk de Türk Milleti\\'ne \"Hızır\" olmuştur.\\n\\nUmudunun tükendiği, gayretinin kifayet etmediği, ne…',\n",
              " \"RT @AtakanBozyayla: #CHP'ye #Ataturk  @ekrem_imamoglu abi senden rica ediyorum. Bi daha ingilizce konuşmaya çalışma.. 10 saniye dinledim ez…\",\n",
              " \"RT @TansuYegen: Atatürk'ün anısına dünya ülkelerinde bulunan anıtlar, heykeller, parklar, caddeler... #dünyaizinde #10Kasim1938 #ATATURK…\",\n",
              " 'İlber Ortaylı Röportajımın linki: https://t.co/WDyHJqNCQj \\n\\n#ilberortayli #Ataturk #cuma',\n",
              " 'Yazar Mehmet Uluğtürkan\\'dan dikkat çeken iddia;  \"Atatürk Adana\\'ya aşıktı. Tüm planlarını Adana\\'da yaptı.\"… https://t.co/kWBUFCiL05',\n",
              " 'RT @Kahvem_Sigaram: Sırf biz dik duralım diye \\nkimseye boyun eğmeyişini \\ns’on Kasım’a kadar ne unutacağız, \\nne unutturacağız..…',\n",
              " 'RT @msbosca: @haticebosca ile evimizin salonunda en sevdiğimiz söz ve ilkeleriyle Atatürk’ü andık. Sizin en sevdiğiniz söz veya ilkesi nedi…',\n",
              " 'RT @furkansmatip: 100. TL hatta https://t.co/L44eioTMJQ bağış yaparak Furkan’ın kahramanı olabilirsiniz 🙏🏻 5,679 Kahramandan biri siz olmak…',\n",
              " '@haticebosca ile evimizin salonunda en sevdiğimiz söz ve ilkeleriyle Atatürk’ü andık. Sizin en sevdiğiniz söz veya… https://t.co/XgGp830FaY',\n",
              " \"Çocuklarımız ülkemizin kurtarıcısı, kurucusu ve aydınlanma devrimlerinin önderi büyük #Ataturk'ün izinde… https://t.co/oOKvtiLQF8\",\n",
              " 'Uzay çağında yaşamak yerine, 1919-1938 yılları arasında yaşamayı tercih ederdim!\\n#Ataturk \\n#Sensiz83YIL https://t.co/EowZtq0phX',\n",
              " \"#CHP'ye #Ataturk  @ekrem_imamoglu abi senden rica ediyorum. Bi daha ingilizce konuşmaya çalışma.. 10 saniye dinledi… https://t.co/SKZhvNzBrN\",\n",
              " \"RT @anjelique_s: Bugün Müslüman'ların #Cuma sı...\\nHerkesin Cuma'sı...\\n#Ataturk\\nAnlayana https://t.co/tPOXq6pQgX\",\n",
              " 'RT @sevimyogun: Seni çalışarak anıyorum. #10kasim1938 #10Kasim #ATAM #Sensiz83YIL \\n#Ataturk #MustafaKamalAtaturk #atamizindeyiz #Saygıveoez…',\n",
              " \"Bugün Müslüman'ların #Cuma sı...\\nHerkesin Cuma'sı...\\n#Ataturk\\nAnlayana https://t.co/tPOXq6pQgX\",\n",
              " 'RT @DpGultekinUysal: İşte, Mustafa Kemal Atatürk de Türk Milleti\\'ne \"Hızır\" olmuştur.\\n\\nUmudunun tükendiği, gayretinin kifayet etmediği, ne…',\n",
              " 'RT @KevserOfluoglu: Ulu Önder Mustafa Kemal Atatürk ruhun şad mekanın cennet olsun.\\n#10Kasim\\n#Ataturk https://t.co/9V4O0YIB6n',\n",
              " 'RT @DunyadanBhaber: Adnan Oktar’ın program sunucusudan ‘dekolte’ ve ‘silahlı örgüt’ açıklaması \\n#AdnanOktar #çarşamba #BJKvFKS #Ataturk #Ke…',\n",
              " 'RT @AylinSeckin2: #forever #onyourway #izindeyiz @cromagnonart #ataturk için besteledi https://t.co/A9t1g76CXV',\n",
              " \"#neyimizeksik Atamız'ın vizyonu eksik. Eksikliği bu kadar güzel anlatılabilir. Liseli öğrencilerden kısmi sosyal de… https://t.co/Xf8R8aDorS\",\n",
              " 'RT @SonglBaskaya: Gerçek’ten özlüyoruz… #Ataturk #atamızrahatuyusun https://t.co/ouJryaef2Y',\n",
              " 'Aşağidaki yazi dillerinden hangisi Turklere aittir? #Ataturk #samuray #dolar10tl',\n",
              " 'Hoca M.kemal\\'in fikrini desteklemiş... \"Öğretmenler, Cumhuriyet sizden fikri hür, vicdanı hür, irfanı hür nesiller… https://t.co/mov0pKtwUv',\n",
              " 'RT @DrBeyzaTaskin: Özlem ve sevgiyle ama bir kadın olarak, en çok da minnetle 🙏\\n\\n#Ataturk #10Kasım https://t.co/Kh7o2SNEEG',\n",
              " 'RT @Arikan79Meltem: Seni her gün daha çok seviyor kıymetini daha iyi anlıyoruz ve bu sevgiyi fazlasıyla hak ediyorsun #Ataturk #10Kasım htt…',\n",
              " \"RT @Herdaim_Haber: Sedat Peker: Ata'sını bilmeyen it peşinde gezer!\\nhttps://t.co/81tJT5JEVU \\n@sedat_peker \\n#10Kasim #Ataturk #SedatPeker ht…\",\n",
              " 'RT @Kahvem_Sigaram: Sırf biz dik duralım diye \\nkimseye boyun eğmeyişini \\ns’on Kasım’a kadar ne unutacağız, \\nne unutturacağız..…',\n",
              " '@SadeceSeha Çünkü artık T.C bir Devlet gibi algılanmiyor... korkarım ki ... 🙄❗🥺 #Ataturk  milli irade ile Cumhuriye… https://t.co/U6fYI5EO53',\n",
              " 'Sen sonsuza dek benim kalbimdesin #Ataturk https://t.co/NnyOGcg93a',\n",
              " 'RT @KevserOfluoglu: Ulu Önder Mustafa Kemal Atatürk ruhun şad mekanın cennet olsun.\\n#10Kasim\\n#Ataturk https://t.co/9V4O0YIB6n',\n",
              " 'RT @zmr1907: Twitter , instagram , facebook , whatsaap bugün olması gerektiği gibi her yer ATAM 🖤🖤🖤🖤🖤\\n#twitter #instagram #Facebook #WhatsA…',\n",
              " 'RT @DunyadanBhaber: Adnan Oktar’ın program sunucusudan ‘dekolte’ ve ‘silahlı örgüt’ açıklaması \\n#AdnanOktar #çarşamba #BJKvFKS #Ataturk #Ke…',\n",
              " 'RT @Kahvem_Sigaram: Sırf biz dik duralım diye \\nkimseye boyun eğmeyişini \\ns’on Kasım’a kadar ne unutacağız, \\nne unutturacağız..…',\n",
              " 'RT @Kahvem_Sigaram: Sırf biz dik duralım diye \\nkimseye boyun eğmeyişini \\ns’on Kasım’a kadar ne unutacağız, \\nne unutturacağız..…',\n",
              " \"RT @BestMyworld: Biz Maviyi sevmeye ilk Selanik'te açılan bir çift gözle başladık…\\n#ruhunsadolsun \\n#Ataturk \\n#onkasım https://t.co/nApy1cDu…\",\n",
              " \"Gazete Çivit 12.11.21\\nSayı.315     Sayfa.4/8\\n\\nCumhurbaşkanı Erdoğan:Atatürk'ün Serencamı,Türkiye'nin Yol Haritasıdı… https://t.co/3PmHigJPWQ\",\n",
              " 'RT @Kahvem_Sigaram: Sırf biz dik duralım diye \\nkimseye boyun eğmeyişini \\ns’on Kasım’a kadar ne unutacağız, \\nne unutturacağız..…',\n",
              " 'RT @sosyopt: Sevgi, saygı, özlem, minnet ve rahmet ileanıyoruz.. \\n#Ataturk   ¹⁸81\\n#10Kasım ¹⁹38 https://t.co/KQtNHVDQnn',\n",
              " \"RT @durumeric_sma: Atatürk'ü ölümünün 83.yılında hüzünle, saygıyla ve özlemle anıyoruz. Bütün ümidi gençlikte olan Atamızın bir evladı da D…\",\n",
              " 'RT @Kahvem_Sigaram: Sırf biz dik duralım diye \\nkimseye boyun eğmeyişini \\ns’on Kasım’a kadar ne unutacağız, \\nne unutturacağız..…',\n",
              " 'RT @kripto_genius: Sonsuza dek saygı ve minnetle seni anıcaz...\\n#Ataturk\\n#10Kasım #AtamYasıyorsun\\n193♾️ https://t.co/3T02XfMhFy',\n",
              " 'RT @Reks_imaa1938: Sen toprağa düştüğünde rakamlar da mateme başladı #Ataturk üm..\\n\\n193♾ sonsuzluğu işaret için düştü yere..\\n\\n#10Kasım lar…',\n",
              " 'RT @FundaCandan13: BİZ NE ZAMAN BAŞIMIZI ÖNÜMÜZE EĞECEĞİMİZİ İYİ BİLİRİZ 🇹🇷🇹🇷🇹🇷🇹🇷🇹🇷\\nSAYGIYLA ÖZLEMLE VE MİNNETLE ANİYORUZ SENİ ATAM ❤️❤️❤️…',\n",
              " \"RT @sosgumder: Cumhuriyetimizin kurucusu Büyük Önder Gazi Mustafa Kemal Atatürk'ü ölüm yıl dönümünde; saygı, sevgi, özlem ve rahmetle anıyo…\",\n",
              " 'RT @MGHAN_: Tanrı ölümü yarattı, o sebepledir ki\\nİnsanın doğumunda ölüm gizlidir,\\nYani kökünde ölüm vardır, kökünde ölüm olanın dalındada ö…',\n",
              " \"RT @kanal3haber: #haber Afyonkarahisarlı yamaç paraşütü pilotu Ozan Ceylan, Muğla'nın Fethiye ilçesindeki Ölüdeniz üstünde Ulu Önder Mustaf…\",\n",
              " 'RT @KevserOfluoglu: Bir destan yazdın ömrünü adayarak, ölümsüz oldun yüreklerde. \\nEy Türkün Atası! \\nTürk Ulusu ilelebet sana minnettardır.…',\n",
              " 'RT @KevserOfluoglu: Ulu Önder Mustafa Kemal Atatürk ruhun şad mekanın cennet olsun.\\n#10Kasim\\n#Ataturk https://t.co/9V4O0YIB6n',\n",
              " 'RT @yldz_esmabanurr: Soruyu bulabilen ❓❓❓\\n#10Kasim\\n#Anitkabir\\n#Evlenmeyin\\n#MeralAkseneristifa\\n#Sensiz83YIL\\n#Ataturk https://t.co/Rst5564rIS',\n",
              " 'Son hamleyle #Ataturk e Sarılarak \\nOy devsirmeye çalışıyor olmanız da zaten ne kadar çaresiz olduğunuz ortada #Hande',\n",
              " 'RT @Kahvem_Sigaram: Sırf biz dik duralım diye \\nkimseye boyun eğmeyişini \\ns’on Kasım’a kadar ne unutacağız, \\nne unutturacağız..…',\n",
              " 'RT @Kahvem_Sigaram: Sırf biz dik duralım diye \\nkimseye boyun eğmeyişini \\ns’on Kasım’a kadar ne unutacağız, \\nne unutturacağız..…',\n",
              " 'ATATÜRK KUPASI GELENEKSEL RAHVAN AT YARIŞLARI İÇİN GERİ SAYIM BAŞLADI\\n\\nÖdemiş Belediyesi, Büyük Önder Atatürk’ü anm… https://t.co/7CuTBhXsxU',\n",
              " 'Atatürk’e ve Türklere hakaret eden bu kişiyi lütfen hepiniz şikayet edin ! \\n\\n#K A L B İ M İ Z D E S İ N… https://t.co/G0HqabDUXX',\n",
              " 'RT @furkansmatip: 100. TL hatta https://t.co/L44eioTMJQ bağış yaparak Furkan’ın kahramanı olabilirsiniz 🙏🏻 5,679 Kahramandan biri siz olmak…',\n",
              " 'RT @DunyadanBhaber: Adnan Oktar’ın program sunucusudan ‘dekolte’ ve ‘silahlı örgüt’ açıklaması \\n#AdnanOktar #çarşamba #BJKvFKS #Ataturk #Ke…',\n",
              " 'RT @DunyadanBhaber: Adnan Oktar’ın program sunucusudan ‘dekolte’ ve ‘silahlı örgüt’ açıklaması \\n#AdnanOktar #çarşamba #BJKvFKS #Ataturk #Ke…',\n",
              " 'RT @KevserOfluoglu: Ulu Önder Mustafa Kemal Atatürk ruhun şad mekanın cennet olsun.\\n#10Kasim\\n#Ataturk https://t.co/9V4O0YIB6n',\n",
              " 'RT @furkansmatip: 100. TL hatta https://t.co/L44eioTMJQ bağış yaparak Furkan’ın kahramanı olabilirsiniz 🙏🏻 5,679 Kahramandan biri siz olmak…',\n",
              " \"RT @TansuYegen: Atatürk'ün anısına dünya ülkelerinde bulunan anıtlar, heykeller, parklar, caddeler... #dünyaizinde #10Kasim1938 #ATATURK…\",\n",
              " 'RT @hakkiusluart: 10 Kasım klibimizi izlemek / paylaşmak isterseniz: https://t.co/5L9No2tEoI\\n\\n#10Kasim #10Kasım #Ataturk #10Kasim1938 #10ka…',\n",
              " '\"Koskoca ordular idare ettim , bir kadını idare edemedim \" \\n           Mustafa Kemal Atatürk. \\n#Ataturk',\n",
              " 'RT @furkansmatip: 100. TL hatta https://t.co/L44eioTMJQ bağış yaparak Furkan’ın kahramanı olabilirsiniz 🙏🏻 5,679 Kahramandan biri siz olmak…',\n",
              " 'RT @Nilay06354192: #10Kasım yolun yolumuzdur #MustafaKemalAtatürk #Atatürk #Ataturk https://t.co/m7bhGqGPsa',\n",
              " 'RT @asenyurt: Cumhuriyetimizin kurucusu, Yüce Türk milletinin ulu önderi; Gazi Mustafa Kemal ATATÜRK’ün vefatının 83.yılında Rahmet, Minnet…',\n",
              " 'RT @Kahvem_Sigaram: Sırf biz dik duralım diye \\nkimseye boyun eğmeyişini \\ns’on Kasım’a kadar ne unutacağız, \\nne unutturacağız..…',\n",
              " 'RT @furkansmatip: 100. TL hatta https://t.co/L44eioTMJQ bağış yaparak Furkan’ın kahramanı olabilirsiniz 🙏🏻 5,679 Kahramandan biri siz olmak…',\n",
              " 'RT @EmineAKMAN48: On Kasım Onsuz Kasım\\nKavaklıdere-Çamlıbel İlkokulu 🇹🇷\\n#10Kasım #Ataturk \\n@mugla_mem @Kavaklidere_MEM @KabasNuray @bnymnbz…',\n",
              " 'RT @DunyadanBhaber: Adnan Oktar’ın program sunucusudan ‘dekolte’ ve ‘silahlı örgüt’ açıklaması \\n#AdnanOktar #çarşamba #BJKvFKS #Ataturk #Ke…',\n",
              " 'Hala uyuyan bir kesim var aglarken gözlerı çıkıyor hala aynı yola gidiyorlar ital degil yerli koyun cok malesef😠😠An… https://t.co/HBhr1b4mm5',\n",
              " 'RT @DunyadanBhaber: Adnan Oktar’ın program sunucusudan ‘dekolte’ ve ‘silahlı örgüt’ açıklaması \\n#AdnanOktar #çarşamba #BJKvFKS #Ataturk #Ke…',\n",
              " 'Ülkede iyi giden tek şey,kötü gidişat..😡\\nAnne Can Göktuğ Boz #HazalKaya #altınoluk #ALTIN #SebebiAKPdir ARTIK YETER… https://t.co/EQgNx0DzVQ',\n",
              " 'RT @Kahvem_Sigaram: Sırf biz dik duralım diye \\nkimseye boyun eğmeyişini \\ns’on Kasım’a kadar ne unutacağız, \\nne unutturacağız..…',\n",
              " 'RT @Kahvem_Sigaram: Sırf biz dik duralım diye \\nkimseye boyun eğmeyişini \\ns’on Kasım’a kadar ne unutacağız, \\nne unutturacağız..…',\n",
              " 'OZGURLUGUN, ADALETIN ve HUZURUN Enbuyuk VARLIG ❤️❤️ ATATÜRK ❤️❤️ ve sonsuzakadar EBEDIYE 🙏🙏Anne Can Göktuğ Boz… https://t.co/H98CBvPqko',\n",
              " \"RT @Sevgidevrim33: Perde arkasından bile olsa doları 9.70 yapmak ayrı bir başarı! Ekonomiyi ''boş koltuk'' çok daha iyi yönetirdi.\\n#basakce…\",\n",
              " \"RT @Sevgidevrim33: Perde arkasından bile olsa doları 9.70 yapmak ayrı bir başarı! Ekonomiyi ''boş koltuk'' çok daha iyi yönetirdi.\\n#basakce…\",\n",
              " \"Perde arkasından bile olsa doları 9.70 yapmak ayrı bir başarı! Ekonomiyi ''boş koltuk'' çok daha iyi yönetirdi.… https://t.co/KiBYDwBJ8t\",\n",
              " \"RT @Herdaim_Haber: Sedat Peker: Ata'sını bilmeyen it peşinde gezer!\\nhttps://t.co/81tJT5JEVU \\n@sedat_peker \\n#10Kasim #Ataturk #SedatPeker ht…\",\n",
              " 'RT @Kahvem_Sigaram: Sırf biz dik duralım diye \\nkimseye boyun eğmeyişini \\ns’on Kasım’a kadar ne unutacağız, \\nne unutturacağız..…',\n",
              " '@AjansMuhbir @leiigh_annn Nerde @yilmazsozcu için #Ataturk kitabını para ile satti, para icin yapti diye bi tarafını yırtan gürüh',\n",
              " 'RT @dediki7: Dedi ki \" Fikirlerin cesaretin emanetin bizim ilham kaynağımızdır \" !..\\nMustafa Kemal Atatürk sonsuza dek payidar kalacaktır !…',\n",
              " 'RT @Kahvem_Sigaram: Sırf biz dik duralım diye \\nkimseye boyun eğmeyişini \\ns’on Kasım’a kadar ne unutacağız, \\nne unutturacağız..…',\n",
              " 'RT @Mustafa_1681: Boğazımızın düğümlendiği buruk bir Günaydın bugün. Her zaman büyük bir saygı, sevgi, özlem ve minnetle anıyoruz 🇹🇷🇹🇷🇹🇷\\n#A…',\n",
              " \"RT @interferon34: @KartalDoga04 olarak, 10 Kasım'da Ulu Önderimiz M. Kemal ATATÜRK'Ü saygı, minnet, rahmet ve özlemle andık. 🇹🇷👤 @DogaOkull…\",\n",
              " 'RT @Kahvem_Sigaram: Sırf biz dik duralım diye \\nkimseye boyun eğmeyişini \\ns’on Kasım’a kadar ne unutacağız, \\nne unutturacağız..…',\n",
              " 'RT @Gazete_Yenicag: Validen skandal paylaşım! #10Kasim193oo  #Ataturk #atamizindeyiz \\nhttps://t.co/PHgmZBdToN https://t.co/nSL1wvBEAk',\n",
              " \"@KartalDoga04 olarak, 10 Kasım'da Ulu Önderimiz M. Kemal ATATÜRK'Ü saygı, minnet, rahmet ve özlemle andık. 🇹🇷👤… https://t.co/Q0BfrqRt4f\",\n",
              " 'RT @sosyopt: Sevgi, saygı, özlem, minnet ve rahmet ileanıyoruz.. \\n#Ataturk   ¹⁸81\\n#10Kasım ¹⁹38 https://t.co/KQtNHVDQnn',\n",
              " 'Hürriyet olmayan bir memlekette ölüm ve çöküş vardır #Ataturk https://t.co/cUPPIsMIgx',\n",
              " 'RT @furkansmatip: 100. TL hatta https://t.co/L44eioTMJQ bağış yaparak Furkan’ın kahramanı olabilirsiniz 🙏🏻 5,679 Kahramandan biri siz olmak…',\n",
              " 'RT @55OnderHg: \"Hürriyet olmayan bir memlekette ölüm ve çöküş vardır. Her ilerleyişin ve kurtuluşun anası hürriyettir.\"\\n      *Mustafa Kema…',\n",
              " \"RT @MilliDusunceMDM: 🖊Derin YENER yazdı:\\nMillî Düşünce Merkezi'nin 11 yaşındaki en genç yazarı Derin Yener'in kaleminden 10 Kasım...\\n#Anitk…\",\n",
              " 'RT @ic_ses06: İyi akşamlar dostlarım, günün özelliği itibariyle keyfsiz bir gündü. Birde bir sürü yavşak haberiyle iyice keyfimiz kaçtı. Ta…',\n",
              " \"RT @AtakanBozyayla: #10Kasim #10Kasim1938 #Ataturk #bingöl #Canan #chpsiztürkiye Türkiye'nin ilk, Avrupa'nın en büyük, 200 bin güneş paneli…\",\n",
              " 'RT @bdarcan: Iyi ki varsin 😍😍😍🙏🙏🙏 Sonsuz minnetimle 😥😥😥\\n#ATATÜRK\\n#atamızrahatuyusun \\n#Ataturk https://t.co/K29AlnE2iW',\n",
              " 'RT @furkansmatip: 100. TL hatta https://t.co/L44eioTMJQ bağış yaparak Furkan’ın kahramanı olabilirsiniz 🙏🏻 5,679 Kahramandan biri siz olmak…',\n",
              " 'RT @55OnderHg: \"Hürriyet olmayan bir memlekette ölüm ve çöküş vardır. Her ilerleyişin ve kurtuluşun anası hürriyettir.\"\\n      *Mustafa Kema…',\n",
              " 'RT @srpayz: Yaşa Mustafa Kemal Paşa yaşa! #Ataturk  ❤️ https://t.co/yalfvqp85L',\n",
              " 'RT @55OnderHg: \"Hürriyet olmayan bir memlekette ölüm ve çöküş vardır. Her ilerleyişin ve kurtuluşun anası hürriyettir.\"\\n      *Mustafa Kema…',\n",
              " 'RT @filizarikmnt: Atatürk, Türk milletine Allah’ın bir lütfu.Atatürk olmasaydı Türkiye’de böyle aydın bir yapı olmazdı,çoktan dağılıp parça…',\n",
              " \"RT @MilliDusunceMDM: 🖊Derin YENER yazdı:\\nMillî Düşünce Merkezi'nin 11 yaşındaki en genç yazarı Derin Yener'in kaleminden 10 Kasım...\\n#Anitk…\",\n",
              " 'RT @Senaomer45: sen Türk milletinin kalbindesin\\n#ataturk https://t.co/gtSOUvHRXw',\n",
              " 'RT @jjjsiisisi92828: seni sevmeyeni biz sevmeyiz \\n#Ataturk https://t.co/mAtcuZAnR6',\n",
              " 'RT @birtutamftgrf: Şöyle baş köşede dur Atam..\\n#Ataturkucokseviyorum \\n#Ataturk https://t.co/crC22IkHDo',\n",
              " 'RT @DunyadanBhaber: Adnan Oktar’ın program sunucusudan ‘dekolte’ ve ‘silahlı örgüt’ açıklaması \\n#AdnanOktar #çarşamba #BJKvFKS #Ataturk #Ke…',\n",
              " 'RT @SebnemArdaBoga: #Atam rahat uyu.😔😢\\nRuhun şad olsun.\\n#10Kasim #Ataturk #ata https://t.co/5ddSB8PWmj',\n",
              " 'RT @6284Magdur: @sinem_emin #SueresizNafakaMağduru #10Kasim #siren #Ataturk #kalbimizdesin buyurun Sayın bakan @abdulhamitgul HAKKIMI HELAL…',\n",
              " 'Saff ticaret Ticarette hicret \\nSaff ticaret yapay dekoratif saksılı ağaç ve çiçek\\nInstagram:… https://t.co/GEMO0i1GJ2',\n",
              " 'RT @gncselcukludeva: İki M. Kemal vardır:Biri et ve kemik, geçici Mustafa Kemal... İkinci Mustafa Kemal; o, ben değil, bizdir! O, memleketi…',\n",
              " \"RT @NidaiSeven: TÜRK Milleti'nin Kurtarıcısı, Türkiye Cumhuriyeti'nin kurucusu Gazi Mustafa Kemal ATATÜRK ;Mekanın Cennet , ruhun Şad olsun…\",\n",
              " 'RT @DunyadanBhaber: Adnan Oktar’ın program sunucusudan ‘dekolte’ ve ‘silahlı örgüt’ açıklaması \\n#AdnanOktar #çarşamba #BJKvFKS #Ataturk #Ke…',\n",
              " 'RT @jjjsiisisi92828: seni sevmeyeni biz sevmeyiz \\n#Ataturk https://t.co/mAtcuZAnR6',\n",
              " \"Şeriatçısın ve bu yüzden dolayı Atatürk'e düşmansındır.\\n\\nAma şeriat'ı Abdülhamid kaldırmıştır.\\n\\n#atatürk #mka #Ataturk\",\n",
              " \"RT @bilkolejleri: Türk milletinin büyük kahramanı Gazi Mustafa Kemal ATATÜRK'ü saygı ve minnetle anıyoruz.\\nİzlemek için👇\\nhttps://t.co/T9x4D…\",\n",
              " 'RT @EsinAkgn15: @AyeKk40750204 @aselinbahariol Atam izindeyiz. @aselinbahariol #siren #günde5 #Anitkabir #anime #Ataturk #rahatsızoluyormuş…',\n",
              " 'RT @jjjsiisisi92828: seni sevmeyeni biz sevmeyiz \\n#Ataturk https://t.co/mAtcuZAnR6',\n",
              " 'Veda Değil Merhaba https://t.co/8yYxupAnpr #Ataturk',\n",
              " 'RT @kripto_genius: Sonsuza dek saygı ve minnetle seni anıcaz...\\n#Ataturk\\n#10Kasım #AtamYasıyorsun\\n193♾️ https://t.co/3T02XfMhFy',\n",
              " 'RT @fearles355: Milli yasimiz bugün yüreğimde hüzün gozlerimde hüzün \\n#Ataturk\\n#10Kasım https://t.co/ASiTjis1sr',\n",
              " 'Dün milyonlarca insanın\\nAynı duyguları yaşayıp paylaşması\\nNe harikaydı, hayat Paylaştıkça güzel..\\n#Ataturk',\n",
              " \"RT @bilkolejleri: Türk milletinin büyük kahramanı Gazi Mustafa Kemal ATATÜRK'ü saygı ve minnetle anıyoruz.\\nİzlemek için👇\\nhttps://t.co/T9x4D…\",\n",
              " \"RT @sen_olYuksel: Allah'a 10 dakikanızı ayırıp O'na dua etmek istemez misiniz? Tıpkı Yemenli Üveys (Veysel karani hz.leri)gibi, neler değiş…\",\n",
              " 'Günün de hatırlayan ertesi günü unutan insanlarız biz. Bizlerin sevgisi modaya benziyor. \\n#Ataturk https://t.co/3yrkPmDHbK',\n",
              " 'Şu ekonomik kriz de bile 82 milyon ağaç diktiler, hüloogg\\n#dolar10tl Samuray #basakcengiz #SebebiAKPdir… https://t.co/D3Ih9B7i3b',\n",
              " 'Gösterdiğin yolda durmadan ilerleyeceğime..\\nHalka hizmet Hakka hizmet anlayışı ile..🇹🇷\\n#Ataturk https://t.co/rvQrrA2mkg',\n",
              " 'RT @DunyadanBhaber: Adnan Oktar’ın program sunucusudan ‘dekolte’ ve ‘silahlı örgüt’ açıklaması \\n#AdnanOktar #çarşamba #BJKvFKS #Ataturk #Ke…',\n",
              " \"Ankara'da Gün Batımı #Ataturk  #Ankara #ankaraetnoğrafyamüzesi #günbatımı https://t.co/Ot8lAzvWhO\",\n",
              " 'RT @kutahyaobm: Cumhuriyetimizin kurucusu Gazi Mustafa Kemal Atatürk’ü aramızdan ayrılışının 83. yılında saygı, sevgi ve minnetle anıyoruz.…',\n",
              " \"https://t.co/cxfRwIE0J7\\n\\nUGM'de Ata'mızı Anma Konseri: Ata'mızı Sevdiği Şarkılar ile Andık\\n#mustafakemalataturk… https://t.co/KKHYk1TO7b\",\n",
              " 'RT @gmzk3458: NEFES ALDIĞIMIZ HER GÜN....\\n\\nSAYGI VE MİNNETLE ATAM....\\n\\n#10Kasım #Ataturk #Anıtkabir ❤ https://t.co/cpP4cTNQfF',\n",
              " 'RT @MehmetAli_Kutlu: Gazete Çivit 11.11.21\\nSayı.314     Sayfa.2/8\\n\\nEski 10 Kasım Anmalarıyla İlgili Belgeler. #Ataturk  #ata  #ATAM  #Musta…',\n",
              " 'RT @55OnderHg: \"Hürriyet olmayan bir memlekette ölüm ve çöküş vardır. Her ilerleyişin ve kurtuluşun anası hürriyettir.\"\\n      *Mustafa Kema…',\n",
              " \"RT @KadinlTurk: AKP'li büyükşehir belediye başkanı gazeteci kadına tecavüz etti❗\\nhttps://t.co/hHrStuTBkb\\n\\n#Ataturk\\n#KadinaSiddeteHayir\\n#kal…\",\n",
              " \"RT @ADSYB_: Ulu Önderimiz Gazi Mustafa Kemal Atatürk'ü Saygı, Minnet ve Özlemle Anıyoruz #GaziMustafaKemalAtatürk #10Kasim #Ataturk #10Kasi…\",\n",
              " 'RT @ic_ses06: İyi akşamlar dostlarım, günün özelliği itibariyle keyfsiz bir gündü. Birde bir sürü yavşak haberiyle iyice keyfimiz kaçtı. Ta…',\n",
              " 'RT @varant_uzman: \"Ben yaşayabilmek için, kesin olarak bağımsız bir ulusun evladı kalmalıyım. Bu yüzden ulusal bağımsızlık bence bir hayat…',\n",
              " 'RT @ic_ses06: İyi akşamlar dostlarım, günün özelliği itibariyle keyfsiz bir gündü. Birde bir sürü yavşak haberiyle iyice keyfimiz kaçtı. Ta…',\n",
              " 'BENİM NACİZ VÜCUDUM ELBET BİR GÜN TOPRAK OLACAKTIR, FAKAT TÜRKİYE CUMHURİYETİ İLELEBET PAYİDAR KALACAKTIR.\\n\\nKURUCU… https://t.co/de3RdOFCgF',\n",
              " 'RT @kimsekimene_: Anmayanları eleştirmiyorum, çünkü anlamayanların, anmasını beklemek çok anlamlı gelmiyor.\\nSaygısızca davrananlar ise zate…',\n",
              " 'RT @Kahvem_Sigaram: Sırf biz dik duralım diye \\nkimseye boyun eğmeyişini \\ns’on Kasım’a kadar ne unutacağız, \\nne unutturacağız..…',\n",
              " \"RT @bilkolejleri: Türk Gençliği Bıraktığın Emanetle İzinde...\\nTürk milletinin büyük kahramanı Gazi Mustafa Kemal ATATÜRK'ü vefatının 83. yı…\",\n",
              " \"RT @bilkolejleri: Türk milletinin büyük kahramanı Gazi Mustafa Kemal ATATÜRK'ü saygı ve minnetle anıyoruz. #10Kasim #Ataturk #10Kasim1938 h…\",\n",
              " 'RT @blackktchen: İİZİNDEYİZ   !\\nEvlatların seni çok özledi...\\nMekanın cennettir ruhun şad olsun 😔😔\\n#Sensiz83YIL \\n#Atamİzindeyiz \\n#10kasım19…',\n",
              " \"RT @NidaiSeven: TÜRK Milleti'nin Kurtarıcısı, Türkiye Cumhuriyeti'nin kurucusu Gazi Mustafa Kemal ATATÜRK ;Mekanın Cennet , ruhun Şad olsun…\",\n",
              " 'RT @AkdenizGercek: AKM’de Atatürk şarkıları | Antalya Kültür Sanat Haberleri https://t.co/PVJ7cJkztV \\n@ANTALYABB #Ataturk #10Kasim https://…',\n",
              " \"RT @KadinlTurk: AKP'li büyükşehir belediye başkanı gazeteci kadına tecavüz etti❗\\nhttps://t.co/hHrStuTBkb\\n\\n#Ataturk\\n#KadinaSiddeteHayir\\n#kal…\",\n",
              " 'RT @sem_ylmzdr: Başka türlü sevdik, \\nBaşkasını sevemiyoruz\\n\\nSaygı, Sevgi, Minnet ve Özlemle\\nSonsuza kadar…\\n\\n🇹🇷#10Kasim #Ataturk #Sensiz83YI…',\n",
              " \"RT @TansuYegen: Atatürk'ün anısına dünya ülkelerinde bulunan anıtlar, heykeller, parklar, caddeler... #dünyaizinde #10Kasim1938 #ATATURK…\",\n",
              " 'RT @55OnderHg: \"Hürriyet olmayan bir memlekette ölüm ve çöküş vardır. Her ilerleyişin ve kurtuluşun anası hürriyettir.\"\\n      *Mustafa Kema…',\n",
              " 'RT @MehmetAli_Kutlu: Gazete Çivit 11.11.21\\nSayı.314     Sayfa.8/8\\n\\nGrip Nedir?/\"Cumhurbaşkanı Erdoğan,Doğal Gaz,Akaryakıt ve Enerjide Veril…',\n",
              " 'RT @MehmetAli_Kutlu: Gazete Çivit 11.11.21\\nSayı.314     Sayfa.3/8\\n\\nEski 10 Kasım Anmalarıyla İlgili Belgeler. #Ataturk  #ata  #ATAM  #Musta…',\n",
              " 'RT @MehmetAli_Kutlu: Gazete Çivit 11.11.21\\nSayı.314     Sayfa.2/8\\n\\nEski 10 Kasım Anmalarıyla İlgili Belgeler. #Ataturk  #ata  #ATAM  #Musta…',\n",
              " 'RT @knnchn35: Saygı ve özlemle anıyoruz \\n\\n#onkasım #Ataturk #GaziMustafaAtatürk https://t.co/AIbQMoZrpa',\n",
              " 'RT @GunesliOokul68: Gazi Mustafa Kemal Atatürk’ü, aramızdan ayrılışının 83. yılında emaneti olan cumhuriyeti sonsuza dek koruma sözüyle say…',\n",
              " 'RT @DuyguBakkaloglu: Yeniden ve yeniden okumalı\\n#10Kasim #10Kasim1938 #Ataturk #Nutuk #10Kasim193oo #CocuğunuKemalizmdenKoru https://t.co/S…',\n",
              " 'Başkan Gürkan: \"Atatürk\\'ü anlamak eser üretmek demektir\"\\nhttps://t.co/sKZh1fbB6H\\n#sosyaltv #Bursa #DavutGürkan… https://t.co/yiTNidwYl7',\n",
              " 'RT @DunyadanBhaber: Adnan Oktar’ın program sunucusudan ‘dekolte’ ve ‘silahlı örgüt’ açıklaması \\n#AdnanOktar #çarşamba #BJKvFKS #Ataturk #Ke…',\n",
              " 'RT @furkansmatip: 100. TL hatta https://t.co/L44eioTMJQ bağış yaparak Furkan’ın kahramanı olabilirsiniz 🙏🏻 5,679 Kahramandan biri siz olmak…',\n",
              " 'Yaşa Mustafa Kemal Paşa yaşa! #Ataturk  ❤️ https://t.co/yalfvqp85L',\n",
              " 'RT @DunyadanBhaber: Adnan Oktar’ın program sunucusudan ‘dekolte’ ve ‘silahlı örgüt’ açıklaması \\n#AdnanOktar #çarşamba #BJKvFKS #Ataturk #Ke…',\n",
              " 'RT @ic_ses06: İyi akşamlar dostlarım, günün özelliği itibariyle keyfsiz bir gündü. Birde bir sürü yavşak haberiyle iyice keyfimiz kaçtı. Ta…',\n",
              " 'RT @DunyadanBhaber: Adnan Oktar’ın program sunucusudan ‘dekolte’ ve ‘silahlı örgüt’ açıklaması \\n#AdnanOktar #çarşamba #BJKvFKS #Ataturk #Ke…',\n",
              " 'RT @DunyadanBhaber: Adnan Oktar’ın program sunucusudan ‘dekolte’ ve ‘silahlı örgüt’ açıklaması \\n#AdnanOktar #çarşamba #BJKvFKS #Ataturk #Ke…',\n",
              " 'RT @DunyadanBhaber: Adnan Oktar’ın program sunucusudan ‘dekolte’ ve ‘silahlı örgüt’ açıklaması \\n#AdnanOktar #çarşamba #BJKvFKS #Ataturk #Ke…',\n",
              " \"RT @Herdaim_Haber: Sedat Peker: Ata'sını bilmeyen it peşinde gezer!\\nhttps://t.co/81tJT5JEVU \\n@sedat_peker \\n#10Kasim #Ataturk #SedatPeker ht…\",\n",
              " \"RT @TurkEmbKigali: Ulu Önder Mustafa Kemal Atatürk'ü aramızdan ayrılışının 83. yılında sonsuz minnet, saygı ve sevgiyle anıyoruz. Daima izi…\",\n",
              " \"RT @KadinlTurk: AKP'li büyükşehir belediye başkanı gazeteci kadına tecavüz etti❗\\nhttps://t.co/hHrStuTBkb\\n\\n#Ataturk\\n#KadinaSiddeteHayir\\n#kal…\",\n",
              " \"RT @durumeric_sma: Atatürk'ü ölümünün 83.yılında hüzünle, saygıyla ve özlemle anıyoruz. Bütün ümidi gençlikte olan Atamızın bir evladı da D…\",\n",
              " \"RT @TurkEmbKigali: Ulu Önder Mustafa Kemal Atatürk'ü aramızdan ayrılışının 83. yılında sonsuz minnet, saygı ve sevgiyle anıyoruz. Daima izi…\",\n",
              " 'RT @DunyadanBhaber: Adnan Oktar’ın program sunucusudan ‘dekolte’ ve ‘silahlı örgüt’ açıklaması \\n#AdnanOktar #çarşamba #BJKvFKS #Ataturk #Ke…',\n",
              " 'RT @Kahvem_Sigaram: Sırf biz dik duralım diye \\nkimseye boyun eğmeyişini \\ns’on Kasım’a kadar ne unutacağız, \\nne unutturacağız..…',\n",
              " 'RT @furkansmatip: 100. TL hatta https://t.co/L44eioTMJQ bağış yaparak Furkan’ın kahramanı olabilirsiniz 🙏🏻 5,679 Kahramandan biri siz olmak…',\n",
              " \"RT @KadinlTurk: AKP'li büyükşehir belediye başkanı gazeteci kadına tecavüz etti❗\\nhttps://t.co/hHrStuTBkb\\n\\n#Ataturk\\n#KadinaSiddeteHayir\\n#kal…\",\n",
              " 'Adnan Oktar’ın program sunucusudan ‘dekolte’ ve ‘silahlı örgüt’ açıklaması \\n#AdnanOktar #çarşamba #BJKvFKS #Ataturk… https://t.co/WIvk3PHC2u',\n",
              " 'RT @Baris_Sma: BARIŞ günden güne eriyor, kas kaybediyor…Barış’ın gülüşü solmasın diye📌BARIŞ yaz 9023’e gönder,20 TL ile bağış ile Barış’ı h…',\n",
              " \"RT @KadinlTurk: AKP'li büyükşehir belediye başkanı gazeteci kadına tecavüz etti❗\\nhttps://t.co/hHrStuTBkb\\n\\n#Ataturk\\n#KadinaSiddeteHayir\\n#kal…\",\n",
              " \"RT @KadinlTurk: AKP'li büyükşehir belediye başkanı gazeteci kadına tecavüz etti❗\\nhttps://t.co/hHrStuTBkb\\n\\n#Ataturk\\n#KadinaSiddeteHayir\\n#kal…\",\n",
              " 'RT @furkansmatip: 100. TL hatta https://t.co/L44eioTMJQ bağış yaparak Furkan’ın kahramanı olabilirsiniz 🙏🏻 5,679 Kahramandan biri siz olmak…',\n",
              " \"RT @KadinlTurk: AKP'li büyükşehir belediye başkanı gazeteci kadına tecavüz etti❗\\nhttps://t.co/hHrStuTBkb\\n\\n#Ataturk\\n#KadinaSiddeteHayir\\n#kal…\",\n",
              " \"RT @KadinlTurk: AKP'li büyükşehir belediye başkanı gazeteci kadına tecavüz etti❗\\nhttps://t.co/hHrStuTBkb\\n\\n#Ataturk\\n#KadinaSiddeteHayir\\n#kal…\",\n",
              " \"RT @HumayunMahmut: Atatürk 'ün ebediyete intikalinin 83.Yıldönümünü saygıyla andık.#10Kasim #Ataturk @KalayliOmer @yasintepe @yagcimehmet27…\",\n",
              " 'RT @55OnderHg: \"Hürriyet olmayan bir memlekette ölüm ve çöküş vardır. Her ilerleyişin ve kurtuluşun anası hürriyettir.\"\\n      *Mustafa Kema…',\n",
              " 'BÜYÜK ÖNDER ATATÜRK SEYHAN’DA SAYGIYLA ANILDI https://t.co/z5MBF3EBao \\n@SeyhanBelediye @akifakay01  #Ataturk',\n",
              " \"RT @durumeric_sma: Atatürk'ü ölümünün 83.yılında hüzünle, saygıyla ve özlemle anıyoruz. Bütün ümidi gençlikte olan Atamızın bir evladı da D…\",\n",
              " 'RT @onur_slater: Emanetin emanetimizdir ATAM! Biz var oldukça unutulmayacaksın. #Ataturk #10Kasım #atamizindeyiz #AtamYasıyorsun https://t.…',\n",
              " '#battlefield1 de böyle bir easteregg yok ama olsa nassı karizma bian olur hissettim şuan. \\n\\nKarakterin raporu okurk… https://t.co/8lx2gi2C7N',\n",
              " '\"Devrimci ve kurucu bir lider olarak  Mustafa Kemal Atatürk\"\\n\\nAtatürkçü Düşünce Derneği (ADD) Genel Başkanı Dr. Hüs… https://t.co/p6pkgeuMFr',\n",
              " 'Hiç unutmam her bürokratın masasında dururdu bu kitap. Ne oldu o kitaplar. Şimdilerde yeni yazılan bir kitap var ay… https://t.co/4jsq9FabK5',\n",
              " 'RT @forzamehmet27: Bugün efkarlıyım açmasın güller.\\nGökbörümüzün sadece bedenen yanımızdan ayrılışının günü. \\n#10Kasim1938 #10Kasim #Atatur…',\n",
              " 'RT @furkansmatip: 100. TL hatta https://t.co/L44eioTMJQ bağış yaparak Furkan’ın kahramanı olabilirsiniz 🙏🏻 5,679 Kahramandan biri siz olmak…',\n",
              " 'AKM’de Atatürk şarkıları | Antalya Kültür Sanat Haberleri https://t.co/PVJ7cJkztV \\n@ANTALYABB #Ataturk #10Kasim https://t.co/mCYI5cMTH8',\n",
              " 'RT @onur_iste: İdealizm, vatanseverlik, çalışkanlık, tutku ve zeka! #Ataturk https://t.co/nzkR87GBkR',\n",
              " 'RT @OMERFGUVENC: Atatürkü bir İnsan olarak,eksikleriyle,kusurlarıyla seviyorum.💐\\n\\nAma Ona tapanlardan,kullananlardan,ideallerini değil de s…',\n",
              " 'RT @OMERFGUVENC: Atatürkü bir İnsan olarak,eksikleriyle,kusurlarıyla seviyorum.💐\\n\\nAma Ona tapanlardan,kullananlardan,ideallerini değil de s…',\n",
              " 'RT @Tanerozekici: Şükran,Mimnet,Rahmet ile anıyoruz seni atam.#Ataturk #KASIM https://t.co/qi85hWpIxc',\n",
              " 'Bence Atatürk şimdi yaşasaydı, ülkemizi yoksulluktan kurtarırdık. \\n\\n#GaziHayattaOlsa #Ataturk https://t.co/CaPV46PxJ3',\n",
              " 'RT @55OnderHg: \"Hürriyet olmayan bir memlekette ölüm ve çöküş vardır. Her ilerleyişin ve kurtuluşun anası hürriyettir.\"\\n      *Mustafa Kema…',\n",
              " \"@parismuhtari's account has been withheld in Turkey in response to a legal demand. Learn more.\",\n",
              " 'RT @furkansmatip: 100. TL hatta https://t.co/L44eioTMJQ bağış yaparak Furkan’ın kahramanı olabilirsiniz 🙏🏻 5,679 Kahramandan biri siz olmak…',\n",
              " 'RT @tulaykaynarca: Azarbaycan\\'da; büyükelçiliğimizin düzenlediği \"10 Kasım Atatürk\\'ü anma\" programlarına katıldık. \\nŞehitliğimizi ziyaret e…',\n",
              " 'RT @furkansmatip: 100. TL hatta https://t.co/L44eioTMJQ bağış yaparak Furkan’ın kahramanı olabilirsiniz 🙏🏻 5,679 Kahramandan biri siz olmak…',\n",
              " 'RT @ic_ses06: #Kasım ayını sevmiyorum çünkü bir sürü y*vşak, üzüntümün üzerine gidecek. Sevdiğimin üzerinden  saygısızlık edecekler. Ve bun…',\n",
              " 'RT @sem_ylmzdr: Başka türlü sevdik, \\nBaşkasını sevemiyoruz\\n\\nSaygı, Sevgi, Minnet ve Özlemle\\nSonsuza kadar…\\n\\n🇹🇷#10Kasim #Ataturk #Sensiz83YI…',\n",
              " \"RT @RakiPalab: Bugün Türkiye yağmur yağmadan ıslandı !!!!\\n\\nGAZİ MUSTAFA KEMAL ATATÜRK'Ü bundan daha iyi ne anlatabilir ki??\\n\\n#Ataturk #atam…\",\n",
              " 'RT @ic_ses06: Canını yerim senin, aslan kardeşim...👏\\n Ağzına sağlık... yüreğine, aklına sağlık... 🙏✌️✌️✌️👏👏👍👍👍👍✌️👏👏👏\\n #içses #Ataturk #atam…',\n",
              " 'RT @ic_ses06: İyi akşamlar dostlarım, günün özelliği itibariyle keyfsiz bir gündü. Birde bir sürü yavşak haberiyle iyice keyfimiz kaçtı. Ta…',\n",
              " 'RT @furkansmatip: 100. TL hatta https://t.co/L44eioTMJQ bağış yaparak Furkan’ın kahramanı olabilirsiniz 🙏🏻 5,679 Kahramandan biri siz olmak…',\n",
              " 'RT @furkansmatip: 100. TL hatta https://t.co/L44eioTMJQ bağış yaparak Furkan’ın kahramanı olabilirsiniz 🙏🏻 5,679 Kahramandan biri siz olmak…',\n",
              " \"RT @tugbaagullu: Almira'm Atasının resmini çizemediği için ağlıyor. Teyzesinin kuzusu senin o güzel yüreğine ölürüm ❤ #Ataturk #10Kasim #10…\",\n",
              " 'RT @sevimyogun: Seni çalışarak anıyorum. #10kasim1938 #10Kasim #ATAM #Sensiz83YIL \\n#Ataturk #MustafaKamalAtaturk #atamizindeyiz #Saygıveoez…',\n",
              " '#SeninleyizTalha #Anitkabir #Ataturk K A L B İ M İ Z D E S İ N  #Sensiz83yıl https://t.co/fKmcN0NaDo',\n",
              " \"TALHA ÇINAR'IN 10 KASIM YAYINI.\\n❤🇹🇷 K A L B İ M İ Z D E S İ N  #10Kasım #Anitkabir #Ataturk  @__esrauzun__… https://t.co/e3ufBmTLKK\",\n",
              " 'RT @furkansmatip: 100. TL hatta https://t.co/L44eioTMJQ bağış yaparak Furkan’ın kahramanı olabilirsiniz 🙏🏻 5,679 Kahramandan biri siz olmak…',\n",
              " \"RT @MorenHaber: Atatürk'ün vasiyeti ve vasiyetini yazdığı köşk:\\n#10Kasim #Ataturk #10Kasim1938 #Anitkabir #trabzon \\nhttps://t.co/kLvpQmgs52\",\n",
              " 'RT @HabereGuven: Mezitli’de Atatürk’e Sevgi Seli https://t.co/u1KaJv50Rj @NesetTarhan @MezitliBel #10Kasim #Ataturk',\n",
              " \"RT @MorenHaber: Atatürk'ün vasiyeti ve vasiyetini yazdığı köşk:\\n#10Kasim #Ataturk #10Kasim1938 #Anitkabir #trabzon \\nhttps://t.co/kLvpQmgs52\",\n",
              " 'RT @BirsenK47597841: @gulsensufraci #dolar10tl #dolar #Shopee1111 #Persembe #Sudan #Ataturk #ARIAsTaylorSwift bakıp geçme#smskampanyası @as…',\n",
              " 'RT @furkansmatip: 100. TL hatta https://t.co/L44eioTMJQ bağış yaparak Furkan’ın kahramanı olabilirsiniz 🙏🏻 5,679 Kahramandan biri siz olmak…',\n",
              " 'RT @yusufkrc70: “İçimde hiçbir şüphe kalmadı Atatürk’ü zehirleyerek şehit ettiler” https://t.co/7os7IgMUT1\\n#10Kasim1938\\n#10Kasim1938\\n#Atatu…',\n",
              " 'RT @55OnderHg: \"Hürriyet olmayan bir memlekette ölüm ve çöküş vardır. Her ilerleyişin ve kurtuluşun anası hürriyettir.\"\\n      *Mustafa Kema…',\n",
              " 'RT @furkansmatip: 100. TL hatta https://t.co/L44eioTMJQ bağış yaparak Furkan’ın kahramanı olabilirsiniz 🙏🏻 5,679 Kahramandan biri siz olmak…',\n",
              " 'RT @55OnderHg: \"Hürriyet olmayan bir memlekette ölüm ve çöküş vardır. Her ilerleyişin ve kurtuluşun anası hürriyettir.\"\\n      *Mustafa Kema…',\n",
              " \"RT @RakiPalab: Bugün Türkiye yağmur yağmadan ıslandı !!!!\\n\\nGAZİ MUSTAFA KEMAL ATATÜRK'Ü bundan daha iyi ne anlatabilir ki??\\n\\n#Ataturk #atam…\",\n",
              " 'Kitaplara linkten ulaşabilirsiniz⤵️\\nhttps://t.co/dHM69jeuDV\\n\\n#Ataturk #atamizindeyiz #AtatuerkTuerkiyedir… https://t.co/u36KlYDne3',\n",
              " 'RT @mustafa19kamal: Cesaretin cesaretimizdir.\\nHedeflerin ufkumuzdur.\\nEmanetin en kıymetli varlığımızdır.\\nBaşlattığın her şey daima sürsün d…',\n",
              " 'Tüm emeği geçen öğretmen ve öğrencileri tebrik ederim iyiki varsınız emeğinize sağlık #avniakyolgüzelsanatlarlisesi… https://t.co/V5UsNiKtjh',\n",
              " 'Cesaretin cesaretimizdir.\\nHedeflerin ufkumuzdur.\\nEmanetin en kıymetli varlığımızdır.\\nBaşlattığın her şey daima sürs… https://t.co/Au8zuezVrP',\n",
              " \"RT @MilliDusunceMDM: 🖊Derin YENER yazdı:\\nMillî Düşünce Merkezi'nin 11 yaşındaki en genç yazarı Derin Yener'in kaleminden 10 Kasım...\\n#Anitk…\",\n",
              " 'Çalışkanlığı, ileri görüşlülüğü ve dehası ile örnek aldığınız birisi sizi kesinlikle motive eder✨ #atamizindeyiz… https://t.co/Xkpz3XmiRN',\n",
              " 'RT @KevserOfluoglu: Ulu Önder Mustafa Kemal Atatürk ruhun şad mekanın cennet olsun.\\n#10Kasim\\n#Ataturk https://t.co/9V4O0YIB6n',\n",
              " \"RT @TurkEmbKigali: Ulu Önder Mustafa Kemal Atatürk'ü aramızdan ayrılışının 83. yılında sonsuz minnet, saygı ve sevgiyle anıyoruz. Daima izi…\",\n",
              " 'RT @nazmisenel: Ne senden vazgeçeriz ne de eserlerinden...\\nUnutmadık, unutmayacağız, unutturmayacağız...\\n#10Kasim \\n#Ataturk\\n#Yoklugunaisyan…',\n",
              " 'RT @tulaykaynarca: Azarbaycan\\'da; büyükelçiliğimizin düzenlediği \"10 Kasım Atatürk\\'ü anma\" programlarına katıldık. \\nŞehitliğimizi ziyaret e…',\n",
              " 'Anıtkabir’i Ziyaret.\\nSaygı, Minnet ve Rahmetle Anıyoruz.\\n#Anitkabir \\n#Ankara \\n#Ataturk \\n#Turkiye https://t.co/YX8mDUUr77',\n",
              " \"RT @TansuYegen: Atatürk'ün anısına dünya ülkelerinde bulunan anıtlar, heykeller, parklar, caddeler... #dünyaizinde #10Kasim1938 #ATATURK…\",\n",
              " 'RT @furkansmatip: 100. TL hatta https://t.co/L44eioTMJQ bağış yaparak Furkan’ın kahramanı olabilirsiniz 🙏🏻 5,679 Kahramandan biri siz olmak…',\n",
              " 'RT @55OnderHg: \"Hürriyet olmayan bir memlekette ölüm ve çöküş vardır. Her ilerleyişin ve kurtuluşun anası hürriyettir.\"\\n      *Mustafa Kema…',\n",
              " 'Osmangazi’de şarkılar Ulu Önder için yankılandı\\nhttps://t.co/NOWP4QvJaS \\n#bursa #sosyaltv #ataturk #ATAM… https://t.co/YVkyxmydJY',\n",
              " 'RT @55OnderHg: \"Hürriyet olmayan bir memlekette ölüm ve çöküş vardır. Her ilerleyişin ve kurtuluşun anası hürriyettir.\"\\n      *Mustafa Kema…',\n",
              " \"RT @sen_olYuksel: Allah'a 10 dakikanızı ayırıp O'na dua etmek istemez misiniz? Tıpkı Yemenli Üveys (Veysel karani hz.leri)gibi, neler değiş…\",\n",
              " 'RT @Aze_SeEu: “Her fert istediğini düşünmek, istediğine inanmak, kendine mahsus siyasî bir fikre malik olmak, seçtiği bir dinin icaplarını…',\n",
              " 'RT @cebellimutlu: Açtığın yolda, gösterdiğin hedefe durmadan yürüyeceğime ant içerim.\\nVarlığım Türk varlığına armağan olsun.\\nNe mutlu Türkü…',\n",
              " 'RT @ruhi_aliyeva: \"Azerbaycan\\'ın kederi kederimiz, sevinci sevincimizdir\" -Mustafa Kamal ATATÜRK \\nQardaş #Türkiyə Cümhuriyyətinin qurucusu…',\n",
              " 'RT @yusufkrc70: “İçimde hiçbir şüphe kalmadı Atatürk’ü zehirleyerek şehit ettiler” https://t.co/7os7IgMUT1\\n#10Kasim1938\\n#10Kasim1938\\n#Atatu…',\n",
              " 'RT @55OnderHg: \"Hürriyet olmayan bir memlekette ölüm ve çöküş vardır. Her ilerleyişin ve kurtuluşun anası hürriyettir.\"\\n      *Mustafa Kema…',\n",
              " 'RT @NOWAYOU39606641: @sputnik_TR #SueresizNafakaMağduru #10Kasim #siren #Ataturk #kalbimizdesin buyurun Sayın bakan @abdulhamitgul HAKKIMI…',\n",
              " 'RT @furkansmatip: 100. TL hatta https://t.co/L44eioTMJQ bağış yaparak Furkan’ın kahramanı olabilirsiniz 🙏🏻 5,679 Kahramandan biri siz olmak…',\n",
              " 'RT @BirsenK47597841: @gulsensufraci #dolar10tl #dolar #Shopee1111 #Persembe #Sudan #Ataturk #ARIAsTaylorSwift bakıp geçme#smskampanyası @as…',\n",
              " 'Nevzat Tarhan: “Atatürk ve Liderlik Psikolojisi” Paneli https://t.co/hTfhL2YPjx #NevzatTarhan #ÜsküdarÜniversitesi… https://t.co/fBaKKazwQ9',\n",
              " 'Ata’ya Saygı Gecesi https://t.co/4azITlrspi #edirne #kesan #10Kasim #Ataturk',\n",
              " 'RT @Funddemir_: \"Milletim beni nereye isterse oraya gömsün. Yeter ki beni unutmasın.\"\\n\\nMustafa Kemal Atatürk\\n\\n#10Kasim1938 #10Kasim #Anitka…',\n",
              " '🤣🤣🤣 @Selcuk ne güzel mesafe almış, herkes yoluna gelecek bu tüm yobazlar için geçerli #Ataturk #Sensiz83yıl https://t.co/8PmLEFK9Vy',\n",
              " 'RT @KevserOfluoglu: Ulu Önder Mustafa Kemal Atatürk ruhun şad mekanın cennet olsun.\\n#10Kasim\\n#Ataturk https://t.co/9V4O0YIB6n',\n",
              " 'RT @byn_serotonin: Cumhuriyetimizin kurucusu Ulu Önderimiz Mustafa Kemal Atatürk’ü saygı, minnet ve özlemle anıyorum  \\n#10Kasim #10Kasim193…',\n",
              " 'RT @umutsezginn: Saygıyla, minnetle, özlemle.... #uluönder #10Kasim #atamizindeyiz #ölümsüz #Ataturk https://t.co/CZKI5wgXxw',\n",
              " 'RT @55OnderHg: \"Hürriyet olmayan bir memlekette ölüm ve çöküş vardır. Her ilerleyişin ve kurtuluşun anası hürriyettir.\"\\n      *Mustafa Kema…',\n",
              " 'ölümünden bilmem kaç sene sonra bu kadar sevgi - saygı seli , günlük siyasetçilere daha büyük bir kılavuz var mı ?? #Ataturk',\n",
              " 'RT @55OnderHg: \"Hürriyet olmayan bir memlekette ölüm ve çöküş vardır. Her ilerleyişin ve kurtuluşun anası hürriyettir.\"\\n      *Mustafa Kema…',\n",
              " 'RT @Kahvem_Sigaram: Sırf biz dik duralım diye \\nkimseye boyun eğmeyişini \\ns’on Kasım’a kadar ne unutacağız, \\nne unutturacağız..…',\n",
              " 'RT @55OnderHg: \"Hürriyet olmayan bir memlekette ölüm ve çöküş vardır. Her ilerleyişin ve kurtuluşun anası hürriyettir.\"\\n      *Mustafa Kema…',\n",
              " 'RT @furkansmatip: 100. TL hatta https://t.co/L44eioTMJQ bağış yaparak Furkan’ın kahramanı olabilirsiniz 🙏🏻 5,679 Kahramandan biri siz olmak…',\n",
              " 'RT @KevserOfluoglu: Ulu Önder Mustafa Kemal Atatürk ruhun şad mekanın cennet olsun.\\n#10Kasim\\n#Ataturk https://t.co/9V4O0YIB6n',\n",
              " 'RT @Baris_Sma: BARIŞ günden güne eriyor, kas kaybediyor…Barış’ın gülüşü solmasın diye📌BARIŞ yaz 9023’e gönder,20 TL ile bağış ile Barış’ı h…',\n",
              " 'RT @DuyguBakkaloglu: Yeniden ve yeniden okumalı\\n#10Kasim #10Kasim1938 #Ataturk #Nutuk #10Kasim193oo #CocuğunuKemalizmdenKoru https://t.co/S…',\n",
              " \"RT @Herdaim_Haber: Sedat Peker: Ata'sını bilmeyen it peşinde gezer!\\nhttps://t.co/81tJT5JEVU \\n@sedat_peker \\n#10Kasim #Ataturk #SedatPeker ht…\",\n",
              " 'RT @55OnderHg: \"Hürriyet olmayan bir memlekette ölüm ve çöküş vardır. Her ilerleyişin ve kurtuluşun anası hürriyettir.\"\\n      *Mustafa Kema…',\n",
              " 'RT @55OnderHg: \"Hürriyet olmayan bir memlekette ölüm ve çöküş vardır. Her ilerleyişin ve kurtuluşun anası hürriyettir.\"\\n      *Mustafa Kema…',\n",
              " \"RT @MilliDusunceMDM: 🖊Derin YENER yazdı:\\nMillî Düşünce Merkezi'nin 11 yaşındaki en genç yazarı Derin Yener'in kaleminden 10 Kasım...\\n#Anitk…\",\n",
              " 'RT @nyks1925: Senin sevgin dünya döndükçe devam edecek ❤️\\n#Ataturk',\n",
              " 'RT @MemleketHrkt41: @Canan_Kaftanci Höösst sen ne anlarsın Atatürk ten ? \\n\\nSen git terörist Sakine yi an Hasan Ocak ı an . \\n\\nAlemi kör herk…',\n",
              " 'RT @55OnderHg: \"Hürriyet olmayan bir memlekette ölüm ve çöküş vardır. Her ilerleyişin ve kurtuluşun anası hürriyettir.\"\\n      *Mustafa Kema…',\n",
              " \"RT @Herdaim_Haber: Sedat Peker: Ata'sını bilmeyen it peşinde gezer!\\nhttps://t.co/81tJT5JEVU \\n@sedat_peker \\n#10Kasim #Ataturk #SedatPeker ht…\",\n",
              " \"RT @sen_olYuksel: Allah'a 10 dakikanızı ayırıp O'na dua etmek istemez misiniz? Tıpkı Yemenli Üveys (Veysel karani hz.leri)gibi, neler değiş…\",\n",
              " 'RT @55OnderHg: \"Hürriyet olmayan bir memlekette ölüm ve çöküş vardır. Her ilerleyişin ve kurtuluşun anası hürriyettir.\"\\n      *Mustafa Kema…',\n",
              " 'RT @KevserOfluoglu: Ulu Önder Mustafa Kemal Atatürk ruhun şad mekanın cennet olsun.\\n#10Kasim\\n#Ataturk https://t.co/9V4O0YIB6n',\n",
              " \"RT @alisusz: CHP Esenyurt Gençlik Kollari düzenlemiş olduğu 10 Kasım Gazi Mustafa Kemal Atatürk'ü anma programına katıldık. Hediye ettikler…\",\n",
              " 'RT @MAliatayurt: “Gökbayraktan Albayrağa selam olsun” \\n#Ataturk \\n#10Kasim https://t.co/HKLFxUrHzs',\n",
              " \"RT @Herdaim_Haber: Sedat Peker: Ata'sını bilmeyen it peşinde gezer!\\nhttps://t.co/81tJT5JEVU \\n@sedat_peker \\n#10Kasim #Ataturk #SedatPeker ht…\",\n",
              " 'RT @furkansmatip: 100. TL hatta https://t.co/L44eioTMJQ bağış yaparak Furkan’ın kahramanı olabilirsiniz 🙏🏻 5,679 Kahramandan biri siz olmak…',\n",
              " 'Atatürk, sevdiği türkülerle anıldı\\nhttps://t.co/IQDtRaQCCy \\n#bursa #sosyaltv #bursahaberleri #10Kasim #10Kasim1938… https://t.co/TOfBjcEcfR',\n",
              " 'RT @55OnderHg: \"Hürriyet olmayan bir memlekette ölüm ve çöküş vardır. Her ilerleyişin ve kurtuluşun anası hürriyettir.\"\\n      *Mustafa Kema…',\n",
              " 'RT @NOWAYOU39606641: #SueresizNafakaMağduru #10Kasim #siren #Ataturk #kalbimizdesin buyurun Sayın bakan @abdulhamitgul HAKKIMI HELAL ETMİYO…',\n",
              " 'RT @55OnderHg: \"Hürriyet olmayan bir memlekette ölüm ve çöküş vardır. Her ilerleyişin ve kurtuluşun anası hürriyettir.\"\\n      *Mustafa Kema…',\n",
              " 'RT @furkansmatip: 100. TL hatta https://t.co/L44eioTMJQ bağış yaparak Furkan’ın kahramanı olabilirsiniz 🙏🏻 5,679 Kahramandan biri siz olmak…',\n",
              " 'RT @Baris_Sma: BARIŞ günden güne eriyor, kas kaybediyor…Barış’ın gülüşü solmasın diye📌BARIŞ yaz 9023’e gönder,20 TL ile bağış ile Barış’ı h…',\n",
              " 'RT @55OnderHg: \"Hürriyet olmayan bir memlekette ölüm ve çöküş vardır. Her ilerleyişin ve kurtuluşun anası hürriyettir.\"\\n      *Mustafa Kema…',\n",
              " 'RT @forzamehmet27: Bugün efkarlıyım açmasın güller.\\nGökbörümüzün sadece bedenen yanımızdan ayrılışının günü. \\n#10Kasim1938 #10Kasim #Atatur…',\n",
              " 'Böyledir Bizim sevdamız💛\\nCanım Atam💛🌼🇹🇷\\nGünaydın 🐈\\n#Ataturk #10Kasim1938\\n#GaziHayattaOlsa #FOXHaber https://t.co/fqtW2eFLYs',\n",
              " \"Almira'm Atasının resmini çizemediği için ağlıyor. Teyzesinin kuzusu senin o güzel yüreğine ölürüm ❤ #Ataturk… https://t.co/tN7k8DKpQp\",\n",
              " 'RT @55OnderHg: \"Hürriyet olmayan bir memlekette ölüm ve çöküş vardır. Her ilerleyişin ve kurtuluşun anası hürriyettir.\"\\n      *Mustafa Kema…',\n",
              " \"RT @TansuYegen: Atatürk'ün anısına dünya ülkelerinde bulunan anıtlar, heykeller, parklar, caddeler... #dünyaizinde #10Kasim1938 #ATATURK…\",\n",
              " 'RT @salihsullu1903: Anadolu Beşiktaşlılar Derneği Atasının huzurunda. \\n\\n@anadolubjk @KemalErdoganBjk #Besiktas #10Kasim #Anitkabir #Ataturk…',\n",
              " 'RT @DpGultekinUysal: İşte, Mustafa Kemal Atatürk de Türk Milleti\\'ne \"Hızır\" olmuştur.\\n\\nUmudunun tükendiği, gayretinin kifayet etmediği, ne…',\n",
              " 'RT @ETKUzmanlari: Benim naçiz vücudum, bir gün elbet toprak olacaktır. Fakat Türkiye Cumhuriyeti, ilelebet payidar kalacaktır.\\n\\nSaygı ve öz…',\n",
              " 'RT @55OnderHg: \"Hürriyet olmayan bir memlekette ölüm ve çöküş vardır. Her ilerleyişin ve kurtuluşun anası hürriyettir.\"\\n      *Mustafa Kema…',\n",
              " 'En özel Öğretmenler Günü Hediyesi❤ İki özel kitap sadece 21 TL⤵️\\n https://t.co/2MmWl8IDCw\\n\\n#atamizindeyiz #Ataturk… https://t.co/6GspHooPaF',\n",
              " 'RT @55OnderHg: \"Hürriyet olmayan bir memlekette ölüm ve çöküş vardır. Her ilerleyişin ve kurtuluşun anası hürriyettir.\"\\n      *Mustafa Kema…',\n",
              " 'RT @kimsekimene_: Anmayanları eleştirmiyorum, çünkü anlamayanların, anmasını beklemek çok anlamlı gelmiyor.\\nSaygısızca davrananlar ise zate…',\n",
              " \"RT @Herdaim_Haber: Sedat Peker: Ata'sını bilmeyen it peşinde gezer!\\nhttps://t.co/81tJT5JEVU \\n@sedat_peker \\n#10Kasim #Ataturk #SedatPeker ht…\",\n",
              " 'RT @KevserOfluoglu: Ulu Önder Mustafa Kemal Atatürk ruhun şad mekanın cennet olsun.\\n#10Kasim\\n#Ataturk https://t.co/9V4O0YIB6n',\n",
              " 'RT @55OnderHg: \"Hürriyet olmayan bir memlekette ölüm ve çöküş vardır. Her ilerleyişin ve kurtuluşun anası hürriyettir.\"\\n      *Mustafa Kema…',\n",
              " 'RT @55OnderHg: \"Hürriyet olmayan bir memlekette ölüm ve çöküş vardır. Her ilerleyişin ve kurtuluşun anası hürriyettir.\"\\n      *Mustafa Kema…',\n",
              " 'Merhaba yeni gelen güne...\\nMerhaba yaşama gücümüze...\\n\\nMutlu sabahlar. ..💙\\n#Ataturk\\n#Persembe \\n#dolar10tl https://t.co/CNnvHWCodb',\n",
              " 'Atatürk’ü Kayısı Bahçesinde Andılar https://t.co/btD8ruZJfQ #ığdır #Ataturk https://t.co/AkNY7IIo4D',\n",
              " 'RT @azuras_london: Ulkemizde gunde 5 defa okunan EZAN sesini duyabiliyorsak , yilda bir defa calinan SiREN sesinin sayesinde oldugunu unutm…',\n",
              " 'RT @55OnderHg: \"Hürriyet olmayan bir memlekette ölüm ve çöküş vardır. Her ilerleyişin ve kurtuluşun anası hürriyettir.\"\\n      *Mustafa Kema…',\n",
              " 'Sadece #ataturk sevenlere\\n#günaydın #goodmorning https://t.co/JukrD93biX',\n",
              " 'RT @utkualtunoz: Her geçen zaman daha da artan özlem, saygı ve minnet duygularıyla..Ruhunuz şad,  mekanınız cennet olsun..#10Kasim  #Atatur…',\n",
              " 'RT @YukselPresents: #Atatürk sevgisi işte böyle bir sevgidir..\\n\\n#AtatürkDemek #Ataturk https://t.co/o3pg6wqWgQ',\n",
              " 'RT @DpGultekinUysal: İşte, Mustafa Kemal Atatürk de Türk Milleti\\'ne \"Hızır\" olmuştur.\\n\\nUmudunun tükendiği, gayretinin kifayet etmediği, ne…',\n",
              " 'Hiç boşuna zorlamayın. Bizler, sizin gibi salak değiliz. Yolun sonunu gördüğü için aniden Atatürk aşkıyla yanıp tut… https://t.co/ylI5Fm9eY7',\n",
              " 'RT @azuras_london: Ulkemizde gunde 5 defa okunan EZAN sesini duyabiliyorsak , yilda bir defa calinan SiREN sesinin sayesinde oldugunu unutm…',\n",
              " 'RT @_MuminSahin: Tekirdağ Valiliğimiz tarafından organize edilen 🇹🇷 #10Kasim Çelenk Sunum Törenine katılım sağladık... 🇹🇷#Ataturk🇹🇷 https:/…',\n",
              " '@ahmethamdicamli Camide siyaset out\\nMescidde siyaset in \\nModuna girmişsiniz ..\\n\\nVites düşüre düşüre hedef 2023 yani… https://t.co/kkeN2qq6jv',\n",
              " 'RT @55OnderHg: \"Hürriyet olmayan bir memlekette ölüm ve çöküş vardır. Her ilerleyişin ve kurtuluşun anası hürriyettir.\"\\n      *Mustafa Kema…',\n",
              " 'RT @KevserOfluoglu: Ulu Önder Mustafa Kemal Atatürk ruhun şad mekanın cennet olsun.\\n#10Kasim\\n#Ataturk https://t.co/9V4O0YIB6n',\n",
              " 'RT @ic_ses06: İyi akşamlar dostlarım, günün özelliği itibariyle keyfsiz bir gündü. Birde bir sürü yavşak haberiyle iyice keyfimiz kaçtı. Ta…',\n",
              " 'RT @Baris_Sma: BARIŞ günden güne eriyor, kas kaybediyor…Barış’ın gülüşü solmasın diye📌BARIŞ yaz 9023’e gönder,20 TL ile bağış ile Barış’ı h…',\n",
              " 'RT @SerapYesiltuna: Dün beni çok etkileyen bir hikaye dinledim. \\nTürkkaya Ataöv hoca anlattı.\\n\"1938 yılında Gelibolu\\'daydım. Çocuktum.  Gün…',\n",
              " '@itidalhaber Kemalistlerle Müslümanların yüzlerce ortak noktasindan biri . Bi taraf ramazanda oruç tutmayana saldır… https://t.co/heerfEtYFQ',\n",
              " 'RT @55OnderHg: \"Hürriyet olmayan bir memlekette ölüm ve çöküş vardır. Her ilerleyişin ve kurtuluşun anası hürriyettir.\"\\n      *Mustafa Kema…',\n",
              " 'RT @KevserOfluoglu: Ulu Önder Mustafa Kemal Atatürk ruhun şad mekanın cennet olsun.\\n#10Kasim\\n#Ataturk https://t.co/9V4O0YIB6n',\n",
              " 'Ulu Önder Mustafa Kemal Atatürk ruhun şad mekanın cennet olsun.\\n#10Kasim\\n#Ataturk https://t.co/9V4O0YIB6n',\n",
              " 'RT @furkansmatip: 100. TL hatta https://t.co/L44eioTMJQ bağış yaparak Furkan’ın kahramanı olabilirsiniz 🙏🏻 5,679 Kahramandan biri siz olmak…',\n",
              " 'RT @55OnderHg: \"Hürriyet olmayan bir memlekette ölüm ve çöküş vardır. Her ilerleyişin ve kurtuluşun anası hürriyettir.\"\\n      *Mustafa Kema…',\n",
              " \"Atamız'ın aramızdan ayrılışının 83. yılı anısına , dün akşam  gerçekleştirdiğimiz ,\\n Atamız'ın sevdiği şarkılar pro… https://t.co/n7wxXS8Rui\",\n",
              " 'RT @furkansmatip: 100. TL hatta https://t.co/L44eioTMJQ bağış yaparak Furkan’ın kahramanı olabilirsiniz 🙏🏻 5,679 Kahramandan biri siz olmak…',\n",
              " 'RT @fatihdogan_38: Dolmabahçe \\n10 Kasım\\n09.05\\n2017\\n#Besiktas \\n#Ataturk https://t.co/bdgCJ6AjTu',\n",
              " 'RT @KubilayKan: ATA’ ya saygı…🇹🇷❤️\\n#AtamYasıyorsun #10kasım #Ataturk #turkiye https://t.co/Dju7QYHDwN',\n",
              " 'RT @DpGultekinUysal: İşte, Mustafa Kemal Atatürk de Türk Milleti\\'ne \"Hızır\" olmuştur.\\n\\nUmudunun tükendiği, gayretinin kifayet etmediği, ne…',\n",
              " \"RT @Osmantohumcu2: Cumhuriyetimizin kurucusu Gazi  Mustafa Kemal Atatürk'ü saygı, minnet ve rahmetle anıyoruz.\\n#10Kasım1938 \\n#Ataturk🇹🇷 htt…\",\n",
              " 'RT @Kahvem_Sigaram: Sırf biz dik duralım diye \\nkimseye boyun eğmeyişini \\ns’on Kasım’a kadar ne unutacağız, \\nne unutturacağız..…',\n",
              " 'RT @55OnderHg: \"Hürriyet olmayan bir memlekette ölüm ve çöküş vardır. Her ilerleyişin ve kurtuluşun anası hürriyettir.\"\\n      *Mustafa Kema…',\n",
              " 'RT @55OnderHg: \"Hürriyet olmayan bir memlekette ölüm ve çöküş vardır. Her ilerleyişin ve kurtuluşun anası hürriyettir.\"\\n      *Mustafa Kema…',\n",
              " \"RT @TansuYegen: Atatürk'ün anısına dünya ülkelerinde bulunan anıtlar, heykeller, parklar, caddeler... #dünyaizinde #10Kasim1938 #ATATURK…\",\n",
              " 'RT @laleozanarslan: Yarın yine aynı saatte en büyük devrimci Atamızı selamlayacağız. \\n Özlem, minnet ve aşkla…\\n#10Kasim \\n#Ataturk https://t…',\n",
              " 'RT @DpGultekinUysal: İşte, Mustafa Kemal Atatürk de Türk Milleti\\'ne \"Hızır\" olmuştur.\\n\\nUmudunun tükendiği, gayretinin kifayet etmediği, ne…',\n",
              " 'RT @55OnderHg: \"Hürriyet olmayan bir memlekette ölüm ve çöküş vardır. Her ilerleyişin ve kurtuluşun anası hürriyettir.\"\\n      *Mustafa Kema…',\n",
              " 'RT @furkansmatip: 100. TL hatta https://t.co/L44eioTMJQ bağış yaparak Furkan’ın kahramanı olabilirsiniz 🙏🏻 5,679 Kahramandan biri siz olmak…',\n",
              " 'RT @fatihdogan_38: Dolmabahçe \\n10 Kasım\\n09.05\\n2017\\n#Besiktas \\n#Ataturk https://t.co/bdgCJ6AjTu',\n",
              " 'RT @55OnderHg: \"Hürriyet olmayan bir memlekette ölüm ve çöküş vardır. Her ilerleyişin ve kurtuluşun anası hürriyettir.\"\\n      *Mustafa Kema…',\n",
              " 'Atatürk’ün, “Her işin esas hedefine kısa ve kestirme yoldan varmak arzu edilmekle beraber yolun kabul edilebilir; m… https://t.co/sCSTMdg2hw',\n",
              " 'Günaydınlar,\\n\\nSevgi \\nSaygı\\nÖzlem \\nMinnet\\n\\n#Ataturk',\n",
              " 'RT @55OnderHg: \"Hürriyet olmayan bir memlekette ölüm ve çöküş vardır. Her ilerleyişin ve kurtuluşun anası hürriyettir.\"\\n      *Mustafa Kema…',\n",
              " 'RT @forzamehmet27: Bugün efkarlıyım açmasın güller.\\nGökbörümüzün sadece bedenen yanımızdan ayrılışının günü. \\n#10Kasim1938 #10Kasim #Atatur…',\n",
              " 'RT @trtk777: Bizler ancak Zeybek oynarken diz çökeceğiz ATAM...Ruhun Şad,Mekanin Peygamber efendimizin cennetinde Komşuluğu olsun. Biz sana…',\n",
              " '#DolarTL #Ataturk #10kasim1938 Her gün duyduğunuz ezan sesini #10Kasım daki bir siren sesine borçlusunuz.',\n",
              " 'RT @mahozyavuz: Sayende mücadele azmi içimizde her zaman hiç sönmeyecek bir ateş misali körüklenerek  devam edecek. Sonsuz saygı,sevgi ve ö…',\n",
              " 'RT @NOWAYOU39606641: #SueresizNafakaMağduru #10Kasim #siren #Ataturk #kalbimizdesin buyurun Sayın bakan @abdulhamitgul HAKKIMI HELAL ETMİYO…',\n",
              " 'RT @furkansmatip: 100. TL hatta https://t.co/L44eioTMJQ bağış yaparak Furkan’ın kahramanı olabilirsiniz 🙏🏻 5,679 Kahramandan biri siz olmak…',\n",
              " 'RT @furkansmatip: 100. TL hatta https://t.co/L44eioTMJQ bağış yaparak Furkan’ın kahramanı olabilirsiniz 🙏🏻 5,679 Kahramandan biri siz olmak…',\n",
              " 'RT @55OnderHg: \"Hürriyet olmayan bir memlekette ölüm ve çöküş vardır. Her ilerleyişin ve kurtuluşun anası hürriyettir.\"\\n      *Mustafa Kema…',\n",
              " '@omerrcelik Ulan madem herkes #Ataturk ü seviyor. Bu seçim sonuçları ne ?',\n",
              " 'RT @55OnderHg: \"Hürriyet olmayan bir memlekette ölüm ve çöküş vardır. Her ilerleyişin ve kurtuluşun anası hürriyettir.\"\\n      *Mustafa Kema…',\n",
              " '@KigiliGiyimAS Ulan madem herkes #Ataturk ü seviyor. Bu seçim sonuçları ne amk?',\n",
              " '@koroplast Ulan madem herkes #Ataturk ü seviyor. Bu seçim sonuçları ne amk?',\n",
              " 'RT @Kahvem_Sigaram: Sırf biz dik duralım diye \\nkimseye boyun eğmeyişini \\ns’on Kasım’a kadar ne unutacağız, \\nne unutturacağız..…',\n",
              " 'Ulan madem herkes #Ataturk ü seviyor. Bu seçim sonuçları ne amk..?',\n",
              " 'Zeynep Oral : \"Mustafa Kemal’in sivilleriyiz!\" https://t.co/KS5m5YXQmr #Cumhuriyet #cumhuriyetgzt @cumhuriyetgzt #mustafakemal #Ataturk',\n",
              " 'RT @55OnderHg: \"Hürriyet olmayan bir memlekette ölüm ve çöküş vardır. Her ilerleyişin ve kurtuluşun anası hürriyettir.\"\\n      *Mustafa Kema…',\n",
              " 'Sağ,sol,türk,kürt,sunni alevi vb kavramlar siyasi partilerin gözünüzü kapatıp kendi menfaatlerine çalışmalarını sağ… https://t.co/4r9WnGesAs',\n",
              " 'RT @55OnderHg: \"Hürriyet olmayan bir memlekette ölüm ve çöküş vardır. Her ilerleyişin ve kurtuluşun anası hürriyettir.\"\\n      *Mustafa Kema…',\n",
              " '@turgut_bozgeyik @ekrem_imamoglu @ibbhaberleri @tcbuyuksehir @avukatbahatttin @HERSEYCOKGZELO3 @mahmuree_chp… https://t.co/8CVTRIPjFf',\n",
              " '#Atatürk sevgisi işte böyle bir sevgidir..\\n\\n#AtatürkDemek #Ataturk https://t.co/o3pg6wqWgQ',\n",
              " \"RT @Herdaim_Haber: Sedat Peker: Ata'sını bilmeyen it peşinde gezer!\\nhttps://t.co/81tJT5JEVU \\n@sedat_peker \\n#10Kasim #Ataturk #SedatPeker ht…\",\n",
              " 'RT @turgut_bozgeyik: Ekrem İmamoğlu: Bu ülkenin başına gelmiş \\nen güzel şey, Atatürk...\\nhttps://t.co/C4rYPlexgi\\n@ekrem_imamoglu @ibbhaberle…',\n",
              " 'RT @55OnderHg: \"Hürriyet olmayan bir memlekette ölüm ve çöküş vardır. Her ilerleyişin ve kurtuluşun anası hürriyettir.\"\\n      *Mustafa Kema…',\n",
              " 'RT @55OnderHg: \"Hürriyet olmayan bir memlekette ölüm ve çöküş vardır. Her ilerleyişin ve kurtuluşun anası hürriyettir.\"\\n      *Mustafa Kema…',\n",
              " '@lntyp @Chetinceviz Milli Ruha saldırıyorlar . #Ataturk milli ruh olarak T.C koruyan bir milli Nizam üretemez hale… https://t.co/sX3ngv60PO',\n",
              " 'RT @turgut_bozgeyik: Ekrem İmamoğlu: Bu ülkenin başına gelmiş \\nen güzel şey, Atatürk...\\nhttps://t.co/C4rYPlexgi\\n@ekrem_imamoglu @ibbhaberle…',\n",
              " 'Günaydın !..\\n\\n“Her insan üç karakterlidir; aslı, göstermelik olanı ve olduğunu sandığı…”\\n\\nAlphonse Karr\\n\\n#Persembe… https://t.co/G9HuSBQaEp',\n",
              " 'O kadar güzelsin ki  #Ataturk #galatakulesi https://t.co/AvQjAMImzc',\n",
              " 'RT @DpGultekinUysal: İşte, Mustafa Kemal Atatürk de Türk Milleti\\'ne \"Hızır\" olmuştur.\\n\\nUmudunun tükendiği, gayretinin kifayet etmediği, ne…',\n",
              " 'RT @55OnderHg: \"Hürriyet olmayan bir memlekette ölüm ve çöküş vardır. Her ilerleyişin ve kurtuluşun anası hürriyettir.\"\\n      *Mustafa Kema…',\n",
              " 'RT @55OnderHg: \"Hürriyet olmayan bir memlekette ölüm ve çöküş vardır. Her ilerleyişin ve kurtuluşun anası hürriyettir.\"\\n      *Mustafa Kema…',\n",
              " 'RT @ic_ses06: İyi akşamlar dostlarım, günün özelliği itibariyle keyfsiz bir gündü. Birde bir sürü yavşak haberiyle iyice keyfimiz kaçtı. Ta…',\n",
              " 'RT @55OnderHg: \"Hürriyet olmayan bir memlekette ölüm ve çöküş vardır. Her ilerleyişin ve kurtuluşun anası hürriyettir.\"\\n      *Mustafa Kema…',\n",
              " 'RT @Baris_Sma: BARIŞ günden güne eriyor, kas kaybediyor…Barış’ın gülüşü solmasın diye📌BARIŞ yaz 9023’e gönder,20 TL ile bağış ile Barış’ı h…',\n",
              " 'RT @55OnderHg: \"Hürriyet olmayan bir memlekette ölüm ve çöküş vardır. Her ilerleyişin ve kurtuluşun anası hürriyettir.\"\\n      *Mustafa Kema…',\n",
              " 'RT @Dpiscehisar: Saygı,özlem ve minnet ile...\\n#10kasım193oo #Ataturk @DpGultekinUysal @yldrmmrcn https://t.co/b3aQj9Ksxy',\n",
              " 'RT @DPaytekinguler: Türkiye Cumhuriyetinin Kurucusu ve ebedi Başkomutanı;\\n\\nSen rahat uyu. Bu toprakların evlatları kurduğun Cumhurriyet içi…',\n",
              " 'RT @55OnderHg: \"Hürriyet olmayan bir memlekette ölüm ve çöküş vardır. Her ilerleyişin ve kurtuluşun anası hürriyettir.\"\\n      *Mustafa Kema…',\n",
              " 'RT @55OnderHg: \"Hürriyet olmayan bir memlekette ölüm ve çöküş vardır. Her ilerleyişin ve kurtuluşun anası hürriyettir.\"\\n      *Mustafa Kema…',\n",
              " 'RT @furkansmatip: 100. TL hatta https://t.co/L44eioTMJQ bağış yaparak Furkan’ın kahramanı olabilirsiniz 🙏🏻 5,679 Kahramandan biri siz olmak…',\n",
              " 'RT @55OnderHg: \"Hürriyet olmayan bir memlekette ölüm ve çöküş vardır. Her ilerleyişin ve kurtuluşun anası hürriyettir.\"\\n      *Mustafa Kema…',\n",
              " 'RT @55OnderHg: \"Hürriyet olmayan bir memlekette ölüm ve çöküş vardır. Her ilerleyişin ve kurtuluşun anası hürriyettir.\"\\n      *Mustafa Kema…',\n",
              " 'RT @55OnderHg: \"Hürriyet olmayan bir memlekette ölüm ve çöküş vardır. Her ilerleyişin ve kurtuluşun anası hürriyettir.\"\\n      *Mustafa Kema…',\n",
              " '\"Hürriyet olmayan bir memlekette ölüm ve çöküş vardır. Her ilerleyişin ve kurtuluşun anası hürriyettir.\"\\n      *Mus… https://t.co/HnPsKnmbew',\n",
              " 'RT @furkansmatip: 100. TL hatta https://t.co/L44eioTMJQ bağış yaparak Furkan’ın kahramanı olabilirsiniz 🙏🏻 5,679 Kahramandan biri siz olmak…',\n",
              " 'RT @furkansmatip: 100. TL hatta https://t.co/L44eioTMJQ bağış yaparak Furkan’ın kahramanı olabilirsiniz 🙏🏻 5,679 Kahramandan biri siz olmak…',\n",
              " 'RT @zulkufonal: “Sen çivisi çıkmış bu dünyada, duvara asılan en güzel fotoğrafsın” #MustafaKemalATATURK #ATATURK https://t.co/t0O9KzpaNI',\n",
              " '@ahmethamdicamli Hafız; Memlekette mescit mi bitti allah aşkına. Art niyetli paylaşım. Umarım namazlarını kılıyorsu… https://t.co/zgoiCyxw9y',\n",
              " 'Yaşasın Kemal Atatürk ülkelerine dayanan Türkiye Cumhuriyeti! #cumhuriyet #kadınolmak #turkiye #10Kasim #Ataturk… https://t.co/FfLpX4ZkOZ',\n",
              " 'RT @AyeKk40750204: Kaygılanma çocuk herkes ölür. Kimi toprağa kimi kalbe gömülür. Saygıyla anıyoruz. #10Kasim #10Kasim1938 #10kasım193oo #1…',\n",
              " \"RT @Suzan89498028: 10 Kasım saat 09:05 te çalacak olan ''SİREN'' sesinden rahatsız olanların sorunu kulaklarında değil, kanındadır.\\n#10Kasi…\",\n",
              " 'RT @ruhi_aliyeva: \"Azerbaycan\\'ın kederi kederimiz, sevinci sevincimizdir\" -Mustafa Kamal ATATÜRK \\nQardaş #Türkiyə Cümhuriyyətinin qurucusu…',\n",
              " 'RT @FENERAVRASYA: @icesur 2 ay önce halde çöpe dökülen kabak...\\n\\n10 TL....\\n\\n2 TL ya satmamak için\\nMillet yemesin diye çöpe atıldı...\\nSonuç…',\n",
              " 'RT @KavafOzge: Günaydınnn 💛💙 #Persembe #Ataturk #atamizindeyiz https://t.co/ZfH6DmpoEj',\n",
              " 'RT @onurcingil: Bir çift mavi gözün ışığında...\\nDaima!!! \\n#Ataturk #10Kasim #10Kasim1938 https://t.co/L2xXuCSvJY',\n",
              " 'RT @nyks1925: Senin sevgin dünya döndükçe devam edecek ❤️\\n#Ataturk',\n",
              " \"RT @ridvan5971: Atam  57 yedi sene yaşamış \\nÇocukluğu hariç gerisini savaş \\nmeydanlarında harcamış\\nCebinden para vererek \\nElmalı Hamdi'ye K…\",\n",
              " \"RT @oya_derya: Seni görüyoruz, göreceğiz...\\nİlkelerini gelecek nesillere sevk edeceğiz.\\n#UluÖnder Mustafa Kemal Atatürk'e,\\n saygı ve minnet…\",\n",
              " 'RT @furkansmatip: 100. TL hatta https://t.co/L44eioTMJQ bağış yaparak Furkan’ın kahramanı olabilirsiniz 🙏🏻 5,679 Kahramandan biri siz olmak…',\n",
              " 'Kapalı Çarşı esnafı 09.05 gece saygı duymayan saygisiza yönelik tepkisi takdire şayandir. Tebrikler… https://t.co/ZbTIdI1az7',\n",
              " 'RT @furkansmatip: 100. TL hatta https://t.co/L44eioTMJQ bağış yaparak Furkan’ın kahramanı olabilirsiniz 🙏🏻 5,679 Kahramandan biri siz olmak…',\n",
              " 'RT @sem_ylmzdr: Başka türlü sevdik, \\nBaşkasını sevemiyoruz\\n\\nSaygı, Sevgi, Minnet ve Özlemle\\nSonsuza kadar…\\n\\n🇹🇷#10Kasim #Ataturk #Sensiz83YI…',\n",
              " 'RT @yusufkrc70: “İçimde hiçbir şüphe kalmadı Atatürk’ü zehirleyerek şehit ettiler” https://t.co/7os7IgMUT1\\n#10Kasim1938\\n#10Kasim1938\\n#Atatu…',\n",
              " \"RT @HK_2611: Türk milletinin bir ferdi olarak Atatürk'ün getirdiği ilke ve devrimlerin gönüllü koruyucusu olmaktan onur duyarım \\nBunları un…\",\n",
              " 'RT @MammadovaJamila: Hörmətlə anırıq! 🇦🇿🇹🇷🙏🏻 #Ataturk https://t.co/o23vFGfXwY',\n",
              " 'RT @tilsimyayinevi: Saygı, minnet ve özlemle anıyoruz...\\n#Ataturk https://t.co/LzzbwGKBrJ',\n",
              " 'Günaydınnn 💛💙 #Persembe #Ataturk #atamizindeyiz https://t.co/ZfH6DmpoEj',\n",
              " 'Türk olmayı Atatürk sayesinde seviyorum. Yoksa bunlara kalsa ondan da soğuturlar.\\n#Ataturk',\n",
              " 'RT @_MuminSahin: Tekirdağ Valiliğimiz tarafından organize edilen 🇹🇷 #10Kasim Çelenk Sunum Törenine katılım sağladık... 🇹🇷#Ataturk🇹🇷 https:/…',\n",
              " 'RT @ErhanHasmaden: \"Kasımda aşk başkadır çünkü bize ölümsüz bir aşkı hatırlatır. 10 Kasım 193∞.\" 🇹🇷🇹🇷🇹🇷🇹🇷🇹🇷\\n#10Kasim1938\\n#10Kasim\\n#Ataturk…',\n",
              " '@icesur 2 ay önce halde çöpe dökülen kabak...\\n\\n10 TL....\\n\\n2 TL ya satmamak için\\nMillet yemesin diye çöpe atıldı...… https://t.co/tXVIjdbrlI',\n",
              " '#10kasımatamızısaygıylaanıyoruz \\nBeni görmek demek mutlaka yüzümü görmek demek degildir. Benim fikirlerimi, duygula… https://t.co/V0ZfKXSnRu',\n",
              " '#yasarsahin istifa etsin şehit ailesine küfür eden birisini istemiyoruz #MustafaKamalAtaturk #Ataturk #Persembe… https://t.co/Af14BT1So1',\n",
              " 'RT @furkansmatip: 100. TL hatta https://t.co/L44eioTMJQ bağış yaparak Furkan’ın kahramanı olabilirsiniz 🙏🏻 5,679 Kahramandan biri siz olmak…',\n",
              " 'RT @filizarikmnt: Atatürk, Türk milletine Allah’ın bir lütfu.Atatürk olmasaydı Türkiye’de böyle aydın bir yapı olmazdı,çoktan dağılıp parça…',\n",
              " 'RT @furkansmatip: 100. TL hatta https://t.co/L44eioTMJQ bağış yaparak Furkan’ın kahramanı olabilirsiniz 🙏🏻 5,679 Kahramandan biri siz olmak…',\n",
              " 'RT @BirsenK47597841: @gulsensufraci #dolar10tl #dolar #Shopee1111 #Persembe #Sudan #Ataturk #ARIAsTaylorSwift bakıp geçme#smskampanyası @as…',\n",
              " \"RT @durumeric_sma: Atatürk'ü ölümünün 83.yılında hüzünle, saygıyla ve özlemle anıyoruz. Bütün ümidi gençlikte olan Atamızın bir evladı da D…\",\n",
              " 'RT @Trmyd: @kenan_alpay #Ataturk neden \"Ne mutlu Türk olana değilde\"\\n\"Ne mutlu Türküm Diyene\" diye haykırmıştır 🇹🇷\\nKan meselesi\\n\"Hükümetini…',\n",
              " 'RT @NOWAYOU39606641: #SueresizNafakaMağduru #10Kasim #siren #Ataturk #kalbimizdesin buyurun Sayın bakan @abdulhamitgul HAKKIMI HELAL ETMİYO…',\n",
              " 'RT @BirsenK47597841: @gulsensufraci #dolar10tl #dolar #Shopee1111 #Persembe #Sudan #Ataturk #ARIAsTaylorSwift bakıp geçme#smskampanyası @as…',\n",
              " '@gulsensufraci #dolar10tl #dolar #Shopee1111 #Persembe #Sudan #Ataturk #ARIAsTaylorSwift bakıp geçme#smskampanyası… https://t.co/1aYNEETzc2',\n",
              " 'RT @Trmyd: @kenan_alpay #Ataturk neden \"Ne mutlu Türk olana değilde\"\\n\"Ne mutlu Türküm Diyene\" diye haykırmıştır 🇹🇷\\nKan meselesi\\n\"Hükümetini…',\n",
              " 'RT @Nilay06354192: #10Kasım yolun yolumuzdur #MustafaKemalAtatürk #Atatürk #Ataturk https://t.co/m7bhGqGPsa',\n",
              " 'RT @furkansmatip: 100. TL hatta https://t.co/L44eioTMJQ bağış yaparak Furkan’ın kahramanı olabilirsiniz 🙏🏻 5,679 Kahramandan biri siz olmak…',\n",
              " 'RT @NOWAYOU39606641: #SueresizNafakaMağduru #10Kasim #siren #Ataturk #kalbimizdesin buyurun Sayın bakan @abdulhamitgul HAKKIMI HELAL ETMİYO…',\n",
              " \"RT @lutfullahonder: Büyük önder Gazi Mustafa Kemal Atatürk'ü saygıyla, özlemle ve minnetle anıyoruz.\\n\\nSen olmasaydın; namusumuz, şerefimiz,…\",\n",
              " 'RT @Nilay06354192: #10Kasım yolun yolumuzdur #MustafaKemalAtatürk #Atatürk #Ataturk https://t.co/m7bhGqGPsa',\n",
              " 'RT @furkansmatip: 100. TL hatta https://t.co/L44eioTMJQ bağış yaparak Furkan’ın kahramanı olabilirsiniz 🙏🏻 5,679 Kahramandan biri siz olmak…',\n",
              " 'RT @furkansmatip: 100. TL hatta https://t.co/L44eioTMJQ bağış yaparak Furkan’ın kahramanı olabilirsiniz 🙏🏻 5,679 Kahramandan biri siz olmak…',\n",
              " \"RT @Herdaim_Haber: Sedat Peker: Ata'sını bilmeyen it peşinde gezer!\\nhttps://t.co/81tJT5JEVU \\n@sedat_peker \\n#10Kasim #Ataturk #SedatPeker ht…\",\n",
              " \"🖊Derin YENER yazdı:\\nMillî Düşünce Merkezi'nin 11 yaşındaki en genç yazarı Derin Yener'in kaleminden 10 Kasım...… https://t.co/LbhbmwyYp7\",\n",
              " 'RT @sma_sare: Duyun sesimizi\\nDestek olun 🙏\\nEn azından bir RT\\n\\n#BeşiktaşKABULLENMEZ #TekeTek  Leyla Özlem #10Kasim Black Miror #Tesla Erol B…',\n",
              " 'RT @bayido1: Bakıyorum da twitlere,\\n Atatürk ilgili twitler \\nÖlüm günü ile ilgili herkes adeta ben daha çok seviyorum yarışında,\\n\\nAma Bir t…',\n",
              " 'RT @furkansmatip: 100. TL hatta https://t.co/L44eioTMJQ bağış yaparak Furkan’ın kahramanı olabilirsiniz 🙏🏻 5,679 Kahramandan biri siz olmak…',\n",
              " 'RT @furkansmatip: 100. TL hatta https://t.co/L44eioTMJQ bağış yaparak Furkan’ın kahramanı olabilirsiniz 🙏🏻 5,679 Kahramandan biri siz olmak…',\n",
              " 'RT @furkansmatip: 100. TL hatta https://t.co/L44eioTMJQ bağış yaparak Furkan’ın kahramanı olabilirsiniz 🙏🏻 5,679 Kahramandan biri siz olmak…',\n",
              " 'RT @_nopnog_: Kurucu lideri olduğun Türkiye Cumhuriyetinin, vazifesini layıkıyla yerine getirmeye çalışan bir genci/vatandaşı olarak, ölümü…',\n",
              " 'RT @sevimyogun: Seni çalışarak anıyorum. #10kasim1938 #10Kasim #ATAM #Sensiz83YIL \\n#Ataturk #MustafaKamalAtaturk #atamizindeyiz #Saygıveoez…',\n",
              " 'RT @furkansmatip: 100. TL hatta https://t.co/L44eioTMJQ bağış yaparak Furkan’ın kahramanı olabilirsiniz 🙏🏻 5,679 Kahramandan biri siz olmak…',\n",
              " \"RT @Herdaim_Haber: Sedat Peker: Ata'sını bilmeyen it peşinde gezer!\\nhttps://t.co/81tJT5JEVU \\n@sedat_peker \\n#10Kasim #Ataturk #SedatPeker ht…\",\n",
              " 'RT @furkansmatip: 100. TL hatta https://t.co/L44eioTMJQ bağış yaparak Furkan’ın kahramanı olabilirsiniz 🙏🏻 5,679 Kahramandan biri siz olmak…',\n",
              " 'RT @denizehayatol: Açtığın yolda gösterdiğin hedefe durmadan yürümeye ant içeriz. Sevgi, minnet ve özlemle... #10kasim1938 #10Kasim #Anitka…',\n",
              " 'RT @ebru_liice: Ölmedin ki yas tutalım,,\\nBizimkisi yokluğuna isyan ATAM ‼️\\n\\nK A L B İ M İ Z D E S İ N\\n#10Kasim \\n#Ataturk',\n",
              " 'RT @tuzladogaedb: Tuzla Doğa Koleji, cumhuriyeti bize armağan eden aziz ve ölümsüz Atasını minnetle, sonsuz sevgiyle andı. #doğakoleji #10K…',\n",
              " 'RT @Kahvem_Sigaram: Sırf biz dik duralım diye \\nkimseye boyun eğmeyişini \\ns’on Kasım’a kadar ne unutacağız, \\nne unutturacağız..…',\n",
              " 'RT @MDogramaci34: Sevgi, saygı ve şükranla...\\n🇹🇷🇹🇷🇹🇷🌹🌹🌹❣❣❣\\n#10Kasim #Ataturk #10Kasim1938 https://t.co/MWPcl9A5hS',\n",
              " 'RT @furkansmatip: 100. TL hatta https://t.co/L44eioTMJQ bağış yaparak Furkan’ın kahramanı olabilirsiniz 🙏🏻 5,679 Kahramandan biri siz olmak…',\n",
              " \"RT @RakiPalab: Bugün Türkiye yağmur yağmadan ıslandı !!!!\\n\\nGAZİ MUSTAFA KEMAL ATATÜRK'Ü bundan daha iyi ne anlatabilir ki??\\n\\n#Ataturk #atam…\",\n",
              " \"RT @Herdaim_Haber: Sedat Peker: Ata'sını bilmeyen it peşinde gezer!\\nhttps://t.co/81tJT5JEVU \\n@sedat_peker \\n#10Kasim #Ataturk #SedatPeker ht…\",\n",
              " 'RT @furkansmatip: 100. TL hatta https://t.co/L44eioTMJQ bağış yaparak Furkan’ın kahramanı olabilirsiniz 🙏🏻 5,679 Kahramandan biri siz olmak…',\n",
              " '83 yıl sonra bile anılabilen dünyada tek lider ve her 10 kasımda yeniden doğuyor.\\n#Ataturk #MustafaKamalAtaturk https://t.co/hcZ4h58nXT',\n",
              " 'RT @ebru_liice: Ölmedin ki yas tutalım,,\\nBizimkisi yokluğuna isyan ATAM ‼️\\n\\nK A L B İ M İ Z D E S İ N\\n#10Kasim \\n#Ataturk',\n",
              " 'RT @Baris_Sma: BARIŞ günden güne eriyor, kas kaybediyor…Barış’ın gülüşü solmasın diye📌BARIŞ yaz 9023’e gönder,20 TL ile bağış ile Barış’ı h…',\n",
              " 'RT @furkansmatip: 100. TL hatta https://t.co/L44eioTMJQ bağış yaparak Furkan’ın kahramanı olabilirsiniz 🙏🏻 5,679 Kahramandan biri siz olmak…',\n",
              " \"RT @Herdaim_Haber: Sedat Peker: Ata'sını bilmeyen it peşinde gezer!\\nhttps://t.co/81tJT5JEVU \\n@sedat_peker \\n#10Kasim #Ataturk #SedatPeker ht…\",\n",
              " 'RT @sma_sare: Duyun sesimizi\\nDestek olun 🙏\\nEn azından bir RT\\n\\n#BeşiktaşKABULLENMEZ #TekeTek  Leyla Özlem #10Kasim Black Miror #Tesla Erol B…',\n",
              " 'RT @Himesovski: Saygı ve özlemle…\\n1881-193♾ \\n\\n#Ataturk https://t.co/sk11FxUtuD',\n",
              " 'RT @furkansmatip: 100. TL hatta https://t.co/L44eioTMJQ bağış yaparak Furkan’ın kahramanı olabilirsiniz 🙏🏻 5,679 Kahramandan biri siz olmak…',\n",
              " 'RT @furkansmatip: 100. TL hatta https://t.co/L44eioTMJQ bağış yaparak Furkan’ın kahramanı olabilirsiniz 🙏🏻 5,679 Kahramandan biri siz olmak…',\n",
              " \"RT @TurkEmbKigali: Ulu Önder Mustafa Kemal Atatürk'ü aramızdan ayrılışının 83. yılında sonsuz minnet, saygı ve sevgiyle anıyoruz. Daima izi…\",\n",
              " \"Rüyamda Mustafa Kemal Atatürk'ün arkasından yürüyordum  arkasını dönüp  yanağıma dokundu şu gülüşe bak  deyip gülüm… https://t.co/o7XL5YmyMg\",\n",
              " \"RT @TansuYegen: Atatürk'ün anısına dünya ülkelerinde bulunan anıtlar, heykeller, parklar, caddeler... #dünyaizinde #10Kasim1938 #ATATURK…\",\n",
              " 'RT @furkansmatip: 100. TL hatta https://t.co/L44eioTMJQ bağış yaparak Furkan’ın kahramanı olabilirsiniz 🙏🏻 5,679 Kahramandan biri siz olmak…',\n",
              " 'RT @salimuzun: Sonsuz Aşk… ❤️🇹🇷\\n#Ataturk @Hurriyet https://t.co/UvJI8wtQW8',\n",
              " 'RT @filizarikmnt: Atatürk, Türk milletine Allah’ın bir lütfu.Atatürk olmasaydı Türkiye’de böyle aydın bir yapı olmazdı,çoktan dağılıp parça…',\n",
              " 'RT @filizarikmnt: Atatürk, Türk milletine Allah’ın bir lütfu.Atatürk olmasaydı Türkiye’de böyle aydın bir yapı olmazdı,çoktan dağılıp parça…',\n",
              " 'RT @haliltuncay06: \"Benim naçiz vücudum elbet bir gün toprak olacaktır; fakat Türkiye Cumhuriyeti ilelebet payidar kalacaktır.\"\\n\\nBaşbuğ Mus…',\n",
              " 'RT @furkansmatip: 100. TL hatta https://t.co/L44eioTMJQ bağış yaparak Furkan’ın kahramanı olabilirsiniz 🙏🏻 5,679 Kahramandan biri siz olmak…',\n",
              " 'RT @1hamidoffa: Dərin hörmət və ehtiramla anırıq!🇦🇿🇹🇷 \\n#Ataturk\\n#MustafaKamalAtaturk\\n#AzərbaycanTürkiyə',\n",
              " 'Açık ara çok iyi, her anlamda..\\n#Ataturk https://t.co/cwvPPPbAFj',\n",
              " \"@kilicdarogluk Sen #Ataturk mirasını yiyen bir mirasyedisin! #MustafaKamalAtaturk 'ün itleri diyenlerle hangi… https://t.co/rIyJ7THWEd\",\n",
              " 'RT @Baris_Sma: BARIŞ günden güne eriyor, kas kaybediyor…Barış’ın gülüşü solmasın diye📌BARIŞ yaz 9023’e gönder,20 TL ile bağış ile Barış’ı h…',\n",
              " 'RT @fatihdogan_38: Dolmabahçe \\n10 Kasım\\n09.05\\n2017\\n#Besiktas \\n#Ataturk https://t.co/bdgCJ6AjTu',\n",
              " 'RT @furkansmatip: 100. TL hatta https://t.co/L44eioTMJQ bağış yaparak Furkan’ın kahramanı olabilirsiniz 🙏🏻 5,679 Kahramandan biri siz olmak…',\n",
              " \"RT @durumeric_sma: Atatürk'ü ölümünün 83.yılında hüzünle, saygıyla ve özlemle anıyoruz. Bütün ümidi gençlikte olan Atamızın bir evladı da D…\",\n",
              " 'RT @furkansmatip: 100. TL hatta https://t.co/L44eioTMJQ bağış yaparak Furkan’ın kahramanı olabilirsiniz 🙏🏻 5,679 Kahramandan biri siz olmak…',\n",
              " 'RT @furkansmatip: 100. TL hatta https://t.co/L44eioTMJQ bağış yaparak Furkan’ın kahramanı olabilirsiniz 🙏🏻 5,679 Kahramandan biri siz olmak…',\n",
              " 'RT @furkansmatip: 100. TL hatta https://t.co/L44eioTMJQ bağış yaparak Furkan’ın kahramanı olabilirsiniz 🙏🏻 5,679 Kahramandan biri siz olmak…',\n",
              " \"RT @TansuYegen: Atatürk'ün anısına dünya ülkelerinde bulunan anıtlar, heykeller, parklar, caddeler... #dünyaizinde #10Kasim1938 #ATATURK…\",\n",
              " 'RT @dediki7: Dedi ki \" Fikirlerin cesaretin emanetin bizim ilham kaynağımızdır \" !..\\nMustafa Kemal Atatürk sonsuza dek payidar kalacaktır !…',\n",
              " 'RT @furkansmatip: 100. TL hatta https://t.co/L44eioTMJQ bağış yaparak Furkan’ın kahramanı olabilirsiniz 🙏🏻 5,679 Kahramandan biri siz olmak…',\n",
              " \"Cumhuriyetimizin kurucusu Ulu Önder Mustafa Kemal Atatürk'ü Hakk'a yürüyüşünün 83'üncü yılında b'r kez daha bu kez… https://t.co/jdlVj5WGVQ\",\n",
              " 'RT @ic_ses06: İyi akşamlar dostlarım, günün özelliği itibariyle keyfsiz bir gündü. Birde bir sürü yavşak haberiyle iyice keyfimiz kaçtı. Ta…',\n",
              " 'RT @furkansmatip: 100. TL hatta https://t.co/L44eioTMJQ bağış yaparak Furkan’ın kahramanı olabilirsiniz 🙏🏻 5,679 Kahramandan biri siz olmak…',\n",
              " 'RT @HAYATSIRDIR: ...MUSTAFA KEMAL LER TÜKENMEZ...\\n\\n#ATAM \\n#atamizindeyiz \\n#Ataturk \\n#MustafaKamalAtaturk \\n#10Kasim1938 \\n#10Kasim https://t.…',\n",
              " 'Gençliğe veda...\\n#Ankara #Ataturk #10Kasim https://t.co/P5LRjzmuex',\n",
              " 'RT @fatihdogan_38: Dolmabahçe \\n10 Kasım\\n09.05\\n2017\\n#Besiktas \\n#Ataturk https://t.co/bdgCJ6AjTu',\n",
              " '10 Kasım ...\\nSaygı, sevgi ve minnetle...\\n#Ataturk #10Kasim #10Kasim1938 https://t.co/mhuvpdQQmc',\n",
              " 'RT @Kahvem_Sigaram: Sırf biz dik duralım diye \\nkimseye boyun eğmeyişini \\ns’on Kasım’a kadar ne unutacağız, \\nne unutturacağız..…',\n",
              " 'RT @furkansmatip: 100. TL hatta https://t.co/L44eioTMJQ bağış yaparak Furkan’ın kahramanı olabilirsiniz 🙏🏻 5,679 Kahramandan biri siz olmak…',\n",
              " 'RT @furkansmatip: 100. TL hatta https://t.co/L44eioTMJQ bağış yaparak Furkan’ın kahramanı olabilirsiniz 🙏🏻 5,679 Kahramandan biri siz olmak…',\n",
              " 'RT @furkansmatip: 100. TL hatta https://t.co/L44eioTMJQ bağış yaparak Furkan’ın kahramanı olabilirsiniz 🙏🏻 5,679 Kahramandan biri siz olmak…',\n",
              " \"RT @TansuYegen: Atatürk'ün anısına dünya ülkelerinde bulunan anıtlar, heykeller, parklar, caddeler... #dünyaizinde #10Kasim1938 #ATATURK…\",\n",
              " 'Mekanın cennet olsun.CANIM ATAM. #ALLAHRAHMETEYLESIN\\n#10KASIM\\n#Ataturk https://t.co/XKzP4BmBQu',\n",
              " 'RT @neco_ates: Sevgi, saygı, minnet ve özlemle anıyoruz... #Ataturk #10Kasim',\n",
              " 'Mavi gözlü bir lider geldi inledi dünya;o büyük dehayı dinledi dünya.\\nCumhuriyet dedi ,ilerebet yürü bu yolda.\\nDüşm… https://t.co/3UGfVMGAL8',\n",
              " 'RT @furkansmatip: 100. TL hatta https://t.co/L44eioTMJQ bağış yaparak Furkan’ın kahramanı olabilirsiniz 🙏🏻 5,679 Kahramandan biri siz olmak…',\n",
              " 'Yolda peygamber Efendimiz’in yoludur ! \\nManevi değil , maddi meselelerde de böyledir . Zira neticede Oda devlet baş… https://t.co/qF8ViLvrUD',\n",
              " 'RT @furkansmatip: 100. TL hatta https://t.co/L44eioTMJQ bağış yaparak Furkan’ın kahramanı olabilirsiniz 🙏🏻 5,679 Kahramandan biri siz olmak…',\n",
              " 'Dünyanın en büyük devrimcisini anıyoruz! \\nAçtığın aydınlık yolda, fikirlerin ışığımızdır Atam!..\\n#10Kasim #Ataturk… https://t.co/nFGXSCDjN1',\n",
              " \"RT @Noktatv24: Ekrem İmamoğlu, Dolmabahçe'de: Türkiye'nin başına gelmiş en güzel şey Atatürk. Işığı hiç sönmüyor, çok kuvvetli. İnşallah la…\",\n",
              " 'RT @teknikciniz: Çok Seviyorum❤️\\n\\nVe Özlem İle Anıyorum..\\n\\n#Ataturk #10Kasim193oo https://t.co/clrVv5AMR7',\n",
              " 'Anadolu Birliği Partisi Antalya İl Başkanımız Aziz Ahmet Peker İle birlikte Antalya Cumhuriyet meydanında 10 Kasım… https://t.co/hngHl19zQs',\n",
              " 'RT @Metintas_Nuran: Üç dilek hakkım olsa; gelmeni, kalmanı ve hiç gitmemeni dilerdim.\\n\\n#10Kasim1938 \\n#Ataturk \\n#AtatuerkBirFikirdir \\n#Atatu…',\n",
              " 'Seviyorum...❤🤲\\n#Ataturk #10Kasim https://t.co/I2d7Np4zpk',\n",
              " 'Başkan #ekremimamoğlu #Ataturk https://t.co/YL2PRwN7Cp',\n",
              " \"RT @TansuYegen: Atatürk'ün anısına dünya ülkelerinde bulunan anıtlar, heykeller, parklar, caddeler... #dünyaizinde #10Kasim1938 #ATATURK…\",\n",
              " 'RT @Kahvem_Sigaram: Sırf biz dik duralım diye \\nkimseye boyun eğmeyişini \\ns’on Kasım’a kadar ne unutacağız, \\nne unutturacağız..…',\n",
              " 'RT @furkansmatip: 100. TL hatta https://t.co/L44eioTMJQ bağış yaparak Furkan’ın kahramanı olabilirsiniz 🙏🏻 5,679 Kahramandan biri siz olmak…',\n",
              " 'RT @haliltuncay06: \"Benim naçiz vücudum elbet bir gün toprak olacaktır; fakat Türkiye Cumhuriyeti ilelebet payidar kalacaktır.\"\\n\\nBaşbuğ Mus…',\n",
              " 'RT @KadirGokmenOgut: Yine 10 Kasım yine Kadıköy Meydanı.\\u2066@herkesicinCHP\\u2069 #10Kasım #Ataturk https://t.co/csihgaSsR4',\n",
              " 'RT @sma_sare: Duyun sesimizi\\nDestek olun 🙏\\nEn azından bir RT\\n\\n#BeşiktaşKABULLENMEZ #TekeTek  Leyla Özlem #10Kasim Black Miror #Tesla Erol B…',\n",
              " 'Turk Hava Yollari #10Kasim193oo Turkcesini yakalayamadim.. well done #turkishairlines remembering the #Ataturk… https://t.co/Rh5aX2ahfD',\n",
              " 'RT @fatihdogan_38: Dolmabahçe \\n10 Kasım\\n09.05\\n2017\\n#Besiktas \\n#Ataturk https://t.co/bdgCJ6AjTu',\n",
              " 'RT @bdarcan: Iyi ki varsin 😍😍😍🙏🙏🙏 Sonsuz minnetimle 😥😥😥\\n#ATATÜRK\\n#atamızrahatuyusun \\n#Ataturk https://t.co/K29AlnE2iW',\n",
              " 'RT @AyvansarayUniv: Rektörümüz Prof. Dr. Emre Alkin’in \"Mustafa Kemal Atatürk bugün yaşasaydı ne isterdi?\" başlıklı günlük ekonomi raporunu…',\n",
              " 'RT @ebru_liice: Ölmedin ki yas tutalım,,\\nBizimkisi yokluğuna isyan ATAM ‼️\\n\\nK A L B İ M İ Z D E S İ N\\n#10Kasim \\n#Ataturk',\n",
              " 'RT @sma_sare: Duyun sesimizi\\nDestek olun 🙏\\nEn azından bir RT\\n\\n#BeşiktaşKABULLENMEZ #TekeTek  Leyla Özlem #10Kasim Black Miror #Tesla Erol B…',\n",
              " 'RT @furkansmatip: 100. TL hatta https://t.co/L44eioTMJQ bağış yaparak Furkan’ın kahramanı olabilirsiniz 🙏🏻 5,679 Kahramandan biri siz olmak…',\n",
              " 'RT @furkansmatip: 100. TL hatta https://t.co/L44eioTMJQ bağış yaparak Furkan’ın kahramanı olabilirsiniz 🙏🏻 5,679 Kahramandan biri siz olmak…',\n",
              " 'RT @furkansmatip: 100. TL hatta https://t.co/L44eioTMJQ bağış yaparak Furkan’ın kahramanı olabilirsiniz 🙏🏻 5,679 Kahramandan biri siz olmak…',\n",
              " 'RT @evvel_fanzin: Şiir: “Gazi Paşa’ya Ağıt” (#TurgutUyar) \\n\\n#10Kasim #Ataturk \\n#10Kasim1938 #Atatürk\\n#10Kasım https://t.co/04bt2oO9k9',\n",
              " 'RT @ZehraAnaDernegi: Türk milletinin büyük kahramanı Gazi Mustafa Kemal Atatürk’ü vefatının 83. yıl dönümünde sevgi, saygı, minnet ve özlem…',\n",
              " \"RT @TansuYegen: Atatürk'ün anısına dünya ülkelerinde bulunan anıtlar, heykeller, parklar, caddeler... #dünyaizinde #10Kasim1938 #ATATURK…\",\n",
              " 'RT @furkansmatip: 100. TL hatta https://t.co/L44eioTMJQ bağış yaparak Furkan’ın kahramanı olabilirsiniz 🙏🏻 5,679 Kahramandan biri siz olmak…',\n",
              " 'RT @furkansmatip: 100. TL hatta https://t.co/L44eioTMJQ bağış yaparak Furkan’ın kahramanı olabilirsiniz 🙏🏻 5,679 Kahramandan biri siz olmak…',\n",
              " '#10Kasim #Ataturk kendi editim https://t.co/gejaJuRikT',\n",
              " 'RT @denizehayatol: Açtığın yolda gösterdiğin hedefe durmadan yürümeye ant içeriz. Sevgi, minnet ve özlemle... #10kasim1938 #10Kasim #Anitka…',\n",
              " '100. TL hatta https://t.co/L44eioTMJQ bağış yaparak Furkan’ın kahramanı olabilirsiniz 🙏🏻 5,679 Kahramandan biri siz… https://t.co/6OJyYjSEc6',\n",
              " 'RT @fatihdogan_38: Dolmabahçe \\n10 Kasım\\n09.05\\n2017\\n#Besiktas \\n#Ataturk https://t.co/bdgCJ6AjTu',\n",
              " 'RT @Baris_Sma: BARIŞ günden güne eriyor, kas kaybediyor…Barış’ın gülüşü solmasın diye📌BARIŞ yaz 9023’e gönder,20 TL ile bağış ile Barış’ı h…',\n",
              " 'RT @denizehayatol: Açtığın yolda gösterdiğin hedefe durmadan yürümeye ant içeriz. Sevgi, minnet ve özlemle... #10kasim1938 #10Kasim #Anitka…',\n",
              " \"Atatürk'ün bugüne kadar sergilenmemiş 31 kişisel eşyasını ilk kez göreceksiniz https://t.co/aIdhMPpdMf \\n\\n#10Kasim… https://t.co/WHBQsNgaSX\",\n",
              " 'Gelecek nesil işte bunlar. Çok az kaldı bu gözler bu çocukların her şeyi değiştirdiklerini görecek. Çok yaşayın çoc… https://t.co/VM5925zzeA',\n",
              " \"CHP Esenyurt Gençlik Kollari düzenlemiş olduğu 10 Kasım Gazi Mustafa Kemal Atatürk'ü anma programına katıldık. Hedi… https://t.co/qhk8TiBwQL\",\n",
              " 'RT @DpGultekinUysal: İşte, Mustafa Kemal Atatürk de Türk Milleti\\'ne \"Hızır\" olmuştur.\\n\\nUmudunun tükendiği, gayretinin kifayet etmediği, ne…',\n",
              " 'Bu kadar yıldır, ülkemizi getirdiğiniz durumdan utanmadan, alabileceğiniz cevap #Anitkabir ve #DolmabahçeSarayı nda… https://t.co/0EPtvb7xfM',\n",
              " 'RT @Baris_Sma: BARIŞ günden güne eriyor, kas kaybediyor…Barış’ın gülüşü solmasın diye📌BARIŞ yaz 9023’e gönder,20 TL ile bağış ile Barış’ı h…',\n",
              " \"RT @Herdaim_Haber: Sedat Peker: Ata'sını bilmeyen it peşinde gezer!\\nhttps://t.co/81tJT5JEVU \\n@sedat_peker \\n#10Kasim #Ataturk #SedatPeker ht…\",\n",
              " 'RT @emrekarayel01: Sonsuz saygı ve minnetle… #Ataturk https://t.co/P0HIi3FhUN',\n",
              " 'RT @azuras_london: Ulkemizde gunde 5 defa okunan EZAN sesini duyabiliyorsak , yilda bir defa calinan SiREN sesinin sayesinde oldugunu unutm…',\n",
              " 'RT @rotasiz_kptan64: Saygı, sevgi, özlem ve rahmetle anıyor ve arıyorum...\\n\\n#10Kasim\\n#10Kasim1938\\n#Ataturk https://t.co/0BA84Itfor',\n",
              " 'RT @rotasiz_kptan64: Saygı, sevgi, özlem ve rahmetle anıyor ve arıyorum...\\n\\n#10Kasim\\n#10Kasim1938\\n#Ataturk https://t.co/0BA84Itfor',\n",
              " 'RT @azuras_london: Ulkemizde gunde 5 defa okunan EZAN sesini duyabiliyorsak , yilda bir defa calinan SiREN sesinin sayesinde oldugunu unutm…',\n",
              " 'RT @sevimyogun: Seni çalışarak anıyorum. #10kasim1938 #10Kasim #ATAM #Sensiz83YIL \\n#Ataturk #MustafaKamalAtaturk #atamizindeyiz #Saygıveoez…',\n",
              " \"Isparta Atatürk Düşünce Derneği 10 Kasım Atatürk'ü Anma Programı https://t.co/LucKt0zsgV @# aracılığıyla… https://t.co/g1UxEssAKv\",\n",
              " 'RT @Baris_Sma: BARIŞ günden güne eriyor, kas kaybediyor…Barış’ın gülüşü solmasın diye📌BARIŞ yaz 9023’e gönder,20 TL ile bağış ile Barış’ı h…',\n",
              " \"RT @RakiPalab: Bugün Türkiye yağmur yağmadan ıslandı !!!!\\n\\nGAZİ MUSTAFA KEMAL ATATÜRK'Ü bundan daha iyi ne anlatabilir ki??\\n\\n#Ataturk #atam…\",\n",
              " \"RT @BulentKarayel33: Kurtuluş Savaşımızın kahraman komutanı , Cumhuriyetimizin kurucusu, ilk Cumhurbaşkanımız Gazi Mustafa Kemal Atatürk'ü…\",\n",
              " 'RT @denizehayatol: Açtığın yolda gösterdiğin hedefe durmadan yürümeye ant içeriz. Sevgi, minnet ve özlemle... #10kasim1938 #10Kasim #Anitka…',\n",
              " 'RT @Baris_Sma: BARIŞ günden güne eriyor, kas kaybediyor…Barış’ın gülüşü solmasın diye📌BARIŞ yaz 9023’e gönder,20 TL ile bağış ile Barış’ı h…',\n",
              " 'RT @laleozanarslan: Yarın yine aynı saatte en büyük devrimci Atamızı selamlayacağız. \\n Özlem, minnet ve aşkla…\\n#10Kasim \\n#Ataturk https://t…',\n",
              " 'RT @ve_orman: Saygı ve özlemle anıyoruz...\\n#Ataturk #10Kasim https://t.co/N0OxUjn4tL',\n",
              " 'RT @fatihdogan_38: Dolmabahçe \\n10 Kasım\\n09.05\\n2017\\n#Besiktas \\n#Ataturk https://t.co/bdgCJ6AjTu',\n",
              " 'RT @handecanli2020: Saygı, sevgi, özlem ve rahmetle anıyoruz. #Ataturk #ANITKABİR #carsamba #Atamyasıyorsun #atamizindeyiz https://t.co/PuD…',\n",
              " 'RT @Bozokbey52: Bir sevdasın sen. Nice sevdalara değişmeyen..❤️❤️❤️\\n\\n#10Kasim1938 #10Kasim #Ataturk https://t.co/lWlNKvNeN4',\n",
              " '@nurcan_rg En büyük Türk #Ataturk 🇹🇷',\n",
              " 'Saygı,özlem ve minnetle...\\n#10Kasim \\n#Ataturk https://t.co/2qpXssYiS6',\n",
              " 'İnsan insanlığını ahlâkıyla tamamlar eğer bir mücadele vereceksek bu iyi bir insan ve iyi bir insanlık mücadelesi o… https://t.co/YfywN1aUlq',\n",
              " 'RT @Arikan79Meltem: Seni her gün daha çok seviyor kıymetini daha iyi anlıyoruz ve bu sevgiyi fazlasıyla hak ediyorsun #Ataturk #10Kasım htt…',\n",
              " 'RT @ve_orman: Saygı ve özlemle anıyoruz...\\n#Ataturk #10Kasim https://t.co/N0OxUjn4tL',\n",
              " 'RT @fatihdogan_38: Dolmabahçe \\n10 Kasım\\n09.05\\n2017\\n#Besiktas \\n#Ataturk https://t.co/bdgCJ6AjTu',\n",
              " 'RT @Baris_Sma: BARIŞ günden güne eriyor, kas kaybediyor…Barış’ın gülüşü solmasın diye📌BARIŞ yaz 9023’e gönder,20 TL ile bağış ile Barış’ı h…',\n",
              " \"RT @kaanmete: Haydi bu post altında Ata'mızın en sevdiğiniz fotoğraflarını paylaşın. #ataturk\",\n",
              " 'RT @serhanacar: Sevgimiz, minnetimiz, hürmetimiz, hasretimiz: Zamansız... Tarifsiz… Benzersiz… Tavizsiz…\\n#10Kasim1938 #Ataturk https://t.co…',\n",
              " 'Biraz geç paylaştım ama. Saygı ve özlemle anıyoruz #Ataturk #izindeyizatam https://t.co/1Gebrd09Fs',\n",
              " \"RT @Herdaim_Haber: Sedat Peker: Ata'sını bilmeyen it peşinde gezer!\\nhttps://t.co/81tJT5JEVU \\n@sedat_peker \\n#10Kasim #Ataturk #SedatPeker ht…\",\n",
              " 'RT @KararHaber: Beki: AK Parti, eskiden CHP zihniyeti diye yerden vuruyordu, şimdi eski CHP zihniyetini pamuklara sarıyor. \\nhttps://t.co/Y3…',\n",
              " '#dolar #SebebiAKPdir #TEKETEK #basakcengiz #pitbulltoken100x #Ataturk #ALLAHRAHMETEYLESİN #ALTIN… https://t.co/fEn2IPsbIT',\n",
              " \"RT @RakiPalab: Bugün Türkiye yağmur yağmadan ıslandı !!!!\\n\\nGAZİ MUSTAFA KEMAL ATATÜRK'Ü bundan daha iyi ne anlatabilir ki??\\n\\n#Ataturk #atam…\",\n",
              " 'RT @filizarikmnt: Atatürk, Türk milletine Allah’ın bir lütfu.Atatürk olmasaydı Türkiye’de böyle aydın bir yapı olmazdı,çoktan dağılıp parça…',\n",
              " '@TuncerSengoz https://t.co/PlDDbtj676\\n\\nBu kültür, donanım, hakimiyet, merak, çok yönlülük,dünya takibi, ufuk, vizyo… https://t.co/FngJRbRtZJ',\n",
              " \"RT @Noktatv24: Ekrem İmamoğlu, Dolmabahçe'de: Türkiye'nin başına gelmiş en güzel şey Atatürk. Işığı hiç sönmüyor, çok kuvvetli. İnşallah la…\",\n",
              " 'Fenerbahçe sadece bir spor kulübü değildir… \\nBaşkanın kredisi bugün benim için daha da artmıştır. #kalbimizdeimzan… https://t.co/UF01i2ILGz',\n",
              " 'RT @Baris_Sma: BARIŞ günden güne eriyor, kas kaybediyor…Barış’ın gülüşü solmasın diye📌BARIŞ yaz 9023’e gönder,20 TL ile bağış ile Barış’ı h…',\n",
              " 'Başkanın kredisi bugün benim için daha da artmıştır. Fenerbahçe sadece bir spor kulübü değildir… #kalbimizdeimzan… https://t.co/yr70JpZl7f',\n",
              " 'RT @SerkanPilavoglu: Yollarda görüyorum şuanda .\\n\\nBayraklarını yarıya indirmeyenler ATATÜRK düşmanları var \\n\\nCezası olduğunu zannetmiyorum…',\n",
              " 'RT @filiz_pelen: Ne senden geçeriz,\\nNe senin eserinden!...\\nSaygıyla ve özlemle...\\n#Ataturk #10Kasim193oo https://t.co/5Dn1RR9V2I',\n",
              " 'RT @azuras_london: Ulkemizde gunde 5 defa okunan EZAN sesini duyabiliyorsak , yilda bir defa calinan SiREN sesinin sayesinde oldugunu unutm…',\n",
              " 'Gazete Çivit 11.11.21\\nSayı.314     Sayfa.8/8\\n\\nGrip Nedir?/\"Cumhurbaşkanı Erdoğan,Doğal Gaz,Akaryakıt ve Enerjide Ve… https://t.co/hDa5SdE6FX',\n",
              " 'RT @yusufkrc70: “İçimde hiçbir şüphe kalmadı Atatürk’ü zehirleyerek şehit ettiler” https://t.co/7os7IgMUT1\\n#10Kasim1938\\n#10Kasim1938\\n#Atatu…',\n",
              " \"RT @birkarcicegi: Şimdiki çocuklar ne kadar şanssız değil mi? Biz okulda Atatürk'ü seven ögretmenlerle,evde onu seven annelerle büyüdük.Ona…\",\n",
              " 'Bugün yasın adıymış on kasım ... Seni hiç unutmayacağım #Ataturk ...  \\nBugün bir acı daha yasadım.. Bir dostumun eş… https://t.co/hEZwj8rZqi',\n",
              " 'RT @Nilay06354192: #10Kasım yolun yolumuzdur #MustafaKemalAtatürk #Atatürk #Ataturk https://t.co/m7bhGqGPsa',\n",
              " 'RT @muratsagman: Unutmayacağız 🙏 #Ataturk #mustafakemalataturk #10Kasim #10Kasim1938 #ATAM #atamizindeyiz https://t.co/zpFKYPnDfX',\n",
              " 'RT @Baris_Sma: BARIŞ günden güne eriyor, kas kaybediyor…Barış’ın gülüşü solmasın diye📌BARIŞ yaz 9023’e gönder,20 TL ile bağış ile Barış’ı h…',\n",
              " \"RT @Noktatv24: Ekrem İmamoğlu, Dolmabahçe'de: Türkiye'nin başına gelmiş en güzel şey Atatürk. Işığı hiç sönmüyor, çok kuvvetli. İnşallah la…\",\n",
              " 'RT @yusufkrc70: “İçimde hiçbir şüphe kalmadı Atatürk’ü zehirleyerek şehit ettiler” https://t.co/7os7IgMUT1\\n#10Kasim1938\\n#10Kasim1938\\n#Atatu…',\n",
              " 'RT @yasankara06: Efendiler, yarın ölümsüzlüğü ilan edeceğiz...#10Kasım #Ataturk #atamızrahatuyusun https://t.co/edcnWM0KUK',\n",
              " 'RT @xsayfacom: Selçuk Varlı’nın kaleminden: Anlaşılamayan Bir Lider Olarak Atatürk \\nhttps://t.co/Uxzet7Bdzv\\n\\n#xsayfa #10kasım #Ataturk #tür…',\n",
              " \"RT @ulusalkanal: 10 Kasım'da saygı için Anıtkabir'e\\n\\n#Anıtkabir #10Kasım #Ataturk \\n\\nhttps://t.co/82LGrh5zqP\",\n",
              " 'RT @denizehayatol: Açtığın yolda gösterdiğin hedefe durmadan yürümeye ant içeriz. Sevgi, minnet ve özlemle... #10kasim1938 #10Kasim #Anitka…',\n",
              " 'RT @gmzk3458: NEFES ALDIĞIMIZ HER GÜN....\\n\\nSAYGI VE MİNNETLE ATAM....\\n\\n#10Kasım #Ataturk #Anıtkabir ❤ https://t.co/cpP4cTNQfF',\n",
              " 'RT @fearles355: Milli yasimiz bugün yüreğimde hüzün gozlerimde hüzün \\n#Ataturk\\n#10Kasım https://t.co/ASiTjis1sr',\n",
              " 'RT @YaprakEA: Yolun yolumdur❤♾ #Ataturk #başkomutangaziMustafaKemalAtatürk https://t.co/FSwA5iWLQZ',\n",
              " 'Bundan daha kral çok az hareket gördüm 👌 #onkasım #Ataturk https://t.co/YdM1aqUHKL',\n",
              " \"RT @durumeric_sma: Atatürk'ü ölümünün 83.yılında hüzünle, saygıyla ve özlemle anıyoruz. Bütün ümidi gençlikte olan Atamızın bir evladı da D…\",\n",
              " \"RT @Noktatv24: KADIKÖY'DE ATA'YA SAYGI ZİNCİRİ\\n\\nTürkiye Cumhuriyeti’nin kurucusu Gazi Mustafa Kemal Atatürk, vefatının 83. yılında, binlerc…\",\n",
              " 'RT @sevimyogun: Seni çalışarak anıyorum. #10kasim1938 #10Kasim #ATAM #Sensiz83YIL \\n#Ataturk #MustafaKamalAtaturk #atamizindeyiz #Saygıveoez…',\n",
              " 'RT @Baris_Sma: BARIŞ günden güne eriyor, kas kaybediyor…Barış’ın gülüşü solmasın diye📌BARIŞ yaz 9023’e gönder,20 TL ile bağış ile Barış’ı h…',\n",
              " 'RT @Nilay06354192: #10Kasım yolun yolumuzdur #MustafaKemalAtatürk #Atatürk #Ataturk https://t.co/m7bhGqGPsa',\n",
              " '\"tabiat yeni bir cihan yapsa bile ikinci bir Atatürk yaratamayacak...!\"\\n\\n#atamizindeyiz \\n#Ataturk \\n#ATAM… https://t.co/FZLyGGpmwn',\n",
              " \"RT @Noktatv24: Ekrem İmamoğlu, Dolmabahçe'de: Türkiye'nin başına gelmiş en güzel şey Atatürk. Işığı hiç sönmüyor, çok kuvvetli. İnşallah la…\",\n",
              " \"Ekrem İmamoğlu, Dolmabahçe'de: Türkiye'nin başına gelmiş en güzel şey Atatürk. Işığı hiç sönmüyor, çok kuvvetli. İn… https://t.co/SAuXEvTZ1f\",\n",
              " 'RT @Nilay06354192: #10Kasım yolun yolumuzdur #MustafaKemalAtatürk #Atatürk #Ataturk https://t.co/m7bhGqGPsa',\n",
              " 'RT @nyks1925: Senin sevgin dünya döndükçe devam edecek ❤️\\n#Ataturk',\n",
              " \"RT @SYGMSB: Cumhuriyetimiz'in kurucusu Ulu Önder Mustafa Kemal Atatürk'ü saygı ve özlemle anıyoruz.\\n#10Kasım #10Kasim1938 #Ataturk https://…\",\n",
              " \"Atatürk'ün Sevdiği Türküler Nelerdir Dinle? Atatürk'ün Sevdiği Şarkılar Dinle?\\n\\n https://t.co/wnfQBzW5zw\\n\\nAtatürk’ü… https://t.co/sCoSwRHfU7\",\n",
              " 'RT @llllozllll: Bazı Borçlar Vardır Ödeyemezsin...✍\\n193∞  ❤🇹🇷\\n#GünaydınAtamın \\nAsil İnsanları ♥️\\n#Ataturk https://t.co/aQ5pnDW0hL',\n",
              " 'Gazete Çivit 11.11.21\\nSayı.314     Sayfa.3/8\\n\\nEski 10 Kasım Anmalarıyla İlgili Belgeler. #Ataturk  #ata  #ATAM… https://t.co/PGteVOHfTJ',\n",
              " 'Fotoğraf paylaşıp suslu cümle yazmakla atanın izinde olunmuyor.. Her alanda ülkece calışmak, üretmek ve kalkinmak g… https://t.co/Ds3Y0d1vUD',\n",
              " 'şu satırları okuyup cami mimberlerinden, koltuklarından vs salyalarını akıtarak hakaret edenlerin ve buna ses çıkar… https://t.co/UvGcoubW6R',\n",
              " 'RT @Gizliogretiler: Günaydın :|\\nHer geçen gün artan hasretle ve minnetle anıyoruz.\\n#onkasım \\n#Ataturk',\n",
              " \"RT @MobilyaFuga: Ulu Önder Mustafa Kemal Atatürk'ü saygı, minnet ve özlemle anıyoruz.\\n\\n#10kasim  #ataturk https://t.co/a79i7jaGIP\",\n",
              " 'RT @mugla_mem: 10 Kasım Atatürk’ü Anma Günü etkinlikleri kapsamında MSKÜ Atatürk Kültür Merkezinde Menteşe Sosyal Bilimler Lisesinin hazırl…',\n",
              " 'Gazete Çivit 11.11.21\\nSayı.314     Sayfa.2/8\\n\\nEski 10 Kasım Anmalarıyla İlgili Belgeler. #Ataturk  #ata  #ATAM… https://t.co/LSTOhBiENG',\n",
              " \"Atatürk'ün Son Yolculuğu 10 Kasım Belgeseli\\nhttps://t.co/D6D1Np0zah\\n#10Kasim1938 #CocuğunuKemalizmdenKoru… https://t.co/II1Ff0Hj1J\",\n",
              " 'Bravo Nartallo\\nTarihi 7-1 lik Trabzon maçındaki 2 golün  sahibi kibar adam.\\n\\nBizi unutmayanı, Atatürk e saygı duyan… https://t.co/uZ2SFkkgfm',\n",
              " \"Şimdiki çocuklar ne kadar şanssız değil mi? Biz okulda Atatürk'ü seven ögretmenlerle,evde onu seven annelerle büyüd… https://t.co/HPDIvpNBin\",\n",
              " 'RT @sevimyogun: Seni çalışarak anıyorum. #10kasim1938 #10Kasim #ATAM #Sensiz83YIL \\n#Ataturk #MustafaKamalAtaturk #atamizindeyiz #Saygıveoez…',\n",
              " 'RT @FerzanOktem: ben seni çok sevdim, ben seni hep sevdim #10Kasim #Ataturk',\n",
              " 'RT @Kahvem_Sigaram: Sırf biz dik duralım diye \\nkimseye boyun eğmeyişini \\ns’on Kasım’a kadar ne unutacağız, \\nne unutturacağız..…',\n",
              " 'RT @sevimyogun: Seni çalışarak anıyorum. #10kasim1938 #10Kasim #ATAM #Sensiz83YIL \\n#Ataturk #MustafaKamalAtaturk #atamizindeyiz #Saygıveoez…',\n",
              " \"RT @TansuYegen: Atatürk'ün anısına dünya ülkelerinde bulunan anıtlar, heykeller, parklar, caddeler... #dünyaizinde #10Kasim1938 #ATATURK…\",\n",
              " 'RT @sevimyogun: Seni çalışarak anıyorum. #10kasim1938 #10Kasim #ATAM #Sensiz83YIL \\n#Ataturk #MustafaKamalAtaturk #atamizindeyiz #Saygıveoez…',\n",
              " 'RT @neco_ates: Sevgi, saygı, minnet ve özlemle anıyoruz... #Ataturk #10Kasim',\n",
              " \"Ulu Önderimiz Mustafa Kemal Atatürk'ü saygı ve özlemle anıyoruz. Çayırkent ÇPAL olarak, anma töreninde emeği geçen… https://t.co/TbispoorGI\",\n",
              " \"RT @soloturk: Ulu önder Gazi Mustafa Kemal Atatürk'ün bedenen aramızından ayrılışının 83. yıl dönümünde minnet, saygı ve rahmetle anıyoruz.…\",\n",
              " 'Kimse unutturamaz !!!  \\n#10Kasim193oo \\n#Ataturk \\n#Sensiz83YIL https://t.co/KFRmkjE01Y',\n",
              " 'RT @mugla_mem: 10 Kasım Atatürk’ü Anma Günü etkinlikleri kapsamında MSKÜ Atatürk Kültür Merkezinde Menteşe Sosyal Bilimler Lisesinin hazırl…',\n",
              " 'RT @ebru_liice: Sen Ölümsüz Bir Dünya Liderisin ‼️❤️\\n\\nK A L B İ M İ Z D E S İ N\\n#10Kasim \\n#Ataturk https://t.co/HVLb7A1sKj',\n",
              " 'RT @sevimyogun: Seni çalışarak anıyorum. #10kasim1938 #10Kasim #ATAM #Sensiz83YIL \\n#Ataturk #MustafaKamalAtaturk #atamizindeyiz #Saygıveoez…',\n",
              " 'RT @sevimyogun: Seni çalışarak anıyorum. #10kasim1938 #10Kasim #ATAM #Sensiz83YIL \\n#Ataturk #MustafaKamalAtaturk #atamizindeyiz #Saygıveoez…',\n",
              " 'RT @sevimyogun: Seni çalışarak anıyorum. #10kasim1938 #10Kasim #ATAM #Sensiz83YIL \\n#Ataturk #MustafaKamalAtaturk #atamizindeyiz #Saygıveoez…',\n",
              " 'Kimse unutturamaz, sende haddini bileceksin.!!! \\n#10Kasim193oo \\n#Ataturk \\n#Sensiz83YIL https://t.co/FgsXIlQHep',\n",
              " 'RT @ic_ses06: İyi akşamlar dostlarım, günün özelliği itibariyle keyfsiz bir gündü. Birde bir sürü yavşak haberiyle iyice keyfimiz kaçtı. Ta…',\n",
              " 'RT @Reks_imaa1938: Sen toprağa düştüğünde rakamlar da mateme başladı #Ataturk üm..\\n\\n193♾ sonsuzluğu işaret için düştü yere..\\n\\n#10Kasım lar…',\n",
              " \"RT @ridvan5971: Atam  57 yedi sene yaşamış \\nÇocukluğu hariç gerisini savaş \\nmeydanlarında harcamış\\nCebinden para vererek \\nElmalı Hamdi'ye K…\",\n",
              " 'RT @Kartalsevdas1: Buruk bir günaydın bırakıyorum arkadaşlar🙏❤️🇹🇷🥺❤️🇹🇷🥺🥺🥺\\n#Ataturk\\n#Anitkabir\\n#10Kasim1938 https://t.co/cFyOAE1x05',\n",
              " 'RT @_LadyTaURieL_: Ne güzel bir ülke\\nTrafik durdu , gözlerim doldu \\n\\n#10Kasim \\n\\nŞimdi keyifle kahvemi içerim 😄\\n\\nİstemeden saygı duruşunda b…',\n",
              " 'Bazı liderlerin mitinge ihtiyacı yoktur.\\n#10kasım #ATAM #Ataturk #MustafaKamalAtaturk https://t.co/RwbgS4YWTb',\n",
              " 'Saygı, sevgi,minnet,özlem ve rahmetle anıyorum.Olmasaydın olmazdık.Ruhun şad olsun ATa’m❤️🌹🇹🇷\\n#10Kasim #10Kasim1938… https://t.co/CcHbkJvSFu',\n",
              " 'RT @maviheybe: Sevgi, saygı, minnet, ve hasretle anıyoruz Atam..\\n\\n#10Kasim #carsamba #Ataturk #ATAM #Ataturk https://t.co/oi59HharEx',\n",
              " 'RT @ErhanHasmaden: \"Kasımda aşk başkadır çünkü bize ölümsüz bir aşkı hatırlatır. 10 Kasım 193∞.\" 🇹🇷🇹🇷🇹🇷🇹🇷🇹🇷\\n#10Kasim1938\\n#10Kasim\\n#Ataturk…',\n",
              " 'RT @ic_ses06: İyi akşamlar dostlarım, günün özelliği itibariyle keyfsiz bir gündü. Birde bir sürü yavşak haberiyle iyice keyfimiz kaçtı. Ta…',\n",
              " 'RT @6284Magdur: @sinem_emin #SueresizNafakaMağduru #10Kasim #siren #Ataturk #kalbimizdesin buyurun Sayın bakan @abdulhamitgul HAKKIMI HELAL…',\n",
              " 'RT @Baris_Sma: BARIŞ günden güne eriyor, kas kaybediyor…Barış’ın gülüşü solmasın diye📌BARIŞ yaz 9023’e gönder,20 TL ile bağış ile Barış’ı h…',\n",
              " 'RT @denizehayatol: Açtığın yolda gösterdiğin hedefe durmadan yürümeye ant içeriz. Sevgi, minnet ve özlemle... #10kasim1938 #10Kasim #Anitka…',\n",
              " 'RT @fatihdogan_38: Dolmabahçe \\n10 Kasım\\n09.05\\n2017\\n#Besiktas \\n#Ataturk https://t.co/bdgCJ6AjTu',\n",
              " 'RT @ic_ses06: İyi akşamlar dostlarım, günün özelliği itibariyle keyfsiz bir gündü. Birde bir sürü yavşak haberiyle iyice keyfimiz kaçtı. Ta…',\n",
              " 'Açtığın yolda, kurduğun ülküde, gösterdiğin amaçta hiç durmadan yürüyeceğiz.\\nAtamızı ebediyete irtihalinin 83. yılı… https://t.co/Auh2lKas0Q',\n",
              " \"RT @TansuYegen: Atatürk'ün anısına dünya ülkelerinde bulunan anıtlar, heykeller, parklar, caddeler... #dünyaizinde #10Kasim1938 #ATATURK…\",\n",
              " \"RT @ubuyukhatipoglu: Cumhuriyetimizin kurucusu Gazi Mustafa Kemal Atatürk'ü saygı, minnet ve hasretle anıyoruz.\\n#SonsuzaDek #Ataturk #10Kas…\",\n",
              " 'RT @Kahvem_Sigaram: Sırf biz dik duralım diye \\nkimseye boyun eğmeyişini \\ns’on Kasım’a kadar ne unutacağız, \\nne unutturacağız..…',\n",
              " 'RT @Gazete_Yenicag: Validen skandal paylaşım! #10Kasim193oo  #Ataturk #atamizindeyiz \\nhttps://t.co/PHgmZBdToN https://t.co/nSL1wvBEAk',\n",
              " '@sputnik_TR #SueresizNafakaMağduru #10Kasim #siren #Ataturk #kalbimizdesin buyurun Sayın bakan @abdulhamitgul HAKKI… https://t.co/2NDKk4blq7',\n",
              " 'RT @IlkokuluMimar: Sevgi, Saygı,Şükran ve Özlemle anıyoruz...\\n@tcmeb @MucahitYentur @izmir_ilmem @hsyngnsksv @bucamilliegitim\\n #10Kasım #At…',\n",
              " \"Atatürk'ün ışığından giden çocuklar yetiştireceğiz,sizde o ışıkta kör olacaksınız...Şuanda olduğu gibi....\\n#Ataturk\",\n",
              " 'Sevgi, Saygı,Şükran ve Özlemle anıyoruz...\\n@tcmeb @MucahitYentur @izmir_ilmem @hsyngnsksv @bucamilliegitim… https://t.co/gJ6R8ex3Z7',\n",
              " \"Gazi Mustafa Kemal Atatürk'ü Saygı ve Sevgiyle Anıyorum.\\n\\n#omergulenyuz \\n#Kayseri #Türkiye \\n#10Kasım #10Kasım1938… https://t.co/TclA1jUxX6\",\n",
              " \"RT @NedretIrdel: 🇹🇷🇹🇷🇹🇷🇹🇷🇹🇷\\nNE OLMUŞ'Kİ ÜZÜLEYİM 10 KASIM'DA\\n🇹🇷🇹🇷🇹🇷🇹🇷🇹🇷\\n#MustafaKamalAtaturk\\n#Ataturk\\n#10Kasim1938\\n#10Kasım\\n#10november\\n🇹🇷…\",\n",
              " 'RT @sem_ylmzdr: Başka türlü sevdik, \\nBaşkasını sevemiyoruz\\n\\nSaygı, Sevgi, Minnet ve Özlemle\\nSonsuza kadar…\\n\\n🇹🇷#10Kasim #Ataturk #Sensiz83YI…',\n",
              " 'Muhteşem değil mi ama 🙏❤🙏\\n#Ataturk https://t.co/aOx4Vdj6p4',\n",
              " 'RT @llllozllll: Bazı Borçlar Vardır Ödeyemezsin...✍\\n193∞  ❤🇹🇷\\n#GünaydınAtamın \\nAsil İnsanları ♥️\\n#Ataturk https://t.co/aQ5pnDW0hL',\n",
              " 'Sahtekar, yalaka kurumlar diil gerçek halk olarak bizler Yüce Atatürk’ ü saygıyla, sevgiyle, hasretle, umutla, minn… https://t.co/RbhqbRDcvT',\n",
              " 'RT @Kahvem_Sigaram: Sırf biz dik duralım diye \\nkimseye boyun eğmeyişini \\ns’on Kasım’a kadar ne unutacağız, \\nne unutturacağız..…',\n",
              " 'RT @fatihdogan_38: Dolmabahçe \\n10 Kasım\\n09.05\\n2017\\n#Besiktas \\n#Ataturk https://t.co/bdgCJ6AjTu',\n",
              " 'Ultra ulaşılmaz.. mega mükemmel..\\n#ataturk #10Kasim193oo #carsamba #galatakulesi https://t.co/FFjDoTB2hw',\n",
              " 'RT @MektepliGazete: Kaygılanma çocuk, herkes bir gün ölür!\\n Kimi toprağa kimi gönüllere gömülür! \\n#Ataturk #10Kasim1938 #10Kasim #10Kasım h…',\n",
              " \"RT @teknikerhaber: Gazi Mustafa Kemal Atatürk'ü Saygıyla Anıyoruz.\\n\\n#TeknikerHaber\\n#Tekniker #MYO\\n#Türkiye \\n#10Kasım #10Kasım1938\\n#Ataturk…\",\n",
              " 'Günün anlam ve önemi adına son gönderimiz olsun, tekrardan Atamızı rahmetle anıyor kurduğu Cumhuriyet için kendisin… https://t.co/qrZ2xzTpEq',\n",
              " '#Lazada1111 #10kasim1938 #ALLAHRAHMETEYLESİN #Anitkabir #Ataturk #AtamızRahatUyusun #biliriz #Kemalist… https://t.co/lXq8FPUo1g',\n",
              " 'RT @Kahvem_Sigaram: Sırf biz dik duralım diye \\nkimseye boyun eğmeyişini \\ns’on Kasım’a kadar ne unutacağız, \\nne unutturacağız..…',\n",
              " 'RT @nihat_yesiltas: Tüm Mazlum Uluslara Örnek Olan Bir Dünya Lideri ; Demokratik, Laik, Çağdaş ve Özgür Türkiye Cumhuriyetinin Kurucusu Dev…',\n",
              " 'RT @AileHekimligi: Açtığın yolda, daima #bilim ile ilerleyeceğiz! \\n\\n#10kasım #Ataturk #SaygıVeMinnetleAnıyoruz https://t.co/3u4LGPQ8TZ',\n",
              " 'RT @Baris_Sma: BARIŞ günden güne eriyor, kas kaybediyor…Barış’ın gülüşü solmasın diye📌BARIŞ yaz 9023’e gönder,20 TL ile bağış ile Barış’ı h…',\n",
              " \"10 Kasım'da her yerde Atamızı görünce biz 🖤🖤\\n#10Kasim #Ataturk https://t.co/H33nSRTJ2n\",\n",
              " 'RT @Canseshaber1: Ayasofya’da Atatürk’e Mevlid’e Valilikten Ret  https://t.co/t1VSi8VZGe @BTP_Parti @btpbolugenclik @IstanbulBtp @BTPESPOR…',\n",
              " 'RT @maliguler06: Başöğretmen Mustafa Kemal Atatürk\\'ün eğitim neferleri olarak, O\\'nun \"açtığı yolda, gösterdiği hedefe, hiç durmadan yürüyec…',\n",
              " \"RT @NedretIrdel: 🇹🇷🇹🇷🇹🇷🇹🇷🇹🇷\\nNE OLMUŞ'Kİ ÜZÜLEYİM 10 KASIM'DA\\n🇹🇷🇹🇷🇹🇷🇹🇷🇹🇷\\n#MustafaKamalAtaturk\\n#Ataturk\\n#10Kasim1938\\n#10Kasım\\n#10november\\n🇹🇷…\",\n",
              " 'OLMASAYDIN OLMAZDIK #Ataturk https://t.co/d9XDSTjHuq',\n",
              " 'RT @sem_ylmzdr: Başka türlü sevdik, \\nBaşkasını sevemiyoruz\\n\\nSaygı, Sevgi, Minnet ve Özlemle\\nSonsuza kadar…\\n\\n🇹🇷#10Kasim #Ataturk #Sensiz83YI…',\n",
              " 'RT @sma_sare: Duyun sesimizi\\nDestek olun 🙏\\nEn azından bir RT\\n\\n#BeşiktaşKABULLENMEZ #TekeTek  Leyla Özlem #10Kasim Black Miror #Tesla Erol B…',\n",
              " 'RT @Mutevazi_cocuk: Minnet ve özlemle...\\n#AşklaÇarpanKalbimsin 🖤🇹🇷 \\n#Ataturk #10Kasim1938 https://t.co/GFJ8LJ6yPq',\n",
              " \"RT @ridvan5971: Atam  57 yedi sene yaşamış \\nÇocukluğu hariç gerisini savaş \\nmeydanlarında harcamış\\nCebinden para vererek \\nElmalı Hamdi'ye K…\",\n",
              " 'RT @sevimyogun: Seni çalışarak anıyorum. #10kasim1938 #10Kasim #ATAM #Sensiz83YIL \\n#Ataturk #MustafaKamalAtaturk #atamizindeyiz #Saygıveoez…',\n",
              " 'RT @DpGultekinUysal: İşte, Mustafa Kemal Atatürk de Türk Milleti\\'ne \"Hızır\" olmuştur.\\n\\nUmudunun tükendiği, gayretinin kifayet etmediği, ne…',\n",
              " 'RT @TLB_istanbul: 10 Kasım’da Yasta Değil Görev Başındayız!🇹🇷\\n\\nCumhuriyetimizin kurucusu, Ulu Önderimiz Mustafa Kemal Atatürk’ü aramızdan a…',\n",
              " 'RT @h3pp4n: Saygı ile anıyoruz izin silinmez. \\n\\n#Ataturk #MustafaKamalAtaturk #saygı #ATAM #10kasim1938 https://t.co/BEhmZ6xoFw',\n",
              " 'RT @revolution7700: Özlemle Anıyoruz \\nMumla Arıyoruz \\nseni Atam \\nÖlümü bile ölümsüzleştirdin😔😔\\n#Sensiz83yıl\\n#Kalbimizdesin\\n#10Kasim #10Kasi…',\n",
              " 'RT @revolution7700: Özlemle Anıyoruz \\nMumla Arıyoruz \\nseni Atam \\nÖlümü bile ölümsüzleştirdin😔😔\\nK A L B İ M İ Z D E S İ N\\n#Sensiz83yıl\\n#Kalb…',\n",
              " 'RT @fatihdogan_38: Dolmabahçe \\n10 Kasım\\n09.05\\n2017\\n#Besiktas \\n#Ataturk https://t.co/bdgCJ6AjTu',\n",
              " 'RT @sinan525: Saygı Minnet ve Rahmet ile Anıyoruz.\\n\\n#10Kasim \\n#MustafaKamalAtaturk \\n#Ataturk https://t.co/JWcA2TPKmI',\n",
              " 'RT @filiz_pelen: Ne senden geçeriz,\\nNe senin eserinden!...\\nSaygıyla ve özlemle...\\n#Ataturk #10Kasim193oo https://t.co/5Dn1RR9V2I',\n",
              " 'RT @sevimyogun: Seni çalışarak anıyorum. #10kasim1938 #10Kasim #ATAM #Sensiz83YIL \\n#Ataturk #MustafaKamalAtaturk #atamizindeyiz #Saygıveoez…',\n",
              " 'RT @sevimyogun: Seni çalışarak anıyorum. #10kasim1938 #10Kasim #ATAM #Sensiz83YIL \\n#Ataturk #MustafaKamalAtaturk #atamizindeyiz #Saygıveoez…',\n",
              " '@yildarado Enfes bir yazı..akli başında ,özgürce dusunebilen ,kemalist,milliyetçi  ideolojik bagajı ile filan bakma… https://t.co/YKFlHTQPeG',\n",
              " 'RT @neco_ates: Sevgi, saygı, minnet ve özlemle anıyoruz... #Ataturk #10Kasim',\n",
              " 'RT @Baris_Sma: BARIŞ günden güne eriyor, kas kaybediyor…Barış’ın gülüşü solmasın diye📌BARIŞ yaz 9023’e gönder,20 TL ile bağış ile Barış’ı h…',\n",
              " 'RT @nevzatkulaber: Saygı, rahmet ve minnetle anıyoruz. #Ataturk #10Kasim https://t.co/e7fIT3JCJB',\n",
              " 'Atam, bugun seni sevgi, saygi ve dualarimizla aniyoruz. Emanetine sonsuza dek sahip cikacagimizdan hic suphen olmas… https://t.co/RlFCFDJgwM',\n",
              " 'RT @AvantCollection: Saygı, özlem ve minnet ile anıyoruz... ∞\\nWe commemorate with respect and gratitude...\\n#10Kasım #Ataturk https://t.co/j…',\n",
              " 'RT @sevimyogun: Seni çalışarak anıyorum. #10kasim1938 #10Kasim #ATAM #Sensiz83YIL \\n#Ataturk #MustafaKamalAtaturk #atamizindeyiz #Saygıveoez…',\n",
              " 'RT @fatihdogan_38: Dolmabahçe \\n10 Kasım\\n09.05\\n2017\\n#Besiktas \\n#Ataturk https://t.co/bdgCJ6AjTu',\n",
              " 'RT @sevimyogun: Seni çalışarak anıyorum. #10kasim1938 #10Kasim #ATAM #Sensiz83YIL \\n#Ataturk #MustafaKamalAtaturk #atamizindeyiz #Saygıveoez…',\n",
              " 'RT @sem_ylmzdr: Başka türlü sevdik, \\nBaşkasını sevemiyoruz\\n\\nSaygı, Sevgi, Minnet ve Özlemle\\nSonsuza kadar…\\n\\n🇹🇷#10Kasim #Ataturk #Sensiz83YI…',\n",
              " \"RT @TansuYegen: Atatürk'ün anısına dünya ülkelerinde bulunan anıtlar, heykeller, parklar, caddeler... #dünyaizinde #10Kasim1938 #ATATURK…\",\n",
              " 'RT @GaziemirA: Atatürk yaşasaydı, sen ona ne demek isterdin? diye sorduk. Ne güzel şeyler söylediniz, anne babalarınızda yazdılar. Siz Atat…',\n",
              " 'RT @GaziemirA: Atatürk yaşasaydı, sen ona ne demek isterdin? diye sorduk. Ne güzel şeyler söylediniz, anne babalarınızda yazdılar. Siz Atat…',\n",
              " \"RT @ozelerdal: Ülkemizin kurucusu,Mustafa Kemal Atatürk'ü vefatının 83.yıl dönümünde saygı ve minnetle anıyoruz.\\n@tarkankalelii @bbnturktv…\",\n",
              " \"Yiğenimin ATATÜRK'e mektubu #Ataturk #10kasim1938 https://t.co/fyItIfbLEm\",\n",
              " 'RT @ic_ses06: Canını yerim senin, aslan kardeşim...👏\\n Ağzına sağlık... yüreğine, aklına sağlık... 🙏✌️✌️✌️👏👏👍👍👍👍✌️👏👏👏\\n #içses #Ataturk #atam…',\n",
              " \"RT @Herdaim_Haber: Sedat Peker: Ata'sını bilmeyen it peşinde gezer!\\nhttps://t.co/81tJT5JEVU \\n@sedat_peker \\n#10Kasim #Ataturk #SedatPeker ht…\",\n",
              " 'RT @Kahvem_Sigaram: Sırf biz dik duralım diye \\nkimseye boyun eğmeyişini \\ns’on Kasım’a kadar ne unutacağız, \\nne unutturacağız..…',\n",
              " 'RT @MammadovaJamila: Hörmətlə anırıq! 🇦🇿🇹🇷🙏🏻 #Ataturk https://t.co/o23vFGfXwY',\n",
              " 'RT @Kahvem_Sigaram: Sırf biz dik duralım diye \\nkimseye boyun eğmeyişini \\ns’on Kasım’a kadar ne unutacağız, \\nne unutturacağız..…',\n",
              " 'RT @ic_ses06: İyi akşamlar dostlarım, günün özelliği itibariyle keyfsiz bir gündü. Birde bir sürü yavşak haberiyle iyice keyfimiz kaçtı. Ta…',\n",
              " 'RT @Nilay06354192: #10Kasım yolun yolumuzdur #MustafaKemalAtatürk #Atatürk #Ataturk https://t.co/m7bhGqGPsa',\n",
              " 'RT @sevimyogun: Seni çalışarak anıyorum. #10kasim1938 #10Kasim #ATAM #Sensiz83YIL \\n#Ataturk #MustafaKamalAtaturk #atamizindeyiz #Saygıveoez…',\n",
              " \"RT @KulturUsak: Kurtuluş Savaşımızın Başkomutanı Türkiye Cumhuriyeti'nin kurucusu Gazi Mustafa Kemal Atatürk'ü  ebediyete uğurlayışımızın 8…\",\n",
              " 'RT @dervis_yunus: Saygı ve Rahmetle...\\n\\n@Faruk_Dilaver\\n\\n #10Kasim #Ataturk  #yunusemre #hakikat #aşk #FarukDilaver https://t.co/X0wt4Q3i9G',\n",
              " 'RT @sedatkcan: Saygıyla ve özlemle anıyorum..     🇹🇷♾\\n#10Kasim1938 #Ataturk #10KasımAtatürküAnmaGünü #GeceyeNotum #10Kasim https://t.co/YTX…',\n",
              " 'RT @1adresss: #Günaydın \\n.....Bu ülkenin en büyük şansıydın, çok erkendi çok, yapacağın çok şey daha vardı ama artık senin yolunda, ilkeler…',\n",
              " '#10Kasım #Ataturk sevmeyen işçi tayfa 23 Nisan,19 Mayıs gibi resmi tatil günlerinde çift mesai parası almasın. Öyle… https://t.co/dyr9X1spKB',\n",
              " 'RT @Bozokbey52: Bir sevdasın sen. Nice sevdalara değişmeyen..❤️❤️❤️\\n\\n#10Kasim1938 #10Kasim #Ataturk https://t.co/lWlNKvNeN4',\n",
              " 'RT @MulteciHaberler: Güzel ülkemizin kurucusu, 57 yıllık yaşamına 24 savaş, 11 madalya, 7 nişan, 13 kitap ve 1 ülke sığdıran Atamızı rahmet…',\n",
              " 'RT @ic_ses06: İyi akşamlar dostlarım, günün özelliği itibariyle keyfsiz bir gündü. Birde bir sürü yavşak haberiyle iyice keyfimiz kaçtı. Ta…',\n",
              " \"ATATÜRK'E ATAPUT DİYENLER 10 KASIMDA ATATÜRK'Ü İSTİKLAL MARŞI VE ŞİİRLERLE ANARKEN NASILDI?\\n#Ataturk\\n#10Kasim\",\n",
              " 'RT @ic_ses06: İyi akşamlar dostlarım, günün özelliği itibariyle keyfsiz bir gündü. Birde bir sürü yavşak haberiyle iyice keyfimiz kaçtı. Ta…',\n",
              " 'RT @ic_ses06: İyi akşamlar dostlarım, günün özelliği itibariyle keyfsiz bir gündü. Birde bir sürü yavşak haberiyle iyice keyfimiz kaçtı. Ta…',\n",
              " \"RT @Herdaim_Haber: Sedat Peker: Ata'sını bilmeyen it peşinde gezer!\\nhttps://t.co/81tJT5JEVU \\n@sedat_peker \\n#10Kasim #Ataturk #SedatPeker ht…\",\n",
              " 'RT @fatihdogan_38: Dolmabahçe \\n10 Kasım\\n09.05\\n2017\\n#Besiktas \\n#Ataturk https://t.co/bdgCJ6AjTu',\n",
              " \"RT @durumeric_sma: Atatürk'ü ölümünün 83.yılında hüzünle, saygıyla ve özlemle anıyoruz. Bütün ümidi gençlikte olan Atamızın bir evladı da D…\",\n",
              " 'RT @ic_ses06: İyi akşamlar dostlarım, günün özelliği itibariyle keyfsiz bir gündü. Birde bir sürü yavşak haberiyle iyice keyfimiz kaçtı. Ta…',\n",
              " 'RT @dikicier_adnan: Saygıyla, \\nÖzlemle, \\nMinnetle.. \\n\\n#Ataturk\\n#10Kasim \\n#10Kasim1938 https://t.co/gOlOOCJle5',\n",
              " \"RT @durumeric_sma: Atatürk'ü ölümünün 83.yılında hüzünle, saygıyla ve özlemle anıyoruz. Bütün ümidi gençlikte olan Atamızın bir evladı da D…\",\n",
              " 'Galata Kulesi 10 Kasim Ozel   Gosterisi \\n#galatakulesi #galatatower #10Kasım #Ataturk https://t.co/drxpu8rg5V',\n",
              " 'RT @duru_beyazz: Kalkın !\\nBir kez daha \\nBir devrimciyi selamlayacağız\\n\\n#10kasım193oo\\n#saat0905\\n#Ataturk\\n#atamızrahatuyusun https://t.co/ysi…',\n",
              " 'RT @ic_ses06: İyi akşamlar dostlarım, günün özelliği itibariyle keyfsiz bir gündü. Birde bir sürü yavşak haberiyle iyice keyfimiz kaçtı. Ta…',\n",
              " 'RT @TLB_istanbul: 10 Kasım’da Yasta Değil Görev Başındayız!🇹🇷\\n\\nCumhuriyetimizin kurucusu, Ulu Önderimiz Mustafa Kemal Atatürk’ü aramızdan a…',\n",
              " 'RT @revolution7700: Özlemle Anıyoruz \\nMumla Arıyoruz \\nseni Atam \\nÖlümü bile ölümsüzleştirdin😔😔\\nK A L B İ M İ Z D E S İ N\\n#Sensiz83yıl\\n#Kalb…',\n",
              " 'RT @Bozokbey52: Bir sevdasın sen. Nice sevdalara değişmeyen..❤️❤️❤️\\n\\n#10Kasim1938 #10Kasim #Ataturk https://t.co/lWlNKvNeN4',\n",
              " 'RT @ebru_liice: Ölmedin ki yas tutalım,,\\nBizimkisi yokluğuna isyan ATAM ‼️\\n\\nK A L B İ M İ Z D E S İ N\\n#10Kasim \\n#Ataturk',\n",
              " '@Canan_Kaftanci Sıfatlardan yakıştırmalardan hoslanmiyorsun ama neticede bir görüşe (sol) bir partiye ve bu partide… https://t.co/s5gPCwl1al',\n",
              " 'RT @alparslanturks: Minnetle, saygıyla ve özlemle…♾\\n#10Kasim1938 \\n#MustafaKemalAtatürk \\n#Ataturk \\n#10Kasım https://t.co/jzQvXk10cl',\n",
              " \"RT @durumeric_sma: Atatürk'ü ölümünün 83.yılında hüzünle, saygıyla ve özlemle anıyoruz. Bütün ümidi gençlikte olan Atamızın bir evladı da D…\",\n",
              " 'RT @Nejlady1: İlelebet izinde ilelebet kalbimizdesin #10Kasim #Ataturk #Sensiz83YIL #10Kasim1938 ♾💙 https://t.co/cOGGAh9G5Q',\n",
              " 'RT @sevimyogun: Seni çalışarak anıyorum. #10kasim1938 #10Kasim #ATAM #Sensiz83YIL \\n#Ataturk #MustafaKamalAtaturk #atamizindeyiz #Saygıveoez…',\n",
              " 'RT @sma_sare: Duyun sesimizi\\nDestek olun 🙏\\nEn azından bir RT\\n\\n#BeşiktaşKABULLENMEZ #TekeTek  Leyla Özlem #10Kasim Black Miror #Tesla Erol B…',\n",
              " 'RT @sevimyogun: Seni çalışarak anıyorum. #10kasim1938 #10Kasim #ATAM #Sensiz83YIL \\n#Ataturk #MustafaKamalAtaturk #atamizindeyiz #Saygıveoez…',\n",
              " 'RT @ic_ses06: Canını yerim senin, aslan kardeşim...👏\\n Ağzına sağlık... yüreğine, aklına sağlık... 🙏✌️✌️✌️👏👏👍👍👍👍✌️👏👏👏\\n #içses #Ataturk #atam…',\n",
              " 'RT @duruduru721: Saygı ve Özlem’le ❤️♾❤️\\n#Ataturk #Anıtkabir \\n@melinim00 https://t.co/WXtGXcAwdj',\n",
              " \"RT @ridvan5971: Atam  57 yedi sene yaşamış \\nÇocukluğu hariç gerisini savaş \\nmeydanlarında harcamış\\nCebinden para vererek \\nElmalı Hamdi'ye K…\",\n",
              " 'RT @KetenciNafi: Herkes ölür, kimileri toprağa, kimileri de yüreğe gömülür. #Ataturk https://t.co/GgPCyPK2WN',\n",
              " 'RT @AileHekimligi: Açtığın yolda, daima #bilim ile ilerleyeceğiz! \\n\\n#10kasım #Ataturk #SaygıVeMinnetleAnıyoruz https://t.co/3u4LGPQ8TZ',\n",
              " 'RT @ic_ses06: İyi akşamlar dostlarım, günün özelliği itibariyle keyfsiz bir gündü. Birde bir sürü yavşak haberiyle iyice keyfimiz kaçtı. Ta…',\n",
              " 'RT @esenhikmet: Saygı ve özlemle anıyoruz. #ATAM #MustafaKamalAtaturk #10Kasim1938 #10KasımSonsuzluk \\n#Ataturk https://t.co/WUqNLGFtKF',\n",
              " 'RT @sem_ylmzdr: Başka türlü sevdik, \\nBaşkasını sevemiyoruz\\n\\nSaygı, Sevgi, Minnet ve Özlemle\\nSonsuza kadar…\\n\\n🇹🇷#10Kasim #Ataturk #Sensiz83YI…',\n",
              " 'RT @KevserOfluoglu: Bir destan yazdın ömrünü adayarak, ölümsüz oldun yüreklerde. \\nEy Türkün Atası! \\nTürk Ulusu ilelebet sana minnettardır.…',\n",
              " \"RT @durumeric_sma: Atatürk'ü ölümünün 83.yılında hüzünle, saygıyla ve özlemle anıyoruz. Bütün ümidi gençlikte olan Atamızın bir evladı da D…\",\n",
              " 'Her ne yaparsanız yapın, Türk milletinin kalbinden ve fikrinden onu silemezsiniz.Allah gani gani rahmet eylesin… https://t.co/6bCj11JUDr',\n",
              " \"RT @durumeric_sma: Atatürk'ü ölümünün 83.yılında hüzünle, saygıyla ve özlemle anıyoruz. Bütün ümidi gençlikte olan Atamızın bir evladı da D…\",\n",
              " 'RT @Baris_Sma: BARIŞ günden güne eriyor, kas kaybediyor…Barış’ın gülüşü solmasın diye📌BARIŞ yaz 9023’e gönder,20 TL ile bağış ile Barış’ı h…',\n",
              " 'RT @June8Itouch: Saygıyla, minnetle…sonsuza dek izinde… #Ataturk https://t.co/o9XvvuUmyn',\n",
              " 'RT @06naki_yucel: Adını Türk Tarihine Altın Harflerle Yazdıran Büyük Şahsiyet, Mustafa Kemal ATATÜRK Sen Türk Milletinin Kalbinde Ebedi Ola…',\n",
              " 'RT @TiyatroFug: Sevgi, Saygı, Minnet ve Özlemle..\\n\\n#10Kasim #10Kasım2021 #Ataturk https://t.co/hlmTyLGeeD',\n",
              " 'RT @filizarikmnt: Atatürk, Türk milletine Allah’ın bir lütfu.Atatürk olmasaydı Türkiye’de böyle aydın bir yapı olmazdı,çoktan dağılıp parça…',\n",
              " 'RT @sevimyogun: Seni çalışarak anıyorum. #10kasim1938 #10Kasim #ATAM #Sensiz83YIL \\n#Ataturk #MustafaKamalAtaturk #atamizindeyiz #Saygıveoez…',\n",
              " 'RT @sma_sare: Duyun sesimizi\\nDestek olun 🙏\\nEn azından bir RT\\n\\n#BeşiktaşKABULLENMEZ #TekeTek  Leyla Özlem #10Kasim Black Miror #Tesla Erol B…',\n",
              " 'RT @sevimyogun: Seni çalışarak anıyorum. #10kasim1938 #10Kasim #ATAM #Sensiz83YIL \\n#Ataturk #MustafaKamalAtaturk #atamizindeyiz #Saygıveoez…',\n",
              " 'Türkiye’nin çiçek gibi insanlarının tek ortak noktası #Ataturk',\n",
              " 'RT @ebru_liice: Sen Ölümsüz Bir Dünya Liderisin ‼️❤️\\n\\nK A L B İ M İ Z D E S İ N\\n#10Kasim \\n#Ataturk https://t.co/HVLb7A1sKj',\n",
              " 'RT @ebru_liice: Sen Ölümsüz Bir Dünya Liderisin ‼️❤️\\n\\nK A L B İ M İ Z D E S İ N\\n#10Kasim \\n#Ataturk https://t.co/HVLb7A1sKj',\n",
              " 'RT @oerdem42: Azerbaycan büyükelçiliğimizin düzenlediği \"10 Kasım Atatürk\\'ü anma\" programlarına katıldık. \\nŞehitliğimizi ziyaret ettik. Azi…',\n",
              " '#ATATURK gercek, gerisi YALAN ! #10Kasim Eserlerinle beynimizde ve kalbimizdesin...',\n",
              " 'RT @nisrolik: Içimizdeki vatan hainlerinin Atatürk düşmanlarınınin Arap sevicilerin yobazların etiketlerine yazmak  yerine kendi etiketleri…',\n",
              " 'RT @orhannklc74: Sönmeyen güneşimiz,bitmeyen şarkımız🇹🇷#Turkey #10Kasim #10Kasim1938 #Ataturk #atamizindeyiz #Orhankılıç #atam #izmir #İsta…',\n",
              " \"RT @egitseladam: 10 Kasım 2003'te tüm dünyanın gözü önünde Japonya’da dünya kupası maçında Filenin Sultanları'nın 09:05’te aldığı o molanın…\",\n",
              " \"RT @SERTGOK: Çukurovalı tarım çalışanı Han'ımlarımızdan Ata'ya saygı...\\n\\nVallahi bu sevda bitmez...\\nBillahi bu millet cihan yıkılsa  diz çö…\",\n",
              " \"RT @durumeric_sma: Atatürk'ü ölümünün 83.yılında hüzünle, saygıyla ve özlemle anıyoruz. Bütün ümidi gençlikte olan Atamızın bir evladı da D…\",\n",
              " 'RT @medyaankaracom: ANKARA KENT KONSEYİ BAŞKANI HALİL İBRAHİM YILMAZ “ BU KENT HER ZAMAN MUSTAFA KEMAL ATATÜRK’ÜN ANKARA’SI OLARAK KALACAK…',\n",
              " 'RT @Baris_Sma: BARIŞ günden güne eriyor, kas kaybediyor…Barış’ın gülüşü solmasın diye📌BARIŞ yaz 9023’e gönder,20 TL ile bağış ile Barış’ı h…',\n",
              " 'RT @Kartalsevdas1: Buruk bir günaydın bırakıyorum arkadaşlar🙏❤️🇹🇷🥺❤️🇹🇷🥺🥺🥺\\n#Ataturk\\n#Anitkabir\\n#10Kasim1938 https://t.co/cFyOAE1x05',\n",
              " 'RT @fatihdogan_38: Dolmabahçe \\n10 Kasım\\n09.05\\n2017\\n#Besiktas \\n#Ataturk https://t.co/bdgCJ6AjTu',\n",
              " \"RT @Herdaim_Haber: Sedat Peker: Ata'sını bilmeyen it peşinde gezer!\\nhttps://t.co/81tJT5JEVU \\n@sedat_peker \\n#10Kasim #Ataturk #SedatPeker ht…\",\n",
              " 'RT @bagimsizlik__: RAHMETLE Minnetle \\n#10Kasim #10Kasim1938 \\n#Sensiz83YIL #Sensiz83yıl\\n#Atatürk #Atamizindeyiz \\n#Ataturk #AtaturkVatandir…',\n",
              " 'RT @btp_hatay: \"Türk milletinin yetiştirdiği en büyük şahsiyetlerden biri olan ve bu mukaddes vatanda kurduğu Bağımsız Türkiye Cumhuriyeti…',\n",
              " 'RT @melihgorgun: Anlamaya ve anlatmaya asla doyamayacağız… Sevgi, özlem ve minnetle arıyoruz, anıyoruz… #Ataturk #10Kasim1938 #atamizindeyiz',\n",
              " '10 kasım #Ataturk #ozlemle https://t.co/M9iBSlwbiA',\n",
              " 'RT @filizarikmnt: Atatürk, Türk milletine Allah’ın bir lütfu.Atatürk olmasaydı Türkiye’de böyle aydın bir yapı olmazdı,çoktan dağılıp parça…',\n",
              " 'RT @yusufkrc70: “İçimde hiçbir şüphe kalmadı Atatürk’ü zehirleyerek şehit ettiler” https://t.co/7os7IgMUT1\\n#10Kasim1938\\n#10Kasim1938\\n#Atatu…',\n",
              " 'RT @sem_ylmzdr: Başka türlü sevdik, \\nBaşkasını sevemiyoruz\\n\\nSaygı, Sevgi, Minnet ve Özlemle\\nSonsuza kadar…\\n\\n🇹🇷#10Kasim #Ataturk #Sensiz83YI…',\n",
              " \"RT @ridvan5971: Atam  57 yedi sene yaşamış \\nÇocukluğu hariç gerisini savaş \\nmeydanlarında harcamış\\nCebinden para vererek \\nElmalı Hamdi'ye K…\",\n",
              " 'RT @sevimyogun: Seni çalışarak anıyorum. #10kasim1938 #10Kasim #ATAM #Sensiz83YIL \\n#Ataturk #MustafaKamalAtaturk #atamizindeyiz #Saygıveoez…',\n",
              " 'RT @sem_ylmzdr: @Sevdam_Mavim Saygı ve minnetle❤️🇹🇷\\n#10Kasim #Ataturk #Sensiz83YIL 🇹🇷',\n",
              " 'RT @serhanacar: Sevgimiz, minnetimiz, hürmetimiz, hasretimiz: Zamansız... Tarifsiz… Benzersiz… Tavizsiz…\\n#10Kasim1938 #Ataturk https://t.co…',\n",
              " 'RT @ic_ses06: Canını yerim senin, aslan kardeşim...👏\\n Ağzına sağlık... yüreğine, aklına sağlık... 🙏✌️✌️✌️👏👏👍👍👍👍✌️👏👏👏\\n #içses #Ataturk #atam…',\n",
              " \"RT @TansuYegen: Atatürk'ün anısına dünya ülkelerinde bulunan anıtlar, heykeller, parklar, caddeler... #dünyaizinde #10Kasim1938 #ATATURK…\",\n",
              " 'RT @ayyildizhakan: 10 Kasım 1938 günü İtalyan radyosunun yaptığı anons: \\n\\nSezar, İskender, Napolyon ayağa kalkın. Büyüğünüz geliyor! Saygı…',\n",
              " 'RT @ic_ses06: İyi akşamlar dostlarım, günün özelliği itibariyle keyfsiz bir gündü. Birde bir sürü yavşak haberiyle iyice keyfimiz kaçtı. Ta…',\n",
              " 'RT @Baris_Sma: BARIŞ günden güne eriyor, kas kaybediyor…Barış’ın gülüşü solmasın diye📌BARIŞ yaz 9023’e gönder,20 TL ile bağış ile Barış’ı h…',\n",
              " 'RT @Funddemir_: \"Milletim beni nereye isterse oraya gömsün. Yeter ki beni unutmasın.\"\\n\\nMustafa Kemal Atatürk\\n\\n#10Kasim1938 #10Kasim #Anitka…',\n",
              " 'RT @YlmazSera: #10Kasim #Anitkabir #Ataturk nurlar içinde yat atam 💙💛🙏 https://t.co/52BdrYAIa6',\n",
              " \"RT @BilKurs: Türk Gençliği Bıraktığın Emanetle İzinde...\\nTürk milletinin büyük kahramanı Gazi Mustafa Kemal ATATÜRK'ü vefatının 83. yıl dön…\",\n",
              " 'RT @necmettintetik: Ölmedin ki yas tutalım, \\nbizimkisi yokluğuna isyan!\\nSaygı, rahmet ve minnetle sonsuza kadar! 🇹🇷 \\n#AtamYasıyorsun #Atatu…',\n",
              " \"Bursa Şahinkaya'dan Ata'ya saygı nöbeti https://t.co/OQxfoN8N82 #bursa #gundem #haber #sondakika @sahinkayakoleji #Ataturk #onkasım\",\n",
              " 'RT @Jalesi35: Bugün sabah Atamız ve şehitlerimiz için okulda hayrımızı yaptık.\\nRuhlarına gitsin inşallah.\\n#MinnettarızAtam \\n#Ataturk \\n#atam…',\n",
              " 'RT @Bozokbey52: Bir sevdasın sen. Nice sevdalara değişmeyen..❤️❤️❤️\\n\\n#10Kasim1938 #10Kasim #Ataturk https://t.co/lWlNKvNeN4',\n",
              " 'RT @Mustafa_1681: Boğazımızın düğümlendiği buruk bir Günaydın bugün. Her zaman büyük bir saygı, sevgi, özlem ve minnetle anıyoruz 🇹🇷🇹🇷🇹🇷\\n#A…',\n",
              " 'RT @filizarikmnt: Atatürk, Türk milletine Allah’ın bir lütfu.Atatürk olmasaydı Türkiye’de böyle aydın bir yapı olmazdı,çoktan dağılıp parça…',\n",
              " 'RT @ebru_liice: Sen Ölümsüz Bir Dünya Liderisin ‼️❤️\\n\\nK A L B İ M İ Z D E S İ N\\n#10Kasim \\n#Ataturk https://t.co/HVLb7A1sKj',\n",
              " \"RT @Herdaim_Haber: Sedat Peker: Ata'sını bilmeyen it peşinde gezer!\\nhttps://t.co/81tJT5JEVU \\n@sedat_peker \\n#10Kasim #Ataturk #SedatPeker ht…\",\n",
              " 'bugün 10 kasım ile alâkalı bir sürü video benzeri şeyler izledim bir iki tane de köşe yazısı okudum ağlamak üzereyd… https://t.co/rC8A2Y1Kud',\n",
              " \"RT @durumeric_sma: Atatürk'ü ölümünün 83.yılında hüzünle, saygıyla ve özlemle anıyoruz. Bütün ümidi gençlikte olan Atamızın bir evladı da D…\",\n",
              " 'Büyüksün #Ataturk #10kasim1938 https://t.co/Dqzc6C1BEs',\n",
              " 'RT @sevimyogun: Seni çalışarak anıyorum. #10kasim1938 #10Kasim #ATAM #Sensiz83YIL \\n#Ataturk #MustafaKamalAtaturk #atamizindeyiz #Saygıveoez…',\n",
              " 'RT @behzatuygur: Sevgi, saygı, minnet ve özlemle anıyoruz... #Ataturk https://t.co/t29oXtHWD9',\n",
              " 'RT @dikicier_adnan: Saygıyla, \\nÖzlemle, \\nMinnetle.. \\n\\n#Ataturk\\n#10Kasim \\n#10Kasim1938 https://t.co/gOlOOCJle5',\n",
              " 'RT @gmzk3458: NEFES ALDIĞIMIZ HER GÜN....\\n\\nSAYGI VE MİNNETLE ATAM....\\n\\n#10Kasım #Ataturk #Anıtkabir ❤ https://t.co/cpP4cTNQfF',\n",
              " \"Cumhuriyetimizin kurucusu Ulu Önder Mustafa Kemal ATATÜRK'ü saygı ve özlemle anıyoruz.\\n#10Kasım #ataturk… https://t.co/KrqOMfvm04\",\n",
              " 'RT @recep_ergul: \" Benim naçiz vücudum, bir gün elbet toprak olacaktır. Fakat Türkiye Cumhuriyeti, ilelebet payidar kalacaktır...\"\\n\\nÜlkemiz…',\n",
              " \"RT @TansuYegen: Atatürk'ün anısına dünya ülkelerinde bulunan anıtlar, heykeller, parklar, caddeler... #dünyaizinde #10Kasim1938 #ATATURK…\",\n",
              " \"Atatürk'ü sevmeyip 'dinsiz, ayyaş' diyenler şimdi bir daha düşünsün 😉 #10kasım #atamizindeyiz #Ataturk https://t.co/kscbGgSF6b\",\n",
              " \"RT @TansuYegen: Atatürk'ün anısına dünya ülkelerinde bulunan anıtlar, heykeller, parklar, caddeler... #dünyaizinde #10Kasim1938 #ATATURK…\",\n",
              " 'Rahmetle minnetle Anıyoruz #Ataturk #10kasim1938 https://t.co/We77Aq68le',\n",
              " 'Sevgi, saygı, minnet ve özlemle anıyoruz... #10kasım #10kasim #atatürk #ataturk #mustafakemalataturk… https://t.co/yeL5blAyWa',\n",
              " 'RT @DpGultekinUysal: İşte, Mustafa Kemal Atatürk de Türk Milleti\\'ne \"Hızır\" olmuştur.\\n\\nUmudunun tükendiği, gayretinin kifayet etmediği, ne…',\n",
              " 'RT @nisrolik: Içimizdeki vatan hainlerinin Atatürk düşmanlarınınin Arap sevicilerin yobazların etiketlerine yazmak  yerine kendi etiketleri…',\n",
              " 'RT @gizemyildizo: Ölmedi ki yas tutalım;\\nbizimkisi yokluğuna isyan...\\n\\nSaygı ve Özlemle ATAM♾️\\n\\n#10Kasım \\n#Ataturk https://t.co/RiZ4kWnu7Y',\n",
              " 'RT @drabc1907: Bizim ölümsüz bir kahramanımız var  Sevgi ve saygımız bitmez özlemimiz tükenmez #10Kasim #10Kasim1938 #Ataturk #atamizindeyiz',\n",
              " \"RT @TansuYegen: Atatürk'ün anısına dünya ülkelerinde bulunan anıtlar, heykeller, parklar, caddeler... #dünyaizinde #10Kasim1938 #ATATURK…\",\n",
              " 'RT @YILDRMKILICKAYA: #bozkurtordusu nun Başkumandani, mazlumların örnek aldığı lider. Ruhun şad olsun.\\n#10Kasim1938 fikirler ölmez .\\n#Atatu…',\n",
              " 'RT @Burcu53355: Saygı, özlem ve minnetle anıyorum.\\n#Ataturk #10Kasim1938 #10Kasim https://t.co/qYJjwukUNw',\n",
              " 'RT @neyzarca: Rahmet, minnet ve saygı ile..\\n#Ataturk\\n#10Kasim \\n#SonKasımaKadarİzindeyiz https://t.co/17ov1ioKUU',\n",
              " 'RT @sma_sare: Duyun sesimizi\\nDestek olun 🙏\\nEn azından bir RT\\n\\n#BeşiktaşKABULLENMEZ #TekeTek  Leyla Özlem #10Kasim Black Miror #Tesla Erol B…',\n",
              " 'RT @semraozturk27: “Atatürk’ün fikirlerini yaşatmalıyız” https://t.co/UESlIhCwpw @gagikad @dr_beryl #10kasım #Ataturk #GaziantepCamlıkAnado…',\n",
              " 'İzlediğim en etkileyici reklam #10KasımSonsuzluk #10Kasim1938  #Ataturk https://t.co/b01sj6wGYA',\n",
              " 'O girdiği hiç bir savaşı kaybetmedi.\\n\\nMustafa Kemal Atatürk kaybetmez \\n\\nOna karşı kazanamazsiniz .\\n\\n#10Kasim herkes… https://t.co/yyUJ8En3Rx',\n",
              " 'Sonsuzluğunda ilerliyoruz.. 193♾\\n#1881 #1938 #10kasım1938 #ataturk #sonsuzluk #yolunyolumuzdur #10kasım #10 #kasım… https://t.co/PUthHTN2S4',\n",
              " 'RT @nrdhaber: GAGİKAD, Atatürk’ü öğrencilerle andı! https://t.co/SKHLd2eKzR \\n#gaziantep #10Kasim #10Kasim1938 #10Kasim193oo #Ataturk #anma…',\n",
              " \"RT @Herdaim_Haber: Sedat Peker: Ata'sını bilmeyen it peşinde gezer!\\nhttps://t.co/81tJT5JEVU \\n@sedat_peker \\n#10Kasim #Ataturk #SedatPeker ht…\",\n",
              " 'Atatürk ile büyümüş bir çocuksanız masal kahramanlarına ihtiyaç duymazsınız. #Ataturk #10Kasim193oo… https://t.co/OjGnwCAWle',\n",
              " 'Doga bile unutmadi onu…#Ataturk❤️♾ https://t.co/kd25cfmMNH',\n",
              " '@komunisttbari 10 Kasım da paylaşım yapmayan siz takibe değmezsiniz. Gazi Mustafa Kemal Atatürk sayesinde bu ülkede… https://t.co/zJLJzQXV7t',\n",
              " 'RT @ic_ses06: İyi akşamlar dostlarım, günün özelliği itibariyle keyfsiz bir gündü. Birde bir sürü yavşak haberiyle iyice keyfimiz kaçtı. Ta…',\n",
              " 'RT @ggggulcannn: Hiç görmediğin birini sevmek ve özlemek...\\n🇹🇷🌼🇹🇷🌼🇹🇷🌼🇹🇷🌼🇹🇷🌼🇹🇷🌼\\nSaygı, minnet ve rahmetle anıyoruz\\n#sonsuzadek\\n#Ataturk\\n#Gün…',\n",
              " 'RT @fatihuyg: Saygıyla,sevgiyle ve minnetle anıyoruz...\\n\\n#Ataturk \\n#atatuerk https://t.co/3iTKON9phX',\n",
              " 'RT @SERTGOK: \" Ben herşeyden önce bir #Ћץґи Milliyetçisi\\'yim.\\nBöyle doğdum, böyle öleceğim. \"\\n\\nBaşkomutan Mustafa Kemal Atatürk\\n\\nRahmetle..…',\n",
              " \"RT @SERTGOK: Çukurovalı tarım çalışanı Han'ımlarımızdan Ata'ya saygı...\\n\\nVallahi bu sevda bitmez...\\nBillahi bu millet cihan yıkılsa  diz çö…\",\n",
              " 'RT @yesimsalkim: Saygıyla sevgiyle #Ataturk #10Kasım https://t.co/QAFHcmbApC',\n",
              " \"RT @zilekutuphane: Ben Ata'ma doymadım... Çok teşekkür ediyoruz sevgili Masal ♥️\\n\\n#10Kasim1938 #Ataturk https://t.co/WCkE51LSIB\",\n",
              " 'RT @BoraLDG: Namaz kılacaksın da yer mi bulamadın hayırdır?\\nŞaştın da burada mı namaz kılacaksın? \\nBukalemun gibisiniz...\\n\\n#10Kasim1938 \\n#i…',\n",
              " \"RT @SERTGOK: Çukurovalı tarım çalışanı Han'ımlarımızdan Ata'ya saygı...\\n\\nVallahi bu sevda bitmez...\\nBillahi bu millet cihan yıkılsa  diz çö…\",\n",
              " 'RT @SERTGOK: \" Ben herşeyden önce bir #Ћץґи Milliyetçisi\\'yim.\\nBöyle doğdum, böyle öleceğim. \"\\n\\nBaşkomutan Mustafa Kemal Atatürk\\n\\nRahmetle..…',\n",
              " 'RT @ic_ses06: İyi akşamlar dostlarım, günün özelliği itibariyle keyfsiz bir gündü. Birde bir sürü yavşak haberiyle iyice keyfimiz kaçtı. Ta…',\n",
              " 'İyi akşamlar dostlarım, günün özelliği itibariyle keyfsiz bir gündü. Birde bir sürü yavşak haberiyle iyice keyfimiz… https://t.co/Pf5VwQMNJv',\n",
              " 'RT @sevimyogun: Seni çalışarak anıyorum. #10kasim1938 #10Kasim #ATAM #Sensiz83YIL \\n#Ataturk #MustafaKamalAtaturk #atamizindeyiz #Saygıveoez…',\n",
              " \"RT @Herdaim_Haber: Sedat Peker: Ata'sını bilmeyen it peşinde gezer!\\nhttps://t.co/81tJT5JEVU \\n@sedat_peker \\n#10Kasim #Ataturk #SedatPeker ht…\",\n",
              " 'RT @ebru_liice: Sen Ölümsüz Bir Dünya Liderisin ‼️❤️\\n\\nK A L B İ M İ Z D E S İ N\\n#10Kasim \\n#Ataturk https://t.co/HVLb7A1sKj',\n",
              " 'RT @EminoluAdem1: Eminoğlu yüce mevlam sana eylesin rahmet\\nEmanet eyledin bize türk ismiyle bir devlet\\nİlelebet yaşayacak bu aziz  cumhuriy…',\n",
              " 'RT @Bozokbey52: Bir sevdasın sen. Nice sevdalara değişmeyen..❤️❤️❤️\\n\\n#10Kasim1938 #10Kasim #Ataturk https://t.co/lWlNKvNeN4',\n",
              " 'RT @mugla_mem: 10 Kasım Atatürk’ü Anma Günü etkinlikleri kapsamında MSKÜ Atatürk Kültür Merkezinde Menteşe Sosyal Bilimler Lisesinin hazırl…',\n",
              " \"RT @HK_2611: Türk milletinin bir ferdi olarak Atatürk'ün getirdiği ilke ve devrimlerin gönüllü koruyucusu olmaktan onur duyarım \\nBunları un…\",\n",
              " 'RT @EmelOzceliker: Rahmet ve minnetle...😌\\nÇocukluğumdaki gibi sevgiyle ve hürmetle... ♾❤\\n#atamızrahatuyusun \\n#10Kasim \\n#Ataturk',\n",
              " 'Atatürk’ün sayesinde özgürüm Her daim sonsuz sevgiyle minnettar olacağım #Kalbimizdeİmzan #Ataturk https://t.co/9SCMi4BDcw',\n",
              " '#Ataturk ne demişti İSTİKBAL GÖKLERDEDİR işte o gerçek oluyor.#Şükürler olsun... https://t.co/2yfxped0mg',\n",
              " 'RT @sosyopt: Sevgi, saygı, özlem, minnet ve rahmet ileanıyoruz.. \\n#Ataturk   ¹⁸81\\n#10Kasım ¹⁹38 https://t.co/KQtNHVDQnn',\n",
              " 'RT @satu_yilmaz1: Gün Aydın olsun hepimize ...\\n\\nAşk , \\nKasım Gibidir! \\nSoluğu yağmur Kokar! \\nRomantiktir. . . . . \\nRuhu Asil Yüreği Cesur ,…',\n",
              " 'RT @sma_sare: Duyun sesimizi\\nDestek olun 🙏\\nEn azından bir RT\\n\\n#BeşiktaşKABULLENMEZ #TekeTek  Leyla Özlem #10Kasim Black Miror #Tesla Erol B…',\n",
              " 'RT @sem_ylmzdr: Başka türlü sevdik, \\nBaşkasını sevemiyoruz\\n\\nSaygı, Sevgi, Minnet ve Özlemle\\nSonsuza kadar…\\n\\n🇹🇷#10Kasim #Ataturk #Sensiz83YI…',\n",
              " 'RT @gulsinonay: Atam, söz sana, bize armağanın vatanımız,  Cumhuriyetimiz, aldığı hiç bir yara ile senin yolundan şaşmayacaktır.. \\nGeçici,…',\n",
              " 'Rahmetli ATATÜRK ün ruhunu bardağına koyduğu rakı ile şad edeceğini sanan çomarlar ak-çomarların kara versiyonudur. #10Kasım #Ataturk',\n",
              " 'RT @Filiz_Celik_Sah: ``RAHMET ve SAYGIYLA``\\n         10 Kasım 1938\\nhttps://t.co/qCo5O0v9wP\\n🇹🇷@korayaydintr \\n🇹🇷@meral_aksener\\n🇹🇷@iyiparti \\n#…',\n",
              " \"09.05'teki deprem sosyal medyayı SALLADI! https://t.co/oW1VHGCwiD #onkasım #ONKASIM1938 #Ataturk #gundem #SonDakika #haberler\",\n",
              " \"RT @durumeric_sma: Atatürk'ü ölümünün 83.yılında hüzünle, saygıyla ve özlemle anıyoruz. Bütün ümidi gençlikte olan Atamızın bir evladı da D…\",\n",
              " 'RT @laleozanarslan: Yarın yine aynı saatte en büyük devrimci Atamızı selamlayacağız. \\n Özlem, minnet ve aşkla…\\n#10Kasim \\n#Ataturk https://t…',\n",
              " 'RT @dediki7: Dedi ki \" Fikirlerin cesaretin emanetin bizim ilham kaynağımızdır \" !..\\nMustafa Kemal Atatürk sonsuza dek payidar kalacaktır !…',\n",
              " 'Bir sevdasın sen. Nice sevdalara değişmeyen..❤️❤️❤️\\n\\n#10Kasim1938 #10Kasim #Ataturk https://t.co/lWlNKvNeN4',\n",
              " '10 Kasım günü ben #10Kasim1938 #Ataturk #atamizindeyiz #tuerkiye https://t.co/F9thYv1dZw',\n",
              " \"RT @Suzan89498028: 10 Kasım saat 09:05 te çalacak olan ''SİREN'' sesinden rahatsız olanların sorunu kulaklarında değil, kanındadır.\\n#10Kasi…\",\n",
              " 'RT @Uuttkuuu1: “Seni düşünmek güzel şey,\\nümitli şey,\\ndünyanın en güzel sesinden,\\nen güzel şarkıyı dinlemek gibi bir şey.\" #Sensiz83yıl #Ata…',\n",
              " 'RT @Baris_Sma: BARIŞ günden güne eriyor, kas kaybediyor…Barış’ın gülüşü solmasın diye📌BARIŞ yaz 9023’e gönder,20 TL ile bağış ile Barış’ı h…',\n",
              " 'RT @denizehayatol: Açtığın yolda gösterdiğin hedefe durmadan yürümeye ant içeriz. Sevgi, minnet ve özlemle... #10kasim1938 #10Kasim #Anitka…',\n",
              " \"RT @GamzeGEMC1: Bir evladım  var ATAM,ilmek ilmek işliyorum seni o'na.O benim devamım benden sonra o anlatacak seni,seni sevenler hiç bitme…\",\n",
              " \"RT @TansuYegen: Atatürk'ün anısına dünya ülkelerinde bulunan anıtlar, heykeller, parklar, caddeler... #dünyaizinde #10Kasim1938 #ATATURK…\",\n",
              " \"Mustafa Kemal Atatürk'ü Saygı, Minnet ve Özlemle Anıyoruz #10Kasim #10KasımSonsuzluk #Ataturk https://t.co/opWq2QxDJJ\",\n",
              " 'RT @fatihdogan_38: Dolmabahçe \\n10 Kasım\\n09.05\\n2017\\n#Besiktas \\n#Ataturk https://t.co/bdgCJ6AjTu',\n",
              " 'RT @mmasalada: Bir ölüm ancak bu kadar ölümsüz olabilirdi..\\n#10Kasim1938 \\n#Ataturk https://t.co/uXg87jnmJl',\n",
              " 'RT @fatihdogan_38: Dolmabahçe \\n10 Kasım\\n09.05\\n2017\\n#Besiktas \\n#Ataturk https://t.co/bdgCJ6AjTu',\n",
              " 'RT @drok4835: Biz varız, her zaman senin yolunda olacağız. Sonsuz şükran duygularımızla.\\n#10Kasim1938 #Ataturk https://t.co/0AkKi9xwpq',\n",
              " 'RT @sma_sare: Duyun sesimizi\\nDestek olun 🙏\\nEn azından bir RT\\n\\n#BeşiktaşKABULLENMEZ #TekeTek  Leyla Özlem #10Kasim Black Miror #Tesla Erol B…',\n",
              " \"RT @Herdaim_Haber: Sedat Peker: Ata'sını bilmeyen it peşinde gezer!\\nhttps://t.co/81tJT5JEVU \\n@sedat_peker \\n#10Kasim #Ataturk #SedatPeker ht…\",\n",
              " 'RT @CumhuriyetYbo: Rahmet, Minnet ve Özlemle...\\n#Ataturk \\n#10Kasim1938 \\n#atamizindeyiz \\n#AtamızRahatUyusun https://t.co/311sw0mQhU',\n",
              " '\"Beni ne zaman görmek isterseniz aynaya bakın. Siz Türk çocukları, benim bir parçamsınız, ben de sizin.\" Mustafa Ke… https://t.co/NnOYrcdQmZ',\n",
              " 'RT @ic_ses06: Canını yerim senin, aslan kardeşim...👏\\n Ağzına sağlık... yüreğine, aklına sağlık... 🙏✌️✌️✌️👏👏👍👍👍👍✌️👏👏👏\\n #içses #Ataturk #atam…',\n",
              " 'Atamızı sevdiği şarkılarla anıyoruz 🇹🇷  @hkmt_korkmaz @s__karakurt @skaygusuz @skaygusuz @horasanmem25 #10kasım… https://t.co/Qw4ZknYkfs',\n",
              " 'RT @erkanknrr: 83 yıl sonra bile derin bir acıyla karşılanan bir ölümü o gün nasıl sırtlandı bu halk #Ataturk',\n",
              " 'RT @Baris_Sma: BARIŞ günden güne eriyor, kas kaybediyor…Barış’ın gülüşü solmasın diye📌BARIŞ yaz 9023’e gönder,20 TL ile bağış ile Barış’ı h…',\n",
              " 'RT @gulsinonay: Atam, söz sana, bize armağanın vatanımız,  Cumhuriyetimiz, aldığı hiç bir yara ile senin yolundan şaşmayacaktır.. \\nGeçici,…',\n",
              " 'Yeniden ve yeniden okumalı\\n#10Kasim #10Kasim1938 #Ataturk #Nutuk #10Kasim193oo #CocuğunuKemalizmdenKoru https://t.co/SeO5XoppVC',\n",
              " 'RT @epcilerorta: Epçiler Ortaokulu Atamızın Anısına Söylüyor #10Kasim #Ataturk #10Kasim1938 https://t.co/KsXFS5Lzkn',\n",
              " 'Fikirler Ölmez (1881 - 193 ... )\\n#AtatuerkDemek \\n#Ataturk https://t.co/TWDqxh4qjU',\n",
              " \"RT @durumeric_sma: Atatürk'ü ölümünün 83.yılında hüzünle, saygıyla ve özlemle anıyoruz. Bütün ümidi gençlikte olan Atamızın bir evladı da D…\",\n",
              " 'Yine 10 Kasım yine Kadıköy Meydanı.\\u2066@herkesicinCHP\\u2069 #10Kasım #Ataturk https://t.co/csihgaSsR4',\n",
              " 'Bana çok garip geliyor yuzbinlerce şehit vermiş olan Türkler bunu görmezden gelip sadece Atatürk için her yıl saygı… https://t.co/R5ZdFvWQXm',\n",
              " 'RT @SerapBirinciol1: Olmasaydın olmazdık 🌹. #10Kasım #Ataturk https://t.co/yCIxmXm1xb',\n",
              " \"RT @Herdaim_Haber: Sedat Peker: Ata'sını bilmeyen it peşinde gezer!\\nhttps://t.co/81tJT5JEVU \\n@sedat_peker \\n#10Kasim #Ataturk #SedatPeker ht…\",\n",
              " \"RT @AvHocaoglu: Öyle bir seversin ki; bir ömür saklarsın.\\nÖyle bir saklarsın ki; herkes görür.\\nGazi Mustafa Kemal Atatürk'ü vefatının 83. y…\",\n",
              " 'RT @xsayfacom: Selçuk Varlı’nın kaleminden: Anlaşılamayan Bir Lider Olarak Atatürk \\nhttps://t.co/Uxzet7Bdzv\\n\\n#xsayfa #10kasım #Ataturk #tür…',\n",
              " 'RT @sma_sare: Duyun sesimizi\\nDestek olun 🙏\\nEn azından bir RT\\n\\n#BeşiktaşKABULLENMEZ #TekeTek  Leyla Özlem #10Kasim Black Miror #Tesla Erol B…',\n",
              " 'Bir adam düşünün,bir milleti uyandırsın. Ve bir ölüm düşünün ancak bu kadar ölümsüz olsun.\\nSaygı,sevgi ve özlemle..… https://t.co/RlTNXDuU7z',\n",
              " '@MilliTakimlar #Ataturk #10Kasım sizin çocuklar!!!',\n",
              " \"Atatürk'ü seviyoruz, anıyoruz ama hangi Atatürk. Sayın @KavalaFaik gayet güzel incelemiş. Buyurunuz : https://t.co/A6rg11lAat\\n#Ataturk\",\n",
              " 'RT @xsayfacom: Selçuk Varlı’nın kaleminden: Anlaşılamayan Bir Lider Olarak Atatürk \\nhttps://t.co/Uxzet7Bdzv\\n\\n#xsayfa #10kasım #Ataturk #tür…',\n",
              " 'RT @fatihdogan_38: Dolmabahçe \\n10 Kasım\\n09.05\\n2017\\n#Besiktas \\n#Ataturk https://t.co/bdgCJ6AjTu',\n",
              " \"RT @agakoysogo: Cumhuriyetimizin kurucusu Ulu Önder Mustafa Kemal ATATÜRK'Ü öğrencilerimizle birlikte rahmetle andık. Ruhu şad olsun! Ne mu…\",\n",
              " \"RT @agakoysogo: Cumhuriyetimizin kurucusu Ulu Önder Mustafa Kemal ATATÜRK'Ü öğrencilerimizle birlikte rahmetle andık. Ruhu şad olsun.🇹🇷Ne m…\",\n",
              " 'Bu bakışlar asla ölmez..\\n\\n Sevgi, Saygı ve Özlemle.. #10Kasim #MustafaKamalAtatuerk #Ataturk https://t.co/vton3QUWHu',\n",
              " 'Selçuk Varlı’nın kaleminden: Anlaşılamayan Bir Lider Olarak Atatürk \\nhttps://t.co/Uxzet7Bdzv\\n\\n#xsayfa #10kasım #Ataturk #türkiye',\n",
              " 'RT @Baris_Sma: BARIŞ günden güne eriyor, kas kaybediyor…Barış’ın gülüşü solmasın diye📌BARIŞ yaz 9023’e gönder,20 TL ile bağış ile Barış’ı h…',\n",
              " 'RT @gmzk3458: NEFES ALDIĞIMIZ HER GÜN....\\n\\nSAYGI VE MİNNETLE ATAM....\\n\\n#10Kasım #Ataturk #Anıtkabir ❤ https://t.co/cpP4cTNQfF',\n",
              " \"RT @Herdaim_Haber: Sedat Peker: Ata'sını bilmeyen it peşinde gezer!\\nhttps://t.co/81tJT5JEVU \\n@sedat_peker \\n#10Kasim #Ataturk #SedatPeker ht…\",\n",
              " 'King 👑\\n#10Kasim Saygı, sevgi ve özlemle... 🇹🇷\\n#Ataturk #MustafaKemal https://t.co/L7hgZKzgGe',\n",
              " 'Bu ezanlar ki şehadetleri dinin temeli..\\nEbedî yurdumun üstünde benim inlemeli..\\nEzanlar okudukça ruhun şad olsun\\nA… https://t.co/kWZxE9fbKm',\n",
              " 'RT @1hamidoffa: Dərin hörmət və ehtiramla anırıq!🇦🇿🇹🇷 \\n#Ataturk\\n#MustafaKamalAtaturk\\n#AzərbaycanTürkiyə',\n",
              " 'RT @fatihdogan_38: Dolmabahçe \\n10 Kasım\\n09.05\\n2017\\n#Besiktas \\n#Ataturk https://t.co/bdgCJ6AjTu',\n",
              " 'RT @mugla_mem: 10 Kasım Atatürk’ü Anma Günü etkinlikleri kapsamında MSKÜ Atatürk Kültür Merkezinde Menteşe Sosyal Bilimler Lisesinin hazırl…',\n",
              " \"RT @RakiPalab: Bugün Türkiye yağmur yağmadan ıslandı !!!!\\n\\nGAZİ MUSTAFA KEMAL ATATÜRK'Ü bundan daha iyi ne anlatabilir ki??\\n\\n#Ataturk #atam…\",\n",
              " 'Yaşlı bir çınar ağacı yaşasın diye köşkün taşınması talimatını verebilmek için, #mimari ve #mühendislik bilgisine s… https://t.co/2LoweTg0vy',\n",
              " 'Bugün sabah Atamız ve şehitlerimiz için okulda hayrımızı yaptık.\\nRuhlarına gitsin inşallah.\\n#MinnettarızAtam… https://t.co/OE8fFRmFWm',\n",
              " 'Minnettarım sana .. Ölümsüzsün ! #MustafaKemalAtatürk #Ataturk #10Kasim1938 https://t.co/SAl14S2F49',\n",
              " 'RT @teknikyolcusu: \"Beni görmek demek mutlaka yüzümü görmek demek değildir. Benim fikirlerimi, benim duygularımı anlıyorsanız ve hissediyor…',\n",
              " 'RT @Baris_Sma: BARIŞ günden güne eriyor, kas kaybediyor…Barış’ın gülüşü solmasın diye📌BARIŞ yaz 9023’e gönder,20 TL ile bağış ile Barış’ı h…',\n",
              " 'Sorarlarsa “Delikanlı Adam” kimdir diye ?\\n“Atürkçü Beşiktaşlılar” dersiniz. 🦅🇹🇷🦅🇹🇷🦅 @anadolubjk @Besiktas… https://t.co/VvxOeuhpih',\n",
              " 'RT @RuhatMengi2: Ne güzel yaratılmış🙏🙏. Sanki başka bir dünyadan gelmiş gibi, sanki gerçek değilmiş gibi! Bu ülkenin tek şansı olarak özel…',\n",
              " 'RT @yildizkaplanvip: Ulu Önderimiz Gazi Mustafa Kemal Atatürk ‘ü ,ölümünün 83.yıl dönümünde saygı,sevgi,minnet ve özlem ile anıyoruz. #10Ka…',\n",
              " \"RT @TansuYegen: Atatürk'ün anısına dünya ülkelerinde bulunan anıtlar, heykeller, parklar, caddeler... #dünyaizinde #10Kasim1938 #ATATURK…\",\n",
              " \"RT @TansuYegen: Atatürk'ün anısına dünya ülkelerinde bulunan anıtlar, heykeller, parklar, caddeler... #dünyaizinde #10Kasim1938 #ATATURK…\",\n",
              " \"RT @Cryptosocy: 10 Kasım 1938'den bugüne seni her zamankinden daha çok özlüyor ve saygıyla anıyoruz. Ruhun şad olsun.\\n\\n🇹🇷🇹🇷🇹🇷\\n\\n#10Kasim #10…\",\n",
              " \"RT @906090deilse: Bazıları Ölmez...\\nO'nun izinden sonsuza kadar...🖤🖤💙\\n#10Kasim1938\\n#10kasım\\n#Ataturk\",\n",
              " \"RT @ridvan5971: Atam  57 yedi sene yaşamış \\nÇocukluğu hariç gerisini savaş \\nmeydanlarında harcamış\\nCebinden para vererek \\nElmalı Hamdi'ye K…\",\n",
              " 'RT @OzelTff: Nasıl söylerim öldüğünü nasıl \\n#10Kasim \\n#Atamİzindeyiz \\n#Ataturk \\n#atamizindeyiz https://t.co/g0zxpNKApc',\n",
              " 'RT @nuranmftglr: Özlem ve minnetle...\\n\\n#10Kasim #10Kasim1938 #Ataturk #atamizindeyiz https://t.co/a5dLWMP6M8',\n",
              " \"RT @Noktatv24: KADIKÖY'DE ATA'YA SAYGI ZİNCİRİ\\n\\nTürkiye Cumhuriyeti’nin kurucusu Gazi Mustafa Kemal Atatürk, vefatının 83. yılında, binlerc…\",\n",
              " 'RT @neco_ates: Sevgi, saygı, minnet ve özlemle anıyoruz... #Ataturk #10Kasim',\n",
              " 'RT @bluedream_44: Son kasıma kadar,özlemle minnetle sevgiyle sonsuz saygıyla anıyoruz Atam💙\\n#Ataturk \\n#10Kasim1938 \\n#10KasımSonsuzluk ♾ htt…',\n",
              " 'RT @ebru_liice: Sen Ölümsüz Bir Dünya Liderisin ‼️❤️\\n\\nK A L B İ M İ Z D E S İ N\\n#10Kasim \\n#Ataturk https://t.co/HVLb7A1sKj',\n",
              " \"RT @Herdaim_Haber: Sedat Peker: Ata'sını bilmeyen it peşinde gezer!\\nhttps://t.co/81tJT5JEVU \\n@sedat_peker \\n#10Kasim #Ataturk #SedatPeker ht…\",\n",
              " \"RT @TansuYegen: Atatürk'ün anısına dünya ülkelerinde bulunan anıtlar, heykeller, parklar, caddeler... #dünyaizinde #10Kasim1938 #ATATURK…\",\n",
              " \"RT @TansuYegen: Atatürk'ün anısına dünya ülkelerinde bulunan anıtlar, heykeller, parklar, caddeler... #dünyaizinde #10Kasim1938 #ATATURK…\",\n",
              " 'Neredesin sen. Özleniyorsun... #ATAM #Ataturk https://t.co/4k7tcZEgVe',\n",
              " 'RT @sadixov20: Sen rahat uyu Atam #BozkurtToken  dileğini  yerine getirecekdir. Türk insanlarni 1 çatı altında toplayacaktır.. #bozkurtordu…',\n",
              " 'RT @onuuraayd: Açtığın yolda gösterdiğin  hedefe , yolundan ayrılmamak üzere..\\n\\nSon Kasıma kadar seni sevmeye devam edeceğiz...\\n\\nUlu Önder…',\n",
              " 'RT @sevimyogun: Seni çalışarak anıyorum. #10kasim1938 #10Kasim #ATAM #Sensiz83YIL \\n#Ataturk #MustafaKamalAtaturk #atamizindeyiz #Saygıveoez…',\n",
              " \"RT @HumayunMahmut: Atatürk 'ün ebediyete intikalinin 83.Yıldönümünü saygıyla andık.#10Kasim #Ataturk @KalayliOmer @yasintepe @yagcimehmet27…\",\n",
              " 'RT @sem_ylmzdr: Başka türlü sevdik, \\nBaşkasını sevemiyoruz\\n\\nSaygı, Sevgi, Minnet ve Özlemle\\nSonsuza kadar…\\n\\n🇹🇷#10Kasim #Ataturk #Sensiz83YI…',\n",
              " '@Legendary1907_ Her zaman Kalbimizde #Ataturk 💙',\n",
              " \"RT @TansuYegen: Atatürk'ün anısına dünya ülkelerinde bulunan anıtlar, heykeller, parklar, caddeler... #dünyaizinde #10Kasim1938 #ATATURK…\",\n",
              " '#siren #10Kasim #CocuğunuKemalizmdenKoru #10Kasım #Ataturk Benim naciz vücudum, bir gün elbet toprak olacaktır. Fak… https://t.co/zqu2bgPDID',\n",
              " 'RT @DpGultekinUysal: İşte, Mustafa Kemal Atatürk de Türk Milleti\\'ne \"Hızır\" olmuştur.\\n\\nUmudunun tükendiği, gayretinin kifayet etmediği, ne…',\n",
              " 'RT @knnchn35: Saygı ve özlemle anıyoruz \\n\\n#onkasım #Ataturk #GaziMustafaAtatürk https://t.co/AIbQMoZrpa',\n",
              " 'RT @LGUMRUKCU: Atamızı dinmeyen bir sevgi,  minnet, özlem ve rahmetle anıyoruz….\\n#10Kasım #Ataturk https://t.co/hMrjzvzLPK',\n",
              " '\" 30 Yaşında Truva\\'nın İntikamını alan lider, 238 yıllık geri çekilmeyi 40 yaşında durduran lider\" #Ataturk \\nAnlatı… https://t.co/uTrfcWvdRi',\n",
              " 'RT @semraozturk27: “Atatürk’ün fikirlerini yaşatmalıyız” https://t.co/UESlIhCwpw @gagikad @dr_beryl #10kasım #Ataturk #GaziantepCamlıkAnado…',\n",
              " 'Maşallah, nazar değmesin ;  \\nbazılarının  “Atatürk sevgisi “  aniden depreşti🤔#Ataturk  #10Kasim193oo  #10KasımSonsuzluk',\n",
              " 'RT @nrdhaber: GAGİKAD, Atatürk’ü öğrencilerle andı! https://t.co/SKHLd2eKzR \\n#gaziantep #10Kasim #10Kasim1938 #10Kasim193oo #Ataturk #anma…',\n",
              " \"Unutturmak için ömürlerini harcadılar, yalanlarla karalamaya çalıştılar, Atatürk'ün yaptığı şeyleri silip başka şey… https://t.co/yue5b7BTvx\",\n",
              " 'RT @fcayazz: #günaydın bedeni ölse de ruhu ve fikirleri sonsuza kadar yaşayacak olan yüce Türk!!!\\n\\nVe diğerleri...\\n\\nSaygı ve özlemle...\\n\\n#1…',\n",
              " '@DIBAliErbas sürekli #Ataturk anmadı dualarına katmadı diye eleştiren şizofren din düşmanı tayfa bugün #10Kasim içi… https://t.co/auf2f4UDa0',\n",
              " 'RT @kitaplarayakin: \"Biz cahil dediğimiz zaman, mektepte okumamış olanları kastetmiyoruz. Kastettiğimiz ilim, hakikati bilmektir. Yoksa oku…',\n",
              " 'Bir ölüm ancak bu kadar ölümsüz olabilir. Başka da ne yazsam boş... öyle ihtiyacımız var ki sana, ruhun şad olsun… https://t.co/rvWZ3qhas3',\n",
              " 'RT @sevimyogun: Seni çalışarak anıyorum. #10kasim1938 #10Kasim #ATAM #Sensiz83YIL \\n#Ataturk #MustafaKamalAtaturk #atamizindeyiz #Saygıveoez…',\n",
              " 'RT @llllozllll: Bazı Borçlar Vardır Ödeyemezsin...✍\\n193∞  ❤🇹🇷\\n#GünaydınAtamın \\nAsil İnsanları ♥️\\n#Ataturk https://t.co/aQ5pnDW0hL',\n",
              " 'Ayasofya’da Atatürk’e Mevlid’e Valilikten Ret  https://t.co/t1VSi8VZGe @BTP_Parti @btpbolugenclik @IstanbulBtp… https://t.co/3KapVgoKnN',\n",
              " \"RT @Noktatv24: Saadet Partisi Genel Başkanı Karamollaoğlu’ndan 10 Kasım mesajı\\nVefatının 83. yıl dönümünde Gazi Mustafa Kemal Atatürk'ü, si…\",\n",
              " \"RT @TansuYegen: Atatürk'ün anısına dünya ülkelerinde bulunan anıtlar, heykeller, parklar, caddeler... #dünyaizinde #10Kasim1938 #ATATURK…\",\n",
              " \"RT @RakiPalab: Bugün Türkiye yağmur yağmadan ıslandı !!!!\\n\\nGAZİ MUSTAFA KEMAL ATATÜRK'Ü bundan daha iyi ne anlatabilir ki??\\n\\n#Ataturk #atam…\",\n",
              " \"TÜRK Milleti'nin Kurtarıcısı, Türkiye Cumhuriyeti'nin kurucusu Gazi Mustafa Kemal ATATÜRK ;Mekanın Cennet , ruhun Ş… https://t.co/6Nz9vbNZBJ\",\n",
              " 'RT @Vidyograf: Ebediyete akıp giden her sene daha da çok özlüyoruz…\\n/\\nWe miss you even more with each year passing by into the eternity…\\n\\n#…',\n",
              " 'Ebediyete akıp giden her sene daha da çok özlüyoruz…\\n/\\nWe miss you even more with each year passing by into the ete… https://t.co/HUiHeY5mr9',\n",
              " 'RT @EmelOzceliker: Rahmet ve minnetle...😌\\nÇocukluğumdaki gibi sevgiyle ve hürmetle... ♾❤\\n#atamızrahatuyusun \\n#10Kasim \\n#Ataturk',\n",
              " 'RT @YavuzEkm: Bu kalp seni unutmaz, unutturmaz.\\n#10kasım193oo \\n#10Kasım #Ataturk https://t.co/GWnNR4ABh6',\n",
              " 'RT @sma_sare: Duyun sesimizi\\nDestek olun 🙏\\nEn azından bir RT\\n\\n#BeşiktaşKABULLENMEZ #TekeTek  Leyla Özlem #10Kasim Black Miror #Tesla Erol B…',\n",
              " 'RT @fatihdogan_38: Dolmabahçe \\n10 Kasım\\n09.05\\n2017\\n#Besiktas \\n#Ataturk https://t.co/bdgCJ6AjTu',\n",
              " 'RT @gunesmuratmat: Günaydın ♾🇹🇷\\n\\n#10Kasim \\n#10Kasim1938 \\n#Ataturk \\n#günaydın https://t.co/Boy8eN9cQV',\n",
              " \"RT @RakiPalab: Bugün Türkiye yağmur yağmadan ıslandı !!!!\\n\\nGAZİ MUSTAFA KEMAL ATATÜRK'Ü bundan daha iyi ne anlatabilir ki??\\n\\n#Ataturk #atam…\",\n",
              " \"RT @MehmetAli_Kutlu: Gazete Çivit 10.11.21\\nSayı.313     Sayfa.2/8\\n\\nAtatürk Kimdi?\\nTürk Milleti'nin Büyük Önderi,Dahi İnsan,Büyük Asker,Devr…\",\n",
              " \"RT @42eftelya: Anıtkabir'de agaca çaput baglanmaz.\\nAnıtkabir'de aş, iş, zengin koca istenmez.\\nAnıtkabir'e karşıliksız gidilir.\\nAnıtkabir'e…\",\n",
              " 'RT @HasanAliavu1: Atatürk olmasaydı… https://t.co/unp4oPaQkY #Ataturk #Selanik #Anitkabir #Dolmabahçe #Batitrakya',\n",
              " 'RT @fatihdogan_38: Dolmabahçe \\n10 Kasım\\n09.05\\n2017\\n#Besiktas \\n#Ataturk https://t.co/bdgCJ6AjTu',\n",
              " \"Ülkemizin kurucusu,Mustafa Kemal Atatürk'ü vefatının 83.yıl dönümünde saygı ve minnetle anıyoruz.\\n@tarkankalelii… https://t.co/TwVsVIuF0d\"]"
            ]
          },
          "metadata": {},
          "execution_count": 118
        }
      ]
    },
    {
      "cell_type": "markdown",
      "metadata": {
        "id": "1YBARIgFAgzX"
      },
      "source": [
        "# Image Processing"
      ]
    },
    {
      "cell_type": "code",
      "metadata": {
        "colab": {
          "base_uri": "https://localhost:8080/"
        },
        "id": "bchZ3Ud6A7yq",
        "outputId": "cd9270d8-9347-40e9-ba5a-ad406ed9ad6c"
      },
      "source": [
        "pip install transformers"
      ],
      "execution_count": null,
      "outputs": [
        {
          "output_type": "stream",
          "name": "stdout",
          "text": [
            "Collecting transformers\n",
            "  Downloading transformers-4.12.3-py3-none-any.whl (3.1 MB)\n",
            "\u001b[K     |████████████████████████████████| 3.1 MB 3.1 MB/s \n",
            "\u001b[?25hRequirement already satisfied: filelock in /usr/local/lib/python3.7/dist-packages (from transformers) (3.3.0)\n",
            "Requirement already satisfied: importlib-metadata in /usr/local/lib/python3.7/dist-packages (from transformers) (4.8.1)\n",
            "Requirement already satisfied: numpy>=1.17 in /usr/local/lib/python3.7/dist-packages (from transformers) (1.19.5)\n",
            "Collecting huggingface-hub<1.0,>=0.1.0\n",
            "  Downloading huggingface_hub-0.1.0-py3-none-any.whl (59 kB)\n",
            "\u001b[K     |████████████████████████████████| 59 kB 5.9 MB/s \n",
            "\u001b[?25hCollecting tokenizers<0.11,>=0.10.1\n",
            "  Downloading tokenizers-0.10.3-cp37-cp37m-manylinux_2_5_x86_64.manylinux1_x86_64.manylinux_2_12_x86_64.manylinux2010_x86_64.whl (3.3 MB)\n",
            "\u001b[K     |████████████████████████████████| 3.3 MB 40.9 MB/s \n",
            "\u001b[?25hRequirement already satisfied: regex!=2019.12.17 in /usr/local/lib/python3.7/dist-packages (from transformers) (2019.12.20)\n",
            "Requirement already satisfied: requests in /usr/local/lib/python3.7/dist-packages (from transformers) (2.23.0)\n",
            "Requirement already satisfied: tqdm>=4.27 in /usr/local/lib/python3.7/dist-packages (from transformers) (4.62.3)\n",
            "Requirement already satisfied: packaging>=20.0 in /usr/local/lib/python3.7/dist-packages (from transformers) (21.0)\n",
            "Collecting pyyaml>=5.1\n",
            "  Downloading PyYAML-6.0-cp37-cp37m-manylinux_2_5_x86_64.manylinux1_x86_64.manylinux_2_12_x86_64.manylinux2010_x86_64.whl (596 kB)\n",
            "\u001b[K     |████████████████████████████████| 596 kB 52.3 MB/s \n",
            "\u001b[?25hCollecting sacremoses\n",
            "  Downloading sacremoses-0.0.46-py3-none-any.whl (895 kB)\n",
            "\u001b[K     |████████████████████████████████| 895 kB 35.7 MB/s \n",
            "\u001b[?25hRequirement already satisfied: typing-extensions in /usr/local/lib/python3.7/dist-packages (from huggingface-hub<1.0,>=0.1.0->transformers) (3.7.4.3)\n",
            "Requirement already satisfied: pyparsing>=2.0.2 in /usr/local/lib/python3.7/dist-packages (from packaging>=20.0->transformers) (2.4.7)\n",
            "Requirement already satisfied: zipp>=0.5 in /usr/local/lib/python3.7/dist-packages (from importlib-metadata->transformers) (3.6.0)\n",
            "Requirement already satisfied: certifi>=2017.4.17 in /usr/local/lib/python3.7/dist-packages (from requests->transformers) (2021.5.30)\n",
            "Requirement already satisfied: idna<3,>=2.5 in /usr/local/lib/python3.7/dist-packages (from requests->transformers) (2.10)\n",
            "Requirement already satisfied: urllib3!=1.25.0,!=1.25.1,<1.26,>=1.21.1 in /usr/local/lib/python3.7/dist-packages (from requests->transformers) (1.24.3)\n",
            "Requirement already satisfied: chardet<4,>=3.0.2 in /usr/local/lib/python3.7/dist-packages (from requests->transformers) (3.0.4)\n",
            "Requirement already satisfied: joblib in /usr/local/lib/python3.7/dist-packages (from sacremoses->transformers) (1.0.1)\n",
            "Requirement already satisfied: six in /usr/local/lib/python3.7/dist-packages (from sacremoses->transformers) (1.15.0)\n",
            "Requirement already satisfied: click in /usr/local/lib/python3.7/dist-packages (from sacremoses->transformers) (7.1.2)\n",
            "Installing collected packages: pyyaml, tokenizers, sacremoses, huggingface-hub, transformers\n",
            "  Attempting uninstall: pyyaml\n",
            "    Found existing installation: PyYAML 3.13\n",
            "    Uninstalling PyYAML-3.13:\n",
            "      Successfully uninstalled PyYAML-3.13\n",
            "Successfully installed huggingface-hub-0.1.0 pyyaml-6.0 sacremoses-0.0.46 tokenizers-0.10.3 transformers-4.12.3\n"
          ]
        }
      ]
    },
    {
      "cell_type": "code",
      "metadata": {
        "colab": {
          "base_uri": "https://localhost:8080/",
          "height": 113,
          "referenced_widgets": [
            "2955ae5526a443baa30a3b1c72f5b864",
            "a8ab87ee6b174644bd71e2f254f0dc48",
            "00b9b9825c4945d4976c35e99914edc1",
            "6986c103f1c14f1aa985a10c200c0a8d",
            "0d1d710512644f9883e1d9322bbdcc82",
            "313f9be44a8b40d79f87cb3c1e4a958c",
            "99951afd37cd4a48a7b902a38e0fa56a",
            "976f5e03891948b28d9d7cb83656ab63",
            "9a93d3489a37417286a6ce6a9fb0761f",
            "961490dfab9e4ee48abd11f9fdc66234",
            "2284dd075c124174b38ae025787adc72",
            "cd773de3c64d4ea893d7759bba231391",
            "e2d0a1e1854a42af8e1b1036d66aa204",
            "fcc02247cee74d5aad740502274a2726",
            "8ee3a3efae3b4e03bf060913827a2aa1",
            "fc2f6a935105462c855797ad537a5bb5",
            "9ec569c4764c4406a140dbf1576607de",
            "b5a58230736045dba4be17eb15a7cacb",
            "455fc15167874f11b75072418d40de85",
            "db568114f0d24a4e86b31e4ecc11dec6",
            "b8c1885a4a264022be2382a29d9f8726",
            "d84674e20f6042df89afe4f49456106c",
            "a2acf7b6abd440a3bc92a5146b29a54c",
            "706f6494f44e40d3842add983ae6e253",
            "4456310156ce453099ac666784814da7",
            "758a6bdf3e314b39ac9cd9eec2717492",
            "28351a4058b54f7098c2d457f70fb953",
            "e7b7fafc41dd4f169fdd69ee7f8068be",
            "9394a5d8facd4759ba03665bc229b7e0",
            "65c6c05aaa074482808e772718b69252",
            "efa213dbfd094d8fb83096dc8f786107",
            "72257633ccfa4630adbecc6fde7c604d",
            "861cb368691f4986a5c44d68adbe37b4"
          ]
        },
        "id": "imelICHQAipO",
        "outputId": "82dc9f6a-5437-4a3c-8b81-7682f9924c86"
      },
      "source": [
        "from PIL import Image\n",
        "import requests\n",
        "\n",
        "from transformers import AutoFeatureExtractor, DeiTForImageClassificationWithTeacher\n",
        "from PIL import Image\n",
        "import requests\n",
        "\n",
        "url = 'http://images.cocodataset.org/val2017/000000039769.jpg'\n",
        "image = Image.open(requests.get(url, stream=True).raw)\n",
        "\n",
        "feature_extractor = AutoFeatureExtractor.from_pretrained('facebook/deit-base-distilled-patch16-224')\n",
        "model = DeiTForImageClassificationWithTeacher.from_pretrained('facebook/deit-base-distilled-patch16-224')\n",
        "\n",
        "\n",
        "\n",
        "inputs = feature_extractor(images=image, return_tensors=\"pt\")\n",
        "outputs = model(**inputs)\n",
        "logits = outputs.logits\n",
        "# model predicts one of the 1000 ImageNet classes\n",
        "predicted_class_idx = logits.argmax(-1).item()\n"
      ],
      "execution_count": null,
      "outputs": [
        {
          "output_type": "display_data",
          "data": {
            "application/vnd.jupyter.widget-view+json": {
              "model_id": "2955ae5526a443baa30a3b1c72f5b864",
              "version_minor": 0,
              "version_major": 2
            },
            "text/plain": [
              "Downloading:   0%|          | 0.00/68.0k [00:00<?, ?B/s]"
            ]
          },
          "metadata": {}
        },
        {
          "output_type": "display_data",
          "data": {
            "application/vnd.jupyter.widget-view+json": {
              "model_id": "cd773de3c64d4ea893d7759bba231391",
              "version_minor": 0,
              "version_major": 2
            },
            "text/plain": [
              "Downloading:   0%|          | 0.00/287 [00:00<?, ?B/s]"
            ]
          },
          "metadata": {}
        },
        {
          "output_type": "display_data",
          "data": {
            "application/vnd.jupyter.widget-view+json": {
              "model_id": "a2acf7b6abd440a3bc92a5146b29a54c",
              "version_minor": 0,
              "version_major": 2
            },
            "text/plain": [
              "Downloading:   0%|          | 0.00/333M [00:00<?, ?B/s]"
            ]
          },
          "metadata": {}
        }
      ]
    },
    {
      "cell_type": "code",
      "metadata": {
        "id": "-qht9Ct_B0CG"
      },
      "source": [
        "def pred(url):\n",
        "  image = Image.open(requests.get(url, stream=True).raw)\n",
        "  inputs = feature_extractor(images=image, return_tensors=\"pt\")\n",
        "  outputs = model(**inputs)\n",
        "  logits = outputs.logits\n",
        "  # model predicts one of the 1000 ImageNet classes\n",
        "  predicted_class_idx = logits.argmax(-1).item()\n",
        "  return model.config.id2label[predicted_class_idx]\n"
      ],
      "execution_count": null,
      "outputs": []
    },
    {
      "cell_type": "code",
      "metadata": {
        "id": "WG4w2sc5A6rf",
        "colab": {
          "base_uri": "https://localhost:8080/",
          "height": 35
        },
        "outputId": "64cb077e-665e-4634-fc08-ee8706f72585"
      },
      "source": [
        "pred(url)"
      ],
      "execution_count": null,
      "outputs": [
        {
          "output_type": "execute_result",
          "data": {
            "application/vnd.google.colaboratory.intrinsic+json": {
              "type": "string"
            },
            "text/plain": [
              "'tabby, tabby cat'"
            ]
          },
          "metadata": {},
          "execution_count": 95
        }
      ]
    },
    {
      "cell_type": "code",
      "metadata": {
        "id": "KUl8DytFCVGW"
      },
      "source": [
        ""
      ],
      "execution_count": null,
      "outputs": []
    },
    {
      "cell_type": "code",
      "metadata": {
        "colab": {
          "base_uri": "https://localhost:8080/",
          "height": 304
        },
        "id": "Ub8RZT81CVQj",
        "outputId": "51470e14-4145-4a26-d17b-343c22435c43"
      },
      "source": [
        "df_small=df.head(5)\n",
        "df_small"
      ],
      "execution_count": null,
      "outputs": [
        {
          "output_type": "execute_result",
          "data": {
            "text/html": [
              "<div>\n",
              "<style scoped>\n",
              "    .dataframe tbody tr th:only-of-type {\n",
              "        vertical-align: middle;\n",
              "    }\n",
              "\n",
              "    .dataframe tbody tr th {\n",
              "        vertical-align: top;\n",
              "    }\n",
              "\n",
              "    .dataframe thead th {\n",
              "        text-align: right;\n",
              "    }\n",
              "</style>\n",
              "<table border=\"1\" class=\"dataframe\">\n",
              "  <thead>\n",
              "    <tr style=\"text-align: right;\">\n",
              "      <th></th>\n",
              "      <th>text</th>\n",
              "      <th>source</th>\n",
              "      <th>source_url</th>\n",
              "      <th>retweet_count</th>\n",
              "      <th>favorite</th>\n",
              "      <th>geo</th>\n",
              "      <th>user</th>\n",
              "      <th>created_at</th>\n",
              "      <th>profile_image</th>\n",
              "    </tr>\n",
              "  </thead>\n",
              "  <tbody>\n",
              "    <tr>\n",
              "      <th>0</th>\n",
              "      <td>Watching #SquidGames made me reevaluate the pe...</td>\n",
              "      <td>Twitter for Android</td>\n",
              "      <td>http://twitter.com/download/android</td>\n",
              "      <td>0</td>\n",
              "      <td>0</td>\n",
              "      <td>None</td>\n",
              "      <td>Dime Jones</td>\n",
              "      <td>2021-11-04 12:43:43</td>\n",
              "      <td>http://pbs.twimg.com/profile_images/1455561309...</td>\n",
              "    </tr>\n",
              "    <tr>\n",
              "      <th>1</th>\n",
              "      <td>#confession As a kid, I thought the Holocaust ...</td>\n",
              "      <td>Twitter for Android</td>\n",
              "      <td>http://twitter.com/download/android</td>\n",
              "      <td>0</td>\n",
              "      <td>0</td>\n",
              "      <td>None</td>\n",
              "      <td>Yagdil Isn't Brisk</td>\n",
              "      <td>2021-11-04 12:41:31</td>\n",
              "      <td>http://pbs.twimg.com/profile_images/1330390980...</td>\n",
              "    </tr>\n",
              "    <tr>\n",
              "      <th>2</th>\n",
              "      <td>RT @CheezieMcfresh1: Welcome To The Squid Game...</td>\n",
              "      <td>Twitter for iPhone</td>\n",
              "      <td>http://twitter.com/download/iphone</td>\n",
              "      <td>3</td>\n",
              "      <td>0</td>\n",
              "      <td>None</td>\n",
              "      <td>SteamRolla Frevola</td>\n",
              "      <td>2021-11-04 12:37:34</td>\n",
              "      <td>http://pbs.twimg.com/profile_images/1391009731...</td>\n",
              "    </tr>\n",
              "    <tr>\n",
              "      <th>3</th>\n",
              "      <td>RT @enstatia: Seems like everyone has already ...</td>\n",
              "      <td>Twitter for iPhone</td>\n",
              "      <td>http://twitter.com/download/iphone</td>\n",
              "      <td>48</td>\n",
              "      <td>0</td>\n",
              "      <td>None</td>\n",
              "      <td>Scarif Vacation</td>\n",
              "      <td>2021-11-04 12:31:02</td>\n",
              "      <td>http://pbs.twimg.com/profile_images/1451871493...</td>\n",
              "    </tr>\n",
              "    <tr>\n",
              "      <th>4</th>\n",
              "      <td>Squid Game #squidgames S01 | E05 check  https:...</td>\n",
              "      <td>TV Time, TV show tracker</td>\n",
              "      <td>https://www.tvtime.com</td>\n",
              "      <td>0</td>\n",
              "      <td>0</td>\n",
              "      <td>None</td>\n",
              "      <td>Doublle Addict 📺</td>\n",
              "      <td>2021-11-04 12:26:04</td>\n",
              "      <td>http://pbs.twimg.com/profile_images/1163228638...</td>\n",
              "    </tr>\n",
              "  </tbody>\n",
              "</table>\n",
              "</div>"
            ],
            "text/plain": [
              "                                                text  ...                                      profile_image\n",
              "0  Watching #SquidGames made me reevaluate the pe...  ...  http://pbs.twimg.com/profile_images/1455561309...\n",
              "1  #confession As a kid, I thought the Holocaust ...  ...  http://pbs.twimg.com/profile_images/1330390980...\n",
              "2  RT @CheezieMcfresh1: Welcome To The Squid Game...  ...  http://pbs.twimg.com/profile_images/1391009731...\n",
              "3  RT @enstatia: Seems like everyone has already ...  ...  http://pbs.twimg.com/profile_images/1451871493...\n",
              "4  Squid Game #squidgames S01 | E05 check  https:...  ...  http://pbs.twimg.com/profile_images/1163228638...\n",
              "\n",
              "[5 rows x 9 columns]"
            ]
          },
          "metadata": {},
          "execution_count": 85
        }
      ]
    },
    {
      "cell_type": "code",
      "metadata": {
        "colab": {
          "base_uri": "https://localhost:8080/"
        },
        "id": "yOpMuIfWBrDj",
        "outputId": "e8cee67f-2168-4c74-a8b2-28472fa56e99"
      },
      "source": [
        "df_small[\"profile_pred\"]=df_small.profile_image.map(lambda x: pred(x))"
      ],
      "execution_count": null,
      "outputs": [
        {
          "output_type": "stream",
          "name": "stderr",
          "text": [
            "/usr/local/lib/python3.7/dist-packages/ipykernel_launcher.py:1: SettingWithCopyWarning: \n",
            "A value is trying to be set on a copy of a slice from a DataFrame.\n",
            "Try using .loc[row_indexer,col_indexer] = value instead\n",
            "\n",
            "See the caveats in the documentation: https://pandas.pydata.org/pandas-docs/stable/user_guide/indexing.html#returning-a-view-versus-a-copy\n",
            "  \"\"\"Entry point for launching an IPython kernel.\n"
          ]
        }
      ]
    },
    {
      "cell_type": "code",
      "metadata": {
        "colab": {
          "base_uri": "https://localhost:8080/",
          "height": 438
        },
        "id": "y-vOf0KaBtnC",
        "outputId": "7bc8c202-b0d1-4195-d4a3-940e16acdd46"
      },
      "source": [
        "df_small"
      ],
      "execution_count": null,
      "outputs": [
        {
          "output_type": "execute_result",
          "data": {
            "text/html": [
              "<div>\n",
              "<style scoped>\n",
              "    .dataframe tbody tr th:only-of-type {\n",
              "        vertical-align: middle;\n",
              "    }\n",
              "\n",
              "    .dataframe tbody tr th {\n",
              "        vertical-align: top;\n",
              "    }\n",
              "\n",
              "    .dataframe thead th {\n",
              "        text-align: right;\n",
              "    }\n",
              "</style>\n",
              "<table border=\"1\" class=\"dataframe\">\n",
              "  <thead>\n",
              "    <tr style=\"text-align: right;\">\n",
              "      <th></th>\n",
              "      <th>text</th>\n",
              "      <th>source</th>\n",
              "      <th>source_url</th>\n",
              "      <th>retweet_count</th>\n",
              "      <th>favorite</th>\n",
              "      <th>geo</th>\n",
              "      <th>user</th>\n",
              "      <th>created_at</th>\n",
              "      <th>profile_image</th>\n",
              "      <th>profile_pred</th>\n",
              "    </tr>\n",
              "  </thead>\n",
              "  <tbody>\n",
              "    <tr>\n",
              "      <th>0</th>\n",
              "      <td>Watching #SquidGames made me reevaluate the pe...</td>\n",
              "      <td>Twitter for Android</td>\n",
              "      <td>http://twitter.com/download/android</td>\n",
              "      <td>0</td>\n",
              "      <td>0</td>\n",
              "      <td>None</td>\n",
              "      <td>Dime Jones</td>\n",
              "      <td>2021-11-04 12:43:43</td>\n",
              "      <td>http://pbs.twimg.com/profile_images/1455561309...</td>\n",
              "      <td>Band Aid</td>\n",
              "    </tr>\n",
              "    <tr>\n",
              "      <th>1</th>\n",
              "      <td>#confession As a kid, I thought the Holocaust ...</td>\n",
              "      <td>Twitter for Android</td>\n",
              "      <td>http://twitter.com/download/android</td>\n",
              "      <td>0</td>\n",
              "      <td>0</td>\n",
              "      <td>None</td>\n",
              "      <td>Yagdil Isn't Brisk</td>\n",
              "      <td>2021-11-04 12:41:31</td>\n",
              "      <td>http://pbs.twimg.com/profile_images/1330390980...</td>\n",
              "      <td>Windsor tie</td>\n",
              "    </tr>\n",
              "    <tr>\n",
              "      <th>2</th>\n",
              "      <td>RT @CheezieMcfresh1: Welcome To The Squid Game...</td>\n",
              "      <td>Twitter for iPhone</td>\n",
              "      <td>http://twitter.com/download/iphone</td>\n",
              "      <td>3</td>\n",
              "      <td>0</td>\n",
              "      <td>None</td>\n",
              "      <td>SteamRolla Frevola</td>\n",
              "      <td>2021-11-04 12:37:34</td>\n",
              "      <td>http://pbs.twimg.com/profile_images/1391009731...</td>\n",
              "      <td>punching bag, punch bag, punching ball, punchball</td>\n",
              "    </tr>\n",
              "    <tr>\n",
              "      <th>3</th>\n",
              "      <td>RT @enstatia: Seems like everyone has already ...</td>\n",
              "      <td>Twitter for iPhone</td>\n",
              "      <td>http://twitter.com/download/iphone</td>\n",
              "      <td>48</td>\n",
              "      <td>0</td>\n",
              "      <td>None</td>\n",
              "      <td>Scarif Vacation</td>\n",
              "      <td>2021-11-04 12:31:02</td>\n",
              "      <td>http://pbs.twimg.com/profile_images/1451871493...</td>\n",
              "      <td>safety pin</td>\n",
              "    </tr>\n",
              "    <tr>\n",
              "      <th>4</th>\n",
              "      <td>Squid Game #squidgames S01 | E05 check  https:...</td>\n",
              "      <td>TV Time, TV show tracker</td>\n",
              "      <td>https://www.tvtime.com</td>\n",
              "      <td>0</td>\n",
              "      <td>0</td>\n",
              "      <td>None</td>\n",
              "      <td>Doublle Addict 📺</td>\n",
              "      <td>2021-11-04 12:26:04</td>\n",
              "      <td>http://pbs.twimg.com/profile_images/1163228638...</td>\n",
              "      <td>oboe, hautboy, hautbois</td>\n",
              "    </tr>\n",
              "  </tbody>\n",
              "</table>\n",
              "</div>"
            ],
            "text/plain": [
              "                                                text  ...                                       profile_pred\n",
              "0  Watching #SquidGames made me reevaluate the pe...  ...                                           Band Aid\n",
              "1  #confession As a kid, I thought the Holocaust ...  ...                                        Windsor tie\n",
              "2  RT @CheezieMcfresh1: Welcome To The Squid Game...  ...  punching bag, punch bag, punching ball, punchball\n",
              "3  RT @enstatia: Seems like everyone has already ...  ...                                         safety pin\n",
              "4  Squid Game #squidgames S01 | E05 check  https:...  ...                            oboe, hautboy, hautbois\n",
              "\n",
              "[5 rows x 10 columns]"
            ]
          },
          "metadata": {},
          "execution_count": 87
        }
      ]
    },
    {
      "cell_type": "code",
      "metadata": {
        "colab": {
          "base_uri": "https://localhost:8080/"
        },
        "id": "ge5f-QAyCeXF",
        "outputId": "33b39061-3df2-4d20-c703-bf9b36d0c062"
      },
      "source": [
        "list(df_small.profile_image)"
      ],
      "execution_count": null,
      "outputs": [
        {
          "output_type": "execute_result",
          "data": {
            "text/plain": [
              "['http://pbs.twimg.com/profile_images/1455561309093834760/QzLDQXk2_normal.jpg',\n",
              " 'http://pbs.twimg.com/profile_images/1330390980210667521/Q3wUPNn3_normal.jpg',\n",
              " 'http://pbs.twimg.com/profile_images/1391009731230248962/mJJKUybz_normal.jpg',\n",
              " 'http://pbs.twimg.com/profile_images/1451871493638561794/ijNtPfae_normal.jpg',\n",
              " 'http://pbs.twimg.com/profile_images/1163228638382317569/D9LZ7l8E_normal.jpg']"
            ]
          },
          "metadata": {},
          "execution_count": 88
        }
      ]
    },
    {
      "cell_type": "code",
      "metadata": {
        "id": "VvobGDxmCj2I"
      },
      "source": [
        "myurl=\"https://www.bilgi.edu.tr/media/uploads/resume/profile/520-tr.jpg\"\n",
        "myurl2=\"https://miro.medium.com/fit/c/262/262/1*ZDd1PRY4W1JlRNds79r6bw.png\""
      ],
      "execution_count": null,
      "outputs": []
    },
    {
      "cell_type": "code",
      "metadata": {
        "colab": {
          "base_uri": "https://localhost:8080/",
          "height": 35
        },
        "id": "PiD3dmdzDMIr",
        "outputId": "e55ce738-75c8-476b-8296-68f404e1900f"
      },
      "source": [
        "pred(myurl2)"
      ],
      "execution_count": null,
      "outputs": [
        {
          "output_type": "execute_result",
          "data": {
            "application/vnd.google.colaboratory.intrinsic+json": {
              "type": "string"
            },
            "text/plain": [
              "'lab coat, laboratory coat'"
            ]
          },
          "metadata": {},
          "execution_count": 99
        }
      ]
    },
    {
      "cell_type": "code",
      "metadata": {
        "id": "FRxZIocHDNwp"
      },
      "source": [
        ""
      ],
      "execution_count": null,
      "outputs": []
    }
  ]
}